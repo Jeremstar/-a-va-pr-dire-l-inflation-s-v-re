{
 "cells": [
  {
   "cell_type": "markdown",
   "id": "c2a9d55b-bb7f-432d-9e65-f6b84bccd5db",
   "metadata": {},
   "source": [
    "# Importation des données :"
   ]
  },
  {
   "cell_type": "code",
   "execution_count": 1,
   "id": "773bc2b7-d978-4d6d-ba33-bd4152b42efa",
   "metadata": {
    "tags": []
   },
   "outputs": [
    {
     "name": "stdout",
     "output_type": "stream",
     "text": [
      "Collecting openpyxl\n",
      "  Downloading openpyxl-3.1.1-py2.py3-none-any.whl (249 kB)\n",
      "\u001b[2K     \u001b[90m━━━━━━━━━━━━━━━━━━━━━━━━━━━━━━━━━━━━━━━\u001b[0m \u001b[32m249.8/249.8 kB\u001b[0m \u001b[31m6.3 MB/s\u001b[0m eta \u001b[36m0:00:00\u001b[0m00:01\u001b[0m\n",
      "\u001b[?25hCollecting et-xmlfile\n",
      "  Downloading et_xmlfile-1.1.0-py3-none-any.whl (4.7 kB)\n",
      "Installing collected packages: et-xmlfile, openpyxl\n",
      "Successfully installed et-xmlfile-1.1.0 openpyxl-3.1.1\n",
      "Note: you may need to restart the kernel to use updated packages.\n"
     ]
    }
   ],
   "source": [
    "pip install openpyxl"
   ]
  },
  {
   "cell_type": "code",
   "execution_count": 2,
   "id": "0b69676f-7e58-48d9-8ad8-1cd191871141",
   "metadata": {
    "tags": []
   },
   "outputs": [],
   "source": [
    "import matplotlib.pyplot as plt\n",
    "import seaborn as sns\n",
    "from datetime import datetime, timedelta\n",
    "import pandas as pd\n",
    "import requests\n",
    "import numpy as np "
   ]
  },
  {
   "cell_type": "code",
   "execution_count": 4,
   "id": "a6152505-a5ab-4c27-88c1-3bb205bcd3c4",
   "metadata": {
    "tags": []
   },
   "outputs": [],
   "source": [
    "OECD = pd.read_excel('données/OECD - short term economic indicators.xlsx')"
   ]
  },
  {
   "cell_type": "code",
   "execution_count": 5,
   "id": "517fef01-6f7f-4dc1-b734-f937569d71d7",
   "metadata": {
    "tags": []
   },
   "outputs": [],
   "source": [
    "IMF = pd.read_excel('données/IMF - monetary policy.xlsx')"
   ]
  },
  {
   "cell_type": "code",
   "execution_count": 24,
   "id": "89ca2ad9-15c3-4814-b45d-4cb624271775",
   "metadata": {
    "tags": []
   },
   "outputs": [],
   "source": [
    "agregated_data=pd.ExcelFile('données/FRBNY-SCE-Data.xlsx')\n",
    "agregated_anticipation= df1=pd.read_excel(agregated_data, 'Inflation expectations')"
   ]
  },
  {
   "cell_type": "code",
   "execution_count": 20,
   "id": "fd3990f4-2877-482a-a73a-95e214f86462",
   "metadata": {
    "tags": []
   },
   "outputs": [],
   "source": [
    "agrant = agregated_anticipation[['Unnamed: 1','Unnamed: 2']].drop([0,1,2]).reset_index().rename(columns={'index':'date','Unnamed: 1':'short exp','Unnamed: 2':'mid exp'})"
   ]
  },
  {
   "cell_type": "code",
   "execution_count": 37,
   "id": "752069e8-378d-4ea0-a126-76a6ba4a1a00",
   "metadata": {
    "tags": []
   },
   "outputs": [],
   "source": [
    "Enq13 = pd.read_excel('https://www.newyorkfed.org/medialibrary/interactives/sce/sce/downloads/data/frbny-sce-public-microdata-complete-13-16.xlsx')"
   ]
  },
  {
   "cell_type": "code",
   "execution_count": 38,
   "id": "7a7fb241-a3ff-420e-a175-f354925069db",
   "metadata": {
    "tags": []
   },
   "outputs": [],
   "source": [
    "Enq17 = pd.read_excel('https://www.newyorkfed.org/medialibrary/interactives/sce/sce/downloads/data/frbny-sce-public-microdata-complete-17-19.xlsx')"
   ]
  },
  {
   "cell_type": "code",
   "execution_count": 46,
   "id": "f38e21b2-3b22-4d53-ba33-c83b548ce221",
   "metadata": {
    "tags": []
   },
   "outputs": [],
   "source": [
    "Latest=pd.ExcelFile('https://www.newyorkfed.org/medialibrary/Interactives/sce/sce/downloads/data/frbny-sce-public-microdata-latest.xlsx')\n",
    "Enq20=pd.read_excel(Latest, 'Data')"
   ]
  },
  {
   "cell_type": "code",
   "execution_count": 47,
   "id": "7f1f495f-9914-4883-941c-cc030f6ff06b",
   "metadata": {
    "tags": []
   },
   "outputs": [
    {
     "data": {
      "text/html": [
       "<div>\n",
       "<style scoped>\n",
       "    .dataframe tbody tr th:only-of-type {\n",
       "        vertical-align: middle;\n",
       "    }\n",
       "\n",
       "    .dataframe tbody tr th {\n",
       "        vertical-align: top;\n",
       "    }\n",
       "\n",
       "    .dataframe thead th {\n",
       "        text-align: right;\n",
       "    }\n",
       "</style>\n",
       "<table border=\"1\" class=\"dataframe\">\n",
       "  <thead>\n",
       "    <tr style=\"text-align: right;\">\n",
       "      <th></th>\n",
       "      <th>Source:  Survey of Consumer Expectations, © 2013-23 Federal Reserve Bank of New York (FRBNY).   The SCE data are available without charge at www.newyorkfed.org and may be used subject to license terms posted there.  FRBNY disclaims any responsibility or legal liability for this analysis and interpretation of Survey of Consumer Expectations data.</th>\n",
       "      <th>Unnamed: 1</th>\n",
       "      <th>Unnamed: 2</th>\n",
       "      <th>Unnamed: 3</th>\n",
       "      <th>Unnamed: 4</th>\n",
       "      <th>Unnamed: 5</th>\n",
       "      <th>Unnamed: 6</th>\n",
       "      <th>Unnamed: 7</th>\n",
       "      <th>Unnamed: 8</th>\n",
       "      <th>Unnamed: 9</th>\n",
       "      <th>...</th>\n",
       "      <th>Unnamed: 210</th>\n",
       "      <th>Unnamed: 211</th>\n",
       "      <th>Unnamed: 212</th>\n",
       "      <th>Unnamed: 213</th>\n",
       "      <th>Unnamed: 214</th>\n",
       "      <th>Unnamed: 215</th>\n",
       "      <th>Unnamed: 216</th>\n",
       "      <th>Unnamed: 217</th>\n",
       "      <th>Unnamed: 218</th>\n",
       "      <th>Unnamed: 219</th>\n",
       "    </tr>\n",
       "  </thead>\n",
       "  <tbody>\n",
       "    <tr>\n",
       "      <th>0</th>\n",
       "      <td>date</td>\n",
       "      <td>userid</td>\n",
       "      <td>tenure</td>\n",
       "      <td>weight</td>\n",
       "      <td>Q1</td>\n",
       "      <td>Q2</td>\n",
       "      <td>Q3</td>\n",
       "      <td>Q4new</td>\n",
       "      <td>Q5new</td>\n",
       "      <td>Q6new</td>\n",
       "      <td>...</td>\n",
       "      <td>Q48</td>\n",
       "      <td>QRA1</td>\n",
       "      <td>QRA2</td>\n",
       "      <td>survey_date</td>\n",
       "      <td>_AGE_CAT</td>\n",
       "      <td>_NUM_CAT</td>\n",
       "      <td>_REGION_CAT</td>\n",
       "      <td>_COMMUTING_ZONE</td>\n",
       "      <td>_EDU_CAT</td>\n",
       "      <td>_HH_INC_CAT</td>\n",
       "    </tr>\n",
       "    <tr>\n",
       "      <th>1</th>\n",
       "      <td>202001</td>\n",
       "      <td>70103231</td>\n",
       "      <td>12</td>\n",
       "      <td>0.81825</td>\n",
       "      <td>4</td>\n",
       "      <td>3</td>\n",
       "      <td>20</td>\n",
       "      <td>62</td>\n",
       "      <td>26</td>\n",
       "      <td>44</td>\n",
       "      <td>...</td>\n",
       "      <td>5</td>\n",
       "      <td>NaN</td>\n",
       "      <td>NaN</td>\n",
       "      <td>2020-01-23 00:00:00</td>\n",
       "      <td>40 to 60</td>\n",
       "      <td>High</td>\n",
       "      <td>West</td>\n",
       "      <td>218</td>\n",
       "      <td>College</td>\n",
       "      <td>Over 100k</td>\n",
       "    </tr>\n",
       "    <tr>\n",
       "      <th>2</th>\n",
       "      <td>202001</td>\n",
       "      <td>70103252</td>\n",
       "      <td>11</td>\n",
       "      <td>2.879998</td>\n",
       "      <td>3</td>\n",
       "      <td>2</td>\n",
       "      <td>1</td>\n",
       "      <td>30</td>\n",
       "      <td>1</td>\n",
       "      <td>10</td>\n",
       "      <td>...</td>\n",
       "      <td>2</td>\n",
       "      <td>NaN</td>\n",
       "      <td>NaN</td>\n",
       "      <td>2020-01-02 00:00:00</td>\n",
       "      <td>40 to 60</td>\n",
       "      <td>Low</td>\n",
       "      <td>Northeast</td>\n",
       "      <td>203</td>\n",
       "      <td>High School</td>\n",
       "      <td>Under 50k</td>\n",
       "    </tr>\n",
       "    <tr>\n",
       "      <th>3</th>\n",
       "      <td>202001</td>\n",
       "      <td>70103258</td>\n",
       "      <td>12</td>\n",
       "      <td>0.549674</td>\n",
       "      <td>4</td>\n",
       "      <td>4</td>\n",
       "      <td>0</td>\n",
       "      <td>3</td>\n",
       "      <td>4</td>\n",
       "      <td>18</td>\n",
       "      <td>...</td>\n",
       "      <td>4</td>\n",
       "      <td>NaN</td>\n",
       "      <td>NaN</td>\n",
       "      <td>2020-01-07 00:00:00</td>\n",
       "      <td>Over 60</td>\n",
       "      <td>High</td>\n",
       "      <td>South</td>\n",
       "      <td>102</td>\n",
       "      <td>College</td>\n",
       "      <td>50k to 100k</td>\n",
       "    </tr>\n",
       "    <tr>\n",
       "      <th>4</th>\n",
       "      <td>202001</td>\n",
       "      <td>70103285</td>\n",
       "      <td>12</td>\n",
       "      <td>0.481746</td>\n",
       "      <td>4</td>\n",
       "      <td>4</td>\n",
       "      <td>10</td>\n",
       "      <td>10</td>\n",
       "      <td>10</td>\n",
       "      <td>10</td>\n",
       "      <td>...</td>\n",
       "      <td>1</td>\n",
       "      <td>NaN</td>\n",
       "      <td>NaN</td>\n",
       "      <td>2020-01-27 00:00:00</td>\n",
       "      <td>Under 40</td>\n",
       "      <td>High</td>\n",
       "      <td>Midwest</td>\n",
       "      <td>100</td>\n",
       "      <td>College</td>\n",
       "      <td>50k to 100k</td>\n",
       "    </tr>\n",
       "    <tr>\n",
       "      <th>...</th>\n",
       "      <td>...</td>\n",
       "      <td>...</td>\n",
       "      <td>...</td>\n",
       "      <td>...</td>\n",
       "      <td>...</td>\n",
       "      <td>...</td>\n",
       "      <td>...</td>\n",
       "      <td>...</td>\n",
       "      <td>...</td>\n",
       "      <td>...</td>\n",
       "      <td>...</td>\n",
       "      <td>...</td>\n",
       "      <td>...</td>\n",
       "      <td>...</td>\n",
       "      <td>...</td>\n",
       "      <td>...</td>\n",
       "      <td>...</td>\n",
       "      <td>...</td>\n",
       "      <td>...</td>\n",
       "      <td>...</td>\n",
       "      <td>...</td>\n",
       "    </tr>\n",
       "    <tr>\n",
       "      <th>35136</th>\n",
       "      <td>202204</td>\n",
       "      <td>75005976</td>\n",
       "      <td>1</td>\n",
       "      <td>0.954878</td>\n",
       "      <td>4</td>\n",
       "      <td>5</td>\n",
       "      <td>0</td>\n",
       "      <td>5</td>\n",
       "      <td>25</td>\n",
       "      <td>55</td>\n",
       "      <td>...</td>\n",
       "      <td>5</td>\n",
       "      <td>4</td>\n",
       "      <td>7</td>\n",
       "      <td>2022-04-12 00:00:00</td>\n",
       "      <td>40 to 60</td>\n",
       "      <td>Low</td>\n",
       "      <td>South</td>\n",
       "      <td>54</td>\n",
       "      <td>Some College</td>\n",
       "      <td>50k to 100k</td>\n",
       "    </tr>\n",
       "    <tr>\n",
       "      <th>35137</th>\n",
       "      <td>202204</td>\n",
       "      <td>75005980</td>\n",
       "      <td>1</td>\n",
       "      <td>0.708391</td>\n",
       "      <td>2</td>\n",
       "      <td>3</td>\n",
       "      <td>34</td>\n",
       "      <td>22</td>\n",
       "      <td>86</td>\n",
       "      <td>54</td>\n",
       "      <td>...</td>\n",
       "      <td>4</td>\n",
       "      <td>3</td>\n",
       "      <td>3</td>\n",
       "      <td>2022-04-04 00:00:00</td>\n",
       "      <td>Over 60</td>\n",
       "      <td>High</td>\n",
       "      <td>West</td>\n",
       "      <td>902</td>\n",
       "      <td>College</td>\n",
       "      <td>50k to 100k</td>\n",
       "    </tr>\n",
       "    <tr>\n",
       "      <th>35138</th>\n",
       "      <td>202204</td>\n",
       "      <td>75005987</td>\n",
       "      <td>1</td>\n",
       "      <td>0.915896</td>\n",
       "      <td>2</td>\n",
       "      <td>4</td>\n",
       "      <td>81</td>\n",
       "      <td>70</td>\n",
       "      <td>51</td>\n",
       "      <td>47</td>\n",
       "      <td>...</td>\n",
       "      <td>5</td>\n",
       "      <td>5</td>\n",
       "      <td>4</td>\n",
       "      <td>2022-04-10 00:00:00</td>\n",
       "      <td>Under 40</td>\n",
       "      <td>Low</td>\n",
       "      <td>South</td>\n",
       "      <td>84</td>\n",
       "      <td>Some College</td>\n",
       "      <td>Under 50k</td>\n",
       "    </tr>\n",
       "    <tr>\n",
       "      <th>35139</th>\n",
       "      <td>202204</td>\n",
       "      <td>75005995</td>\n",
       "      <td>1</td>\n",
       "      <td>0.888988</td>\n",
       "      <td>4</td>\n",
       "      <td>4</td>\n",
       "      <td>95</td>\n",
       "      <td>5</td>\n",
       "      <td>5</td>\n",
       "      <td>5</td>\n",
       "      <td>...</td>\n",
       "      <td>3</td>\n",
       "      <td>5</td>\n",
       "      <td>4</td>\n",
       "      <td>2022-04-20 00:00:00</td>\n",
       "      <td>Under 40</td>\n",
       "      <td>Low</td>\n",
       "      <td>South</td>\n",
       "      <td>102</td>\n",
       "      <td>Some College</td>\n",
       "      <td>50k to 100k</td>\n",
       "    </tr>\n",
       "    <tr>\n",
       "      <th>35140</th>\n",
       "      <td>202204</td>\n",
       "      <td>75005996</td>\n",
       "      <td>1</td>\n",
       "      <td>0.97863</td>\n",
       "      <td>1</td>\n",
       "      <td>3</td>\n",
       "      <td>1</td>\n",
       "      <td>50</td>\n",
       "      <td>30</td>\n",
       "      <td>40</td>\n",
       "      <td>...</td>\n",
       "      <td>3</td>\n",
       "      <td>2</td>\n",
       "      <td>2</td>\n",
       "      <td>2022-04-12 00:00:00</td>\n",
       "      <td>Over 60</td>\n",
       "      <td>Low</td>\n",
       "      <td>Midwest</td>\n",
       "      <td>2</td>\n",
       "      <td>Some College</td>\n",
       "      <td>Under 50k</td>\n",
       "    </tr>\n",
       "  </tbody>\n",
       "</table>\n",
       "<p>35141 rows × 220 columns</p>\n",
       "</div>"
      ],
      "text/plain": [
       "      Source:  Survey of Consumer Expectations, © 2013-23 Federal Reserve Bank of New York (FRBNY).   The SCE data are available without charge at www.newyorkfed.org and may be used subject to license terms posted there.  FRBNY disclaims any responsibility or legal liability for this analysis and interpretation of Survey of Consumer Expectations data.  \\\n",
       "0                                                   date                                                                                                                                                                                                                                                                                                            \n",
       "1                                                 202001                                                                                                                                                                                                                                                                                                            \n",
       "2                                                 202001                                                                                                                                                                                                                                                                                                            \n",
       "3                                                 202001                                                                                                                                                                                                                                                                                                            \n",
       "4                                                 202001                                                                                                                                                                                                                                                                                                            \n",
       "...                                                  ...                                                                                                                                                                                                                                                                                                            \n",
       "35136                                             202204                                                                                                                                                                                                                                                                                                            \n",
       "35137                                             202204                                                                                                                                                                                                                                                                                                            \n",
       "35138                                             202204                                                                                                                                                                                                                                                                                                            \n",
       "35139                                             202204                                                                                                                                                                                                                                                                                                            \n",
       "35140                                             202204                                                                                                                                                                                                                                                                                                            \n",
       "\n",
       "      Unnamed: 1 Unnamed: 2 Unnamed: 3 Unnamed: 4 Unnamed: 5 Unnamed: 6  \\\n",
       "0         userid     tenure     weight         Q1         Q2         Q3   \n",
       "1       70103231         12    0.81825          4          3         20   \n",
       "2       70103252         11   2.879998          3          2          1   \n",
       "3       70103258         12   0.549674          4          4          0   \n",
       "4       70103285         12   0.481746          4          4         10   \n",
       "...          ...        ...        ...        ...        ...        ...   \n",
       "35136   75005976          1   0.954878          4          5          0   \n",
       "35137   75005980          1   0.708391          2          3         34   \n",
       "35138   75005987          1   0.915896          2          4         81   \n",
       "35139   75005995          1   0.888988          4          4         95   \n",
       "35140   75005996          1    0.97863          1          3          1   \n",
       "\n",
       "      Unnamed: 7 Unnamed: 8 Unnamed: 9  ... Unnamed: 210 Unnamed: 211  \\\n",
       "0          Q4new      Q5new      Q6new  ...          Q48         QRA1   \n",
       "1             62         26         44  ...            5          NaN   \n",
       "2             30          1         10  ...            2          NaN   \n",
       "3              3          4         18  ...            4          NaN   \n",
       "4             10         10         10  ...            1          NaN   \n",
       "...          ...        ...        ...  ...          ...          ...   \n",
       "35136          5         25         55  ...            5            4   \n",
       "35137         22         86         54  ...            4            3   \n",
       "35138         70         51         47  ...            5            5   \n",
       "35139          5          5          5  ...            3            5   \n",
       "35140         50         30         40  ...            3            2   \n",
       "\n",
       "      Unnamed: 212         Unnamed: 213 Unnamed: 214 Unnamed: 215  \\\n",
       "0             QRA2          survey_date     _AGE_CAT     _NUM_CAT   \n",
       "1              NaN  2020-01-23 00:00:00     40 to 60         High   \n",
       "2              NaN  2020-01-02 00:00:00     40 to 60          Low   \n",
       "3              NaN  2020-01-07 00:00:00      Over 60         High   \n",
       "4              NaN  2020-01-27 00:00:00     Under 40         High   \n",
       "...            ...                  ...          ...          ...   \n",
       "35136            7  2022-04-12 00:00:00     40 to 60          Low   \n",
       "35137            3  2022-04-04 00:00:00      Over 60         High   \n",
       "35138            4  2022-04-10 00:00:00     Under 40          Low   \n",
       "35139            4  2022-04-20 00:00:00     Under 40          Low   \n",
       "35140            2  2022-04-12 00:00:00      Over 60          Low   \n",
       "\n",
       "      Unnamed: 216     Unnamed: 217  Unnamed: 218 Unnamed: 219  \n",
       "0      _REGION_CAT  _COMMUTING_ZONE      _EDU_CAT  _HH_INC_CAT  \n",
       "1             West              218       College    Over 100k  \n",
       "2        Northeast              203   High School    Under 50k  \n",
       "3            South              102       College  50k to 100k  \n",
       "4          Midwest              100       College  50k to 100k  \n",
       "...            ...              ...           ...          ...  \n",
       "35136        South               54  Some College  50k to 100k  \n",
       "35137         West              902       College  50k to 100k  \n",
       "35138        South               84  Some College    Under 50k  \n",
       "35139        South              102  Some College  50k to 100k  \n",
       "35140      Midwest                2  Some College    Under 50k  \n",
       "\n",
       "[35141 rows x 220 columns]"
      ]
     },
     "execution_count": 47,
     "metadata": {},
     "output_type": "execute_result"
    }
   ],
   "source": [
    "Enq20"
   ]
  },
  {
   "cell_type": "code",
   "execution_count": 48,
   "id": "2c056550-7189-4c63-987e-36c47709b469",
   "metadata": {
    "tags": []
   },
   "outputs": [],
   "source": [
    "#Il faut faire 2-3 manips pour rendre les bases utilisables\n",
    "new_columns = Enq13.iloc[0]\n",
    "Enq13.columns = new_columns\n",
    "Enq13 = Enq13.drop(0)\n",
    "\n",
    "new_columns = Enq17.iloc[0]\n",
    "Enq17.columns = new_columns\n",
    "Enq17 = Enq17.drop(0)"
   ]
  },
  {
   "cell_type": "code",
   "execution_count": 50,
   "id": "6156653b-c5a6-485f-96cc-686f58905a63",
   "metadata": {
    "tags": []
   },
   "outputs": [],
   "source": [
    "new_columns = Enq20.iloc[0]\n",
    "Enq20.columns = new_columns\n",
    "Enq20 = Enq20.drop(0)"
   ]
  },
  {
   "cell_type": "code",
   "execution_count": 51,
   "id": "9df9b7cf-63c9-496a-bc19-d7a450e24f03",
   "metadata": {
    "tags": []
   },
   "outputs": [],
   "source": [
    "Enq17['date'] = pd.to_datetime(Enq17['date'].astype(str) + '01', format='%Y%m%d')\n",
    "Enq13['date'] = pd.to_datetime(Enq13['date'].astype(str) + '01', format='%Y%m%d')\n",
    "Enq20['date'] = pd.to_datetime(Enq20['date'].astype(str) + '01', format='%Y%m%d')"
   ]
  },
  {
   "cell_type": "code",
   "execution_count": 55,
   "id": "32d90cb2-b9c6-407b-9c50-30d678389451",
   "metadata": {
    "tags": []
   },
   "outputs": [],
   "source": [
    "Base_finale=pd.concat([Enq13,Enq17,Enq20])"
   ]
  },
  {
   "cell_type": "code",
   "execution_count": 56,
   "id": "55483691-ae7f-4c4a-985b-539fa7b877e2",
   "metadata": {
    "tags": []
   },
   "outputs": [],
   "source": [
    "Base_finale.to_excel('Base_finale.xlsx')"
   ]
  },
  {
   "cell_type": "markdown",
   "id": "f02e5178-a998-4f9f-acae-06fd515f434c",
   "metadata": {},
   "source": [
    "# I-Première spécification :"
   ]
  },
  {
   "cell_type": "code",
   "execution_count": 8,
   "id": "f1bacab0-a46f-4c04-851f-1ff2645f0085",
   "metadata": {
    "tags": []
   },
   "outputs": [],
   "source": [
    "from sklearn.linear_model import LinearRegression"
   ]
  },
  {
   "cell_type": "code",
   "execution_count": 9,
   "id": "7d1d1d2a-5d79-4994-92d1-67592b079086",
   "metadata": {
    "tags": []
   },
   "outputs": [],
   "source": [
    "from statsmodels.regression.linear_model import OLS"
   ]
  },
  {
   "cell_type": "code",
   "execution_count": 25,
   "id": "1642aa73-3b55-4234-8edf-02dacb960d4d",
   "metadata": {
    "tags": []
   },
   "outputs": [],
   "source": [
    "new_columns = agregated_anticipation.iloc[2]\n",
    "agregated_anticipation.columns = new_columns\n",
    "agregated_anticipation = agregated_anticipation.drop(0)\n",
    "agregated_anticipation = agregated_anticipation.drop(1)"
   ]
  },
  {
   "cell_type": "code",
   "execution_count": 27,
   "id": "8c3eae38-88e8-4b2c-9ce0-219b53d364d4",
   "metadata": {
    "tags": []
   },
   "outputs": [],
   "source": [
    "agregated_anticipation = agregated_anticipation.drop(2)"
   ]
  },
  {
   "cell_type": "code",
   "execution_count": 29,
   "id": "a47da3db-1539-4846-acec-c2c7d0801cde",
   "metadata": {
    "tags": []
   },
   "outputs": [],
   "source": [
    "AA=agregated_anticipation"
   ]
  },
  {
   "cell_type": "code",
   "execution_count": 33,
   "id": "bab41002-0853-49fd-a5d2-50b3671715ed",
   "metadata": {
    "tags": []
   },
   "outputs": [
    {
     "data": {
      "text/plain": [
       "[nan,\n",
       " 'Median one-year ahead expected inflation rate',\n",
       " 'Median three-year ahead expected inflation rate',\n",
       " '25th Percentile one-year ahead expected inflation rate',\n",
       " '25th Percentile three-year ahead expected inflation rate',\n",
       " '75th Percentile one-year ahead expected inflation rate',\n",
       " '75th Percentile three-year ahead expected inflation rate',\n",
       " 'Median point prediction one-year ahead inflation rate',\n",
       " 'Median point prediction three-year ahead inflation rate']"
      ]
     },
     "execution_count": 33,
     "metadata": {},
     "output_type": "execute_result"
    }
   ],
   "source": [
    "list(AA.columns)"
   ]
  },
  {
   "cell_type": "code",
   "execution_count": null,
   "id": "03c6ccd1-0736-4ca6-99a5-18d9d90a2c71",
   "metadata": {},
   "outputs": [],
   "source": [
    "model = OLS(AA['Median one-year ahead expected inflation rate'],X[:, :2])\n",
    "results = model.fit()\n",
    "su = results.summary()\n",
    "su"
   ]
  }
 ],
 "metadata": {
  "kernelspec": {
   "display_name": "Python 3 (ipykernel)",
   "language": "python",
   "name": "python3"
  },
  "language_info": {
   "codemirror_mode": {
    "name": "ipython",
    "version": 3
   },
   "file_extension": ".py",
   "mimetype": "text/x-python",
   "name": "python",
   "nbconvert_exporter": "python",
   "pygments_lexer": "ipython3",
   "version": "3.10.8"
  }
 },
 "nbformat": 4,
 "nbformat_minor": 5
}
