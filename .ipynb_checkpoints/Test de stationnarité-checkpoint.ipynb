{
 "cells": [
  {
   "cell_type": "markdown",
   "id": "c2a9d55b-bb7f-432d-9e65-f6b84bccd5db",
   "metadata": {},
   "source": [
    "# Importation des données :"
   ]
  },
  {
   "cell_type": "code",
   "execution_count": 1,
   "id": "773bc2b7-d978-4d6d-ba33-bd4152b42efa",
   "metadata": {
    "tags": []
   },
   "outputs": [
    {
     "name": "stdout",
     "output_type": "stream",
     "text": [
      "Requirement already satisfied: openpyxl in /opt/mamba/lib/python3.10/site-packages (3.1.0)\n",
      "Requirement already satisfied: et-xmlfile in /opt/mamba/lib/python3.10/site-packages (from openpyxl) (1.1.0)\n",
      "Note: you may need to restart the kernel to use updated packages.\n"
     ]
    }
   ],
   "source": [
    "pip install openpyxl"
   ]
  },
  {
   "cell_type": "code",
   "execution_count": 6,
   "id": "0b69676f-7e58-48d9-8ad8-1cd191871141",
   "metadata": {
    "tags": []
   },
   "outputs": [],
   "source": [
    "import matplotlib.pyplot as plt\n",
    "import seaborn as sns\n",
    "from datetime import datetime, timedelta\n",
    "import pandas as pd\n",
    "import requests\n",
    "import numpy as np "
   ]
  },
  {
   "cell_type": "code",
   "execution_count": 7,
   "id": "a6152505-a5ab-4c27-88c1-3bb205bcd3c4",
   "metadata": {
    "tags": []
   },
   "outputs": [],
   "source": [
    "OECD = pd.read_excel('données/OECD - short term economic indicators.xlsx')"
   ]
  },
  {
   "cell_type": "code",
   "execution_count": 8,
   "id": "517fef01-6f7f-4dc1-b734-f937569d71d7",
   "metadata": {
    "tags": []
   },
   "outputs": [],
   "source": [
    "IMF = pd.read_excel('données/IMF - monetary policy.xlsx')"
   ]
  },
  {
   "cell_type": "code",
   "execution_count": 10,
   "id": "89ca2ad9-15c3-4814-b45d-4cb624271775",
   "metadata": {
    "tags": []
   },
   "outputs": [],
   "source": [
    "agregated_data=pd.ExcelFile('données/FRBNY-SCE-Data.xlsx')\n",
    "agregated_anticipation= df1=pd.read_excel(agregated_data, 'Inflation expectations')"
   ]
  },
  {
   "cell_type": "code",
   "execution_count": 16,
   "id": "fd3990f4-2877-482a-a73a-95e214f86462",
   "metadata": {
    "tags": []
   },
   "outputs": [],
   "source": [
    "agrant = agregated_anticipation[['Unnamed: 1','Unnamed: 2']].drop([0,1,2]).reset_index().rename(columns={'index':'date','Unnamed: 1':'short exp','Unnamed: 2':'mid exp'})"
   ]
  },
  {
   "cell_type": "markdown",
   "id": "571d4ad4-0024-4b99-a5b9-cb737fc18f85",
   "metadata": {},
   "source": [
    "# Test de stationnarité :"
   ]
  },
  {
   "cell_type": "markdown",
   "id": "fcba0f9c-97d1-4001-aa27-f6dfc833c059",
   "metadata": {},
   "source": [
    "## I - Tests sur les anticipations d'inflation : "
   ]
  },
  {
   "cell_type": "code",
   "execution_count": 29,
   "id": "c6fd8b49-3b35-4125-82a4-d7ba7eeca0ce",
   "metadata": {
    "tags": []
   },
   "outputs": [
    {
     "name": "stdout",
     "output_type": "stream",
     "text": [
      "Requirement already satisfied: arch in /opt/mamba/lib/python3.10/site-packages (5.3.1)\n",
      "Requirement already satisfied: scipy>=1.3 in /opt/mamba/lib/python3.10/site-packages (from arch) (1.10.0)\n",
      "Requirement already satisfied: property-cached>=1.6.4 in /opt/mamba/lib/python3.10/site-packages (from arch) (1.6.4)\n",
      "Requirement already satisfied: numpy>=1.17 in /opt/mamba/lib/python3.10/site-packages (from arch) (1.23.5)\n",
      "Requirement already satisfied: statsmodels>=0.11 in /opt/mamba/lib/python3.10/site-packages (from arch) (0.13.5)\n",
      "Requirement already satisfied: pandas>=1.0 in /opt/mamba/lib/python3.10/site-packages (from arch) (1.5.3)\n",
      "Requirement already satisfied: python-dateutil>=2.8.1 in /opt/mamba/lib/python3.10/site-packages (from pandas>=1.0->arch) (2.8.2)\n",
      "Requirement already satisfied: pytz>=2020.1 in /opt/mamba/lib/python3.10/site-packages (from pandas>=1.0->arch) (2022.7.1)\n",
      "Requirement already satisfied: packaging>=21.3 in /opt/mamba/lib/python3.10/site-packages (from statsmodels>=0.11->arch) (22.0)\n",
      "Requirement already satisfied: patsy>=0.5.2 in /opt/mamba/lib/python3.10/site-packages (from statsmodels>=0.11->arch) (0.5.3)\n",
      "Requirement already satisfied: six in /opt/mamba/lib/python3.10/site-packages (from patsy>=0.5.2->statsmodels>=0.11->arch) (1.16.0)\n",
      "Note: you may need to restart the kernel to use updated packages.\n"
     ]
    }
   ],
   "source": [
    "pip install arch"
   ]
  },
  {
   "cell_type": "code",
   "execution_count": 30,
   "id": "b0cc023b-91c4-4109-aed1-5df790ef749a",
   "metadata": {
    "tags": []
   },
   "outputs": [],
   "source": [
    "from arch.unitroot import *"
   ]
  },
  {
   "cell_type": "markdown",
   "id": "e7934534-078e-4fde-92a2-0673478baa8e",
   "metadata": {},
   "source": [
    "### A- Test ADF :"
   ]
  },
  {
   "cell_type": "markdown",
   "id": "4ba342e0-c853-4c15-996a-332a09ef3a08",
   "metadata": {},
   "source": [
    "On importe de Statmodel la fonction pour réaliser un test adf. "
   ]
  },
  {
   "cell_type": "code",
   "execution_count": 11,
   "id": "837567cd-cc42-4ef5-887a-76aad091a476",
   "metadata": {
    "tags": []
   },
   "outputs": [],
   "source": [
    "from statsmodels.tsa.stattools import adfuller"
   ]
  },
  {
   "cell_type": "code",
   "execution_count": 38,
   "id": "0845a7a4-ed62-41cc-85f3-b9ab5f7ce2e9",
   "metadata": {
    "tags": []
   },
   "outputs": [
    {
     "data": {
      "text/plain": [
       "(-1.6378044817107078,\n",
       " 0.46340824386150187,\n",
       " 4,\n",
       " 109,\n",
       " {'1%': -3.49181775886872,\n",
       "  '5%': -2.8884437992971588,\n",
       "  '10%': -2.5811201893779985},\n",
       " -18.072284316318786)"
      ]
     },
     "execution_count": 38,
     "metadata": {},
     "output_type": "execute_result"
    }
   ],
   "source": [
    "adfuller(agrant['short exp'])"
   ]
  },
  {
   "cell_type": "markdown",
   "id": "35d6d588-5d70-42d8-8b25-a76e3474b5c6",
   "metadata": {},
   "source": [
    "La P-value est de 0.46. On ne rejette pas l'hypothèse nulle ( avec H0: la série n'est pas stationnaire). Ici, la série n'est donc pas stationnaire. "
   ]
  },
  {
   "cell_type": "code",
   "execution_count": 46,
   "id": "f98109d2-9e4f-4f88-be77-4a008099a3da",
   "metadata": {
    "tags": []
   },
   "outputs": [
    {
     "data": {
      "text/html": [
       "<table class=\"simpletable\">\n",
       "<caption>Augmented Dickey-Fuller Results</caption>\n",
       "<tr>\n",
       "  <td>Test Statistic</td>    <td>-2.244</td>\n",
       "</tr>\n",
       "<tr>\n",
       "  <td>P-value</td>            <td>0.465</td>\n",
       "</tr>\n",
       "<tr>\n",
       "  <td>Lags</td>                   <td>4</td>\n",
       "</tr>\n",
       "</table><br/><br/>Trend: Constant and Linear Time Trend<br/>Critical Values: -4.04 (1%), -3.45 (5%), -3.15 (10%)<br/>Null Hypothesis: The process contains a unit root.<br/>Alternative Hypothesis: The process is weakly stationary."
      ],
      "text/plain": [
       "<class 'statsmodels.iolib.summary.Summary'>\n",
       "\"\"\"\n",
       "   Augmented Dickey-Fuller Results   \n",
       "=====================================\n",
       "Test Statistic                 -2.244\n",
       "P-value                         0.465\n",
       "Lags                                4\n",
       "-------------------------------------\n",
       "\n",
       "Trend: Constant and Linear Time Trend\n",
       "Critical Values: -4.04 (1%), -3.45 (5%), -3.15 (10%)\n",
       "Null Hypothesis: The process contains a unit root.\n",
       "Alternative Hypothesis: The process is weakly stationary.\n",
       "\"\"\""
      ]
     },
     "execution_count": 46,
     "metadata": {},
     "output_type": "execute_result"
    }
   ],
   "source": [
    "adf_ct = ADF(agrant['short exp'].astype(float), trend = 'ct')\n",
    "adf_ct.summary()"
   ]
  },
  {
   "cell_type": "code",
   "execution_count": 20,
   "id": "09cba208-0b36-4ca0-8f6c-20145f26a4b1",
   "metadata": {
    "tags": []
   },
   "outputs": [
    {
     "data": {
      "text/plain": [
       "(-2.403988880387284,\n",
       " 0.14061374036229007,\n",
       " 2,\n",
       " 111,\n",
       " {'1%': -3.490683082754047,\n",
       "  '5%': -2.8879516565798817,\n",
       "  '10%': -2.5808574442009578},\n",
       " -71.84627705214095)"
      ]
     },
     "execution_count": 20,
     "metadata": {},
     "output_type": "execute_result"
    }
   ],
   "source": [
    "adfuller(agrant['mid exp'])"
   ]
  },
  {
   "cell_type": "markdown",
   "id": "c5f6cd28-7dba-46e7-b25c-28240260c770",
   "metadata": {},
   "source": [
    "Ici aussi, on ne rejette pas l'hypothèse nulle. La série n'est pas stationnaire. "
   ]
  },
  {
   "cell_type": "code",
   "execution_count": 47,
   "id": "2ebb0053-ec60-45a9-9ee7-dcda0961d9cc",
   "metadata": {
    "tags": []
   },
   "outputs": [
    {
     "data": {
      "text/html": [
       "<table class=\"simpletable\">\n",
       "<caption>Augmented Dickey-Fuller Results</caption>\n",
       "<tr>\n",
       "  <td>Test Statistic</td>    <td>-2.244</td>\n",
       "</tr>\n",
       "<tr>\n",
       "  <td>P-value</td>            <td>0.465</td>\n",
       "</tr>\n",
       "<tr>\n",
       "  <td>Lags</td>                   <td>4</td>\n",
       "</tr>\n",
       "</table><br/><br/>Trend: Constant and Linear Time Trend<br/>Critical Values: -4.04 (1%), -3.45 (5%), -3.15 (10%)<br/>Null Hypothesis: The process contains a unit root.<br/>Alternative Hypothesis: The process is weakly stationary."
      ],
      "text/plain": [
       "<class 'statsmodels.iolib.summary.Summary'>\n",
       "\"\"\"\n",
       "   Augmented Dickey-Fuller Results   \n",
       "=====================================\n",
       "Test Statistic                 -2.244\n",
       "P-value                         0.465\n",
       "Lags                                4\n",
       "-------------------------------------\n",
       "\n",
       "Trend: Constant and Linear Time Trend\n",
       "Critical Values: -4.04 (1%), -3.45 (5%), -3.15 (10%)\n",
       "Null Hypothesis: The process contains a unit root.\n",
       "Alternative Hypothesis: The process is weakly stationary.\n",
       "\"\"\""
      ]
     },
     "execution_count": 47,
     "metadata": {},
     "output_type": "execute_result"
    }
   ],
   "source": [
    "adf_ct = ADF(agrant['short exp'].astype(float), trend = 'ct')\n",
    "adf_ct.summary()"
   ]
  },
  {
   "cell_type": "markdown",
   "id": "70772720-f7ee-4254-9207-106159fe45cc",
   "metadata": {},
   "source": [
    "### B - Test KPSS:"
   ]
  },
  {
   "cell_type": "markdown",
   "id": "819da336-231b-459b-8e3c-fe853a682b05",
   "metadata": {},
   "source": [
    "Ici, H0 = la série est stationnaire, H1= la série n'est pas stationnaire. "
   ]
  },
  {
   "cell_type": "code",
   "execution_count": 21,
   "id": "b00b851e-08e0-4ada-84a7-4e9daf2e6ba0",
   "metadata": {
    "tags": []
   },
   "outputs": [],
   "source": [
    "import statsmodels.api as sm"
   ]
  },
  {
   "cell_type": "code",
   "execution_count": 22,
   "id": "4d105cbb-98b8-4569-a5c1-ef98e85100e7",
   "metadata": {
    "tags": []
   },
   "outputs": [
    {
     "name": "stderr",
     "output_type": "stream",
     "text": [
      "/opt/mamba/lib/python3.10/site-packages/statsmodels/tsa/stattools.py:2018: InterpolationWarning: The test statistic is outside of the range of p-values available in the\n",
      "look-up table. The actual p-value is smaller than the p-value returned.\n",
      "\n",
      "  warnings.warn(\n"
     ]
    },
    {
     "data": {
      "text/plain": [
       "(0.3086618000884876,\n",
       " 0.01,\n",
       " 6,\n",
       " {'10%': 0.119, '5%': 0.146, '2.5%': 0.176, '1%': 0.216})"
      ]
     },
     "execution_count": 22,
     "metadata": {},
     "output_type": "execute_result"
    }
   ],
   "source": [
    "sm.tsa.stattools.kpss(agrant['short exp'], regression='ct')"
   ]
  },
  {
   "cell_type": "code",
   "execution_count": 32,
   "id": "fc0c8469-7a84-4332-a68a-0c9dc1b17fca",
   "metadata": {
    "tags": []
   },
   "outputs": [
    {
     "data": {
      "text/html": [
       "<table class=\"simpletable\">\n",
       "<caption>KPSS Stationarity Test Results</caption>\n",
       "<tr>\n",
       "  <td>Test Statistic</td>     <td>0.309</td>\n",
       "</tr>\n",
       "<tr>\n",
       "  <td>P-value</td>            <td>0.001</td>\n",
       "</tr>\n",
       "<tr>\n",
       "  <td>Lags</td>                   <td>6</td>\n",
       "</tr>\n",
       "</table><br/><br/>Trend: Constant and Linear Time Trend<br/>Critical Values: 0.22 (1%), 0.15 (5%), 0.12 (10%)<br/>Null Hypothesis: The process is weakly stationary.<br/>Alternative Hypothesis: The process contains a unit root."
      ],
      "text/plain": [
       "<class 'statsmodels.iolib.summary.Summary'>\n",
       "\"\"\"\n",
       "    KPSS Stationarity Test Results   \n",
       "=====================================\n",
       "Test Statistic                  0.309\n",
       "P-value                         0.001\n",
       "Lags                                6\n",
       "-------------------------------------\n",
       "\n",
       "Trend: Constant and Linear Time Trend\n",
       "Critical Values: 0.22 (1%), 0.15 (5%), 0.12 (10%)\n",
       "Null Hypothesis: The process is weakly stationary.\n",
       "Alternative Hypothesis: The process contains a unit root.\n",
       "\"\"\""
      ]
     },
     "execution_count": 32,
     "metadata": {},
     "output_type": "execute_result"
    }
   ],
   "source": [
    "kpss_st = KPSS(agrant['short exp'], trend = 'ct')\n",
    "kpss_st.summary()"
   ]
  },
  {
   "cell_type": "markdown",
   "id": "5e2d618d-0704-4e7e-9090-bf1a3fcd1f74",
   "metadata": {},
   "source": [
    "La p-value est inférieure à 0.01. On rejette l'hypothèse nulle au seuil de 1%. La série n'est donc pas stationnaire."
   ]
  },
  {
   "cell_type": "code",
   "execution_count": 23,
   "id": "df366c5e-2311-4f19-9db1-0417361c5ef6",
   "metadata": {
    "tags": []
   },
   "outputs": [
    {
     "name": "stderr",
     "output_type": "stream",
     "text": [
      "/opt/mamba/lib/python3.10/site-packages/statsmodels/tsa/stattools.py:2018: InterpolationWarning: The test statistic is outside of the range of p-values available in the\n",
      "look-up table. The actual p-value is smaller than the p-value returned.\n",
      "\n",
      "  warnings.warn(\n"
     ]
    },
    {
     "data": {
      "text/plain": [
       "(0.2480908342699511,\n",
       " 0.01,\n",
       " 6,\n",
       " {'10%': 0.119, '5%': 0.146, '2.5%': 0.176, '1%': 0.216})"
      ]
     },
     "execution_count": 23,
     "metadata": {},
     "output_type": "execute_result"
    }
   ],
   "source": [
    "sm.tsa.stattools.kpss(agrant['mid exp'], regression='ct')"
   ]
  },
  {
   "cell_type": "code",
   "execution_count": 31,
   "id": "b6761555-0483-42e7-8c45-a9247bbb7543",
   "metadata": {
    "tags": []
   },
   "outputs": [
    {
     "data": {
      "text/html": [
       "<table class=\"simpletable\">\n",
       "<caption>KPSS Stationarity Test Results</caption>\n",
       "<tr>\n",
       "  <td>Test Statistic</td>     <td>0.248</td>\n",
       "</tr>\n",
       "<tr>\n",
       "  <td>P-value</td>            <td>0.005</td>\n",
       "</tr>\n",
       "<tr>\n",
       "  <td>Lags</td>                   <td>6</td>\n",
       "</tr>\n",
       "</table><br/><br/>Trend: Constant and Linear Time Trend<br/>Critical Values: 0.22 (1%), 0.15 (5%), 0.12 (10%)<br/>Null Hypothesis: The process is weakly stationary.<br/>Alternative Hypothesis: The process contains a unit root."
      ],
      "text/plain": [
       "<class 'statsmodels.iolib.summary.Summary'>\n",
       "\"\"\"\n",
       "    KPSS Stationarity Test Results   \n",
       "=====================================\n",
       "Test Statistic                  0.248\n",
       "P-value                         0.005\n",
       "Lags                                6\n",
       "-------------------------------------\n",
       "\n",
       "Trend: Constant and Linear Time Trend\n",
       "Critical Values: 0.22 (1%), 0.15 (5%), 0.12 (10%)\n",
       "Null Hypothesis: The process is weakly stationary.\n",
       "Alternative Hypothesis: The process contains a unit root.\n",
       "\"\"\""
      ]
     },
     "execution_count": 31,
     "metadata": {},
     "output_type": "execute_result"
    }
   ],
   "source": [
    "kpss_st = KPSS(agrant['mid exp'], trend = 'ct')\n",
    "kpss_st.summary()"
   ]
  },
  {
   "cell_type": "markdown",
   "id": "5409acf8-a41a-4df1-a0bf-d44662268c00",
   "metadata": {},
   "source": [
    "La p-value est inférieure à 0.01. On rejette l'hypothèse nulle au seuil de 1%. La série n'est donc pas stationnaire."
   ]
  },
  {
   "cell_type": "markdown",
   "id": "d8eb087b-f0ef-4b67-84b3-deeb78917217",
   "metadata": {},
   "source": [
    "### C - Test de Phillips Perron :"
   ]
  },
  {
   "cell_type": "code",
   "execution_count": 44,
   "id": "8a003612-59c3-46c6-81fe-d770d0fd359d",
   "metadata": {
    "tags": []
   },
   "outputs": [
    {
     "data": {
      "text/html": [
       "<table class=\"simpletable\">\n",
       "<caption>Phillips-Perron Test (Z-tau)</caption>\n",
       "<tr>\n",
       "  <td>Test Statistic</td>    <td>-1.569</td>\n",
       "</tr>\n",
       "<tr>\n",
       "  <td>P-value</td>            <td>0.804</td>\n",
       "</tr>\n",
       "<tr>\n",
       "  <td>Lags</td>                  <td>13</td>\n",
       "</tr>\n",
       "</table><br/><br/>Trend: Constant and Linear Time Trend<br/>Critical Values: -4.04 (1%), -3.45 (5%), -3.15 (10%)<br/>Null Hypothesis: The process contains a unit root.<br/>Alternative Hypothesis: The process is weakly stationary."
      ],
      "text/plain": [
       "<class 'statsmodels.iolib.summary.Summary'>\n",
       "\"\"\"\n",
       "     Phillips-Perron Test (Z-tau)    \n",
       "=====================================\n",
       "Test Statistic                 -1.569\n",
       "P-value                         0.804\n",
       "Lags                               13\n",
       "-------------------------------------\n",
       "\n",
       "Trend: Constant and Linear Time Trend\n",
       "Critical Values: -4.04 (1%), -3.45 (5%), -3.15 (10%)\n",
       "Null Hypothesis: The process contains a unit root.\n",
       "Alternative Hypothesis: The process is weakly stationary.\n",
       "\"\"\""
      ]
     },
     "execution_count": 44,
     "metadata": {},
     "output_type": "execute_result"
    }
   ],
   "source": [
    "php_ct = PhillipsPerron(agrant['short exp'].astype(float), trend = 'ct')\n",
    "php_ct.summary()"
   ]
  },
  {
   "cell_type": "markdown",
   "id": "ab34d241-861f-4cf4-abf2-b2577b358255",
   "metadata": {},
   "source": [
    "Ici, on ne rejette pas l'hypothèse nulle. La série n'est donc pas stationnaire. "
   ]
  },
  {
   "cell_type": "code",
   "execution_count": 45,
   "id": "405b6e7a-b343-4116-9061-59648d6c573a",
   "metadata": {
    "tags": []
   },
   "outputs": [
    {
     "data": {
      "text/html": [
       "<table class=\"simpletable\">\n",
       "<caption>Phillips-Perron Test (Z-tau)</caption>\n",
       "<tr>\n",
       "  <td>Test Statistic</td>    <td>-2.628</td>\n",
       "</tr>\n",
       "<tr>\n",
       "  <td>P-value</td>            <td>0.267</td>\n",
       "</tr>\n",
       "<tr>\n",
       "  <td>Lags</td>                  <td>13</td>\n",
       "</tr>\n",
       "</table><br/><br/>Trend: Constant and Linear Time Trend<br/>Critical Values: -4.04 (1%), -3.45 (5%), -3.15 (10%)<br/>Null Hypothesis: The process contains a unit root.<br/>Alternative Hypothesis: The process is weakly stationary."
      ],
      "text/plain": [
       "<class 'statsmodels.iolib.summary.Summary'>\n",
       "\"\"\"\n",
       "     Phillips-Perron Test (Z-tau)    \n",
       "=====================================\n",
       "Test Statistic                 -2.628\n",
       "P-value                         0.267\n",
       "Lags                               13\n",
       "-------------------------------------\n",
       "\n",
       "Trend: Constant and Linear Time Trend\n",
       "Critical Values: -4.04 (1%), -3.45 (5%), -3.15 (10%)\n",
       "Null Hypothesis: The process contains a unit root.\n",
       "Alternative Hypothesis: The process is weakly stationary.\n",
       "\"\"\""
      ]
     },
     "execution_count": 45,
     "metadata": {},
     "output_type": "execute_result"
    }
   ],
   "source": [
    "php_ct = PhillipsPerron(agrant['mid exp'].astype(float), trend = 'ct')\n",
    "php_ct.summary()"
   ]
  },
  {
   "cell_type": "markdown",
   "id": "1a805ddf-1237-4676-88cd-480f76c81d43",
   "metadata": {},
   "source": [
    "Ici, on ne rejette pas l'hypothèse nulle. La série n'est donc pas stationnaire. "
   ]
  },
  {
   "cell_type": "markdown",
   "id": "fcbdc387-fdf4-4819-ab84-de8b2d085c31",
   "metadata": {},
   "source": [
    "# II - Tests sur l'inflation : "
   ]
  },
  {
   "cell_type": "code",
   "execution_count": 48,
   "id": "94ce80f9-3c4d-43bd-998a-a99422d2a390",
   "metadata": {
    "tags": []
   },
   "outputs": [],
   "source": [
    "Inflation = pd.read_excel('données/Inflation US.xlsx')"
   ]
  },
  {
   "cell_type": "code",
   "execution_count": 60,
   "id": "310e9bdc-08a3-49b6-a0d5-48342cb7dcf4",
   "metadata": {
    "tags": []
   },
   "outputs": [],
   "source": [
    "Inflation_finale=Inflation['tx_evol_ann_pct'].dropna( axis=0)"
   ]
  },
  {
   "cell_type": "markdown",
   "id": "3cea40a9-83ef-41c7-a2c1-f3dc9cd49f85",
   "metadata": {},
   "source": [
    "## A- Test ADF :"
   ]
  },
  {
   "cell_type": "code",
   "execution_count": 61,
   "id": "7342c9e7-f04d-4cc9-8061-ca9d8c9d6632",
   "metadata": {
    "tags": []
   },
   "outputs": [
    {
     "data": {
      "text/html": [
       "<table class=\"simpletable\">\n",
       "<caption>Augmented Dickey-Fuller Results</caption>\n",
       "<tr>\n",
       "  <td>Test Statistic</td>    <td>-2.972</td>\n",
       "</tr>\n",
       "<tr>\n",
       "  <td>P-value</td>            <td>0.140</td>\n",
       "</tr>\n",
       "<tr>\n",
       "  <td>Lags</td>                  <td>15</td>\n",
       "</tr>\n",
       "</table><br/><br/>Trend: Constant and Linear Time Trend<br/>Critical Values: -3.98 (1%), -3.42 (5%), -3.13 (10%)<br/>Null Hypothesis: The process contains a unit root.<br/>Alternative Hypothesis: The process is weakly stationary."
      ],
      "text/plain": [
       "<class 'statsmodels.iolib.summary.Summary'>\n",
       "\"\"\"\n",
       "   Augmented Dickey-Fuller Results   \n",
       "=====================================\n",
       "Test Statistic                 -2.972\n",
       "P-value                         0.140\n",
       "Lags                               15\n",
       "-------------------------------------\n",
       "\n",
       "Trend: Constant and Linear Time Trend\n",
       "Critical Values: -3.98 (1%), -3.42 (5%), -3.13 (10%)\n",
       "Null Hypothesis: The process contains a unit root.\n",
       "Alternative Hypothesis: The process is weakly stationary.\n",
       "\"\"\""
      ]
     },
     "execution_count": 61,
     "metadata": {},
     "output_type": "execute_result"
    }
   ],
   "source": [
    "adf_inf = ADF(Inflation_finale.astype(float), trend = 'ct')\n",
    "adf_inf.summary()"
   ]
  },
  {
   "cell_type": "markdown",
   "id": "b3a4fa73-cfa9-494b-a4c8-15a2aba1d15d",
   "metadata": {},
   "source": [
    "On ne rejette pas l'hypothèse nulle. La série n'est pas stationnaire. "
   ]
  },
  {
   "cell_type": "markdown",
   "id": "7053cec1-60b6-42e3-9508-c952a2779a74",
   "metadata": {},
   "source": [
    "## B - Test KPSS :"
   ]
  },
  {
   "cell_type": "code",
   "execution_count": 62,
   "id": "fe7185d8-4cc0-4cf2-af99-1ce6c96a8e70",
   "metadata": {
    "tags": []
   },
   "outputs": [
    {
     "data": {
      "text/html": [
       "<table class=\"simpletable\">\n",
       "<caption>KPSS Stationarity Test Results</caption>\n",
       "<tr>\n",
       "  <td>Test Statistic</td>     <td>0.221</td>\n",
       "</tr>\n",
       "<tr>\n",
       "  <td>P-value</td>            <td>0.009</td>\n",
       "</tr>\n",
       "<tr>\n",
       "  <td>Lags</td>                  <td>12</td>\n",
       "</tr>\n",
       "</table><br/><br/>Trend: Constant and Linear Time Trend<br/>Critical Values: 0.22 (1%), 0.15 (5%), 0.12 (10%)<br/>Null Hypothesis: The process is weakly stationary.<br/>Alternative Hypothesis: The process contains a unit root."
      ],
      "text/plain": [
       "<class 'statsmodels.iolib.summary.Summary'>\n",
       "\"\"\"\n",
       "    KPSS Stationarity Test Results   \n",
       "=====================================\n",
       "Test Statistic                  0.221\n",
       "P-value                         0.009\n",
       "Lags                               12\n",
       "-------------------------------------\n",
       "\n",
       "Trend: Constant and Linear Time Trend\n",
       "Critical Values: 0.22 (1%), 0.15 (5%), 0.12 (10%)\n",
       "Null Hypothesis: The process is weakly stationary.\n",
       "Alternative Hypothesis: The process contains a unit root.\n",
       "\"\"\""
      ]
     },
     "execution_count": 62,
     "metadata": {},
     "output_type": "execute_result"
    }
   ],
   "source": [
    "kpss_st = KPSS(Inflation_finale, trend = 'ct')\n",
    "kpss_st.summary()"
   ]
  },
  {
   "cell_type": "markdown",
   "id": "b8fe8ea8-e62c-46e2-a6d5-a1af8dc68429",
   "metadata": {},
   "source": [
    "On rejette l'hypothèse nulle au seuil de 1 %. La série n'est donc pas stationnaire. "
   ]
  },
  {
   "cell_type": "markdown",
   "id": "40d0b4bc-f1ae-4d8b-84df-eea671f542ec",
   "metadata": {},
   "source": [
    "## C - Test de phillips Perron : "
   ]
  },
  {
   "cell_type": "code",
   "execution_count": 63,
   "id": "b8414ec0-6f1c-46bd-9af4-d5a4564190b2",
   "metadata": {
    "tags": []
   },
   "outputs": [
    {
     "data": {
      "text/html": [
       "<table class=\"simpletable\">\n",
       "<caption>Phillips-Perron Test (Z-tau)</caption>\n",
       "<tr>\n",
       "  <td>Test Statistic</td>    <td>-3.434</td>\n",
       "</tr>\n",
       "<tr>\n",
       "  <td>P-value</td>            <td>0.047</td>\n",
       "</tr>\n",
       "<tr>\n",
       "  <td>Lags</td>                  <td>18</td>\n",
       "</tr>\n",
       "</table><br/><br/>Trend: Constant and Linear Time Trend<br/>Critical Values: -3.98 (1%), -3.42 (5%), -3.13 (10%)<br/>Null Hypothesis: The process contains a unit root.<br/>Alternative Hypothesis: The process is weakly stationary."
      ],
      "text/plain": [
       "<class 'statsmodels.iolib.summary.Summary'>\n",
       "\"\"\"\n",
       "     Phillips-Perron Test (Z-tau)    \n",
       "=====================================\n",
       "Test Statistic                 -3.434\n",
       "P-value                         0.047\n",
       "Lags                               18\n",
       "-------------------------------------\n",
       "\n",
       "Trend: Constant and Linear Time Trend\n",
       "Critical Values: -3.98 (1%), -3.42 (5%), -3.13 (10%)\n",
       "Null Hypothesis: The process contains a unit root.\n",
       "Alternative Hypothesis: The process is weakly stationary.\n",
       "\"\"\""
      ]
     },
     "execution_count": 63,
     "metadata": {},
     "output_type": "execute_result"
    }
   ],
   "source": [
    "php_ct = PhillipsPerron(Inflation_finale.astype(float), trend = 'ct')\n",
    "php_ct.summary()"
   ]
  },
  {
   "cell_type": "markdown",
   "id": "71a8e99f-f051-464e-a388-c0eebc6547b2",
   "metadata": {},
   "source": [
    "On rejette l'hypothèse nulle au seuil de 5%. La série est faiblement stationnaire."
   ]
  }
 ],
 "metadata": {
  "kernelspec": {
   "display_name": "Python 3 (ipykernel)",
   "language": "python",
   "name": "python3"
  },
  "language_info": {
   "codemirror_mode": {
    "name": "ipython",
    "version": 3
   },
   "file_extension": ".py",
   "mimetype": "text/x-python",
   "name": "python",
   "nbconvert_exporter": "python",
   "pygments_lexer": "ipython3",
   "version": "3.10.8"
  }
 },
 "nbformat": 4,
 "nbformat_minor": 5
}
