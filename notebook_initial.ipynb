{
 "cells": [
  {
   "cell_type": "code",
   "execution_count": 13,
   "metadata": {},
   "outputs": [
    {
     "ename": "SyntaxError",
     "evalue": "invalid syntax (1811223919.py, line 7)",
     "output_type": "error",
     "traceback": [
      "\u001b[0;36m  Cell \u001b[0;32mIn[13], line 7\u001b[0;36m\u001b[0m\n\u001b[0;31m    pip install xlrd\u001b[0m\n\u001b[0m        ^\u001b[0m\n\u001b[0;31mSyntaxError\u001b[0m\u001b[0;31m:\u001b[0m invalid syntax\n"
     ]
    }
   ],
   "source": [
    "import matplotlib.pyplot as plt\n",
    "import seaborn as sns\n",
    "from datetime import datetime, timedelta\n",
    "import pandas as pd\n",
    "import requests"
   ]
  },
  {
   "cell_type": "code",
   "execution_count": null,
   "metadata": {},
   "outputs": [],
   "source": [
    "url = 'https://github.com/Jeremstar/ca-va-predire-l-inflation-severe/blob/173d4b4967d8d5680d43737a0e486c418f7f4870/donn%C3%A9es/OECD%20-%20short%20term%20economic%20indicators.xlsx'\n",
    "df = pd.read_excel(url)"
   ]
  },
  {
   "cell_type": "code",
   "execution_count": null,
   "metadata": {
    "id": "KaKgowOp_7Ll"
   },
   "outputs": [],
   "source": [
    "#Graphique d'indice des prix à la consommation\n",
    "\n",
    "inflation_US = OECD[(OECD['Country'] == \"United States\") & (OECD['Subject2'] == \"Consumer prices: all items\")]\n",
    "inflation_US2 = pd.DataFrame({\n",
    "    'day': pd.to_datetime(inflation_US['Time'], format='%Y-%m-%d'),\n",
    "    'Inflation': inflation_US['Value'].astype(float)\n",
    "})\n",
    "\n",
    "plt.plot(inflation_US2['day'], inflation_US2['Inflation'], color='royalblue')\n",
    "plt.xlabel('Date')\n",
    "plt.ylabel(\"Prix à la consommation\")\n",
    "plt.show()\n",
    "\n",
    "Enq17['Q8v2part2'].mean(skipna=True)\n"
   ]
  },
  {
   "cell_type": "code",
   "execution_count": null,
   "metadata": {},
   "outputs": [],
   "source": [
    "#Calcul du taux d'inflation\n",
    "\n",
    "inflation_US3 = pd.DataFrame({\n",
    "    'date': inflation_US2['day'],\n",
    "    'tx_evol_ann_pct': (inflation_US2['Inflation'] / inflation_US2['Inflation'].shift(12) - 1) * 100\n",
    "})"
   ]
  },
  {
   "cell_type": "code",
   "execution_count": null,
   "metadata": {},
   "outputs": [],
   "source": [
    "#Conversion des formats null en date\n",
    "\n",
    "Enq17['date'] = pd.to_datetime(Enq17['date'].astype(str) + '01', format='%Y%m%d')\n",
    "Enq13['date'] = pd.to_datetime(Enq13['date'].astype(str) + '01', format='%Y%m%d')"
   ]
  },
  {
   "cell_type": "code",
   "execution_count": null,
   "metadata": {},
   "outputs": [],
   "source": [
    "#Graphique des anticipations d'inflation à court terme\n",
    "\n",
    "anticipations_short_13 = Enq13.groupby('date')['Q8v2part2'].mean().reset_index()\n",
    "anticipations_short_17 = Enq17.groupby('date')['Q8v2part2'].mean().reset_index()\n",
    "anticipations_short = pd.concat([anticipations_short_13, anticipations_short_17])\n",
    "\n",
    "plt.plot(anticipations_short['date'], anticipations_short['Q8v2part2'])\n",
    "plt.xlabel('Date')\n",
    "plt.ylabel(\"Expected inflation - 12 months\")\n",
    "plt.show()"
   ]
  },
  {
   "cell_type": "code",
   "execution_count": null,
   "metadata": {},
   "outputs": [],
   "source": [
    "#Graphique des anticipations d'inflation à moyen terme\n",
    "\n",
    "anticipations_mid_13 = Enq13.groupby('date')['Q9bv2part2'].mean().reset_index()\n",
    "anticipations_mid_17 = Enq17.groupby('date')['Q9bv2part2'].mean().reset_index()\n",
    "anticipations_mid = pd.concat([anticipations_mid_13, anticipations_mid_17])\n",
    "\n",
    "plt.plot(anticipations_mid['date'], anticipations_mid['Q9bv2part2'])\n",
    "plt.xlabel('Date')\n",
    "plt.ylabel(\"Expected inflation - in 36 months\")\n",
    "plt.show()"
   ]
  },
  {
   "cell_type": "code",
   "execution_count": null,
   "metadata": {},
   "outputs": [],
   "source": [
    "#Comparaison pour du court terme\n",
    "\n",
    "comp_infl_short = pd.merge(inflation_US3, anticipations_short, on='date')\n",
    "comp_infl_short['expected'] = comp_infl_short['name'].shift(12)\n",
    "comp_infl_short['dif'] = comp_infl_short['expected'] - comp_infl_short['tx_evol_ann_pct"
   ]
  },
  {
   "cell_type": "code",
   "execution_count": null,
   "metadata": {},
   "outputs": [],
   "source": [
    "#Comparaison pour du moyen terme\n",
    "\n",
    "comp_infl_mid = pd.merge(inflation_US3, anticipations_mid, on='date')\n",
    "comp_infl_mid['expected'] = comp_infl_mid['name'].shift(36)\n",
    "comp_infl_mid['dif'] = comp_infl_mid['expected'] - comp_infl_mid['tx_evol_ann_pct']\n",
    "\n",
    "plt.plot(comp_infl_mid['date'], comp_infl_mid['expected'], color='blue', label='Expected')\n",
    "plt.plot(comp_infl_mid['date'], comp_infl_mid['tx_evol_ann_pct'], color='red', label='Real')\n",
    "plt.xlabel('Date')\n",
    "plt.ylabel(\"Inflation rate\")\n",
    "plt.xlim('2016-05-01','2020-01-01')\n",
    "plt.title(\"Comparaison inflation anticipée à m-36 et inflation réalisée\")\n",
    "plt.legend()\n",
    "plt.show()"
   ]
  }
 ],
 "metadata": {
  "colab": {
   "provenance": []
  },
  "kernelspec": {
   "display_name": "Python 3 (ipykernel)",
   "language": "python",
   "name": "python3"
  },
  "language_info": {
   "codemirror_mode": {
    "name": "ipython",
    "version": 3
   },
   "file_extension": ".py",
   "mimetype": "text/x-python",
   "name": "python",
   "nbconvert_exporter": "python",
   "pygments_lexer": "ipython3",
   "version": "3.10.4"
  }
 },
 "nbformat": 4,
 "nbformat_minor": 4
}
