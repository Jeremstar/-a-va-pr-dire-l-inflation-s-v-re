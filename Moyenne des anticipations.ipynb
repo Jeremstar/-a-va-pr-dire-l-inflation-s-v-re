{
 "cells": [
  {
   "cell_type": "markdown",
   "id": "9716d033-9cd1-43f5-9e85-de45ebfa0216",
   "metadata": {},
   "source": [
    "## Importation des packages"
   ]
  },
  {
   "cell_type": "code",
   "execution_count": 11,
   "id": "6ee5704d-9bcc-4448-8e59-db5ed58731f2",
   "metadata": {},
   "outputs": [
    {
     "name": "stdout",
     "output_type": "stream",
     "text": [
      "Collecting openpyxl\n",
      "  Downloading openpyxl-3.0.10-py2.py3-none-any.whl (242 kB)\n",
      "\u001b[2K     \u001b[90m━━━━━━━━━━━━━━━━━━━━━━━━━━━━━━━━━━━━━━━\u001b[0m \u001b[32m242.1/242.1 kB\u001b[0m \u001b[31m5.6 MB/s\u001b[0m eta \u001b[36m0:00:00\u001b[0ma \u001b[36m0:00:01\u001b[0m\n",
      "\u001b[?25hCollecting et-xmlfile\n",
      "  Downloading et_xmlfile-1.1.0-py3-none-any.whl (4.7 kB)\n",
      "Installing collected packages: et-xmlfile, openpyxl\n",
      "Successfully installed et-xmlfile-1.1.0 openpyxl-3.0.10\n",
      "Note: you may need to restart the kernel to use updated packages.\n"
     ]
    }
   ],
   "source": [
    "pip install openpyxl"
   ]
  },
  {
   "cell_type": "code",
   "execution_count": 12,
   "id": "5ff612c9-34d1-494a-b616-f56032900e26",
   "metadata": {},
   "outputs": [],
   "source": [
    "import matplotlib.pyplot as plt\n",
    "import seaborn as sns\n",
    "from datetime import datetime, timedelta\n",
    "import urllib\n",
    "from urllib.request import urlopen\n",
    "import pandas as pd\n",
    "import openpyxl"
   ]
  },
  {
   "cell_type": "markdown",
   "id": "a590e302-e1ad-4249-85da-ccf014601845",
   "metadata": {},
   "source": [
    "# Travail sur la base de données :"
   ]
  },
  {
   "cell_type": "code",
   "execution_count": 28,
   "id": "ab9621bd-20f5-4d4b-a76c-2d5f9f071f66",
   "metadata": {},
   "outputs": [],
   "source": [
    "agregated_data=pd.ExcelFile('données/FRBNY-SCE-Data.xlsx')\n",
    "agregated_anticipation= df1=pd.read_excel(agregate_data, 'Inflation expectations')"
   ]
  },
  {
   "cell_type": "code",
   "execution_count": 29,
   "id": "0da0753d-caef-486c-a669-4dabcd63d6bf",
   "metadata": {},
   "outputs": [],
   "source": [
    "agregated_anticipation=agregated_anticipation.drop([0,1])"
   ]
  },
  {
   "cell_type": "code",
   "execution_count": 35,
   "id": "ec800413-9b5e-42cb-9934-1930cc4ff3ee",
   "metadata": {},
   "outputs": [],
   "source": [
    "agregated_anticipation.iloc[0,0]='Date'"
   ]
  },
  {
   "cell_type": "code",
   "execution_count": 36,
   "id": "8be2a72c-dff7-4333-b08b-1fb5f192b3c3",
   "metadata": {},
   "outputs": [],
   "source": [
    "agregated_anticipation=agregated_anticipation.rename(columns = agregated_anticipation.iloc[0])"
   ]
  },
  {
   "cell_type": "code",
   "execution_count": 59,
   "id": "b674f7e5-abb7-48e3-9935-995a8115c989",
   "metadata": {},
   "outputs": [],
   "source": [
    "agregated_anticipation=agregated_anticipation.drop([2])"
   ]
  },
  {
   "cell_type": "code",
   "execution_count": 54,
   "id": "752df4bd-f03b-4b1a-a069-2ec4c2149243",
   "metadata": {},
   "outputs": [
    {
     "ename": "SyntaxError",
     "evalue": "invalid syntax (1415584462.py, line 1)",
     "output_type": "error",
     "traceback": [
      "\u001b[0;36m  Cell \u001b[0;32mIn[54], line 1\u001b[0;36m\u001b[0m\n\u001b[0;31m    index = agregated_anticipation[lambda x : for x in agregated_anticipation.index() ]\u001b[0m\n\u001b[0m                                              ^\u001b[0m\n\u001b[0;31mSyntaxError\u001b[0m\u001b[0;31m:\u001b[0m invalid syntax\n"
     ]
    }
   ],
   "source": []
  }
 ],
 "metadata": {
  "kernelspec": {
   "display_name": "Python 3 (ipykernel)",
   "language": "python",
   "name": "python3"
  },
  "language_info": {
   "codemirror_mode": {
    "name": "ipython",
    "version": 3
   },
   "file_extension": ".py",
   "mimetype": "text/x-python",
   "name": "python",
   "nbconvert_exporter": "python",
   "pygments_lexer": "ipython3",
   "version": "3.10.4"
  }
 },
 "nbformat": 4,
 "nbformat_minor": 5
}
