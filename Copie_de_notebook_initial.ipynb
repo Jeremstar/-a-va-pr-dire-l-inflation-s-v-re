{
 "cells": [
  {
   "cell_type": "markdown",
   "metadata": {
    "colab_type": "text",
    "id": "view-in-github"
   },
   "source": [
    "<a href=\"https://colab.research.google.com/github/Jeremstar/ca-va-predire-l-inflation-severe/blob/main/Copie_de_notebook_initial.ipynb\" target=\"_parent\"><img src=\"https://colab.research.google.com/assets/colab-badge.svg\" alt=\"Open In Colab\"/></a>"
   ]
  },
  {
   "cell_type": "code",
   "execution_count": 27,
   "metadata": {
    "id": "QABMBYO1UdP5",
    "outputId": "87fe5be7-4931-4042-c625-014859356835"
   },
   "outputs": [
    {
     "name": "stdout",
     "output_type": "stream",
     "text": [
      "Requirement already satisfied: openpyxl in /opt/mamba/lib/python3.10/site-packages (3.0.10)\n",
      "Requirement already satisfied: et-xmlfile in /opt/mamba/lib/python3.10/site-packages (from openpyxl) (1.1.0)\n",
      "Note: you may need to restart the kernel to use updated packages.\n"
     ]
    }
   ],
   "source": [
    "pip install openpyxl"
   ]
  },
  {
   "cell_type": "code",
   "execution_count": 28,
   "metadata": {
    "id": "IH0SS1T9UdP6"
   },
   "outputs": [],
   "source": [
    "import matplotlib.pyplot as plt\n",
    "import seaborn as sns\n",
    "from datetime import datetime, timedelta\n",
    "import pandas as pd\n",
    "import requests\n",
    "import numpy as np"
   ]
  },
  {
   "cell_type": "code",
   "execution_count": 29,
   "metadata": {
    "id": "rQqrxUQcUdP7"
   },
   "outputs": [],
   "source": [
    "OECD = pd.read_excel('données/OECD - short term economic indicators.xlsx')\n",
    "IMF = pd.read_excel('données/IMF - monetary policy.xlsx')"
   ]
  },
  {
   "cell_type": "code",
   "execution_count": 30,
   "metadata": {
    "id": "xyG4T8reUdP7"
   },
   "outputs": [],
   "source": [
    "Enq13 = pd.read_excel('https://www.newyorkfed.org/medialibrary/interactives/sce/sce/downloads/data/frbny-sce-public-microdata-complete-13-16.xlsx')"
   ]
  },
  {
   "cell_type": "code",
   "execution_count": null,
   "metadata": {
    "id": "pgp0EYxyUdP7"
   },
   "outputs": [],
   "source": [
    "Enq17 = pd.read_excel('https://www.newyorkfed.org/medialibrary/interactives/sce/sce/downloads/data/frbny-sce-public-microdata-complete-17-19.xlsx')"
   ]
  },
  {
   "cell_type": "code",
   "execution_count": null,
   "metadata": {
    "id": "CuqWwMPDUdP7"
   },
   "outputs": [],
   "source": [
    "#Il faut faire 2-3 manips pour rendre les bases utilisables\n",
    "new_columns = Enq13.iloc[0]\n",
    "Enq13.columns = new_columns\n",
    "Enq13 = Enq13.drop(0)\n",
    "\n",
    "new_columns = Enq17.iloc[0]\n",
    "Enq17.columns = new_columns\n",
    "Enq17 = Enq17.drop(0)"
   ]
  },
  {
   "cell_type": "code",
   "execution_count": null,
   "metadata": {
    "id": "KaKgowOp_7Ll",
    "outputId": "a92f1419-f769-4664-8f48-9b8fd6e05a8b"
   },
   "outputs": [],
   "source": [
    "#Graphique d'indice des prix à la consommation\n",
    "\n",
    "inflation_US = OECD[(OECD['Country'] == \"United States\") & (OECD['Subject2'] == \"Consumer prices: all items\")]\n",
    "inflation_US2 = pd.DataFrame({\n",
    "    'day': pd.to_datetime(inflation_US['Time'], format='%Y-%m-%d'),\n",
    "    'Inflation': inflation_US['Value'].astype(float)\n",
    "})\n",
    "\n",
    "plt.plot(inflation_US2['day'], inflation_US2['Inflation'], color='royalblue')\n",
    "plt.xlabel('Date')\n",
    "plt.ylabel(\"Prix à la consommation\")\n",
    "plt.show()\n",
    "\n",
    "Enq17['Q8v2part2'].mean(skipna=True)\n"
   ]
  },
  {
   "cell_type": "code",
   "execution_count": null,
   "metadata": {
    "id": "TJwSoTSSUdP8"
   },
   "outputs": [],
   "source": [
    "#Calcul du taux d'inflation\n",
    "\n",
    "inflation_US3 = pd.DataFrame({\n",
    "    'date': inflation_US2['day'],\n",
    "    'tx_evol_ann_pct': (inflation_US2['Inflation'] / inflation_US2['Inflation'].shift(12) - 1) * 100\n",
    "})"
   ]
  },
  {
   "cell_type": "code",
   "execution_count": null,
   "metadata": {
    "id": "8nGWOVX9UdP8"
   },
   "outputs": [],
   "source": [
    "#Conversion des formats null en date\n",
    "\n",
    "Enq17['date'] = pd.to_datetime(Enq17['date'].astype(str) + '01', format='%Y%m%d')\n",
    "Enq13['date'] = pd.to_datetime(Enq13['date'].astype(str) + '01', format='%Y%m%d')"
   ]
  },
  {
   "cell_type": "code",
   "execution_count": null,
   "metadata": {
    "id": "-uc6uAa9U8CS"
   },
   "outputs": [],
   "source": [
    "def mean_group_date(DF,arg):\n",
    "    list_date = DF['date']\n",
    "    list_date_e = []\n",
    "    for d in list_date :\n",
    "        if d not in list_date_e:\n",
    "            list_date_e.append(d)\n",
    "\n",
    "    list_mean_e = [DF.groupby('date')[arg].get_group(d).mean() for d in list_date_e]\n",
    "\n",
    "    return pd.DataFrame(np.array(list_mean_e),index=list_date_e,columns=[arg])\n"
   ]
  },
  {
   "cell_type": "code",
   "execution_count": null,
   "metadata": {
    "id": "mPS6Q5odUdP8",
    "outputId": "f6938418-f29c-4046-f5c2-6b5f9cfe91d0"
   },
   "outputs": [],
   "source": [
    "#Graphique des anticipations d'inflation à court terme\n",
    "\n",
    "anticipations_short_13 = mean_group_date(Enq13,'Q8v2part2')#.reset_index\n",
    "anticipations_short_17 = mean_group_date(Enq17,'Q8v2part2')#.reset_index\n",
    "anticipations_short = pd.concat([anticipations_short_13, anticipations_short_17]).reset_index().rename(columns={'index':'date','Q8v2part2':'anticipation'})\n",
    "\n",
    "plt.plot(anticipations_short['date'], anticipations_short['anticipation'])\n",
    "plt.xlabel('Date')\n",
    "plt.ylabel(\"Expected inflation - 12 months\")\n",
    "plt.show()\n"
   ]
  },
  {
   "cell_type": "code",
   "execution_count": null,
   "metadata": {
    "id": "PxHIX9Y2UdP8",
    "outputId": "55fc7f37-60b3-4cff-ef4b-e36ef591e2bb"
   },
   "outputs": [],
   "source": [
    "#Graphique des anticipations d'inflation à moyen terme\n",
    "\n",
    "anticipations_mid_13 = mean_group_date(Enq13,'Q9bv2part2')\n",
    "anticipations_mid_17 = mean_group_date(Enq17,'Q9bv2part2')\n",
    "anticipations_mid = pd.concat([anticipations_mid_13, anticipations_mid_17]).reset_index().rename(columns={'index':'date','Q9bv2part2':'anticipation'})\n",
    "\n",
    "plt.plot(anticipations_mid['date'], anticipations_mid['anticipation'])\n",
    "plt.xlabel('Date')\n",
    "plt.ylabel(\"Expected inflation - in 36 months\")\n",
    "plt.show()\n",
    "\n"
   ]
  },
  {
   "cell_type": "code",
   "execution_count": null,
   "metadata": {
    "id": "Yk2Z4xD2UdP9",
    "outputId": "31931f8b-ef76-49e5-97a7-d8364abb1505"
   },
   "outputs": [],
   "source": [
    "\n",
    "#Comparaison pour du court terme\n",
    "\n",
    "comp_infl_short = pd.merge(inflation_US3, anticipations_short, on='date')\n",
    "comp_infl_short['expected']=comp_infl_short['anticipation'].shift(12)\n",
    "comp_infl_short['dif'] = comp_infl_short['expected'] - comp_infl_short['tx_evol_ann_pct']\n",
    "\n",
    "\n",
    "import matplotlib.pyplot as plt\n",
    "from matplotlib.dates import DateFormatter\n",
    "\n",
    "plt.figure(figsize=(15,5))\n",
    "plt.plot(comp_infl_short['date'],comp_infl_short['expected'],color='blue',label='Expected')\n",
    "plt.plot(comp_infl_short['date'],comp_infl_short['tx_evol_ann_pct'],color='red',label='Real')\n",
    "plt.ylabel('Inflation rate')\n",
    "plt.xlabel('date')\n",
    "plt.title('Comparison inflation anticipée à m-12 et inflation réalisée')\n",
    "plt.legend()\n",
    "plt.xlim(pd.to_datetime('2014-05-01'),pd.to_datetime('2020-01-01'))\n",
    "plt.gca().xaxis.set_major_formatter(DateFormatter(\"%Y-%m-%d\"))\n",
    "plt.show()\n"
   ]
  },
  {
   "cell_type": "code",
   "execution_count": null,
   "metadata": {
    "id": "woVD50CFUdP9",
    "outputId": "c93bb644-2746-473b-f00f-12e9c1c1c61a"
   },
   "outputs": [],
   "source": [
    "#Comparaison pour du moyen terme\n",
    "\n",
    "fig = plt.figure()\n",
    "comp_infl_mid = pd.merge(inflation_US3, anticipations_mid, on='date')\n",
    "comp_infl_mid['expected'] = comp_infl_mid['anticipation'].shift(36)\n",
    "comp_infl_mid['dif'] = comp_infl_mid['expected'] - comp_infl_mid['tx_evol_ann_pct']\n",
    "\n",
    "plt.plot(comp_infl_mid['date'], comp_infl_mid['expected'], color='blue', label='Expected')\n",
    "plt.plot(comp_infl_mid['date'], comp_infl_mid['tx_evol_ann_pct'], color='red', label='Real')\n",
    "plt.xlabel('Date')\n",
    "plt.ylabel(\"Inflation rate\")\n",
    "plt.xlim(pd.to_datetime('2016-05-01'),pd.to_datetime('2020-01-01'))\n",
    "plt.title(\"Comparaison inflation anticipée à m-36 et inflation réalisée\")\n",
    "plt.legend()\n",
    "plt.show()"
   ]
  },
  {
   "cell_type": "code",
   "execution_count": null,
   "metadata": {
    "id": "5_ZpUJKUUdP-"
   },
   "outputs": [],
   "source": []
  },
  {
   "cell_type": "code",
   "execution_count": null,
   "metadata": {},
   "outputs": [],
   "source": []
  }
 ],
 "metadata": {
  "colab": {
   "include_colab_link": true,
   "provenance": []
  },
  "kernelspec": {
   "display_name": "Python 3 (ipykernel)",
   "language": "python",
   "name": "python3"
  },
  "language_info": {
   "codemirror_mode": {
    "name": "ipython",
    "version": 3
   },
   "file_extension": ".py",
   "mimetype": "text/x-python",
   "name": "python",
   "nbconvert_exporter": "python",
   "pygments_lexer": "ipython3",
   "version": "3.10.4"
  }
 },
 "nbformat": 4,
 "nbformat_minor": 4
}
