{
 "cells": [
  {
   "cell_type": "markdown",
   "id": "c2a9d55b-bb7f-432d-9e65-f6b84bccd5db",
   "metadata": {},
   "source": [
    "# Importation des données :"
   ]
  },
  {
   "cell_type": "code",
   "execution_count": 1,
   "id": "773bc2b7-d978-4d6d-ba33-bd4152b42efa",
   "metadata": {
    "tags": []
   },
   "outputs": [
    {
     "name": "stdout",
     "output_type": "stream",
     "text": [
      "Collecting openpyxl\n",
      "  Downloading openpyxl-3.1.1-py2.py3-none-any.whl (249 kB)\n",
      "\u001b[2K     \u001b[90m━━━━━━━━━━━━━━━━━━━━━━━━━━━━━━━━━━━━━━━\u001b[0m \u001b[32m249.8/249.8 kB\u001b[0m \u001b[31m7.8 MB/s\u001b[0m eta \u001b[36m0:00:00\u001b[0m\n",
      "\u001b[?25hCollecting et-xmlfile\n",
      "  Downloading et_xmlfile-1.1.0-py3-none-any.whl (4.7 kB)\n",
      "Installing collected packages: et-xmlfile, openpyxl\n",
      "Successfully installed et-xmlfile-1.1.0 openpyxl-3.1.1\n",
      "Note: you may need to restart the kernel to use updated packages.\n"
     ]
    }
   ],
   "source": [
    "pip install openpyxl"
   ]
  },
  {
   "cell_type": "code",
   "execution_count": 2,
   "id": "0b69676f-7e58-48d9-8ad8-1cd191871141",
   "metadata": {
    "tags": []
   },
   "outputs": [],
   "source": [
    "import matplotlib.pyplot as plt\n",
    "import seaborn as sns\n",
    "from datetime import datetime, timedelta\n",
    "import pandas as pd\n",
    "import requests\n",
    "import numpy as np \n",
    "from scipy import stats"
   ]
  },
  {
   "cell_type": "code",
   "execution_count": 3,
   "id": "a6152505-a5ab-4c27-88c1-3bb205bcd3c4",
   "metadata": {
    "tags": []
   },
   "outputs": [],
   "source": [
    "OECD = pd.read_excel('données/OECD - short term economic indicators.xlsx')"
   ]
  },
  {
   "cell_type": "code",
   "execution_count": 4,
   "id": "517fef01-6f7f-4dc1-b734-f937569d71d7",
   "metadata": {
    "tags": []
   },
   "outputs": [],
   "source": [
    "IMF = pd.read_excel('données/IMF - monetary policy.xlsx')"
   ]
  },
  {
   "cell_type": "code",
   "execution_count": 5,
   "id": "89ca2ad9-15c3-4814-b45d-4cb624271775",
   "metadata": {
    "tags": []
   },
   "outputs": [],
   "source": [
    "agregated_data=pd.ExcelFile('données/FRBNY-SCE-Data.xlsx')\n",
    "agregated_anticipation= df1=pd.read_excel(agregated_data, 'Inflation expectations')"
   ]
  },
  {
   "cell_type": "code",
   "execution_count": 6,
   "id": "fd3990f4-2877-482a-a73a-95e214f86462",
   "metadata": {
    "tags": []
   },
   "outputs": [],
   "source": [
    "agrant = agregated_anticipation[['Unnamed: 1','Unnamed: 2']].drop([0,1,2]).reset_index().rename(columns={'index':'date','Unnamed: 1':'short exp','Unnamed: 2':'mid exp'})"
   ]
  },
  {
   "cell_type": "code",
   "execution_count": 7,
   "id": "752069e8-378d-4ea0-a126-76a6ba4a1a00",
   "metadata": {
    "tags": []
   },
   "outputs": [],
   "source": [
    "Enq13 = pd.read_excel('https://www.newyorkfed.org/medialibrary/interactives/sce/sce/downloads/data/frbny-sce-public-microdata-complete-13-16.xlsx')"
   ]
  },
  {
   "cell_type": "code",
   "execution_count": 8,
   "id": "7a7fb241-a3ff-420e-a175-f354925069db",
   "metadata": {
    "tags": []
   },
   "outputs": [],
   "source": [
    "Enq17 = pd.read_excel('https://www.newyorkfed.org/medialibrary/interactives/sce/sce/downloads/data/frbny-sce-public-microdata-complete-17-19.xlsx')"
   ]
  },
  {
   "cell_type": "code",
   "execution_count": 9,
   "id": "f38e21b2-3b22-4d53-ba33-c83b548ce221",
   "metadata": {
    "tags": []
   },
   "outputs": [],
   "source": [
    "Latest=pd.ExcelFile('https://www.newyorkfed.org/medialibrary/Interactives/sce/sce/downloads/data/frbny-sce-public-microdata-latest.xlsx')\n",
    "Enq20=pd.read_excel(Latest, 'Data')"
   ]
  },
  {
   "cell_type": "code",
   "execution_count": 10,
   "id": "7f1f495f-9914-4883-941c-cc030f6ff06b",
   "metadata": {
    "tags": []
   },
   "outputs": [
    {
     "data": {
      "text/html": [
       "<div>\n",
       "<style scoped>\n",
       "    .dataframe tbody tr th:only-of-type {\n",
       "        vertical-align: middle;\n",
       "    }\n",
       "\n",
       "    .dataframe tbody tr th {\n",
       "        vertical-align: top;\n",
       "    }\n",
       "\n",
       "    .dataframe thead th {\n",
       "        text-align: right;\n",
       "    }\n",
       "</style>\n",
       "<table border=\"1\" class=\"dataframe\">\n",
       "  <thead>\n",
       "    <tr style=\"text-align: right;\">\n",
       "      <th></th>\n",
       "      <th>Source:  Survey of Consumer Expectations, © 2013-23 Federal Reserve Bank of New York (FRBNY).   The SCE data are available without charge at www.newyorkfed.org and may be used subject to license terms posted there.  FRBNY disclaims any responsibility or legal liability for this analysis and interpretation of Survey of Consumer Expectations data.</th>\n",
       "      <th>Unnamed: 1</th>\n",
       "      <th>Unnamed: 2</th>\n",
       "      <th>Unnamed: 3</th>\n",
       "      <th>Unnamed: 4</th>\n",
       "      <th>Unnamed: 5</th>\n",
       "      <th>Unnamed: 6</th>\n",
       "      <th>Unnamed: 7</th>\n",
       "      <th>Unnamed: 8</th>\n",
       "      <th>Unnamed: 9</th>\n",
       "      <th>...</th>\n",
       "      <th>Unnamed: 210</th>\n",
       "      <th>Unnamed: 211</th>\n",
       "      <th>Unnamed: 212</th>\n",
       "      <th>Unnamed: 213</th>\n",
       "      <th>Unnamed: 214</th>\n",
       "      <th>Unnamed: 215</th>\n",
       "      <th>Unnamed: 216</th>\n",
       "      <th>Unnamed: 217</th>\n",
       "      <th>Unnamed: 218</th>\n",
       "      <th>Unnamed: 219</th>\n",
       "    </tr>\n",
       "  </thead>\n",
       "  <tbody>\n",
       "    <tr>\n",
       "      <th>0</th>\n",
       "      <td>date</td>\n",
       "      <td>userid</td>\n",
       "      <td>tenure</td>\n",
       "      <td>weight</td>\n",
       "      <td>Q1</td>\n",
       "      <td>Q2</td>\n",
       "      <td>Q3</td>\n",
       "      <td>Q4new</td>\n",
       "      <td>Q5new</td>\n",
       "      <td>Q6new</td>\n",
       "      <td>...</td>\n",
       "      <td>Q48</td>\n",
       "      <td>QRA1</td>\n",
       "      <td>QRA2</td>\n",
       "      <td>survey_date</td>\n",
       "      <td>_AGE_CAT</td>\n",
       "      <td>_NUM_CAT</td>\n",
       "      <td>_REGION_CAT</td>\n",
       "      <td>_COMMUTING_ZONE</td>\n",
       "      <td>_EDU_CAT</td>\n",
       "      <td>_HH_INC_CAT</td>\n",
       "    </tr>\n",
       "    <tr>\n",
       "      <th>1</th>\n",
       "      <td>202001</td>\n",
       "      <td>70103231</td>\n",
       "      <td>12</td>\n",
       "      <td>0.81825</td>\n",
       "      <td>4</td>\n",
       "      <td>3</td>\n",
       "      <td>20</td>\n",
       "      <td>62</td>\n",
       "      <td>26</td>\n",
       "      <td>44</td>\n",
       "      <td>...</td>\n",
       "      <td>5</td>\n",
       "      <td>NaN</td>\n",
       "      <td>NaN</td>\n",
       "      <td>2020-01-23 00:00:00</td>\n",
       "      <td>40 to 60</td>\n",
       "      <td>High</td>\n",
       "      <td>West</td>\n",
       "      <td>218</td>\n",
       "      <td>College</td>\n",
       "      <td>Over 100k</td>\n",
       "    </tr>\n",
       "    <tr>\n",
       "      <th>2</th>\n",
       "      <td>202001</td>\n",
       "      <td>70103252</td>\n",
       "      <td>11</td>\n",
       "      <td>2.879998</td>\n",
       "      <td>3</td>\n",
       "      <td>2</td>\n",
       "      <td>1</td>\n",
       "      <td>30</td>\n",
       "      <td>1</td>\n",
       "      <td>10</td>\n",
       "      <td>...</td>\n",
       "      <td>2</td>\n",
       "      <td>NaN</td>\n",
       "      <td>NaN</td>\n",
       "      <td>2020-01-02 00:00:00</td>\n",
       "      <td>40 to 60</td>\n",
       "      <td>Low</td>\n",
       "      <td>Northeast</td>\n",
       "      <td>203</td>\n",
       "      <td>High School</td>\n",
       "      <td>Under 50k</td>\n",
       "    </tr>\n",
       "    <tr>\n",
       "      <th>3</th>\n",
       "      <td>202001</td>\n",
       "      <td>70103258</td>\n",
       "      <td>12</td>\n",
       "      <td>0.549674</td>\n",
       "      <td>4</td>\n",
       "      <td>4</td>\n",
       "      <td>0</td>\n",
       "      <td>3</td>\n",
       "      <td>4</td>\n",
       "      <td>18</td>\n",
       "      <td>...</td>\n",
       "      <td>4</td>\n",
       "      <td>NaN</td>\n",
       "      <td>NaN</td>\n",
       "      <td>2020-01-07 00:00:00</td>\n",
       "      <td>Over 60</td>\n",
       "      <td>High</td>\n",
       "      <td>South</td>\n",
       "      <td>102</td>\n",
       "      <td>College</td>\n",
       "      <td>50k to 100k</td>\n",
       "    </tr>\n",
       "    <tr>\n",
       "      <th>4</th>\n",
       "      <td>202001</td>\n",
       "      <td>70103285</td>\n",
       "      <td>12</td>\n",
       "      <td>0.481746</td>\n",
       "      <td>4</td>\n",
       "      <td>4</td>\n",
       "      <td>10</td>\n",
       "      <td>10</td>\n",
       "      <td>10</td>\n",
       "      <td>10</td>\n",
       "      <td>...</td>\n",
       "      <td>1</td>\n",
       "      <td>NaN</td>\n",
       "      <td>NaN</td>\n",
       "      <td>2020-01-27 00:00:00</td>\n",
       "      <td>Under 40</td>\n",
       "      <td>High</td>\n",
       "      <td>Midwest</td>\n",
       "      <td>100</td>\n",
       "      <td>College</td>\n",
       "      <td>50k to 100k</td>\n",
       "    </tr>\n",
       "    <tr>\n",
       "      <th>...</th>\n",
       "      <td>...</td>\n",
       "      <td>...</td>\n",
       "      <td>...</td>\n",
       "      <td>...</td>\n",
       "      <td>...</td>\n",
       "      <td>...</td>\n",
       "      <td>...</td>\n",
       "      <td>...</td>\n",
       "      <td>...</td>\n",
       "      <td>...</td>\n",
       "      <td>...</td>\n",
       "      <td>...</td>\n",
       "      <td>...</td>\n",
       "      <td>...</td>\n",
       "      <td>...</td>\n",
       "      <td>...</td>\n",
       "      <td>...</td>\n",
       "      <td>...</td>\n",
       "      <td>...</td>\n",
       "      <td>...</td>\n",
       "      <td>...</td>\n",
       "    </tr>\n",
       "    <tr>\n",
       "      <th>35136</th>\n",
       "      <td>202204</td>\n",
       "      <td>75005976</td>\n",
       "      <td>1</td>\n",
       "      <td>0.954878</td>\n",
       "      <td>4</td>\n",
       "      <td>5</td>\n",
       "      <td>0</td>\n",
       "      <td>5</td>\n",
       "      <td>25</td>\n",
       "      <td>55</td>\n",
       "      <td>...</td>\n",
       "      <td>5</td>\n",
       "      <td>4</td>\n",
       "      <td>7</td>\n",
       "      <td>2022-04-12 00:00:00</td>\n",
       "      <td>40 to 60</td>\n",
       "      <td>Low</td>\n",
       "      <td>South</td>\n",
       "      <td>54</td>\n",
       "      <td>Some College</td>\n",
       "      <td>50k to 100k</td>\n",
       "    </tr>\n",
       "    <tr>\n",
       "      <th>35137</th>\n",
       "      <td>202204</td>\n",
       "      <td>75005980</td>\n",
       "      <td>1</td>\n",
       "      <td>0.708391</td>\n",
       "      <td>2</td>\n",
       "      <td>3</td>\n",
       "      <td>34</td>\n",
       "      <td>22</td>\n",
       "      <td>86</td>\n",
       "      <td>54</td>\n",
       "      <td>...</td>\n",
       "      <td>4</td>\n",
       "      <td>3</td>\n",
       "      <td>3</td>\n",
       "      <td>2022-04-04 00:00:00</td>\n",
       "      <td>Over 60</td>\n",
       "      <td>High</td>\n",
       "      <td>West</td>\n",
       "      <td>902</td>\n",
       "      <td>College</td>\n",
       "      <td>50k to 100k</td>\n",
       "    </tr>\n",
       "    <tr>\n",
       "      <th>35138</th>\n",
       "      <td>202204</td>\n",
       "      <td>75005987</td>\n",
       "      <td>1</td>\n",
       "      <td>0.915896</td>\n",
       "      <td>2</td>\n",
       "      <td>4</td>\n",
       "      <td>81</td>\n",
       "      <td>70</td>\n",
       "      <td>51</td>\n",
       "      <td>47</td>\n",
       "      <td>...</td>\n",
       "      <td>5</td>\n",
       "      <td>5</td>\n",
       "      <td>4</td>\n",
       "      <td>2022-04-10 00:00:00</td>\n",
       "      <td>Under 40</td>\n",
       "      <td>Low</td>\n",
       "      <td>South</td>\n",
       "      <td>84</td>\n",
       "      <td>Some College</td>\n",
       "      <td>Under 50k</td>\n",
       "    </tr>\n",
       "    <tr>\n",
       "      <th>35139</th>\n",
       "      <td>202204</td>\n",
       "      <td>75005995</td>\n",
       "      <td>1</td>\n",
       "      <td>0.888988</td>\n",
       "      <td>4</td>\n",
       "      <td>4</td>\n",
       "      <td>95</td>\n",
       "      <td>5</td>\n",
       "      <td>5</td>\n",
       "      <td>5</td>\n",
       "      <td>...</td>\n",
       "      <td>3</td>\n",
       "      <td>5</td>\n",
       "      <td>4</td>\n",
       "      <td>2022-04-20 00:00:00</td>\n",
       "      <td>Under 40</td>\n",
       "      <td>Low</td>\n",
       "      <td>South</td>\n",
       "      <td>102</td>\n",
       "      <td>Some College</td>\n",
       "      <td>50k to 100k</td>\n",
       "    </tr>\n",
       "    <tr>\n",
       "      <th>35140</th>\n",
       "      <td>202204</td>\n",
       "      <td>75005996</td>\n",
       "      <td>1</td>\n",
       "      <td>0.97863</td>\n",
       "      <td>1</td>\n",
       "      <td>3</td>\n",
       "      <td>1</td>\n",
       "      <td>50</td>\n",
       "      <td>30</td>\n",
       "      <td>40</td>\n",
       "      <td>...</td>\n",
       "      <td>3</td>\n",
       "      <td>2</td>\n",
       "      <td>2</td>\n",
       "      <td>2022-04-12 00:00:00</td>\n",
       "      <td>Over 60</td>\n",
       "      <td>Low</td>\n",
       "      <td>Midwest</td>\n",
       "      <td>2</td>\n",
       "      <td>Some College</td>\n",
       "      <td>Under 50k</td>\n",
       "    </tr>\n",
       "  </tbody>\n",
       "</table>\n",
       "<p>35141 rows × 220 columns</p>\n",
       "</div>"
      ],
      "text/plain": [
       "      Source:  Survey of Consumer Expectations, © 2013-23 Federal Reserve Bank of New York (FRBNY).   The SCE data are available without charge at www.newyorkfed.org and may be used subject to license terms posted there.  FRBNY disclaims any responsibility or legal liability for this analysis and interpretation of Survey of Consumer Expectations data.  \\\n",
       "0                                                   date                                                                                                                                                                                                                                                                                                            \n",
       "1                                                 202001                                                                                                                                                                                                                                                                                                            \n",
       "2                                                 202001                                                                                                                                                                                                                                                                                                            \n",
       "3                                                 202001                                                                                                                                                                                                                                                                                                            \n",
       "4                                                 202001                                                                                                                                                                                                                                                                                                            \n",
       "...                                                  ...                                                                                                                                                                                                                                                                                                            \n",
       "35136                                             202204                                                                                                                                                                                                                                                                                                            \n",
       "35137                                             202204                                                                                                                                                                                                                                                                                                            \n",
       "35138                                             202204                                                                                                                                                                                                                                                                                                            \n",
       "35139                                             202204                                                                                                                                                                                                                                                                                                            \n",
       "35140                                             202204                                                                                                                                                                                                                                                                                                            \n",
       "\n",
       "      Unnamed: 1 Unnamed: 2 Unnamed: 3 Unnamed: 4 Unnamed: 5 Unnamed: 6  \\\n",
       "0         userid     tenure     weight         Q1         Q2         Q3   \n",
       "1       70103231         12    0.81825          4          3         20   \n",
       "2       70103252         11   2.879998          3          2          1   \n",
       "3       70103258         12   0.549674          4          4          0   \n",
       "4       70103285         12   0.481746          4          4         10   \n",
       "...          ...        ...        ...        ...        ...        ...   \n",
       "35136   75005976          1   0.954878          4          5          0   \n",
       "35137   75005980          1   0.708391          2          3         34   \n",
       "35138   75005987          1   0.915896          2          4         81   \n",
       "35139   75005995          1   0.888988          4          4         95   \n",
       "35140   75005996          1    0.97863          1          3          1   \n",
       "\n",
       "      Unnamed: 7 Unnamed: 8 Unnamed: 9  ... Unnamed: 210 Unnamed: 211  \\\n",
       "0          Q4new      Q5new      Q6new  ...          Q48         QRA1   \n",
       "1             62         26         44  ...            5          NaN   \n",
       "2             30          1         10  ...            2          NaN   \n",
       "3              3          4         18  ...            4          NaN   \n",
       "4             10         10         10  ...            1          NaN   \n",
       "...          ...        ...        ...  ...          ...          ...   \n",
       "35136          5         25         55  ...            5            4   \n",
       "35137         22         86         54  ...            4            3   \n",
       "35138         70         51         47  ...            5            5   \n",
       "35139          5          5          5  ...            3            5   \n",
       "35140         50         30         40  ...            3            2   \n",
       "\n",
       "      Unnamed: 212         Unnamed: 213 Unnamed: 214 Unnamed: 215  \\\n",
       "0             QRA2          survey_date     _AGE_CAT     _NUM_CAT   \n",
       "1              NaN  2020-01-23 00:00:00     40 to 60         High   \n",
       "2              NaN  2020-01-02 00:00:00     40 to 60          Low   \n",
       "3              NaN  2020-01-07 00:00:00      Over 60         High   \n",
       "4              NaN  2020-01-27 00:00:00     Under 40         High   \n",
       "...            ...                  ...          ...          ...   \n",
       "35136            7  2022-04-12 00:00:00     40 to 60          Low   \n",
       "35137            3  2022-04-04 00:00:00      Over 60         High   \n",
       "35138            4  2022-04-10 00:00:00     Under 40          Low   \n",
       "35139            4  2022-04-20 00:00:00     Under 40          Low   \n",
       "35140            2  2022-04-12 00:00:00      Over 60          Low   \n",
       "\n",
       "      Unnamed: 216     Unnamed: 217  Unnamed: 218 Unnamed: 219  \n",
       "0      _REGION_CAT  _COMMUTING_ZONE      _EDU_CAT  _HH_INC_CAT  \n",
       "1             West              218       College    Over 100k  \n",
       "2        Northeast              203   High School    Under 50k  \n",
       "3            South              102       College  50k to 100k  \n",
       "4          Midwest              100       College  50k to 100k  \n",
       "...            ...              ...           ...          ...  \n",
       "35136        South               54  Some College  50k to 100k  \n",
       "35137         West              902       College  50k to 100k  \n",
       "35138        South               84  Some College    Under 50k  \n",
       "35139        South              102  Some College  50k to 100k  \n",
       "35140      Midwest                2  Some College    Under 50k  \n",
       "\n",
       "[35141 rows x 220 columns]"
      ]
     },
     "execution_count": 10,
     "metadata": {},
     "output_type": "execute_result"
    }
   ],
   "source": [
    "Enq20"
   ]
  },
  {
   "cell_type": "code",
   "execution_count": 11,
   "id": "2c056550-7189-4c63-987e-36c47709b469",
   "metadata": {
    "tags": []
   },
   "outputs": [],
   "source": [
    "#Il faut faire 2-3 manips pour rendre les bases utilisables\n",
    "new_columns = Enq13.iloc[0]\n",
    "Enq13.columns = new_columns\n",
    "Enq13 = Enq13.drop(0)\n",
    "\n",
    "new_columns = Enq17.iloc[0]\n",
    "Enq17.columns = new_columns\n",
    "Enq17 = Enq17.drop(0)"
   ]
  },
  {
   "cell_type": "code",
   "execution_count": 12,
   "id": "6156653b-c5a6-485f-96cc-686f58905a63",
   "metadata": {
    "tags": []
   },
   "outputs": [],
   "source": [
    "new_columns = Enq20.iloc[0]\n",
    "Enq20.columns = new_columns\n",
    "Enq20 = Enq20.drop(0)"
   ]
  },
  {
   "cell_type": "code",
   "execution_count": 13,
   "id": "9df9b7cf-63c9-496a-bc19-d7a450e24f03",
   "metadata": {
    "tags": []
   },
   "outputs": [],
   "source": [
    "Enq17['date'] = pd.to_datetime(Enq17['date'].astype(str) + '01', format='%Y%m%d')\n",
    "Enq13['date'] = pd.to_datetime(Enq13['date'].astype(str) + '01', format='%Y%m%d')\n",
    "Enq20['date'] = pd.to_datetime(Enq20['date'].astype(str) + '01', format='%Y%m%d')"
   ]
  },
  {
   "cell_type": "code",
   "execution_count": 14,
   "id": "32d90cb2-b9c6-407b-9c50-30d678389451",
   "metadata": {
    "tags": []
   },
   "outputs": [],
   "source": [
    "Base_finale=pd.concat([Enq13,Enq17,Enq20])"
   ]
  },
  {
   "cell_type": "code",
   "execution_count": 15,
   "id": "55483691-ae7f-4c4a-985b-539fa7b877e2",
   "metadata": {
    "tags": []
   },
   "outputs": [],
   "source": [
    "Base_finale.to_excel('Base_finale.xlsx')"
   ]
  },
  {
   "cell_type": "markdown",
   "id": "f02e5178-a998-4f9f-acae-06fd515f434c",
   "metadata": {},
   "source": [
    "# I-Première spécification :"
   ]
  },
  {
   "cell_type": "code",
   "execution_count": 16,
   "id": "f1bacab0-a46f-4c04-851f-1ff2645f0085",
   "metadata": {
    "tags": []
   },
   "outputs": [],
   "source": [
    "from sklearn.linear_model import LinearRegression"
   ]
  },
  {
   "cell_type": "code",
   "execution_count": 94,
   "id": "7d1d1d2a-5d79-4994-92d1-67592b079086",
   "metadata": {
    "tags": []
   },
   "outputs": [],
   "source": [
    "from statsmodels.regression.linear_model import OLS\n",
    "import statsmodels.api as sm"
   ]
  },
  {
   "cell_type": "code",
   "execution_count": 18,
   "id": "a47da3db-1539-4846-acec-c2c7d0801cde",
   "metadata": {
    "tags": []
   },
   "outputs": [],
   "source": [
    "AA=Base_finale"
   ]
  },
  {
   "cell_type": "code",
   "execution_count": null,
   "id": "cee97809-ba29-4769-9588-b2c910fd46f8",
   "metadata": {},
   "outputs": [],
   "source": []
  },
  {
   "cell_type": "code",
   "execution_count": 19,
   "id": "bab41002-0853-49fd-a5d2-50b3671715ed",
   "metadata": {
    "tags": []
   },
   "outputs": [
    {
     "data": {
      "text/plain": [
       "['date',\n",
       " 'userid',\n",
       " 'tenure',\n",
       " 'weight',\n",
       " 'Q1',\n",
       " 'Q2',\n",
       " 'Q3',\n",
       " 'Q4new',\n",
       " 'Q5new',\n",
       " 'Q6new',\n",
       " 'Q8v2',\n",
       " 'Q8v2part2',\n",
       " 'Q9_cent25',\n",
       " 'Q9_cent50',\n",
       " 'Q9_cent75',\n",
       " 'Q9_var',\n",
       " 'Q9_mean',\n",
       " 'Q9_iqr',\n",
       " 'Q9_probdeflation',\n",
       " 'Q9_bin1',\n",
       " 'Q9_bin2',\n",
       " 'Q9_bin3',\n",
       " 'Q9_bin4',\n",
       " 'Q9_bin5',\n",
       " 'Q9_bin6',\n",
       " 'Q9_bin7',\n",
       " 'Q9_bin8',\n",
       " 'Q9_bin9',\n",
       " 'Q9_bin10',\n",
       " 'Q9bv2',\n",
       " 'Q9bv2part2',\n",
       " 'Q9c_cent25',\n",
       " 'Q9c_cent50',\n",
       " 'Q9c_cent75',\n",
       " 'Q9c_var',\n",
       " 'Q9c_mean',\n",
       " 'Q9c_iqr',\n",
       " 'Q9c_probdeflation',\n",
       " 'Q9c_bin1',\n",
       " 'Q9c_bin2',\n",
       " 'Q9c_bin3',\n",
       " 'Q9c_bin4',\n",
       " 'Q9c_bin5',\n",
       " 'Q9c_bin6',\n",
       " 'Q9c_bin7',\n",
       " 'Q9c_bin8',\n",
       " 'Q9c_bin9',\n",
       " 'Q9c_bin10',\n",
       " 'Q10_1',\n",
       " 'Q10_2',\n",
       " 'Q10_3',\n",
       " 'Q10_4',\n",
       " 'Q10_5',\n",
       " 'Q10_6',\n",
       " 'Q10_7',\n",
       " 'Q10_8',\n",
       " 'Q10_9',\n",
       " 'Q10_10',\n",
       " 'Q11',\n",
       " 'Q12new',\n",
       " 'ES1_1',\n",
       " 'ES1_2',\n",
       " 'ES1_3',\n",
       " 'ES1_4',\n",
       " 'ES2',\n",
       " 'ES3new',\n",
       " 'ES4',\n",
       " 'ES5',\n",
       " 'Q13new',\n",
       " 'Q14new',\n",
       " 'Q15',\n",
       " 'Q16',\n",
       " 'Q17new',\n",
       " 'Q18new',\n",
       " 'Q19',\n",
       " 'Q20new',\n",
       " 'Q21new',\n",
       " 'Q22new',\n",
       " 'Q23v2',\n",
       " 'Q23v2part2',\n",
       " 'Q24_cent25',\n",
       " 'Q24_cent50',\n",
       " 'Q24_cent75',\n",
       " 'Q24_var',\n",
       " 'Q24_mean',\n",
       " 'Q24_iqr',\n",
       " 'Q24_probdeflation',\n",
       " 'Q24_bin1',\n",
       " 'Q24_bin2',\n",
       " 'Q24_bin3',\n",
       " 'Q24_bin4',\n",
       " 'Q24_bin5',\n",
       " 'Q24_bin6',\n",
       " 'Q24_bin7',\n",
       " 'Q24_bin8',\n",
       " 'Q24_bin9',\n",
       " 'Q24_bin10',\n",
       " 'Q25v2',\n",
       " 'Q25v2part2',\n",
       " 'Q26v2',\n",
       " 'Q26v2part2',\n",
       " 'Q27v2',\n",
       " 'Q27v2part2',\n",
       " 'Q28',\n",
       " 'Q29',\n",
       " 'Q30new',\n",
       " 'Q31v2',\n",
       " 'Q31v2part2',\n",
       " 'C1_cent25',\n",
       " 'C1_cent50',\n",
       " 'C1_cent75',\n",
       " 'C1_var',\n",
       " 'C1_mean',\n",
       " 'C1_iqr',\n",
       " 'C1_probdeflation',\n",
       " 'C1_bin1',\n",
       " 'C1_bin2',\n",
       " 'C1_bin3',\n",
       " 'C1_bin4',\n",
       " 'C1_bin5',\n",
       " 'C1_bin6',\n",
       " 'C1_bin7',\n",
       " 'C1_bin8',\n",
       " 'C1_bin9',\n",
       " 'C1_bin10',\n",
       " 'C2',\n",
       " 'C2part2',\n",
       " 'C3',\n",
       " 'C3part2',\n",
       " 'C4_1',\n",
       " 'C4_2',\n",
       " 'C4_3',\n",
       " 'C4_4',\n",
       " 'C4_5',\n",
       " 'C4_6',\n",
       " 'QNUM1',\n",
       " 'QNUM2',\n",
       " 'QNUM3',\n",
       " 'QNUM5',\n",
       " 'QNUM6',\n",
       " 'QNUM8',\n",
       " 'QNUM9',\n",
       " 'Q32',\n",
       " 'Q33',\n",
       " 'Q34',\n",
       " 'Q35_1',\n",
       " 'Q35_2',\n",
       " 'Q35_3',\n",
       " 'Q35_4',\n",
       " 'Q35_5',\n",
       " 'Q35_6',\n",
       " 'Q36',\n",
       " 'Q37',\n",
       " 'Q38',\n",
       " 'HH2_1',\n",
       " 'HH2_2',\n",
       " 'HH2_3',\n",
       " 'HH2_4',\n",
       " 'HH2_5',\n",
       " 'HH2_6',\n",
       " 'HH2_7',\n",
       " 'HH2_8',\n",
       " 'HH2_9',\n",
       " 'HH2_10',\n",
       " 'HH2_11',\n",
       " '_STATE',\n",
       " 'Q41',\n",
       " 'Q42',\n",
       " 'Q43',\n",
       " 'Q43a',\n",
       " 'Q44',\n",
       " 'Q45b',\n",
       " 'Q45new_1',\n",
       " 'Q45new_2',\n",
       " 'Q45new_3',\n",
       " 'Q45new_4',\n",
       " 'Q45new_5',\n",
       " 'Q45new_6',\n",
       " 'Q45new_7',\n",
       " 'Q45new_8',\n",
       " 'Q45new_9',\n",
       " 'Q46',\n",
       " 'Q47',\n",
       " 'D1',\n",
       " 'D3',\n",
       " 'D6',\n",
       " 'D2new_1',\n",
       " 'D2new_2',\n",
       " 'D2new_3',\n",
       " 'D2new_4',\n",
       " 'D2new_5',\n",
       " 'D2new_6',\n",
       " 'D2new_7',\n",
       " 'D2new_8',\n",
       " 'D2new_9',\n",
       " 'DSAME',\n",
       " 'DQ38',\n",
       " 'DHH2_1',\n",
       " 'DHH2_2',\n",
       " 'DHH2_3',\n",
       " 'DHH2_4',\n",
       " 'DHH2_5',\n",
       " 'DHH2_6',\n",
       " 'DHH2_7',\n",
       " 'DHH2_8',\n",
       " 'DHH2_9',\n",
       " 'DHH2_10',\n",
       " 'DHH2_11',\n",
       " 'DHH2_11_other',\n",
       " 'D5b',\n",
       " 'Q48',\n",
       " 'QRA1',\n",
       " 'QRA2',\n",
       " 'survey_date',\n",
       " '_AGE_CAT',\n",
       " '_NUM_CAT',\n",
       " '_REGION_CAT',\n",
       " '_COMMUTING_ZONE',\n",
       " '_EDU_CAT',\n",
       " '_HH_INC_CAT']"
      ]
     },
     "execution_count": 19,
     "metadata": {},
     "output_type": "execute_result"
    }
   ],
   "source": [
    "list(AA.columns)"
   ]
  },
  {
   "cell_type": "code",
   "execution_count": 21,
   "id": "d808081b-9a6f-4dbc-9277-426c346d8219",
   "metadata": {
    "tags": []
   },
   "outputs": [],
   "source": [
    "educ=pd.get_dummies(AA['_EDU_CAT'])"
   ]
  },
  {
   "cell_type": "code",
   "execution_count": 22,
   "id": "8b0f479d-dbcc-4be8-9688-71aa1cf33e9e",
   "metadata": {
    "tags": []
   },
   "outputs": [],
   "source": [
    "age=pd.get_dummies(AA['_AGE_CAT'])"
   ]
  },
  {
   "cell_type": "code",
   "execution_count": 23,
   "id": "755576ed-06ba-4438-a4de-7f2fe87a6ac6",
   "metadata": {
    "tags": []
   },
   "outputs": [],
   "source": [
    "income=pd.get_dummies(AA['_HH_INC_CAT'])"
   ]
  },
  {
   "cell_type": "code",
   "execution_count": 24,
   "id": "0b7a1fd2-07c1-4342-9a86-f002f4f3d66d",
   "metadata": {
    "tags": []
   },
   "outputs": [],
   "source": [
    "numeracy=pd.get_dummies(AA['_NUM_CAT'])"
   ]
  },
  {
   "cell_type": "code",
   "execution_count": 25,
   "id": "cb12e671-fdc1-4181-a15d-d82e5a459802",
   "metadata": {
    "tags": []
   },
   "outputs": [
    {
     "data": {
      "text/plain": [
       "15979"
      ]
     },
     "execution_count": 25,
     "metadata": {},
     "output_type": "execute_result"
    }
   ],
   "source": [
    "np.sum(educ['High School'])"
   ]
  },
  {
   "cell_type": "markdown",
   "id": "94348788-9974-4fe4-96c3-87ca91fbd251",
   "metadata": {},
   "source": [
    "Ci-dessous, on rajoute les dummies qui sont les plus simples à ajouter : educ, age, income, numeracy"
   ]
  },
  {
   "cell_type": "code",
   "execution_count": 26,
   "id": "51a9151c-07fd-4f7f-9b09-dd2974f67c5f",
   "metadata": {
    "tags": []
   },
   "outputs": [],
   "source": [
    "BC = pd.concat([AA, educ], axis=1).reindex(AA.index) #BC est pour Base complète. Ici, on complète la base avec des dummies"
   ]
  },
  {
   "cell_type": "code",
   "execution_count": 27,
   "id": "8fb4aa37-7255-4bf6-af97-97e92ff9d97e",
   "metadata": {
    "tags": []
   },
   "outputs": [],
   "source": [
    "BC = pd.concat([BC, age], axis=1).reindex(BC.index)"
   ]
  },
  {
   "cell_type": "code",
   "execution_count": 28,
   "id": "8073fea0-9be3-41e2-b448-929b38c59479",
   "metadata": {
    "tags": []
   },
   "outputs": [],
   "source": [
    "BC = pd.concat([BC, income], axis=1).reindex(BC.index)"
   ]
  },
  {
   "cell_type": "code",
   "execution_count": 29,
   "id": "98aa1eb4-913d-43a7-817a-66164e068899",
   "metadata": {
    "tags": []
   },
   "outputs": [],
   "source": [
    "BC = pd.concat([BC, numeracy], axis=1).reindex(BC.index)"
   ]
  },
  {
   "cell_type": "markdown",
   "id": "ddf7bf6a-2ea6-4e40-b21a-25081a26df60",
   "metadata": {},
   "source": [
    "On code maintenant le genre :"
   ]
  },
  {
   "cell_type": "code",
   "execution_count": 30,
   "id": "2e1a3a8b-62cd-4339-9da9-188ccfeda8b6",
   "metadata": {
    "tags": []
   },
   "outputs": [
    {
     "name": "stderr",
     "output_type": "stream",
     "text": [
      "/tmp/ipykernel_198/2623516903.py:1: FutureWarning: In a future version, the Index constructor will not infer numeric dtypes when passed object-dtype sequences (matching Series behavior)\n",
      "  gender=pd.get_dummies(AA['Q33'])\n"
     ]
    }
   ],
   "source": [
    "gender=pd.get_dummies(AA['Q33'])"
   ]
  },
  {
   "cell_type": "code",
   "execution_count": 31,
   "id": "66fad095-1922-431a-9325-ad5fb6fb0597",
   "metadata": {
    "tags": []
   },
   "outputs": [],
   "source": [
    "gender.rename(columns={1: \"fem\"}, inplace=True)"
   ]
  },
  {
   "cell_type": "code",
   "execution_count": 32,
   "id": "e870ee78-53a8-4afc-b06a-537d12a58f3d",
   "metadata": {
    "tags": []
   },
   "outputs": [],
   "source": [
    "BC = pd.concat([BC, gender['fem']], axis=1).reindex(BC.index)"
   ]
  },
  {
   "cell_type": "markdown",
   "id": "b23094f3-2e43-48bc-b89b-aba6bdb685ff",
   "metadata": {},
   "source": [
    "C'est fait pour le genre. "
   ]
  },
  {
   "cell_type": "markdown",
   "id": "51b52565-f57d-46a6-b5a2-21e6126d0ea9",
   "metadata": {},
   "source": [
    "Faisons le ménage dans les non-réponses et dans les outliers :"
   ]
  },
  {
   "cell_type": "code",
   "execution_count": 33,
   "id": "35ef51a1-2dc2-4a3a-9182-406d12d3ae18",
   "metadata": {
    "tags": []
   },
   "outputs": [],
   "source": [
    "BC=BC.dropna(subset=['Q8v2part2','Q9bv2part2']) #On supprime les personnes qui n'ont pas répondu aux questions sur les anticipations d'inflation. "
   ]
  },
  {
   "cell_type": "markdown",
   "id": "b29b2847-9586-4e74-8850-0c816ab1c8e1",
   "metadata": {},
   "source": [
    "Supprimons les outl"
   ]
  },
  {
   "cell_type": "code",
   "execution_count": 38,
   "id": "5a8746aa-8a07-4b18-ae76-9a3bc5b584cf",
   "metadata": {
    "tags": []
   },
   "outputs": [],
   "source": [
    "test=BC[BC['Q8v2part2']<=20]\n",
    "test=test[test['Q8v2part2']>=-20]"
   ]
  },
  {
   "cell_type": "code",
   "execution_count": null,
   "id": "475588a4-bc33-416f-aa95-5ef73acf4e91",
   "metadata": {
    "tags": []
   },
   "outputs": [],
   "source": [
    "max(test['Q8v2part2'])"
   ]
  },
  {
   "cell_type": "code",
   "execution_count": null,
   "id": "8d79a9f9-cccd-46a5-8e63-81ff91b79c3e",
   "metadata": {
    "tags": []
   },
   "outputs": [],
   "source": [
    "model = OLS(BC['Q8v2part2'].astype('float'),BC['fem'].astype('float'))\n",
    "results = model.fit()\n",
    "su = results.summary()\n",
    "su"
   ]
  },
  {
   "cell_type": "markdown",
   "id": "d5910f36-994e-40fe-aefe-9ab0b7e2ebbf",
   "metadata": {},
   "source": [
    "Calcul de l'inflation :"
   ]
  },
  {
   "cell_type": "code",
   "execution_count": 39,
   "id": "237dc92f-5f61-4aaf-a577-9392c3afc168",
   "metadata": {
    "tags": []
   },
   "outputs": [],
   "source": [
    "inflation_US = OECD[(OECD['Country'] == \"United States\") & (OECD['Subject2'] == \"Consumer prices: all items\")]\n",
    "inflation_US2 = pd.DataFrame({\n",
    "    'day': pd.to_datetime(inflation_US['Time'], format='%Y-%m-%d'),\n",
    "    'Inflation': inflation_US['Value'].astype(float)\n",
    "})\n",
    "\n",
    "inflation_US3 = pd.DataFrame({\n",
    "    'date': inflation_US2['day'],\n",
    "    'tx_evol_ann_pct': (inflation_US2['Inflation'] / inflation_US2['Inflation'].shift(12) - 1) * 100\n",
    "})\n"
   ]
  },
  {
   "cell_type": "code",
   "execution_count": 36,
   "id": "14793a68-4393-4469-a20f-ee96da06259c",
   "metadata": {
    "tags": []
   },
   "outputs": [],
   "source": [
    "test['inflation t']=0"
   ]
  },
  {
   "cell_type": "code",
   "execution_count": 42,
   "id": "3bf5ac15-aa46-48ca-82fe-76858e7e30cb",
   "metadata": {
    "tags": []
   },
   "outputs": [],
   "source": [
    "df3 = pd.merge(test,inflation_US3,how='outer',left_on=['date'],right_on=['date'])\n"
   ]
  },
  {
   "cell_type": "code",
   "execution_count": 45,
   "id": "f543142a-b97e-4e62-9200-c046aafb5476",
   "metadata": {
    "tags": []
   },
   "outputs": [],
   "source": [
    "df3=df3[df3['Q1'].notnull()]"
   ]
  },
  {
   "cell_type": "code",
   "execution_count": 47,
   "id": "0d3dacb9-4d2e-493f-bf2b-a6584f13cfaf",
   "metadata": {
    "tags": []
   },
   "outputs": [],
   "source": [
    "BF=df3"
   ]
  },
  {
   "cell_type": "markdown",
   "id": "2165e371-8380-4bd8-a600-fa6cfb5c4393",
   "metadata": {},
   "source": [
    "## Définition d'un indicateur d'instabilité personelle :"
   ]
  },
  {
   "cell_type": "markdown",
   "id": "dd60b985-feda-4e13-a3c1-6657c9a748a7",
   "metadata": {},
   "source": [
    "On va définir les variables qu'il serait pertinent d'inclure : \n",
    "- Q3 : proba changement de résidence dans les douze prochain mois\n",
    "- Q10 : 3 : chomeurs\n",
    "- Q13new: proba de changer d'emploi\n",
    "- Q25v2 : 3 : anticipe baisse de revenus\n",
    "- Q30new : proba de ne pas réussir à payer un prêt\n",
    "\n"
   ]
  },
  {
   "cell_type": "code",
   "execution_count": 51,
   "id": "5419a79f-d28d-4b2c-8dcf-d6edcae09527",
   "metadata": {
    "tags": []
   },
   "outputs": [
    {
     "ename": "TypeError",
     "evalue": "'Index' object is not callable",
     "output_type": "error",
     "traceback": [
      "\u001b[0;31m---------------------------------------------------------------------------\u001b[0m",
      "\u001b[0;31mTypeError\u001b[0m                                 Traceback (most recent call last)",
      "Cell \u001b[0;32mIn[51], line 1\u001b[0m\n\u001b[0;32m----> 1\u001b[0m \u001b[38;5;28mlist\u001b[39m(\u001b[43mBF\u001b[49m\u001b[38;5;241;43m.\u001b[39;49m\u001b[43mcolumns\u001b[49m\u001b[43m(\u001b[49m\u001b[43m)\u001b[49m)\n",
      "\u001b[0;31mTypeError\u001b[0m: 'Index' object is not callable"
     ]
    }
   ],
   "source": [
    "list(BF.columns())"
   ]
  },
  {
   "cell_type": "code",
   "execution_count": 57,
   "id": "7fd21c60-6576-402a-a768-7d9ed5ddfb30",
   "metadata": {
    "tags": []
   },
   "outputs": [
    {
     "name": "stderr",
     "output_type": "stream",
     "text": [
      "/tmp/ipykernel_198/1550918160.py:1: SettingWithCopyWarning: \n",
      "A value is trying to be set on a copy of a slice from a DataFrame.\n",
      "Try using .loc[row_indexer,col_indexer] = value instead\n",
      "\n",
      "See the caveats in the documentation: https://pandas.pydata.org/pandas-docs/stable/user_guide/indexing.html#returning-a-view-versus-a-copy\n",
      "  BF.loc[BF['Q25v2']==3, 'loss expectation'] = 1\n"
     ]
    }
   ],
   "source": [
    "BF.loc[BF['Q25v2']==3, 'loss expectation'] = 1 #On binarise le fait d'anticiper une baisse de ses revenus\n"
   ]
  },
  {
   "cell_type": "code",
   "execution_count": 63,
   "id": "a9950aff-d408-496d-a042-83aacb651ce3",
   "metadata": {
    "tags": []
   },
   "outputs": [
    {
     "data": {
      "text/html": [
       "<div>\n",
       "<style scoped>\n",
       "    .dataframe tbody tr th:only-of-type {\n",
       "        vertical-align: middle;\n",
       "    }\n",
       "\n",
       "    .dataframe tbody tr th {\n",
       "        vertical-align: top;\n",
       "    }\n",
       "\n",
       "    .dataframe thead th {\n",
       "        text-align: right;\n",
       "    }\n",
       "</style>\n",
       "<table border=\"1\" class=\"dataframe\">\n",
       "  <thead>\n",
       "    <tr style=\"text-align: right;\">\n",
       "      <th></th>\n",
       "      <th>date</th>\n",
       "      <th>userid</th>\n",
       "      <th>tenure</th>\n",
       "      <th>weight</th>\n",
       "      <th>Q1</th>\n",
       "      <th>Q2</th>\n",
       "      <th>Q3</th>\n",
       "      <th>Q4new</th>\n",
       "      <th>Q5new</th>\n",
       "      <th>Q6new</th>\n",
       "      <th>...</th>\n",
       "      <th>Under 40</th>\n",
       "      <th>50k to 100k</th>\n",
       "      <th>Over 100k</th>\n",
       "      <th>Under 50k</th>\n",
       "      <th>High</th>\n",
       "      <th>Low</th>\n",
       "      <th>fem</th>\n",
       "      <th>tx_evol_ann_pct</th>\n",
       "      <th>indic_perso</th>\n",
       "      <th>loss expectation</th>\n",
       "    </tr>\n",
       "  </thead>\n",
       "  <tbody>\n",
       "    <tr>\n",
       "      <th>0</th>\n",
       "      <td>2013-06-01</td>\n",
       "      <td>70000220</td>\n",
       "      <td>6</td>\n",
       "      <td>16.327999</td>\n",
       "      <td>3</td>\n",
       "      <td>3</td>\n",
       "      <td>50</td>\n",
       "      <td>20</td>\n",
       "      <td>10</td>\n",
       "      <td>15</td>\n",
       "      <td>...</td>\n",
       "      <td>1.0</td>\n",
       "      <td>0.0</td>\n",
       "      <td>0.0</td>\n",
       "      <td>1.0</td>\n",
       "      <td>1.0</td>\n",
       "      <td>0.0</td>\n",
       "      <td>1.0</td>\n",
       "      <td>1.754417</td>\n",
       "      <td>0.4500</td>\n",
       "      <td>1.0</td>\n",
       "    </tr>\n",
       "    <tr>\n",
       "      <th>1</th>\n",
       "      <td>2013-06-01</td>\n",
       "      <td>70000224</td>\n",
       "      <td>7</td>\n",
       "      <td>0.228</td>\n",
       "      <td>4</td>\n",
       "      <td>4</td>\n",
       "      <td>25</td>\n",
       "      <td>10</td>\n",
       "      <td>25</td>\n",
       "      <td>75</td>\n",
       "      <td>...</td>\n",
       "      <td>0.0</td>\n",
       "      <td>0.0</td>\n",
       "      <td>1.0</td>\n",
       "      <td>0.0</td>\n",
       "      <td>1.0</td>\n",
       "      <td>0.0</td>\n",
       "      <td>0.0</td>\n",
       "      <td>1.754417</td>\n",
       "      <td>0.0625</td>\n",
       "      <td>NaN</td>\n",
       "    </tr>\n",
       "    <tr>\n",
       "      <th>2</th>\n",
       "      <td>2013-06-01</td>\n",
       "      <td>70000234</td>\n",
       "      <td>6</td>\n",
       "      <td>4.066</td>\n",
       "      <td>4</td>\n",
       "      <td>3</td>\n",
       "      <td>3</td>\n",
       "      <td>9</td>\n",
       "      <td>20</td>\n",
       "      <td>20</td>\n",
       "      <td>...</td>\n",
       "      <td>0.0</td>\n",
       "      <td>0.0</td>\n",
       "      <td>1.0</td>\n",
       "      <td>0.0</td>\n",
       "      <td>1.0</td>\n",
       "      <td>0.0</td>\n",
       "      <td>1.0</td>\n",
       "      <td>1.754417</td>\n",
       "      <td>0.2500</td>\n",
       "      <td>NaN</td>\n",
       "    </tr>\n",
       "    <tr>\n",
       "      <th>3</th>\n",
       "      <td>2013-06-01</td>\n",
       "      <td>70000238</td>\n",
       "      <td>6</td>\n",
       "      <td>3.035</td>\n",
       "      <td>3</td>\n",
       "      <td>3</td>\n",
       "      <td>0</td>\n",
       "      <td>10</td>\n",
       "      <td>5</td>\n",
       "      <td>70</td>\n",
       "      <td>...</td>\n",
       "      <td>0.0</td>\n",
       "      <td>0.0</td>\n",
       "      <td>0.0</td>\n",
       "      <td>1.0</td>\n",
       "      <td>0.0</td>\n",
       "      <td>1.0</td>\n",
       "      <td>0.0</td>\n",
       "      <td>1.754417</td>\n",
       "      <td>0.0000</td>\n",
       "      <td>NaN</td>\n",
       "    </tr>\n",
       "    <tr>\n",
       "      <th>4</th>\n",
       "      <td>2013-06-01</td>\n",
       "      <td>70000239</td>\n",
       "      <td>7</td>\n",
       "      <td>1.947</td>\n",
       "      <td>2</td>\n",
       "      <td>3</td>\n",
       "      <td>10</td>\n",
       "      <td>20</td>\n",
       "      <td>20</td>\n",
       "      <td>50</td>\n",
       "      <td>...</td>\n",
       "      <td>0.0</td>\n",
       "      <td>0.0</td>\n",
       "      <td>0.0</td>\n",
       "      <td>1.0</td>\n",
       "      <td>0.0</td>\n",
       "      <td>1.0</td>\n",
       "      <td>1.0</td>\n",
       "      <td>1.754417</td>\n",
       "      <td>0.3625</td>\n",
       "      <td>1.0</td>\n",
       "    </tr>\n",
       "    <tr>\n",
       "      <th>...</th>\n",
       "      <td>...</td>\n",
       "      <td>...</td>\n",
       "      <td>...</td>\n",
       "      <td>...</td>\n",
       "      <td>...</td>\n",
       "      <td>...</td>\n",
       "      <td>...</td>\n",
       "      <td>...</td>\n",
       "      <td>...</td>\n",
       "      <td>...</td>\n",
       "      <td>...</td>\n",
       "      <td>...</td>\n",
       "      <td>...</td>\n",
       "      <td>...</td>\n",
       "      <td>...</td>\n",
       "      <td>...</td>\n",
       "      <td>...</td>\n",
       "      <td>...</td>\n",
       "      <td>...</td>\n",
       "      <td>...</td>\n",
       "      <td>...</td>\n",
       "    </tr>\n",
       "    <tr>\n",
       "      <th>128512</th>\n",
       "      <td>2022-04-01</td>\n",
       "      <td>75005974</td>\n",
       "      <td>1</td>\n",
       "      <td>0.556409</td>\n",
       "      <td>4</td>\n",
       "      <td>3</td>\n",
       "      <td>3</td>\n",
       "      <td>72</td>\n",
       "      <td>90</td>\n",
       "      <td>51</td>\n",
       "      <td>...</td>\n",
       "      <td>0.0</td>\n",
       "      <td>0.0</td>\n",
       "      <td>1.0</td>\n",
       "      <td>0.0</td>\n",
       "      <td>1.0</td>\n",
       "      <td>0.0</td>\n",
       "      <td>0.0</td>\n",
       "      <td>8.258629</td>\n",
       "      <td>0.0075</td>\n",
       "      <td>NaN</td>\n",
       "    </tr>\n",
       "    <tr>\n",
       "      <th>128513</th>\n",
       "      <td>2022-04-01</td>\n",
       "      <td>75005980</td>\n",
       "      <td>1</td>\n",
       "      <td>0.708391</td>\n",
       "      <td>2</td>\n",
       "      <td>3</td>\n",
       "      <td>34</td>\n",
       "      <td>22</td>\n",
       "      <td>86</td>\n",
       "      <td>54</td>\n",
       "      <td>...</td>\n",
       "      <td>0.0</td>\n",
       "      <td>1.0</td>\n",
       "      <td>0.0</td>\n",
       "      <td>0.0</td>\n",
       "      <td>1.0</td>\n",
       "      <td>0.0</td>\n",
       "      <td>1.0</td>\n",
       "      <td>8.258629</td>\n",
       "      <td>0.3350</td>\n",
       "      <td>1.0</td>\n",
       "    </tr>\n",
       "    <tr>\n",
       "      <th>128514</th>\n",
       "      <td>2022-04-01</td>\n",
       "      <td>75005987</td>\n",
       "      <td>1</td>\n",
       "      <td>0.915896</td>\n",
       "      <td>2</td>\n",
       "      <td>4</td>\n",
       "      <td>81</td>\n",
       "      <td>70</td>\n",
       "      <td>51</td>\n",
       "      <td>47</td>\n",
       "      <td>...</td>\n",
       "      <td>1.0</td>\n",
       "      <td>0.0</td>\n",
       "      <td>0.0</td>\n",
       "      <td>1.0</td>\n",
       "      <td>0.0</td>\n",
       "      <td>1.0</td>\n",
       "      <td>1.0</td>\n",
       "      <td>8.258629</td>\n",
       "      <td>0.6050</td>\n",
       "      <td>NaN</td>\n",
       "    </tr>\n",
       "    <tr>\n",
       "      <th>128515</th>\n",
       "      <td>2022-04-01</td>\n",
       "      <td>75005995</td>\n",
       "      <td>1</td>\n",
       "      <td>0.888988</td>\n",
       "      <td>4</td>\n",
       "      <td>4</td>\n",
       "      <td>95</td>\n",
       "      <td>5</td>\n",
       "      <td>5</td>\n",
       "      <td>5</td>\n",
       "      <td>...</td>\n",
       "      <td>1.0</td>\n",
       "      <td>1.0</td>\n",
       "      <td>0.0</td>\n",
       "      <td>0.0</td>\n",
       "      <td>0.0</td>\n",
       "      <td>1.0</td>\n",
       "      <td>1.0</td>\n",
       "      <td>8.258629</td>\n",
       "      <td>0.2525</td>\n",
       "      <td>NaN</td>\n",
       "    </tr>\n",
       "    <tr>\n",
       "      <th>128516</th>\n",
       "      <td>2022-04-01</td>\n",
       "      <td>75005996</td>\n",
       "      <td>1</td>\n",
       "      <td>0.97863</td>\n",
       "      <td>1</td>\n",
       "      <td>3</td>\n",
       "      <td>1</td>\n",
       "      <td>50</td>\n",
       "      <td>30</td>\n",
       "      <td>40</td>\n",
       "      <td>...</td>\n",
       "      <td>0.0</td>\n",
       "      <td>0.0</td>\n",
       "      <td>0.0</td>\n",
       "      <td>1.0</td>\n",
       "      <td>0.0</td>\n",
       "      <td>1.0</td>\n",
       "      <td>0.0</td>\n",
       "      <td>8.258629</td>\n",
       "      <td>0.0300</td>\n",
       "      <td>NaN</td>\n",
       "    </tr>\n",
       "  </tbody>\n",
       "</table>\n",
       "<p>128471 rows × 235 columns</p>\n",
       "</div>"
      ],
      "text/plain": [
       "             date    userid tenure     weight Q1 Q2  Q3 Q4new Q5new Q6new  \\\n",
       "0      2013-06-01  70000220      6  16.327999  3  3  50    20    10    15   \n",
       "1      2013-06-01  70000224      7      0.228  4  4  25    10    25    75   \n",
       "2      2013-06-01  70000234      6      4.066  4  3   3     9    20    20   \n",
       "3      2013-06-01  70000238      6      3.035  3  3   0    10     5    70   \n",
       "4      2013-06-01  70000239      7      1.947  2  3  10    20    20    50   \n",
       "...           ...       ...    ...        ... .. ..  ..   ...   ...   ...   \n",
       "128512 2022-04-01  75005974      1   0.556409  4  3   3    72    90    51   \n",
       "128513 2022-04-01  75005980      1   0.708391  2  3  34    22    86    54   \n",
       "128514 2022-04-01  75005987      1   0.915896  2  4  81    70    51    47   \n",
       "128515 2022-04-01  75005995      1   0.888988  4  4  95     5     5     5   \n",
       "128516 2022-04-01  75005996      1    0.97863  1  3   1    50    30    40   \n",
       "\n",
       "        ... Under 40 50k to 100k Over 100k Under 50k High  Low  fem  \\\n",
       "0       ...      1.0         0.0       0.0       1.0  1.0  0.0  1.0   \n",
       "1       ...      0.0         0.0       1.0       0.0  1.0  0.0  0.0   \n",
       "2       ...      0.0         0.0       1.0       0.0  1.0  0.0  1.0   \n",
       "3       ...      0.0         0.0       0.0       1.0  0.0  1.0  0.0   \n",
       "4       ...      0.0         0.0       0.0       1.0  0.0  1.0  1.0   \n",
       "...     ...      ...         ...       ...       ...  ...  ...  ...   \n",
       "128512  ...      0.0         0.0       1.0       0.0  1.0  0.0  0.0   \n",
       "128513  ...      0.0         1.0       0.0       0.0  1.0  0.0  1.0   \n",
       "128514  ...      1.0         0.0       0.0       1.0  0.0  1.0  1.0   \n",
       "128515  ...      1.0         1.0       0.0       0.0  0.0  1.0  1.0   \n",
       "128516  ...      0.0         0.0       0.0       1.0  0.0  1.0  0.0   \n",
       "\n",
       "       tx_evol_ann_pct indic_perso loss expectation  \n",
       "0             1.754417      0.4500              1.0  \n",
       "1             1.754417      0.0625              NaN  \n",
       "2             1.754417      0.2500              NaN  \n",
       "3             1.754417      0.0000              NaN  \n",
       "4             1.754417      0.3625              1.0  \n",
       "...                ...         ...              ...  \n",
       "128512        8.258629      0.0075              NaN  \n",
       "128513        8.258629      0.3350              1.0  \n",
       "128514        8.258629      0.6050              NaN  \n",
       "128515        8.258629      0.2525              NaN  \n",
       "128516        8.258629      0.0300              NaN  \n",
       "\n",
       "[128471 rows x 235 columns]"
      ]
     },
     "execution_count": 63,
     "metadata": {},
     "output_type": "execute_result"
    }
   ],
   "source": [
    "BF"
   ]
  },
  {
   "cell_type": "code",
   "execution_count": 62,
   "id": "86f30878-9033-4860-b024-883d61509243",
   "metadata": {
    "tags": []
   },
   "outputs": [
    {
     "name": "stderr",
     "output_type": "stream",
     "text": [
      "/tmp/ipykernel_198/2647366474.py:1: SettingWithCopyWarning: \n",
      "A value is trying to be set on a copy of a slice from a DataFrame.\n",
      "Try using .loc[row_indexer,col_indexer] = value instead\n",
      "\n",
      "See the caveats in the documentation: https://pandas.pydata.org/pandas-docs/stable/user_guide/indexing.html#returning-a-view-versus-a-copy\n",
      "  BF['indic_perso']=(BF.fillna(0)['Q3']/100+BF.fillna(0)['Q10_3']+BF.fillna(0)['Q13new']/100+BF.fillna(0)['loss expectation']+BF.fillna(0)['Q30new']/100)/4\n"
     ]
    }
   ],
   "source": [
    "BF['indic_perso']=(BF.fillna(0)['Q3']/100+BF.fillna(0)['Q10_3']+BF.fillna(0)['Q13new']/100+BF.fillna(0)['loss expectation']+BF.fillna(0)['Q30new']/100)/4"
   ]
  },
  {
   "cell_type": "markdown",
   "id": "977d48f8-7fcc-4ae2-99e5-33e9d72cf361",
   "metadata": {},
   "source": [
    "Faisons quelques statistiques descriptives dessus :"
   ]
  },
  {
   "cell_type": "code",
   "execution_count": 71,
   "id": "9b84b098-4058-40ed-becc-ef02b21e8c43",
   "metadata": {
    "tags": []
   },
   "outputs": [],
   "source": [
    "import statistics as stat"
   ]
  },
  {
   "cell_type": "code",
   "execution_count": 74,
   "id": "a8b3eceb-1b8e-46d9-ba6d-bcd6349cb171",
   "metadata": {
    "tags": []
   },
   "outputs": [
    {
     "data": {
      "text/plain": [
       "0.13070439145799442"
      ]
     },
     "execution_count": 74,
     "metadata": {},
     "output_type": "execute_result"
    }
   ],
   "source": [
    "stat.median(BF['indic_perso'])"
   ]
  },
  {
   "cell_type": "code",
   "execution_count": 75,
   "id": "45622a8c-07f9-40a2-8279-2b2d4d6cd16e",
   "metadata": {
    "tags": []
   },
   "outputs": [
    {
     "data": {
      "text/plain": [
       "0.13070439145799442"
      ]
     },
     "execution_count": 75,
     "metadata": {},
     "output_type": "execute_result"
    }
   ],
   "source": [
    "stat.mean(BF['indic_perso'])"
   ]
  },
  {
   "cell_type": "code",
   "execution_count": 82,
   "id": "c0499c1b-76fb-47ca-874a-809f23b690ae",
   "metadata": {
    "tags": []
   },
   "outputs": [],
   "source": [
    "def weighted_average(dataframe, value, weight):\n",
    "    val = dataframe[value]\n",
    "    wt = dataframe[weight]\n",
    "    return (val * wt).sum() / wt.sum()\n"
   ]
  },
  {
   "cell_type": "code",
   "execution_count": 83,
   "id": "0aa358d9-727d-4b15-b1a7-922ddd52ca41",
   "metadata": {
    "tags": []
   },
   "outputs": [
    {
     "data": {
      "text/plain": [
       "0.1328481600245835"
      ]
     },
     "execution_count": 83,
     "metadata": {},
     "output_type": "execute_result"
    }
   ],
   "source": [
    "weighted_average(BF, 'indic_perso', 'weight')"
   ]
  },
  {
   "cell_type": "code",
   "execution_count": 85,
   "id": "b47f5223-b201-4ca4-b2e6-252f1817eb22",
   "metadata": {
    "tags": []
   },
   "outputs": [
    {
     "data": {
      "text/plain": [
       "0.15247634164189267"
      ]
     },
     "execution_count": 85,
     "metadata": {},
     "output_type": "execute_result"
    }
   ],
   "source": [
    "stat.pstdev(BF['indic_perso'])"
   ]
  },
  {
   "cell_type": "code",
   "execution_count": 104,
   "id": "5adb1129-80a7-4c2b-969d-c03377f83285",
   "metadata": {
    "tags": []
   },
   "outputs": [
    {
     "data": {
      "text/plain": [
       "128471"
      ]
     },
     "execution_count": 104,
     "metadata": {},
     "output_type": "execute_result"
    }
   ],
   "source": [
    "len(BF['Q8v2part2'])"
   ]
  },
  {
   "cell_type": "code",
   "execution_count": 115,
   "id": "3b8088ba-2a84-47f1-9940-cf7d92f0a40c",
   "metadata": {
    "tags": []
   },
   "outputs": [
    {
     "data": {
      "text/html": [
       "<table class=\"simpletable\">\n",
       "<caption>OLS Regression Results</caption>\n",
       "<tr>\n",
       "  <th>Dep. Variable:</th>        <td>Q8v2part2</td>    <th>  R-squared:         </th>  <td>   0.023</td>  \n",
       "</tr>\n",
       "<tr>\n",
       "  <th>Model:</th>                   <td>OLS</td>       <th>  Adj. R-squared:    </th>  <td>   0.023</td>  \n",
       "</tr>\n",
       "<tr>\n",
       "  <th>Method:</th>             <td>Least Squares</td>  <th>  F-statistic:       </th>  <td>   1529.</td>  \n",
       "</tr>\n",
       "<tr>\n",
       "  <th>Date:</th>             <td>Thu, 09 Mar 2023</td> <th>  Prob (F-statistic):</th>   <td>  0.00</td>   \n",
       "</tr>\n",
       "<tr>\n",
       "  <th>Time:</th>                 <td>21:54:21</td>     <th>  Log-Likelihood:    </th> <td>-3.9227e+05</td>\n",
       "</tr>\n",
       "<tr>\n",
       "  <th>No. Observations:</th>      <td>128471</td>      <th>  AIC:               </th>  <td>7.845e+05</td> \n",
       "</tr>\n",
       "<tr>\n",
       "  <th>Df Residuals:</th>          <td>128468</td>      <th>  BIC:               </th>  <td>7.846e+05</td> \n",
       "</tr>\n",
       "<tr>\n",
       "  <th>Df Model:</th>              <td>     2</td>      <th>                     </th>      <td> </td>     \n",
       "</tr>\n",
       "<tr>\n",
       "  <th>Covariance Type:</th>      <td>nonrobust</td>    <th>                     </th>      <td> </td>     \n",
       "</tr>\n",
       "</table>\n",
       "<table class=\"simpletable\">\n",
       "<tr>\n",
       "         <td></td>            <th>coef</th>     <th>std err</th>      <th>t</th>      <th>P>|t|</th>  <th>[0.025</th>    <th>0.975]</th>  \n",
       "</tr>\n",
       "<tr>\n",
       "  <th>const</th>           <td>    2.9990</td> <td>    0.026</td> <td>  116.671</td> <td> 0.000</td> <td>    2.949</td> <td>    3.049</td>\n",
       "</tr>\n",
       "<tr>\n",
       "  <th>tx_evol_ann_pct</th> <td>    0.4303</td> <td>    0.008</td> <td>   52.656</td> <td> 0.000</td> <td>    0.414</td> <td>    0.446</td>\n",
       "</tr>\n",
       "<tr>\n",
       "  <th>indic_perso</th>     <td>    1.7745</td> <td>    0.094</td> <td>   18.903</td> <td> 0.000</td> <td>    1.591</td> <td>    1.958</td>\n",
       "</tr>\n",
       "</table>\n",
       "<table class=\"simpletable\">\n",
       "<tr>\n",
       "  <th>Omnibus:</th>       <td>13278.796</td> <th>  Durbin-Watson:     </th>  <td>   1.976</td> \n",
       "</tr>\n",
       "<tr>\n",
       "  <th>Prob(Omnibus):</th>  <td> 0.000</td>   <th>  Jarque-Bera (JB):  </th> <td>110552.503</td>\n",
       "</tr>\n",
       "<tr>\n",
       "  <th>Skew:</th>           <td> 0.108</td>   <th>  Prob(JB):          </th>  <td>    0.00</td> \n",
       "</tr>\n",
       "<tr>\n",
       "  <th>Kurtosis:</th>       <td> 7.539</td>   <th>  Cond. No.          </th>  <td>    18.8</td> \n",
       "</tr>\n",
       "</table><br/><br/>Notes:<br/>[1] Standard Errors assume that the covariance matrix of the errors is correctly specified."
      ],
      "text/plain": [
       "<class 'statsmodels.iolib.summary.Summary'>\n",
       "\"\"\"\n",
       "                            OLS Regression Results                            \n",
       "==============================================================================\n",
       "Dep. Variable:              Q8v2part2   R-squared:                       0.023\n",
       "Model:                            OLS   Adj. R-squared:                  0.023\n",
       "Method:                 Least Squares   F-statistic:                     1529.\n",
       "Date:                Thu, 09 Mar 2023   Prob (F-statistic):               0.00\n",
       "Time:                        21:54:21   Log-Likelihood:            -3.9227e+05\n",
       "No. Observations:              128471   AIC:                         7.845e+05\n",
       "Df Residuals:                  128468   BIC:                         7.846e+05\n",
       "Df Model:                           2                                         \n",
       "Covariance Type:            nonrobust                                         \n",
       "===================================================================================\n",
       "                      coef    std err          t      P>|t|      [0.025      0.975]\n",
       "-----------------------------------------------------------------------------------\n",
       "const               2.9990      0.026    116.671      0.000       2.949       3.049\n",
       "tx_evol_ann_pct     0.4303      0.008     52.656      0.000       0.414       0.446\n",
       "indic_perso         1.7745      0.094     18.903      0.000       1.591       1.958\n",
       "==============================================================================\n",
       "Omnibus:                    13278.796   Durbin-Watson:                   1.976\n",
       "Prob(Omnibus):                  0.000   Jarque-Bera (JB):           110552.503\n",
       "Skew:                           0.108   Prob(JB):                         0.00\n",
       "Kurtosis:                       7.539   Cond. No.                         18.8\n",
       "==============================================================================\n",
       "\n",
       "Notes:\n",
       "[1] Standard Errors assume that the covariance matrix of the errors is correctly specified.\n",
       "\"\"\""
      ]
     },
     "execution_count": 115,
     "metadata": {},
     "output_type": "execute_result"
    }
   ],
   "source": [
    "Y = BF['Q8v2part2'].astype('float')\n",
    "X = BF.fillna(0)[['tx_evol_ann_pct','indic_perso']]\n",
    "X = sm.add_constant(X)\n",
    "model = sm.OLS(Y,X)\n",
    "results = model.fit()\n",
    "su = results.summary()\n",
    "su"
   ]
  },
  {
   "cell_type": "markdown",
   "id": "5ab8c05e-1b5e-4c5d-80ec-cad2395cf55b",
   "metadata": {},
   "source": [
    "## Maintenant, essayons de définir un indicateur pour l'instabilité macro :"
   ]
  },
  {
   "cell_type": "markdown",
   "id": "933c58fb-8bf8-4d20-b340-d1f413b5e616",
   "metadata": {},
   "source": [
    "On va noter ici les variables qui pourraient être utiles pour définir un tel indicateur :\n",
    "- Q4new: probabilité d'augmentation du chômage dans les douze prochain mois\n",
    "- Q5new: proba d'une augmentation des taux d'intêret\n",
    "- Q6new: proba d'une augmentation des indices boursiers: 100-Q6new = chance d'une baisse donc\n"
   ]
  },
  {
   "cell_type": "code",
   "execution_count": null,
   "id": "939d428b-47fe-4a71-99dd-86c11b2b7cf8",
   "metadata": {
    "tags": []
   },
   "outputs": [],
   "source": [
    "BF['indic_macro']=(BF.fillna(0)['Q4new']/100+BF.fillna(0)['Q5new']/100+(100-BF.fillna(0)['Q6new'])/100)/3"
   ]
  },
  {
   "cell_type": "markdown",
   "id": "77ff03ac-f1aa-4f7a-9406-2c33e5e67af8",
   "metadata": {},
   "source": [
    "Maintenant, faisons quelques statistiques descriptives :"
   ]
  },
  {
   "cell_type": "code",
   "execution_count": 120,
   "id": "ade8a8f9-fb8a-4ddb-8b83-2b17e708a382",
   "metadata": {
    "tags": []
   },
   "outputs": [
    {
     "data": {
      "text/plain": [
       "0.41333333333333333"
      ]
     },
     "execution_count": 120,
     "metadata": {},
     "output_type": "execute_result"
    }
   ],
   "source": [
    "stat.median(BF['indic_macro'])"
   ]
  },
  {
   "cell_type": "code",
   "execution_count": 121,
   "id": "4cf1dd7a-f33b-43ba-991c-69801e18ca70",
   "metadata": {
    "tags": []
   },
   "outputs": [
    {
     "data": {
      "text/plain": [
       "0.42187555946478195"
      ]
     },
     "execution_count": 121,
     "metadata": {},
     "output_type": "execute_result"
    }
   ],
   "source": [
    "stat.mean(BF['indic_macro'])"
   ]
  },
  {
   "cell_type": "code",
   "execution_count": 122,
   "id": "b1d976bc-957e-44c3-a289-4b8f05f10ede",
   "metadata": {
    "tags": []
   },
   "outputs": [
    {
     "data": {
      "text/plain": [
       "0.41943502490502443"
      ]
     },
     "execution_count": 122,
     "metadata": {},
     "output_type": "execute_result"
    }
   ],
   "source": [
    "weighted_average(BF, 'indic_macro', 'weight')"
   ]
  },
  {
   "cell_type": "code",
   "execution_count": 123,
   "id": "cfba6da1-0938-46dc-80ee-6b71f4f98a39",
   "metadata": {
    "tags": []
   },
   "outputs": [
    {
     "data": {
      "text/plain": [
       "0.12286288554204154"
      ]
     },
     "execution_count": 123,
     "metadata": {},
     "output_type": "execute_result"
    }
   ],
   "source": [
    "stat.pstdev(BF['indic_macro'])"
   ]
  },
  {
   "cell_type": "code",
   "execution_count": 119,
   "id": "0727c812-d175-4972-9df8-8c1ffd62f8f0",
   "metadata": {
    "tags": []
   },
   "outputs": [
    {
     "data": {
      "text/plain": [
       "0         0.383333\n",
       "1         0.200000\n",
       "2         0.363333\n",
       "3         0.150000\n",
       "4         0.300000\n",
       "            ...   \n",
       "128512    0.703333\n",
       "128513    0.513333\n",
       "128514    0.580000\n",
       "128515    0.350000\n",
       "128516    0.466667\n",
       "Name: indic_macro, Length: 128471, dtype: float64"
      ]
     },
     "execution_count": 119,
     "metadata": {},
     "output_type": "execute_result"
    }
   ],
   "source": [
    "BF['indic_macro']"
   ]
  },
  {
   "cell_type": "code",
   "execution_count": 124,
   "id": "afa4b7ca-8717-4d43-8dc2-e2c33aecb44a",
   "metadata": {
    "tags": []
   },
   "outputs": [
    {
     "data": {
      "text/html": [
       "<table class=\"simpletable\">\n",
       "<caption>OLS Regression Results</caption>\n",
       "<tr>\n",
       "  <th>Dep. Variable:</th>        <td>Q8v2part2</td>    <th>  R-squared:         </th>  <td>   0.027</td>  \n",
       "</tr>\n",
       "<tr>\n",
       "  <th>Model:</th>                   <td>OLS</td>       <th>  Adj. R-squared:    </th>  <td>   0.027</td>  \n",
       "</tr>\n",
       "<tr>\n",
       "  <th>Method:</th>             <td>Least Squares</td>  <th>  F-statistic:       </th>  <td>   1167.</td>  \n",
       "</tr>\n",
       "<tr>\n",
       "  <th>Date:</th>             <td>Fri, 10 Mar 2023</td> <th>  Prob (F-statistic):</th>   <td>  0.00</td>   \n",
       "</tr>\n",
       "<tr>\n",
       "  <th>Time:</th>                 <td>16:32:20</td>     <th>  Log-Likelihood:    </th> <td>-3.9205e+05</td>\n",
       "</tr>\n",
       "<tr>\n",
       "  <th>No. Observations:</th>      <td>128471</td>      <th>  AIC:               </th>  <td>7.841e+05</td> \n",
       "</tr>\n",
       "<tr>\n",
       "  <th>Df Residuals:</th>          <td>128467</td>      <th>  BIC:               </th>  <td>7.841e+05</td> \n",
       "</tr>\n",
       "<tr>\n",
       "  <th>Df Model:</th>              <td>     3</td>      <th>                     </th>      <td> </td>     \n",
       "</tr>\n",
       "<tr>\n",
       "  <th>Covariance Type:</th>      <td>nonrobust</td>    <th>                     </th>      <td> </td>     \n",
       "</tr>\n",
       "</table>\n",
       "<table class=\"simpletable\">\n",
       "<tr>\n",
       "         <td></td>            <th>coef</th>     <th>std err</th>      <th>t</th>      <th>P>|t|</th>  <th>[0.025</th>    <th>0.975]</th>  \n",
       "</tr>\n",
       "<tr>\n",
       "  <th>const</th>           <td>    2.0093</td> <td>    0.054</td> <td>   37.180</td> <td> 0.000</td> <td>    1.903</td> <td>    2.115</td>\n",
       "</tr>\n",
       "<tr>\n",
       "  <th>tx_evol_ann_pct</th> <td>    0.4285</td> <td>    0.008</td> <td>   52.514</td> <td> 0.000</td> <td>    0.412</td> <td>    0.444</td>\n",
       "</tr>\n",
       "<tr>\n",
       "  <th>indic_perso</th>     <td>    1.4846</td> <td>    0.095</td> <td>   15.670</td> <td> 0.000</td> <td>    1.299</td> <td>    1.670</td>\n",
       "</tr>\n",
       "<tr>\n",
       "  <th>indic_macro</th>     <td>    2.4449</td> <td>    0.117</td> <td>   20.808</td> <td> 0.000</td> <td>    2.215</td> <td>    2.675</td>\n",
       "</tr>\n",
       "</table>\n",
       "<table class=\"simpletable\">\n",
       "<tr>\n",
       "  <th>Omnibus:</th>       <td>13293.140</td> <th>  Durbin-Watson:     </th>  <td>   1.974</td> \n",
       "</tr>\n",
       "<tr>\n",
       "  <th>Prob(Omnibus):</th>  <td> 0.000</td>   <th>  Jarque-Bera (JB):  </th> <td>110904.274</td>\n",
       "</tr>\n",
       "<tr>\n",
       "  <th>Skew:</th>           <td> 0.107</td>   <th>  Prob(JB):          </th>  <td>    0.00</td> \n",
       "</tr>\n",
       "<tr>\n",
       "  <th>Kurtosis:</th>       <td> 7.547</td>   <th>  Cond. No.          </th>  <td>    25.6</td> \n",
       "</tr>\n",
       "</table><br/><br/>Notes:<br/>[1] Standard Errors assume that the covariance matrix of the errors is correctly specified."
      ],
      "text/plain": [
       "<class 'statsmodels.iolib.summary.Summary'>\n",
       "\"\"\"\n",
       "                            OLS Regression Results                            \n",
       "==============================================================================\n",
       "Dep. Variable:              Q8v2part2   R-squared:                       0.027\n",
       "Model:                            OLS   Adj. R-squared:                  0.027\n",
       "Method:                 Least Squares   F-statistic:                     1167.\n",
       "Date:                Fri, 10 Mar 2023   Prob (F-statistic):               0.00\n",
       "Time:                        16:32:20   Log-Likelihood:            -3.9205e+05\n",
       "No. Observations:              128471   AIC:                         7.841e+05\n",
       "Df Residuals:                  128467   BIC:                         7.841e+05\n",
       "Df Model:                           3                                         \n",
       "Covariance Type:            nonrobust                                         \n",
       "===================================================================================\n",
       "                      coef    std err          t      P>|t|      [0.025      0.975]\n",
       "-----------------------------------------------------------------------------------\n",
       "const               2.0093      0.054     37.180      0.000       1.903       2.115\n",
       "tx_evol_ann_pct     0.4285      0.008     52.514      0.000       0.412       0.444\n",
       "indic_perso         1.4846      0.095     15.670      0.000       1.299       1.670\n",
       "indic_macro         2.4449      0.117     20.808      0.000       2.215       2.675\n",
       "==============================================================================\n",
       "Omnibus:                    13293.140   Durbin-Watson:                   1.974\n",
       "Prob(Omnibus):                  0.000   Jarque-Bera (JB):           110904.274\n",
       "Skew:                           0.107   Prob(JB):                         0.00\n",
       "Kurtosis:                       7.547   Cond. No.                         25.6\n",
       "==============================================================================\n",
       "\n",
       "Notes:\n",
       "[1] Standard Errors assume that the covariance matrix of the errors is correctly specified.\n",
       "\"\"\""
      ]
     },
     "execution_count": 124,
     "metadata": {},
     "output_type": "execute_result"
    }
   ],
   "source": [
    "Y = BF['Q8v2part2'].astype('float')\n",
    "X = BF.fillna(0)[['tx_evol_ann_pct','indic_perso','indic_macro']]\n",
    "X = sm.add_constant(X)\n",
    "model = sm.OLS(Y,X)\n",
    "results = model.fit()\n",
    "su = results.summary()\n",
    "su"
   ]
  }
 ],
 "metadata": {
  "kernelspec": {
   "display_name": "Python 3 (ipykernel)",
   "language": "python",
   "name": "python3"
  },
  "language_info": {
   "codemirror_mode": {
    "name": "ipython",
    "version": 3
   },
   "file_extension": ".py",
   "mimetype": "text/x-python",
   "name": "python",
   "nbconvert_exporter": "python",
   "pygments_lexer": "ipython3",
   "version": "3.10.8"
  }
 },
 "nbformat": 4,
 "nbformat_minor": 5
}
