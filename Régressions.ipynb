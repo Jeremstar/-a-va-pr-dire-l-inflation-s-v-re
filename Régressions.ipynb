{
 "cells": [
  {
   "cell_type": "markdown",
   "id": "c2a9d55b-bb7f-432d-9e65-f6b84bccd5db",
   "metadata": {},
   "source": [
    "# Importation des données :"
   ]
  },
  {
   "cell_type": "code",
   "execution_count": 1,
   "id": "773bc2b7-d978-4d6d-ba33-bd4152b42efa",
   "metadata": {
    "tags": []
   },
   "outputs": [
    {
     "name": "stdout",
     "output_type": "stream",
     "text": [
      "Requirement already satisfied: openpyxl in /opt/mamba/lib/python3.10/site-packages (3.1.1)\n",
      "Requirement already satisfied: et-xmlfile in /opt/mamba/lib/python3.10/site-packages (from openpyxl) (1.1.0)\n",
      "Note: you may need to restart the kernel to use updated packages.\n"
     ]
    }
   ],
   "source": [
    "pip install openpyxl"
   ]
  },
  {
   "cell_type": "code",
   "execution_count": 2,
   "id": "0b69676f-7e58-48d9-8ad8-1cd191871141",
   "metadata": {
    "tags": []
   },
   "outputs": [],
   "source": [
    "import matplotlib.pyplot as plt\n",
    "import seaborn as sns\n",
    "from datetime import datetime, timedelta\n",
    "import pandas as pd\n",
    "import requests\n",
    "import numpy as np \n",
    "from scipy import stats"
   ]
  },
  {
   "cell_type": "code",
   "execution_count": 3,
   "id": "a6152505-a5ab-4c27-88c1-3bb205bcd3c4",
   "metadata": {
    "tags": []
   },
   "outputs": [],
   "source": [
    "OECD = pd.read_excel('données/OECD - short term economic indicators.xlsx')"
   ]
  },
  {
   "cell_type": "code",
   "execution_count": 4,
   "id": "517fef01-6f7f-4dc1-b734-f937569d71d7",
   "metadata": {
    "tags": []
   },
   "outputs": [],
   "source": [
    "IMF = pd.read_excel('données/IMF - monetary policy.xlsx')"
   ]
  },
  {
   "cell_type": "code",
   "execution_count": 5,
   "id": "89ca2ad9-15c3-4814-b45d-4cb624271775",
   "metadata": {
    "tags": []
   },
   "outputs": [],
   "source": [
    "agregated_data=pd.ExcelFile('données/FRBNY-SCE-Data.xlsx')\n",
    "agregated_anticipation= df1=pd.read_excel(agregated_data, 'Inflation expectations')"
   ]
  },
  {
   "cell_type": "code",
   "execution_count": 6,
   "id": "fd3990f4-2877-482a-a73a-95e214f86462",
   "metadata": {
    "tags": []
   },
   "outputs": [],
   "source": [
    "agrant = agregated_anticipation[['Unnamed: 1','Unnamed: 2']].drop([0,1,2]).reset_index().rename(columns={'index':'date','Unnamed: 1':'short exp','Unnamed: 2':'mid exp'})"
   ]
  },
  {
   "cell_type": "code",
   "execution_count": 7,
   "id": "752069e8-378d-4ea0-a126-76a6ba4a1a00",
   "metadata": {
    "tags": []
   },
   "outputs": [],
   "source": [
    "Enq13 = pd.read_excel('https://www.newyorkfed.org/medialibrary/interactives/sce/sce/downloads/data/frbny-sce-public-microdata-complete-13-16.xlsx')"
   ]
  },
  {
   "cell_type": "code",
   "execution_count": 8,
   "id": "7a7fb241-a3ff-420e-a175-f354925069db",
   "metadata": {
    "tags": []
   },
   "outputs": [],
   "source": [
    "Enq17 = pd.read_excel('https://www.newyorkfed.org/medialibrary/interactives/sce/sce/downloads/data/frbny-sce-public-microdata-complete-17-19.xlsx')"
   ]
  },
  {
   "cell_type": "code",
   "execution_count": 9,
   "id": "f38e21b2-3b22-4d53-ba33-c83b548ce221",
   "metadata": {
    "tags": []
   },
   "outputs": [],
   "source": [
    "Latest=pd.ExcelFile('https://www.newyorkfed.org/medialibrary/Interactives/sce/sce/downloads/data/frbny-sce-public-microdata-latest.xlsx')\n",
    "Enq20=pd.read_excel(Latest, 'Data')"
   ]
  },
  {
   "cell_type": "code",
   "execution_count": 10,
   "id": "7f1f495f-9914-4883-941c-cc030f6ff06b",
   "metadata": {
    "tags": []
   },
   "outputs": [
    {
     "data": {
      "text/html": [
       "<div>\n",
       "<style scoped>\n",
       "    .dataframe tbody tr th:only-of-type {\n",
       "        vertical-align: middle;\n",
       "    }\n",
       "\n",
       "    .dataframe tbody tr th {\n",
       "        vertical-align: top;\n",
       "    }\n",
       "\n",
       "    .dataframe thead th {\n",
       "        text-align: right;\n",
       "    }\n",
       "</style>\n",
       "<table border=\"1\" class=\"dataframe\">\n",
       "  <thead>\n",
       "    <tr style=\"text-align: right;\">\n",
       "      <th></th>\n",
       "      <th>Source:  Survey of Consumer Expectations, © 2013-23 Federal Reserve Bank of New York (FRBNY).   The SCE data are available without charge at www.newyorkfed.org and may be used subject to license terms posted there.  FRBNY disclaims any responsibility or legal liability for this analysis and interpretation of Survey of Consumer Expectations data.</th>\n",
       "      <th>Unnamed: 1</th>\n",
       "      <th>Unnamed: 2</th>\n",
       "      <th>Unnamed: 3</th>\n",
       "      <th>Unnamed: 4</th>\n",
       "      <th>Unnamed: 5</th>\n",
       "      <th>Unnamed: 6</th>\n",
       "      <th>Unnamed: 7</th>\n",
       "      <th>Unnamed: 8</th>\n",
       "      <th>Unnamed: 9</th>\n",
       "      <th>...</th>\n",
       "      <th>Unnamed: 210</th>\n",
       "      <th>Unnamed: 211</th>\n",
       "      <th>Unnamed: 212</th>\n",
       "      <th>Unnamed: 213</th>\n",
       "      <th>Unnamed: 214</th>\n",
       "      <th>Unnamed: 215</th>\n",
       "      <th>Unnamed: 216</th>\n",
       "      <th>Unnamed: 217</th>\n",
       "      <th>Unnamed: 218</th>\n",
       "      <th>Unnamed: 219</th>\n",
       "    </tr>\n",
       "  </thead>\n",
       "  <tbody>\n",
       "    <tr>\n",
       "      <th>0</th>\n",
       "      <td>date</td>\n",
       "      <td>userid</td>\n",
       "      <td>tenure</td>\n",
       "      <td>weight</td>\n",
       "      <td>Q1</td>\n",
       "      <td>Q2</td>\n",
       "      <td>Q3</td>\n",
       "      <td>Q4new</td>\n",
       "      <td>Q5new</td>\n",
       "      <td>Q6new</td>\n",
       "      <td>...</td>\n",
       "      <td>Q48</td>\n",
       "      <td>QRA1</td>\n",
       "      <td>QRA2</td>\n",
       "      <td>survey_date</td>\n",
       "      <td>_AGE_CAT</td>\n",
       "      <td>_NUM_CAT</td>\n",
       "      <td>_REGION_CAT</td>\n",
       "      <td>_COMMUTING_ZONE</td>\n",
       "      <td>_EDU_CAT</td>\n",
       "      <td>_HH_INC_CAT</td>\n",
       "    </tr>\n",
       "    <tr>\n",
       "      <th>1</th>\n",
       "      <td>202001</td>\n",
       "      <td>70103231</td>\n",
       "      <td>12</td>\n",
       "      <td>0.81825</td>\n",
       "      <td>4</td>\n",
       "      <td>3</td>\n",
       "      <td>20</td>\n",
       "      <td>62</td>\n",
       "      <td>26</td>\n",
       "      <td>44</td>\n",
       "      <td>...</td>\n",
       "      <td>5</td>\n",
       "      <td>NaN</td>\n",
       "      <td>NaN</td>\n",
       "      <td>2020-01-23 00:00:00</td>\n",
       "      <td>40 to 60</td>\n",
       "      <td>High</td>\n",
       "      <td>West</td>\n",
       "      <td>218</td>\n",
       "      <td>College</td>\n",
       "      <td>Over 100k</td>\n",
       "    </tr>\n",
       "    <tr>\n",
       "      <th>2</th>\n",
       "      <td>202001</td>\n",
       "      <td>70103252</td>\n",
       "      <td>11</td>\n",
       "      <td>2.879998</td>\n",
       "      <td>3</td>\n",
       "      <td>2</td>\n",
       "      <td>1</td>\n",
       "      <td>30</td>\n",
       "      <td>1</td>\n",
       "      <td>10</td>\n",
       "      <td>...</td>\n",
       "      <td>2</td>\n",
       "      <td>NaN</td>\n",
       "      <td>NaN</td>\n",
       "      <td>2020-01-02 00:00:00</td>\n",
       "      <td>40 to 60</td>\n",
       "      <td>Low</td>\n",
       "      <td>Northeast</td>\n",
       "      <td>203</td>\n",
       "      <td>High School</td>\n",
       "      <td>Under 50k</td>\n",
       "    </tr>\n",
       "    <tr>\n",
       "      <th>3</th>\n",
       "      <td>202001</td>\n",
       "      <td>70103258</td>\n",
       "      <td>12</td>\n",
       "      <td>0.549674</td>\n",
       "      <td>4</td>\n",
       "      <td>4</td>\n",
       "      <td>0</td>\n",
       "      <td>3</td>\n",
       "      <td>4</td>\n",
       "      <td>18</td>\n",
       "      <td>...</td>\n",
       "      <td>4</td>\n",
       "      <td>NaN</td>\n",
       "      <td>NaN</td>\n",
       "      <td>2020-01-07 00:00:00</td>\n",
       "      <td>Over 60</td>\n",
       "      <td>High</td>\n",
       "      <td>South</td>\n",
       "      <td>102</td>\n",
       "      <td>College</td>\n",
       "      <td>50k to 100k</td>\n",
       "    </tr>\n",
       "    <tr>\n",
       "      <th>4</th>\n",
       "      <td>202001</td>\n",
       "      <td>70103285</td>\n",
       "      <td>12</td>\n",
       "      <td>0.481746</td>\n",
       "      <td>4</td>\n",
       "      <td>4</td>\n",
       "      <td>10</td>\n",
       "      <td>10</td>\n",
       "      <td>10</td>\n",
       "      <td>10</td>\n",
       "      <td>...</td>\n",
       "      <td>1</td>\n",
       "      <td>NaN</td>\n",
       "      <td>NaN</td>\n",
       "      <td>2020-01-27 00:00:00</td>\n",
       "      <td>Under 40</td>\n",
       "      <td>High</td>\n",
       "      <td>Midwest</td>\n",
       "      <td>100</td>\n",
       "      <td>College</td>\n",
       "      <td>50k to 100k</td>\n",
       "    </tr>\n",
       "    <tr>\n",
       "      <th>...</th>\n",
       "      <td>...</td>\n",
       "      <td>...</td>\n",
       "      <td>...</td>\n",
       "      <td>...</td>\n",
       "      <td>...</td>\n",
       "      <td>...</td>\n",
       "      <td>...</td>\n",
       "      <td>...</td>\n",
       "      <td>...</td>\n",
       "      <td>...</td>\n",
       "      <td>...</td>\n",
       "      <td>...</td>\n",
       "      <td>...</td>\n",
       "      <td>...</td>\n",
       "      <td>...</td>\n",
       "      <td>...</td>\n",
       "      <td>...</td>\n",
       "      <td>...</td>\n",
       "      <td>...</td>\n",
       "      <td>...</td>\n",
       "      <td>...</td>\n",
       "    </tr>\n",
       "    <tr>\n",
       "      <th>35136</th>\n",
       "      <td>202204</td>\n",
       "      <td>75005976</td>\n",
       "      <td>1</td>\n",
       "      <td>0.954878</td>\n",
       "      <td>4</td>\n",
       "      <td>5</td>\n",
       "      <td>0</td>\n",
       "      <td>5</td>\n",
       "      <td>25</td>\n",
       "      <td>55</td>\n",
       "      <td>...</td>\n",
       "      <td>5</td>\n",
       "      <td>4</td>\n",
       "      <td>7</td>\n",
       "      <td>2022-04-12 00:00:00</td>\n",
       "      <td>40 to 60</td>\n",
       "      <td>Low</td>\n",
       "      <td>South</td>\n",
       "      <td>54</td>\n",
       "      <td>Some College</td>\n",
       "      <td>50k to 100k</td>\n",
       "    </tr>\n",
       "    <tr>\n",
       "      <th>35137</th>\n",
       "      <td>202204</td>\n",
       "      <td>75005980</td>\n",
       "      <td>1</td>\n",
       "      <td>0.708391</td>\n",
       "      <td>2</td>\n",
       "      <td>3</td>\n",
       "      <td>34</td>\n",
       "      <td>22</td>\n",
       "      <td>86</td>\n",
       "      <td>54</td>\n",
       "      <td>...</td>\n",
       "      <td>4</td>\n",
       "      <td>3</td>\n",
       "      <td>3</td>\n",
       "      <td>2022-04-04 00:00:00</td>\n",
       "      <td>Over 60</td>\n",
       "      <td>High</td>\n",
       "      <td>West</td>\n",
       "      <td>902</td>\n",
       "      <td>College</td>\n",
       "      <td>50k to 100k</td>\n",
       "    </tr>\n",
       "    <tr>\n",
       "      <th>35138</th>\n",
       "      <td>202204</td>\n",
       "      <td>75005987</td>\n",
       "      <td>1</td>\n",
       "      <td>0.915896</td>\n",
       "      <td>2</td>\n",
       "      <td>4</td>\n",
       "      <td>81</td>\n",
       "      <td>70</td>\n",
       "      <td>51</td>\n",
       "      <td>47</td>\n",
       "      <td>...</td>\n",
       "      <td>5</td>\n",
       "      <td>5</td>\n",
       "      <td>4</td>\n",
       "      <td>2022-04-10 00:00:00</td>\n",
       "      <td>Under 40</td>\n",
       "      <td>Low</td>\n",
       "      <td>South</td>\n",
       "      <td>84</td>\n",
       "      <td>Some College</td>\n",
       "      <td>Under 50k</td>\n",
       "    </tr>\n",
       "    <tr>\n",
       "      <th>35139</th>\n",
       "      <td>202204</td>\n",
       "      <td>75005995</td>\n",
       "      <td>1</td>\n",
       "      <td>0.888988</td>\n",
       "      <td>4</td>\n",
       "      <td>4</td>\n",
       "      <td>95</td>\n",
       "      <td>5</td>\n",
       "      <td>5</td>\n",
       "      <td>5</td>\n",
       "      <td>...</td>\n",
       "      <td>3</td>\n",
       "      <td>5</td>\n",
       "      <td>4</td>\n",
       "      <td>2022-04-20 00:00:00</td>\n",
       "      <td>Under 40</td>\n",
       "      <td>Low</td>\n",
       "      <td>South</td>\n",
       "      <td>102</td>\n",
       "      <td>Some College</td>\n",
       "      <td>50k to 100k</td>\n",
       "    </tr>\n",
       "    <tr>\n",
       "      <th>35140</th>\n",
       "      <td>202204</td>\n",
       "      <td>75005996</td>\n",
       "      <td>1</td>\n",
       "      <td>0.97863</td>\n",
       "      <td>1</td>\n",
       "      <td>3</td>\n",
       "      <td>1</td>\n",
       "      <td>50</td>\n",
       "      <td>30</td>\n",
       "      <td>40</td>\n",
       "      <td>...</td>\n",
       "      <td>3</td>\n",
       "      <td>2</td>\n",
       "      <td>2</td>\n",
       "      <td>2022-04-12 00:00:00</td>\n",
       "      <td>Over 60</td>\n",
       "      <td>Low</td>\n",
       "      <td>Midwest</td>\n",
       "      <td>2</td>\n",
       "      <td>Some College</td>\n",
       "      <td>Under 50k</td>\n",
       "    </tr>\n",
       "  </tbody>\n",
       "</table>\n",
       "<p>35141 rows × 220 columns</p>\n",
       "</div>"
      ],
      "text/plain": [
       "      Source:  Survey of Consumer Expectations, © 2013-23 Federal Reserve Bank of New York (FRBNY).   The SCE data are available without charge at www.newyorkfed.org and may be used subject to license terms posted there.  FRBNY disclaims any responsibility or legal liability for this analysis and interpretation of Survey of Consumer Expectations data.  \\\n",
       "0                                                   date                                                                                                                                                                                                                                                                                                            \n",
       "1                                                 202001                                                                                                                                                                                                                                                                                                            \n",
       "2                                                 202001                                                                                                                                                                                                                                                                                                            \n",
       "3                                                 202001                                                                                                                                                                                                                                                                                                            \n",
       "4                                                 202001                                                                                                                                                                                                                                                                                                            \n",
       "...                                                  ...                                                                                                                                                                                                                                                                                                            \n",
       "35136                                             202204                                                                                                                                                                                                                                                                                                            \n",
       "35137                                             202204                                                                                                                                                                                                                                                                                                            \n",
       "35138                                             202204                                                                                                                                                                                                                                                                                                            \n",
       "35139                                             202204                                                                                                                                                                                                                                                                                                            \n",
       "35140                                             202204                                                                                                                                                                                                                                                                                                            \n",
       "\n",
       "      Unnamed: 1 Unnamed: 2 Unnamed: 3 Unnamed: 4 Unnamed: 5 Unnamed: 6  \\\n",
       "0         userid     tenure     weight         Q1         Q2         Q3   \n",
       "1       70103231         12    0.81825          4          3         20   \n",
       "2       70103252         11   2.879998          3          2          1   \n",
       "3       70103258         12   0.549674          4          4          0   \n",
       "4       70103285         12   0.481746          4          4         10   \n",
       "...          ...        ...        ...        ...        ...        ...   \n",
       "35136   75005976          1   0.954878          4          5          0   \n",
       "35137   75005980          1   0.708391          2          3         34   \n",
       "35138   75005987          1   0.915896          2          4         81   \n",
       "35139   75005995          1   0.888988          4          4         95   \n",
       "35140   75005996          1    0.97863          1          3          1   \n",
       "\n",
       "      Unnamed: 7 Unnamed: 8 Unnamed: 9  ... Unnamed: 210 Unnamed: 211  \\\n",
       "0          Q4new      Q5new      Q6new  ...          Q48         QRA1   \n",
       "1             62         26         44  ...            5          NaN   \n",
       "2             30          1         10  ...            2          NaN   \n",
       "3              3          4         18  ...            4          NaN   \n",
       "4             10         10         10  ...            1          NaN   \n",
       "...          ...        ...        ...  ...          ...          ...   \n",
       "35136          5         25         55  ...            5            4   \n",
       "35137         22         86         54  ...            4            3   \n",
       "35138         70         51         47  ...            5            5   \n",
       "35139          5          5          5  ...            3            5   \n",
       "35140         50         30         40  ...            3            2   \n",
       "\n",
       "      Unnamed: 212         Unnamed: 213 Unnamed: 214 Unnamed: 215  \\\n",
       "0             QRA2          survey_date     _AGE_CAT     _NUM_CAT   \n",
       "1              NaN  2020-01-23 00:00:00     40 to 60         High   \n",
       "2              NaN  2020-01-02 00:00:00     40 to 60          Low   \n",
       "3              NaN  2020-01-07 00:00:00      Over 60         High   \n",
       "4              NaN  2020-01-27 00:00:00     Under 40         High   \n",
       "...            ...                  ...          ...          ...   \n",
       "35136            7  2022-04-12 00:00:00     40 to 60          Low   \n",
       "35137            3  2022-04-04 00:00:00      Over 60         High   \n",
       "35138            4  2022-04-10 00:00:00     Under 40          Low   \n",
       "35139            4  2022-04-20 00:00:00     Under 40          Low   \n",
       "35140            2  2022-04-12 00:00:00      Over 60          Low   \n",
       "\n",
       "      Unnamed: 216     Unnamed: 217  Unnamed: 218 Unnamed: 219  \n",
       "0      _REGION_CAT  _COMMUTING_ZONE      _EDU_CAT  _HH_INC_CAT  \n",
       "1             West              218       College    Over 100k  \n",
       "2        Northeast              203   High School    Under 50k  \n",
       "3            South              102       College  50k to 100k  \n",
       "4          Midwest              100       College  50k to 100k  \n",
       "...            ...              ...           ...          ...  \n",
       "35136        South               54  Some College  50k to 100k  \n",
       "35137         West              902       College  50k to 100k  \n",
       "35138        South               84  Some College    Under 50k  \n",
       "35139        South              102  Some College  50k to 100k  \n",
       "35140      Midwest                2  Some College    Under 50k  \n",
       "\n",
       "[35141 rows x 220 columns]"
      ]
     },
     "execution_count": 10,
     "metadata": {},
     "output_type": "execute_result"
    }
   ],
   "source": [
    "Enq20"
   ]
  },
  {
   "cell_type": "code",
   "execution_count": 11,
   "id": "2c056550-7189-4c63-987e-36c47709b469",
   "metadata": {
    "tags": []
   },
   "outputs": [],
   "source": [
    "#Il faut faire 2-3 manips pour rendre les bases utilisables\n",
    "new_columns = Enq13.iloc[0]\n",
    "Enq13.columns = new_columns\n",
    "Enq13 = Enq13.drop(0)\n",
    "\n",
    "new_columns = Enq17.iloc[0]\n",
    "Enq17.columns = new_columns\n",
    "Enq17 = Enq17.drop(0)"
   ]
  },
  {
   "cell_type": "code",
   "execution_count": 12,
   "id": "6156653b-c5a6-485f-96cc-686f58905a63",
   "metadata": {
    "tags": []
   },
   "outputs": [],
   "source": [
    "new_columns = Enq20.iloc[0]\n",
    "Enq20.columns = new_columns\n",
    "Enq20 = Enq20.drop(0)"
   ]
  },
  {
   "cell_type": "code",
   "execution_count": 13,
   "id": "9df9b7cf-63c9-496a-bc19-d7a450e24f03",
   "metadata": {
    "tags": []
   },
   "outputs": [],
   "source": [
    "Enq17['date'] = pd.to_datetime(Enq17['date'].astype(str) + '01', format='%Y%m%d')\n",
    "Enq13['date'] = pd.to_datetime(Enq13['date'].astype(str) + '01', format='%Y%m%d')\n",
    "Enq20['date'] = pd.to_datetime(Enq20['date'].astype(str) + '01', format='%Y%m%d')"
   ]
  },
  {
   "cell_type": "code",
   "execution_count": 14,
   "id": "32d90cb2-b9c6-407b-9c50-30d678389451",
   "metadata": {
    "tags": []
   },
   "outputs": [],
   "source": [
    "Base_finale=pd.concat([Enq13,Enq17,Enq20])"
   ]
  },
  {
   "cell_type": "code",
   "execution_count": null,
   "id": "743a05b8-e7e7-4119-8c34-7aa3ea0d7a99",
   "metadata": {
    "tags": []
   },
   "outputs": [],
   "source": [
    "#Base_finale.to_excel('Base_finale.xlsx')"
   ]
  },
  {
   "cell_type": "markdown",
   "id": "f02e5178-a998-4f9f-acae-06fd515f434c",
   "metadata": {},
   "source": [
    "# I-Première spécification :"
   ]
  },
  {
   "cell_type": "code",
   "execution_count": 15,
   "id": "f1bacab0-a46f-4c04-851f-1ff2645f0085",
   "metadata": {
    "tags": []
   },
   "outputs": [],
   "source": [
    "from sklearn.linear_model import LinearRegression"
   ]
  },
  {
   "cell_type": "code",
   "execution_count": 16,
   "id": "7d1d1d2a-5d79-4994-92d1-67592b079086",
   "metadata": {
    "tags": []
   },
   "outputs": [],
   "source": [
    "from statsmodels.regression.linear_model import OLS\n",
    "import statsmodels.api as sm"
   ]
  },
  {
   "cell_type": "code",
   "execution_count": 17,
   "id": "a47da3db-1539-4846-acec-c2c7d0801cde",
   "metadata": {
    "tags": []
   },
   "outputs": [],
   "source": [
    "AA=Base_finale"
   ]
  },
  {
   "cell_type": "code",
   "execution_count": 18,
   "id": "79f72e93-d131-49bc-add5-3bb5de9b4191",
   "metadata": {
    "collapsed": true,
    "jupyter": {
     "outputs_hidden": true
    },
    "tags": []
   },
   "outputs": [
    {
     "data": {
      "text/plain": [
       "['date',\n",
       " 'userid',\n",
       " 'tenure',\n",
       " 'weight',\n",
       " 'Q1',\n",
       " 'Q2',\n",
       " 'Q3',\n",
       " 'Q4new',\n",
       " 'Q5new',\n",
       " 'Q6new',\n",
       " 'Q8v2',\n",
       " 'Q8v2part2',\n",
       " 'Q9_cent25',\n",
       " 'Q9_cent50',\n",
       " 'Q9_cent75',\n",
       " 'Q9_var',\n",
       " 'Q9_mean',\n",
       " 'Q9_iqr',\n",
       " 'Q9_probdeflation',\n",
       " 'Q9_bin1',\n",
       " 'Q9_bin2',\n",
       " 'Q9_bin3',\n",
       " 'Q9_bin4',\n",
       " 'Q9_bin5',\n",
       " 'Q9_bin6',\n",
       " 'Q9_bin7',\n",
       " 'Q9_bin8',\n",
       " 'Q9_bin9',\n",
       " 'Q9_bin10',\n",
       " 'Q9bv2',\n",
       " 'Q9bv2part2',\n",
       " 'Q9c_cent25',\n",
       " 'Q9c_cent50',\n",
       " 'Q9c_cent75',\n",
       " 'Q9c_var',\n",
       " 'Q9c_mean',\n",
       " 'Q9c_iqr',\n",
       " 'Q9c_probdeflation',\n",
       " 'Q9c_bin1',\n",
       " 'Q9c_bin2',\n",
       " 'Q9c_bin3',\n",
       " 'Q9c_bin4',\n",
       " 'Q9c_bin5',\n",
       " 'Q9c_bin6',\n",
       " 'Q9c_bin7',\n",
       " 'Q9c_bin8',\n",
       " 'Q9c_bin9',\n",
       " 'Q9c_bin10',\n",
       " 'Q10_1',\n",
       " 'Q10_2',\n",
       " 'Q10_3',\n",
       " 'Q10_4',\n",
       " 'Q10_5',\n",
       " 'Q10_6',\n",
       " 'Q10_7',\n",
       " 'Q10_8',\n",
       " 'Q10_9',\n",
       " 'Q10_10',\n",
       " 'Q11',\n",
       " 'Q12new',\n",
       " 'ES1_1',\n",
       " 'ES1_2',\n",
       " 'ES1_3',\n",
       " 'ES1_4',\n",
       " 'ES2',\n",
       " 'ES3new',\n",
       " 'ES4',\n",
       " 'ES5',\n",
       " 'Q13new',\n",
       " 'Q14new',\n",
       " 'Q15',\n",
       " 'Q16',\n",
       " 'Q17new',\n",
       " 'Q18new',\n",
       " 'Q19',\n",
       " 'Q20new',\n",
       " 'Q21new',\n",
       " 'Q22new',\n",
       " 'Q23v2',\n",
       " 'Q23v2part2',\n",
       " 'Q24_cent25',\n",
       " 'Q24_cent50',\n",
       " 'Q24_cent75',\n",
       " 'Q24_var',\n",
       " 'Q24_mean',\n",
       " 'Q24_iqr',\n",
       " 'Q24_probdeflation',\n",
       " 'Q24_bin1',\n",
       " 'Q24_bin2',\n",
       " 'Q24_bin3',\n",
       " 'Q24_bin4',\n",
       " 'Q24_bin5',\n",
       " 'Q24_bin6',\n",
       " 'Q24_bin7',\n",
       " 'Q24_bin8',\n",
       " 'Q24_bin9',\n",
       " 'Q24_bin10',\n",
       " 'Q25v2',\n",
       " 'Q25v2part2',\n",
       " 'Q26v2',\n",
       " 'Q26v2part2',\n",
       " 'Q27v2',\n",
       " 'Q27v2part2',\n",
       " 'Q28',\n",
       " 'Q29',\n",
       " 'Q30new',\n",
       " 'Q31v2',\n",
       " 'Q31v2part2',\n",
       " 'C1_cent25',\n",
       " 'C1_cent50',\n",
       " 'C1_cent75',\n",
       " 'C1_var',\n",
       " 'C1_mean',\n",
       " 'C1_iqr',\n",
       " 'C1_probdeflation',\n",
       " 'C1_bin1',\n",
       " 'C1_bin2',\n",
       " 'C1_bin3',\n",
       " 'C1_bin4',\n",
       " 'C1_bin5',\n",
       " 'C1_bin6',\n",
       " 'C1_bin7',\n",
       " 'C1_bin8',\n",
       " 'C1_bin9',\n",
       " 'C1_bin10',\n",
       " 'C2',\n",
       " 'C2part2',\n",
       " 'C3',\n",
       " 'C3part2',\n",
       " 'C4_1',\n",
       " 'C4_2',\n",
       " 'C4_3',\n",
       " 'C4_4',\n",
       " 'C4_5',\n",
       " 'C4_6',\n",
       " 'QNUM1',\n",
       " 'QNUM2',\n",
       " 'QNUM3',\n",
       " 'QNUM5',\n",
       " 'QNUM6',\n",
       " 'QNUM8',\n",
       " 'QNUM9',\n",
       " 'Q32',\n",
       " 'Q33',\n",
       " 'Q34',\n",
       " 'Q35_1',\n",
       " 'Q35_2',\n",
       " 'Q35_3',\n",
       " 'Q35_4',\n",
       " 'Q35_5',\n",
       " 'Q35_6',\n",
       " 'Q36',\n",
       " 'Q37',\n",
       " 'Q38',\n",
       " 'HH2_1',\n",
       " 'HH2_2',\n",
       " 'HH2_3',\n",
       " 'HH2_4',\n",
       " 'HH2_5',\n",
       " 'HH2_6',\n",
       " 'HH2_7',\n",
       " 'HH2_8',\n",
       " 'HH2_9',\n",
       " 'HH2_10',\n",
       " 'HH2_11',\n",
       " '_STATE',\n",
       " 'Q41',\n",
       " 'Q42',\n",
       " 'Q43',\n",
       " 'Q43a',\n",
       " 'Q44',\n",
       " 'Q45b',\n",
       " 'Q45new_1',\n",
       " 'Q45new_2',\n",
       " 'Q45new_3',\n",
       " 'Q45new_4',\n",
       " 'Q45new_5',\n",
       " 'Q45new_6',\n",
       " 'Q45new_7',\n",
       " 'Q45new_8',\n",
       " 'Q45new_9',\n",
       " 'Q46',\n",
       " 'Q47',\n",
       " 'D1',\n",
       " 'D3',\n",
       " 'D6',\n",
       " 'D2new_1',\n",
       " 'D2new_2',\n",
       " 'D2new_3',\n",
       " 'D2new_4',\n",
       " 'D2new_5',\n",
       " 'D2new_6',\n",
       " 'D2new_7',\n",
       " 'D2new_8',\n",
       " 'D2new_9',\n",
       " 'DSAME',\n",
       " 'DQ38',\n",
       " 'DHH2_1',\n",
       " 'DHH2_2',\n",
       " 'DHH2_3',\n",
       " 'DHH2_4',\n",
       " 'DHH2_5',\n",
       " 'DHH2_6',\n",
       " 'DHH2_7',\n",
       " 'DHH2_8',\n",
       " 'DHH2_9',\n",
       " 'DHH2_10',\n",
       " 'DHH2_11',\n",
       " 'DHH2_11_other',\n",
       " 'D5b',\n",
       " 'Q48',\n",
       " 'QRA1',\n",
       " 'QRA2',\n",
       " 'survey_date',\n",
       " '_AGE_CAT',\n",
       " '_NUM_CAT',\n",
       " '_REGION_CAT',\n",
       " '_COMMUTING_ZONE',\n",
       " '_EDU_CAT',\n",
       " '_HH_INC_CAT']"
      ]
     },
     "execution_count": 18,
     "metadata": {},
     "output_type": "execute_result"
    }
   ],
   "source": [
    "list(AA.columns)"
   ]
  },
  {
   "cell_type": "code",
   "execution_count": 19,
   "id": "d808081b-9a6f-4dbc-9277-426c346d8219",
   "metadata": {
    "tags": []
   },
   "outputs": [],
   "source": [
    "educ=pd.get_dummies(AA['_EDU_CAT'])"
   ]
  },
  {
   "cell_type": "code",
   "execution_count": 20,
   "id": "8b0f479d-dbcc-4be8-9688-71aa1cf33e9e",
   "metadata": {
    "tags": []
   },
   "outputs": [],
   "source": [
    "age=pd.get_dummies(AA['_AGE_CAT'])"
   ]
  },
  {
   "cell_type": "code",
   "execution_count": 21,
   "id": "755576ed-06ba-4438-a4de-7f2fe87a6ac6",
   "metadata": {
    "tags": []
   },
   "outputs": [],
   "source": [
    "income=pd.get_dummies(AA['_HH_INC_CAT'])"
   ]
  },
  {
   "cell_type": "code",
   "execution_count": 22,
   "id": "0b7a1fd2-07c1-4342-9a86-f002f4f3d66d",
   "metadata": {
    "tags": []
   },
   "outputs": [],
   "source": [
    "numeracy=pd.get_dummies(AA['_NUM_CAT'])"
   ]
  },
  {
   "cell_type": "code",
   "execution_count": 23,
   "id": "cb12e671-fdc1-4181-a15d-d82e5a459802",
   "metadata": {
    "tags": []
   },
   "outputs": [
    {
     "data": {
      "text/plain": [
       "15979"
      ]
     },
     "execution_count": 23,
     "metadata": {},
     "output_type": "execute_result"
    }
   ],
   "source": [
    "np.sum(educ['High School'])"
   ]
  },
  {
   "cell_type": "code",
   "execution_count": 24,
   "id": "51a9151c-07fd-4f7f-9b09-dd2974f67c5f",
   "metadata": {
    "tags": []
   },
   "outputs": [],
   "source": [
    "BC = pd.concat([AA, educ], axis=1).reindex(AA.index) #BC est pour Base complète. Ici, on complète la base avec des dummies"
   ]
  },
  {
   "cell_type": "code",
   "execution_count": 25,
   "id": "8fb4aa37-7255-4bf6-af97-97e92ff9d97e",
   "metadata": {
    "tags": []
   },
   "outputs": [],
   "source": [
    "BC = pd.concat([BC, age], axis=1).reindex(BC.index)"
   ]
  },
  {
   "cell_type": "code",
   "execution_count": 26,
   "id": "8073fea0-9be3-41e2-b448-929b38c59479",
   "metadata": {
    "tags": []
   },
   "outputs": [],
   "source": [
    "BC = pd.concat([BC, income], axis=1).reindex(BC.index)"
   ]
  },
  {
   "cell_type": "code",
   "execution_count": 27,
   "id": "98aa1eb4-913d-43a7-817a-66164e068899",
   "metadata": {
    "tags": []
   },
   "outputs": [],
   "source": [
    "BC = pd.concat([BC, numeracy], axis=1).reindex(BC.index)"
   ]
  },
  {
   "cell_type": "markdown",
   "id": "ddf7bf6a-2ea6-4e40-b21a-25081a26df60",
   "metadata": {},
   "source": [
    "On code maintenant le genre :"
   ]
  },
  {
   "cell_type": "code",
   "execution_count": 40,
   "id": "2e1a3a8b-62cd-4339-9da9-188ccfeda8b6",
   "metadata": {
    "tags": []
   },
   "outputs": [],
   "source": [
    "%%capture\n",
    "gender=pd.get_dummies(AA['Q33'])"
   ]
  },
  {
   "cell_type": "code",
   "execution_count": 29,
   "id": "66fad095-1922-431a-9325-ad5fb6fb0597",
   "metadata": {
    "tags": []
   },
   "outputs": [],
   "source": [
    "gender.rename(columns={1: \"fem\"}, inplace=True)"
   ]
  },
  {
   "cell_type": "code",
   "execution_count": 30,
   "id": "e870ee78-53a8-4afc-b06a-537d12a58f3d",
   "metadata": {
    "tags": []
   },
   "outputs": [],
   "source": [
    "BC = pd.concat([BC, gender['fem']], axis=1).reindex(BC.index)"
   ]
  },
  {
   "cell_type": "markdown",
   "id": "b23094f3-2e43-48bc-b89b-aba6bdb685ff",
   "metadata": {},
   "source": [
    "C'est fait pour le genre. "
   ]
  },
  {
   "cell_type": "markdown",
   "id": "51b52565-f57d-46a6-b5a2-21e6126d0ea9",
   "metadata": {},
   "source": [
    "Faisons le ménage dans les non-réponses et dans les outliers :"
   ]
  },
  {
   "cell_type": "code",
   "execution_count": 31,
   "id": "35ef51a1-2dc2-4a3a-9182-406d12d3ae18",
   "metadata": {
    "tags": []
   },
   "outputs": [],
   "source": [
    "BC=BC.dropna(subset=['Q8v2part2','Q9bv2part2']) #On supprime les personnes qui n'ont pas répondu aux questions sur les anticipations d'inflation. "
   ]
  },
  {
   "cell_type": "markdown",
   "id": "b29b2847-9586-4e74-8850-0c816ab1c8e1",
   "metadata": {},
   "source": [
    "Supprimons les outliers"
   ]
  },
  {
   "cell_type": "code",
   "execution_count": 32,
   "id": "5a8746aa-8a07-4b18-ae76-9a3bc5b584cf",
   "metadata": {
    "tags": []
   },
   "outputs": [],
   "source": [
    "test=BC[BC['Q8v2part2']<=20]\n",
    "test=test[test['Q8v2part2']>=-20]"
   ]
  },
  {
   "cell_type": "code",
   "execution_count": 33,
   "id": "475588a4-bc33-416f-aa95-5ef73acf4e91",
   "metadata": {
    "tags": []
   },
   "outputs": [
    {
     "data": {
      "text/plain": [
       "20"
      ]
     },
     "execution_count": 33,
     "metadata": {},
     "output_type": "execute_result"
    }
   ],
   "source": [
    "max(test['Q8v2part2'])"
   ]
  },
  {
   "cell_type": "code",
   "execution_count": 34,
   "id": "8d79a9f9-cccd-46a5-8e63-81ff91b79c3e",
   "metadata": {
    "tags": []
   },
   "outputs": [
    {
     "data": {
      "text/html": [
       "<table class=\"simpletable\">\n",
       "<caption>OLS Regression Results</caption>\n",
       "<tr>\n",
       "  <th>Dep. Variable:</th>        <td>Q8v2part2</td>    <th>  R-squared (uncentered):</th>       <td>   0.003</td>  \n",
       "</tr>\n",
       "<tr>\n",
       "  <th>Model:</th>                   <td>OLS</td>       <th>  Adj. R-squared (uncentered):</th>  <td>   0.003</td>  \n",
       "</tr>\n",
       "<tr>\n",
       "  <th>Method:</th>             <td>Least Squares</td>  <th>  F-statistic:       </th>           <td>   399.6</td>  \n",
       "</tr>\n",
       "<tr>\n",
       "  <th>Date:</th>             <td>Sat, 11 Mar 2023</td> <th>  Prob (F-statistic):</th>           <td>8.78e-89</td>  \n",
       "</tr>\n",
       "<tr>\n",
       "  <th>Time:</th>                 <td>09:25:59</td>     <th>  Log-Likelihood:    </th>          <td>-7.4034e+05</td>\n",
       "</tr>\n",
       "<tr>\n",
       "  <th>No. Observations:</th>      <td>138457</td>      <th>  AIC:               </th>           <td>1.481e+06</td> \n",
       "</tr>\n",
       "<tr>\n",
       "  <th>Df Residuals:</th>          <td>138456</td>      <th>  BIC:               </th>           <td>1.481e+06</td> \n",
       "</tr>\n",
       "<tr>\n",
       "  <th>Df Model:</th>              <td>     1</td>      <th>                     </th>               <td> </td>     \n",
       "</tr>\n",
       "<tr>\n",
       "  <th>Covariance Type:</th>      <td>nonrobust</td>    <th>                     </th>               <td> </td>     \n",
       "</tr>\n",
       "</table>\n",
       "<table class=\"simpletable\">\n",
       "<tr>\n",
       "   <td></td>      <th>coef</th>     <th>std err</th>      <th>t</th>      <th>P>|t|</th>  <th>[0.025</th>    <th>0.975]</th>  \n",
       "</tr>\n",
       "<tr>\n",
       "  <th>fem</th> <td>   10.5295</td> <td>    0.527</td> <td>   19.991</td> <td> 0.000</td> <td>    9.497</td> <td>   11.562</td>\n",
       "</tr>\n",
       "</table>\n",
       "<table class=\"simpletable\">\n",
       "<tr>\n",
       "  <th>Omnibus:</th>       <td>667733.766</td> <th>  Durbin-Watson:     </th>     <td>   1.391</td>     \n",
       "</tr>\n",
       "<tr>\n",
       "  <th>Prob(Omnibus):</th>   <td> 0.000</td>   <th>  Jarque-Bera (JB):  </th> <td>8970835143631.576</td>\n",
       "</tr>\n",
       "<tr>\n",
       "  <th>Skew:</th>            <td>190.590</td>  <th>  Prob(JB):          </th>     <td>    0.00</td>     \n",
       "</tr>\n",
       "<tr>\n",
       "  <th>Kurtosis:</th>       <td>39434.592</td> <th>  Cond. No.          </th>     <td>    1.00</td>     \n",
       "</tr>\n",
       "</table><br/><br/>Notes:<br/>[1] R² is computed without centering (uncentered) since the model does not contain a constant.<br/>[2] Standard Errors assume that the covariance matrix of the errors is correctly specified."
      ],
      "text/plain": [
       "<class 'statsmodels.iolib.summary.Summary'>\n",
       "\"\"\"\n",
       "                                 OLS Regression Results                                \n",
       "=======================================================================================\n",
       "Dep. Variable:              Q8v2part2   R-squared (uncentered):                   0.003\n",
       "Model:                            OLS   Adj. R-squared (uncentered):              0.003\n",
       "Method:                 Least Squares   F-statistic:                              399.6\n",
       "Date:                Sat, 11 Mar 2023   Prob (F-statistic):                    8.78e-89\n",
       "Time:                        09:25:59   Log-Likelihood:                     -7.4034e+05\n",
       "No. Observations:              138457   AIC:                                  1.481e+06\n",
       "Df Residuals:                  138456   BIC:                                  1.481e+06\n",
       "Df Model:                           1                                                  \n",
       "Covariance Type:            nonrobust                                                  \n",
       "==============================================================================\n",
       "                 coef    std err          t      P>|t|      [0.025      0.975]\n",
       "------------------------------------------------------------------------------\n",
       "fem           10.5295      0.527     19.991      0.000       9.497      11.562\n",
       "==============================================================================\n",
       "Omnibus:                   667733.766   Durbin-Watson:                   1.391\n",
       "Prob(Omnibus):                  0.000   Jarque-Bera (JB):    8970835143631.576\n",
       "Skew:                         190.590   Prob(JB):                         0.00\n",
       "Kurtosis:                   39434.592   Cond. No.                         1.00\n",
       "==============================================================================\n",
       "\n",
       "Notes:\n",
       "[1] R² is computed without centering (uncentered) since the model does not contain a constant.\n",
       "[2] Standard Errors assume that the covariance matrix of the errors is correctly specified.\n",
       "\"\"\""
      ]
     },
     "execution_count": 34,
     "metadata": {},
     "output_type": "execute_result"
    }
   ],
   "source": [
    "model = OLS(BC['Q8v2part2'].astype('float'),BC['fem'].astype('float'))\n",
    "results = model.fit()\n",
    "su = results.summary()\n",
    "su"
   ]
  },
  {
   "cell_type": "markdown",
   "id": "d5910f36-994e-40fe-aefe-9ab0b7e2ebbf",
   "metadata": {},
   "source": [
    "Calcul de l'inflation :"
   ]
  },
  {
   "cell_type": "code",
   "execution_count": 35,
   "id": "237dc92f-5f61-4aaf-a577-9392c3afc168",
   "metadata": {
    "tags": []
   },
   "outputs": [],
   "source": [
    "inflation_US = OECD[(OECD['Country'] == \"United States\") & (OECD['Subject2'] == \"Consumer prices: all items\")]\n",
    "inflation_US2 = pd.DataFrame({\n",
    "    'day': pd.to_datetime(inflation_US['Time'], format='%Y-%m-%d'),\n",
    "    'Inflation': inflation_US['Value'].astype(float)\n",
    "})\n",
    "\n",
    "inflation_US3 = pd.DataFrame({\n",
    "    'date': inflation_US2['day'],\n",
    "    'tx_evol_ann_pct': (inflation_US2['Inflation'] / inflation_US2['Inflation'].shift(12) - 1) * 100\n",
    "})\n"
   ]
  },
  {
   "cell_type": "code",
   "execution_count": 36,
   "id": "14793a68-4393-4469-a20f-ee96da06259c",
   "metadata": {
    "tags": []
   },
   "outputs": [],
   "source": [
    "test['inflation t']=0"
   ]
  },
  {
   "cell_type": "code",
   "execution_count": 37,
   "id": "3bf5ac15-aa46-48ca-82fe-76858e7e30cb",
   "metadata": {
    "tags": []
   },
   "outputs": [],
   "source": [
    "df3 = pd.merge(test,inflation_US3,how='outer',left_on=['date'],right_on=['date'])\n"
   ]
  },
  {
   "cell_type": "code",
   "execution_count": 38,
   "id": "f543142a-b97e-4e62-9200-c046aafb5476",
   "metadata": {
    "tags": []
   },
   "outputs": [],
   "source": [
    "df3=df3[df3['Q1'].notnull()]"
   ]
  },
  {
   "cell_type": "code",
   "execution_count": 39,
   "id": "0d3dacb9-4d2e-493f-bf2b-a6584f13cfaf",
   "metadata": {
    "tags": []
   },
   "outputs": [],
   "source": [
    "BF=df3"
   ]
  },
  {
   "cell_type": "markdown",
   "id": "2165e371-8380-4bd8-a600-fa6cfb5c4393",
   "metadata": {},
   "source": [
    "## Définition d'un indicateur d'instabilité personelle :"
   ]
  },
  {
   "cell_type": "markdown",
   "id": "dd60b985-feda-4e13-a3c1-6657c9a748a7",
   "metadata": {},
   "source": [
    "On va définir les variables qu'il serait pertinent d'inclure : \n",
    "- Q3 : proba changement de résidence dans les douze prochain mois\n",
    "- Q10 : 3 : chomeurs\n",
    "- Q13new: proba de changer d'emploi\n",
    "- Q25v2 : 3 : anticipe baisse de revenus\n",
    "- Q30new : proba de ne pas réussir à payer un prêt\n",
    "\n"
   ]
  },
  {
   "cell_type": "code",
   "execution_count": 41,
   "id": "7fd21c60-6576-402a-a768-7d9ed5ddfb30",
   "metadata": {
    "tags": []
   },
   "outputs": [],
   "source": [
    "BF.loc[BF['Q25v2']==3, 'loss expectation'] = 1 #On binarise le fait d'anticiper une baisse de ses revenus"
   ]
  },
  {
   "cell_type": "code",
   "execution_count": 47,
   "id": "c4e6dd3f-7ee6-4bd3-ac42-74328d00b11b",
   "metadata": {
    "tags": []
   },
   "outputs": [],
   "source": [
    "BF['indic_perso']=(BF.fillna(0)['Q3']/100+BF.fillna(0)['Q10_3']+BF.fillna(0)['Q13new']/100+BF.fillna(0)['loss expectation']+BF.fillna(0)['Q30new']/100)/5"
   ]
  },
  {
   "cell_type": "markdown",
   "id": "7522d7de-6b25-4825-aa32-9a0b9dd22e7e",
   "metadata": {},
   "source": [
    "*j'ai remplacé le 4 de la division par 5 pcq je crois qu'il y a 5 éléments, mais si c'est pas bien supprime ; dans tous les cas ça changera pas grand-chose à la régression puisque c'est proportionnel*"
   ]
  },
  {
   "cell_type": "markdown",
   "id": "18458975-692e-46db-ad1b-71cd0b83d69f",
   "metadata": {},
   "source": [
    "*par contre c'est pas un peu chaud de remplacer tous les nan par des 0?*"
   ]
  },
  {
   "cell_type": "markdown",
   "id": "e5e6e3dc-102a-454d-a327-2c0a7923090f",
   "metadata": {},
   "source": [
    "Faisons quelques statistiques descriptives dessus :"
   ]
  },
  {
   "cell_type": "code",
   "execution_count": 48,
   "id": "b422c18c-57ae-4f10-bd24-7841a1da2f1f",
   "metadata": {
    "tags": []
   },
   "outputs": [],
   "source": [
    "import statistics as stat"
   ]
  },
  {
   "cell_type": "code",
   "execution_count": 49,
   "id": "f61badf7-3953-448b-8d91-90ef50312f5f",
   "metadata": {
    "tags": []
   },
   "outputs": [
    {
     "data": {
      "text/plain": [
       "0.05"
      ]
     },
     "execution_count": 49,
     "metadata": {},
     "output_type": "execute_result"
    }
   ],
   "source": [
    "stat.median(BF['indic_perso'])"
   ]
  },
  {
   "cell_type": "code",
   "execution_count": 50,
   "id": "9f60a20a-c2d9-401e-b165-daccb809a7fa",
   "metadata": {
    "tags": []
   },
   "outputs": [
    {
     "data": {
      "text/plain": [
       "0.10456351316639555"
      ]
     },
     "execution_count": 50,
     "metadata": {},
     "output_type": "execute_result"
    }
   ],
   "source": [
    "stat.mean(BF['indic_perso'])"
   ]
  },
  {
   "cell_type": "code",
   "execution_count": 51,
   "id": "27d2e668-096c-4b4b-ab8a-42c686c922e7",
   "metadata": {
    "tags": []
   },
   "outputs": [],
   "source": [
    "def weighted_average(dataframe, value, weight):\n",
    "    val = dataframe[value]\n",
    "    wt = dataframe[weight]\n",
    "    return (val * wt).sum() / wt.sum()"
   ]
  },
  {
   "cell_type": "code",
   "execution_count": 52,
   "id": "4354ff63-348a-431d-b09c-e4c8ab5d6505",
   "metadata": {
    "tags": []
   },
   "outputs": [
    {
     "data": {
      "text/plain": [
       "0.10627852801966672"
      ]
     },
     "execution_count": 52,
     "metadata": {},
     "output_type": "execute_result"
    }
   ],
   "source": [
    "weighted_average(BF, 'indic_perso', 'weight')"
   ]
  },
  {
   "cell_type": "code",
   "execution_count": 53,
   "id": "f0e82dc7-250f-48a0-9542-0f2f35ffa766",
   "metadata": {
    "tags": []
   },
   "outputs": [
    {
     "data": {
      "text/plain": [
       "0.12198107331351413"
      ]
     },
     "execution_count": 53,
     "metadata": {},
     "output_type": "execute_result"
    }
   ],
   "source": [
    "stat.pstdev(BF['indic_perso'])"
   ]
  },
  {
   "cell_type": "code",
   "execution_count": 54,
   "id": "a4649bec-7cc1-4862-a72b-c3d5186af598",
   "metadata": {
    "tags": []
   },
   "outputs": [
    {
     "data": {
      "text/plain": [
       "128471"
      ]
     },
     "execution_count": 54,
     "metadata": {},
     "output_type": "execute_result"
    }
   ],
   "source": [
    "len(BF['Q8v2part2'])"
   ]
  },
  {
   "cell_type": "code",
   "execution_count": 55,
   "id": "4ec73c2c-2b41-4dcf-b6e6-abc4580f31b3",
   "metadata": {
    "tags": []
   },
   "outputs": [
    {
     "data": {
      "text/html": [
       "<table class=\"simpletable\">\n",
       "<caption>OLS Regression Results</caption>\n",
       "<tr>\n",
       "  <th>Dep. Variable:</th>        <td>Q8v2part2</td>    <th>  R-squared:         </th>  <td>   0.023</td>  \n",
       "</tr>\n",
       "<tr>\n",
       "  <th>Model:</th>                   <td>OLS</td>       <th>  Adj. R-squared:    </th>  <td>   0.023</td>  \n",
       "</tr>\n",
       "<tr>\n",
       "  <th>Method:</th>             <td>Least Squares</td>  <th>  F-statistic:       </th>  <td>   1529.</td>  \n",
       "</tr>\n",
       "<tr>\n",
       "  <th>Date:</th>             <td>Sat, 11 Mar 2023</td> <th>  Prob (F-statistic):</th>   <td>  0.00</td>   \n",
       "</tr>\n",
       "<tr>\n",
       "  <th>Time:</th>                 <td>09:35:20</td>     <th>  Log-Likelihood:    </th> <td>-3.9227e+05</td>\n",
       "</tr>\n",
       "<tr>\n",
       "  <th>No. Observations:</th>      <td>128471</td>      <th>  AIC:               </th>  <td>7.845e+05</td> \n",
       "</tr>\n",
       "<tr>\n",
       "  <th>Df Residuals:</th>          <td>128468</td>      <th>  BIC:               </th>  <td>7.846e+05</td> \n",
       "</tr>\n",
       "<tr>\n",
       "  <th>Df Model:</th>              <td>     2</td>      <th>                     </th>      <td> </td>     \n",
       "</tr>\n",
       "<tr>\n",
       "  <th>Covariance Type:</th>      <td>nonrobust</td>    <th>                     </th>      <td> </td>     \n",
       "</tr>\n",
       "</table>\n",
       "<table class=\"simpletable\">\n",
       "<tr>\n",
       "         <td></td>            <th>coef</th>     <th>std err</th>      <th>t</th>      <th>P>|t|</th>  <th>[0.025</th>    <th>0.975]</th>  \n",
       "</tr>\n",
       "<tr>\n",
       "  <th>const</th>           <td>    2.9990</td> <td>    0.026</td> <td>  116.671</td> <td> 0.000</td> <td>    2.949</td> <td>    3.049</td>\n",
       "</tr>\n",
       "<tr>\n",
       "  <th>tx_evol_ann_pct</th> <td>    0.4303</td> <td>    0.008</td> <td>   52.656</td> <td> 0.000</td> <td>    0.414</td> <td>    0.446</td>\n",
       "</tr>\n",
       "<tr>\n",
       "  <th>indic_perso</th>     <td>    2.2181</td> <td>    0.117</td> <td>   18.903</td> <td> 0.000</td> <td>    1.988</td> <td>    2.448</td>\n",
       "</tr>\n",
       "</table>\n",
       "<table class=\"simpletable\">\n",
       "<tr>\n",
       "  <th>Omnibus:</th>       <td>13278.796</td> <th>  Durbin-Watson:     </th>  <td>   1.976</td> \n",
       "</tr>\n",
       "<tr>\n",
       "  <th>Prob(Omnibus):</th>  <td> 0.000</td>   <th>  Jarque-Bera (JB):  </th> <td>110552.503</td>\n",
       "</tr>\n",
       "<tr>\n",
       "  <th>Skew:</th>           <td> 0.108</td>   <th>  Prob(JB):          </th>  <td>    0.00</td> \n",
       "</tr>\n",
       "<tr>\n",
       "  <th>Kurtosis:</th>       <td> 7.539</td>   <th>  Cond. No.          </th>  <td>    23.4</td> \n",
       "</tr>\n",
       "</table><br/><br/>Notes:<br/>[1] Standard Errors assume that the covariance matrix of the errors is correctly specified."
      ],
      "text/plain": [
       "<class 'statsmodels.iolib.summary.Summary'>\n",
       "\"\"\"\n",
       "                            OLS Regression Results                            \n",
       "==============================================================================\n",
       "Dep. Variable:              Q8v2part2   R-squared:                       0.023\n",
       "Model:                            OLS   Adj. R-squared:                  0.023\n",
       "Method:                 Least Squares   F-statistic:                     1529.\n",
       "Date:                Sat, 11 Mar 2023   Prob (F-statistic):               0.00\n",
       "Time:                        09:35:20   Log-Likelihood:            -3.9227e+05\n",
       "No. Observations:              128471   AIC:                         7.845e+05\n",
       "Df Residuals:                  128468   BIC:                         7.846e+05\n",
       "Df Model:                           2                                         \n",
       "Covariance Type:            nonrobust                                         \n",
       "===================================================================================\n",
       "                      coef    std err          t      P>|t|      [0.025      0.975]\n",
       "-----------------------------------------------------------------------------------\n",
       "const               2.9990      0.026    116.671      0.000       2.949       3.049\n",
       "tx_evol_ann_pct     0.4303      0.008     52.656      0.000       0.414       0.446\n",
       "indic_perso         2.2181      0.117     18.903      0.000       1.988       2.448\n",
       "==============================================================================\n",
       "Omnibus:                    13278.796   Durbin-Watson:                   1.976\n",
       "Prob(Omnibus):                  0.000   Jarque-Bera (JB):           110552.503\n",
       "Skew:                           0.108   Prob(JB):                         0.00\n",
       "Kurtosis:                       7.539   Cond. No.                         23.4\n",
       "==============================================================================\n",
       "\n",
       "Notes:\n",
       "[1] Standard Errors assume that the covariance matrix of the errors is correctly specified.\n",
       "\"\"\""
      ]
     },
     "execution_count": 55,
     "metadata": {},
     "output_type": "execute_result"
    }
   ],
   "source": [
    "Y = BF['Q8v2part2'].astype('float')\n",
    "X = BF.fillna(0)[['tx_evol_ann_pct','indic_perso']]\n",
    "X = sm.add_constant(X)\n",
    "model = sm.OLS(Y,X)\n",
    "results = model.fit()\n",
    "su = results.summary()\n",
    "su"
   ]
  },
  {
   "cell_type": "markdown",
   "id": "6a896cc2-fc57-4d2d-95a1-102cd8fdb2b6",
   "metadata": {},
   "source": [
    "### Alternative : on sépare les différents aspects de l'instabilité personnelle pour ne pas leur donner un poids arbitraire"
   ]
  },
  {
   "cell_type": "code",
   "execution_count": 56,
   "id": "7163aa31-0b6e-4fa2-ae1b-35bbfab3d60a",
   "metadata": {
    "tags": []
   },
   "outputs": [
    {
     "data": {
      "text/plain": [
       "0         50\n",
       "1         25\n",
       "2          3\n",
       "3          0\n",
       "4         10\n",
       "          ..\n",
       "128512     3\n",
       "128513    34\n",
       "128514    81\n",
       "128515    95\n",
       "128516     1\n",
       "Name: Q3, Length: 128471, dtype: object"
      ]
     },
     "execution_count": 56,
     "metadata": {},
     "output_type": "execute_result"
    }
   ],
   "source": [
    "#Allure proba de changement de résidence sous 12 mois\n",
    "BF['Q3']"
   ]
  },
  {
   "cell_type": "code",
   "execution_count": 57,
   "id": "8500cac0-db6e-423d-a11b-a62f12279c35",
   "metadata": {
    "jupyter": {
     "source_hidden": true
    },
    "tags": []
   },
   "outputs": [
    {
     "name": "stdout",
     "output_type": "stream",
     "text": [
      "nb de valeurs manquantes dans Q3 : 440\n"
     ]
    }
   ],
   "source": [
    "print(\"nb de valeurs manquantes dans Q3 : \"+str(BF['Q3'].isnull().sum()))"
   ]
  },
  {
   "cell_type": "code",
   "execution_count": 58,
   "id": "5419a79f-d28d-4b2c-8dcf-d6edcae09527",
   "metadata": {
    "tags": []
   },
   "outputs": [
    {
     "data": {
      "text/plain": [
       "0         0\n",
       "1         0\n",
       "2         0\n",
       "3         0\n",
       "4         0\n",
       "         ..\n",
       "128512    0\n",
       "128513    0\n",
       "128514    1\n",
       "128515    0\n",
       "128516    0\n",
       "Name: Q10_3, Length: 128471, dtype: object"
      ]
     },
     "execution_count": 58,
     "metadata": {},
     "output_type": "execute_result"
    }
   ],
   "source": [
    "#Allure de l'indicatrice du chômage\n",
    "BF['Q10_3']"
   ]
  },
  {
   "cell_type": "code",
   "execution_count": 59,
   "id": "e49e57f9-6527-4f73-a78e-9e428e16cc3e",
   "metadata": {
    "jupyter": {
     "source_hidden": true
    },
    "tags": []
   },
   "outputs": [
    {
     "name": "stdout",
     "output_type": "stream",
     "text": [
      "nb de valeurs manquantes dans Q10_3 : 0\n"
     ]
    }
   ],
   "source": [
    "print(\"nb de valeurs manquantes dans Q10_3 : \"+str(BF['Q10_3'].isnull().sum()))"
   ]
  },
  {
   "cell_type": "markdown",
   "id": "07dd2ffb-d54f-4546-9270-31edfb1714b9",
   "metadata": {},
   "source": [
    "le chômage est tjrs renseigné, c'est cool"
   ]
  },
  {
   "cell_type": "code",
   "execution_count": 60,
   "id": "ee87f673-fea8-482a-b167-6afb56d906f1",
   "metadata": {
    "tags": []
   },
   "outputs": [
    {
     "data": {
      "text/plain": [
       "0         NaN\n",
       "1         NaN\n",
       "2         NaN\n",
       "3         NaN\n",
       "4          30\n",
       "         ... \n",
       "128512      0\n",
       "128513    NaN\n",
       "128514    NaN\n",
       "128515      5\n",
       "128516    NaN\n",
       "Name: Q13new, Length: 128471, dtype: object"
      ]
     },
     "execution_count": 60,
     "metadata": {},
     "output_type": "execute_result"
    }
   ],
   "source": [
    "#Allure proba changer d'emploi\n",
    "BF['Q13new']"
   ]
  },
  {
   "cell_type": "code",
   "execution_count": 61,
   "id": "24be9169-16c7-404c-9f68-4bc457577da0",
   "metadata": {
    "jupyter": {
     "source_hidden": true
    },
    "tags": []
   },
   "outputs": [
    {
     "name": "stdout",
     "output_type": "stream",
     "text": [
      "nb de valeurs manquantes dans Q13new : 52658\n"
     ]
    }
   ],
   "source": [
    "print(\"nb de valeurs manquantes dans Q13new : \"+str(BF['Q13new'].isnull().sum()))"
   ]
  },
  {
   "cell_type": "markdown",
   "id": "080d9e7c-1561-4d94-b8b3-702d764d8e5a",
   "metadata": {
    "tags": []
   },
   "source": [
    "*c'est une catastrophe absolue, quasiment la moitié des participants n'y ont pas répondu...\n",
    "il faudra sans doute faire une régression qui ne le prend pas en compte*"
   ]
  },
  {
   "cell_type": "code",
   "execution_count": 62,
   "id": "485ed78e-0888-4adb-a8a8-83ab85f1693c",
   "metadata": {
    "tags": []
   },
   "outputs": [
    {
     "data": {
      "text/plain": [
       "0         3\n",
       "1         1\n",
       "2         1\n",
       "3         1\n",
       "4         3\n",
       "         ..\n",
       "128512    1\n",
       "128513    3\n",
       "128514    1\n",
       "128515    1\n",
       "128516    1\n",
       "Name: Q25v2, Length: 128471, dtype: object"
      ]
     },
     "execution_count": 62,
     "metadata": {},
     "output_type": "execute_result"
    }
   ],
   "source": [
    "#Allure anticipation baisse revenus\n",
    "BF['Q25v2']"
   ]
  },
  {
   "cell_type": "code",
   "execution_count": 57,
   "id": "c2f4f757-2ee1-423e-9c74-c7d4ce9b57ab",
   "metadata": {
    "jupyter": {
     "source_hidden": true
    },
    "tags": []
   },
   "outputs": [
    {
     "name": "stdout",
     "output_type": "stream",
     "text": [
      "nb de valeurs manquantes dans Q25v2 : 60\n"
     ]
    }
   ],
   "source": [
    "print(\"nb de valeurs manquantes dans Q25v2 : \"+str(BF['Q25v2'].isnull().sum()))"
   ]
  },
  {
   "cell_type": "code",
   "execution_count": 58,
   "id": "92eb1e33-74da-4a77-ada8-428a0c36854d",
   "metadata": {
    "tags": []
   },
   "outputs": [
    {
     "data": {
      "text/plain": [
       "0         30\n",
       "1          0\n",
       "2         97\n",
       "3          0\n",
       "4          5\n",
       "          ..\n",
       "128512     0\n",
       "128513     0\n",
       "128514    61\n",
       "128515     1\n",
       "128516    11\n",
       "Name: Q30new, Length: 128471, dtype: object"
      ]
     },
     "execution_count": 58,
     "metadata": {},
     "output_type": "execute_result"
    }
   ],
   "source": [
    "#Allure proba ne pas réussir à rembourser un prêt\n",
    "BF['Q30new']"
   ]
  },
  {
   "cell_type": "code",
   "execution_count": 59,
   "id": "863c7736-1685-4dd0-8447-ad5ec4de4133",
   "metadata": {
    "jupyter": {
     "source_hidden": true
    },
    "tags": []
   },
   "outputs": [
    {
     "name": "stdout",
     "output_type": "stream",
     "text": [
      "nb de valeurs manquantes dans Q30new : 226\n"
     ]
    }
   ],
   "source": [
    "print(\"nb de valeurs manquantes dans Q30new : \"+str(BF['Q30new'].isnull().sum()))"
   ]
  },
  {
   "cell_type": "code",
   "execution_count": 63,
   "id": "a9950aff-d408-496d-a042-83aacb651ce3",
   "metadata": {
    "tags": []
   },
   "outputs": [
    {
     "data": {
      "text/html": [
       "<div>\n",
       "<style scoped>\n",
       "    .dataframe tbody tr th:only-of-type {\n",
       "        vertical-align: middle;\n",
       "    }\n",
       "\n",
       "    .dataframe tbody tr th {\n",
       "        vertical-align: top;\n",
       "    }\n",
       "\n",
       "    .dataframe thead th {\n",
       "        text-align: right;\n",
       "    }\n",
       "</style>\n",
       "<table border=\"1\" class=\"dataframe\">\n",
       "  <thead>\n",
       "    <tr style=\"text-align: right;\">\n",
       "      <th></th>\n",
       "      <th>date</th>\n",
       "      <th>userid</th>\n",
       "      <th>tenure</th>\n",
       "      <th>weight</th>\n",
       "      <th>Q1</th>\n",
       "      <th>Q2</th>\n",
       "      <th>Q3</th>\n",
       "      <th>Q4new</th>\n",
       "      <th>Q5new</th>\n",
       "      <th>Q6new</th>\n",
       "      <th>...</th>\n",
       "      <th>50k to 100k</th>\n",
       "      <th>Over 100k</th>\n",
       "      <th>Under 50k</th>\n",
       "      <th>High</th>\n",
       "      <th>Low</th>\n",
       "      <th>fem</th>\n",
       "      <th>inflation t</th>\n",
       "      <th>tx_evol_ann_pct</th>\n",
       "      <th>loss expectation</th>\n",
       "      <th>indic_perso</th>\n",
       "    </tr>\n",
       "  </thead>\n",
       "  <tbody>\n",
       "    <tr>\n",
       "      <th>0</th>\n",
       "      <td>2013-06-01</td>\n",
       "      <td>70000220</td>\n",
       "      <td>6</td>\n",
       "      <td>16.327999</td>\n",
       "      <td>3</td>\n",
       "      <td>3</td>\n",
       "      <td>50</td>\n",
       "      <td>20</td>\n",
       "      <td>10</td>\n",
       "      <td>15</td>\n",
       "      <td>...</td>\n",
       "      <td>0.0</td>\n",
       "      <td>0.0</td>\n",
       "      <td>1.0</td>\n",
       "      <td>1.0</td>\n",
       "      <td>0.0</td>\n",
       "      <td>1.0</td>\n",
       "      <td>0.0</td>\n",
       "      <td>1.754417</td>\n",
       "      <td>1.0</td>\n",
       "      <td>0.360</td>\n",
       "    </tr>\n",
       "    <tr>\n",
       "      <th>1</th>\n",
       "      <td>2013-06-01</td>\n",
       "      <td>70000224</td>\n",
       "      <td>7</td>\n",
       "      <td>0.228</td>\n",
       "      <td>4</td>\n",
       "      <td>4</td>\n",
       "      <td>25</td>\n",
       "      <td>10</td>\n",
       "      <td>25</td>\n",
       "      <td>75</td>\n",
       "      <td>...</td>\n",
       "      <td>0.0</td>\n",
       "      <td>1.0</td>\n",
       "      <td>0.0</td>\n",
       "      <td>1.0</td>\n",
       "      <td>0.0</td>\n",
       "      <td>0.0</td>\n",
       "      <td>0.0</td>\n",
       "      <td>1.754417</td>\n",
       "      <td>NaN</td>\n",
       "      <td>0.050</td>\n",
       "    </tr>\n",
       "    <tr>\n",
       "      <th>2</th>\n",
       "      <td>2013-06-01</td>\n",
       "      <td>70000234</td>\n",
       "      <td>6</td>\n",
       "      <td>4.066</td>\n",
       "      <td>4</td>\n",
       "      <td>3</td>\n",
       "      <td>3</td>\n",
       "      <td>9</td>\n",
       "      <td>20</td>\n",
       "      <td>20</td>\n",
       "      <td>...</td>\n",
       "      <td>0.0</td>\n",
       "      <td>1.0</td>\n",
       "      <td>0.0</td>\n",
       "      <td>1.0</td>\n",
       "      <td>0.0</td>\n",
       "      <td>1.0</td>\n",
       "      <td>0.0</td>\n",
       "      <td>1.754417</td>\n",
       "      <td>NaN</td>\n",
       "      <td>0.200</td>\n",
       "    </tr>\n",
       "    <tr>\n",
       "      <th>3</th>\n",
       "      <td>2013-06-01</td>\n",
       "      <td>70000238</td>\n",
       "      <td>6</td>\n",
       "      <td>3.035</td>\n",
       "      <td>3</td>\n",
       "      <td>3</td>\n",
       "      <td>0</td>\n",
       "      <td>10</td>\n",
       "      <td>5</td>\n",
       "      <td>70</td>\n",
       "      <td>...</td>\n",
       "      <td>0.0</td>\n",
       "      <td>0.0</td>\n",
       "      <td>1.0</td>\n",
       "      <td>0.0</td>\n",
       "      <td>1.0</td>\n",
       "      <td>0.0</td>\n",
       "      <td>0.0</td>\n",
       "      <td>1.754417</td>\n",
       "      <td>NaN</td>\n",
       "      <td>0.000</td>\n",
       "    </tr>\n",
       "    <tr>\n",
       "      <th>4</th>\n",
       "      <td>2013-06-01</td>\n",
       "      <td>70000239</td>\n",
       "      <td>7</td>\n",
       "      <td>1.947</td>\n",
       "      <td>2</td>\n",
       "      <td>3</td>\n",
       "      <td>10</td>\n",
       "      <td>20</td>\n",
       "      <td>20</td>\n",
       "      <td>50</td>\n",
       "      <td>...</td>\n",
       "      <td>0.0</td>\n",
       "      <td>0.0</td>\n",
       "      <td>1.0</td>\n",
       "      <td>0.0</td>\n",
       "      <td>1.0</td>\n",
       "      <td>1.0</td>\n",
       "      <td>0.0</td>\n",
       "      <td>1.754417</td>\n",
       "      <td>1.0</td>\n",
       "      <td>0.290</td>\n",
       "    </tr>\n",
       "    <tr>\n",
       "      <th>...</th>\n",
       "      <td>...</td>\n",
       "      <td>...</td>\n",
       "      <td>...</td>\n",
       "      <td>...</td>\n",
       "      <td>...</td>\n",
       "      <td>...</td>\n",
       "      <td>...</td>\n",
       "      <td>...</td>\n",
       "      <td>...</td>\n",
       "      <td>...</td>\n",
       "      <td>...</td>\n",
       "      <td>...</td>\n",
       "      <td>...</td>\n",
       "      <td>...</td>\n",
       "      <td>...</td>\n",
       "      <td>...</td>\n",
       "      <td>...</td>\n",
       "      <td>...</td>\n",
       "      <td>...</td>\n",
       "      <td>...</td>\n",
       "      <td>...</td>\n",
       "    </tr>\n",
       "    <tr>\n",
       "      <th>128512</th>\n",
       "      <td>2022-04-01</td>\n",
       "      <td>75005974</td>\n",
       "      <td>1</td>\n",
       "      <td>0.556409</td>\n",
       "      <td>4</td>\n",
       "      <td>3</td>\n",
       "      <td>3</td>\n",
       "      <td>72</td>\n",
       "      <td>90</td>\n",
       "      <td>51</td>\n",
       "      <td>...</td>\n",
       "      <td>0.0</td>\n",
       "      <td>1.0</td>\n",
       "      <td>0.0</td>\n",
       "      <td>1.0</td>\n",
       "      <td>0.0</td>\n",
       "      <td>0.0</td>\n",
       "      <td>0.0</td>\n",
       "      <td>8.258629</td>\n",
       "      <td>NaN</td>\n",
       "      <td>0.006</td>\n",
       "    </tr>\n",
       "    <tr>\n",
       "      <th>128513</th>\n",
       "      <td>2022-04-01</td>\n",
       "      <td>75005980</td>\n",
       "      <td>1</td>\n",
       "      <td>0.708391</td>\n",
       "      <td>2</td>\n",
       "      <td>3</td>\n",
       "      <td>34</td>\n",
       "      <td>22</td>\n",
       "      <td>86</td>\n",
       "      <td>54</td>\n",
       "      <td>...</td>\n",
       "      <td>1.0</td>\n",
       "      <td>0.0</td>\n",
       "      <td>0.0</td>\n",
       "      <td>1.0</td>\n",
       "      <td>0.0</td>\n",
       "      <td>1.0</td>\n",
       "      <td>0.0</td>\n",
       "      <td>8.258629</td>\n",
       "      <td>1.0</td>\n",
       "      <td>0.268</td>\n",
       "    </tr>\n",
       "    <tr>\n",
       "      <th>128514</th>\n",
       "      <td>2022-04-01</td>\n",
       "      <td>75005987</td>\n",
       "      <td>1</td>\n",
       "      <td>0.915896</td>\n",
       "      <td>2</td>\n",
       "      <td>4</td>\n",
       "      <td>81</td>\n",
       "      <td>70</td>\n",
       "      <td>51</td>\n",
       "      <td>47</td>\n",
       "      <td>...</td>\n",
       "      <td>0.0</td>\n",
       "      <td>0.0</td>\n",
       "      <td>1.0</td>\n",
       "      <td>0.0</td>\n",
       "      <td>1.0</td>\n",
       "      <td>1.0</td>\n",
       "      <td>0.0</td>\n",
       "      <td>8.258629</td>\n",
       "      <td>NaN</td>\n",
       "      <td>0.484</td>\n",
       "    </tr>\n",
       "    <tr>\n",
       "      <th>128515</th>\n",
       "      <td>2022-04-01</td>\n",
       "      <td>75005995</td>\n",
       "      <td>1</td>\n",
       "      <td>0.888988</td>\n",
       "      <td>4</td>\n",
       "      <td>4</td>\n",
       "      <td>95</td>\n",
       "      <td>5</td>\n",
       "      <td>5</td>\n",
       "      <td>5</td>\n",
       "      <td>...</td>\n",
       "      <td>1.0</td>\n",
       "      <td>0.0</td>\n",
       "      <td>0.0</td>\n",
       "      <td>0.0</td>\n",
       "      <td>1.0</td>\n",
       "      <td>1.0</td>\n",
       "      <td>0.0</td>\n",
       "      <td>8.258629</td>\n",
       "      <td>NaN</td>\n",
       "      <td>0.202</td>\n",
       "    </tr>\n",
       "    <tr>\n",
       "      <th>128516</th>\n",
       "      <td>2022-04-01</td>\n",
       "      <td>75005996</td>\n",
       "      <td>1</td>\n",
       "      <td>0.97863</td>\n",
       "      <td>1</td>\n",
       "      <td>3</td>\n",
       "      <td>1</td>\n",
       "      <td>50</td>\n",
       "      <td>30</td>\n",
       "      <td>40</td>\n",
       "      <td>...</td>\n",
       "      <td>0.0</td>\n",
       "      <td>0.0</td>\n",
       "      <td>1.0</td>\n",
       "      <td>0.0</td>\n",
       "      <td>1.0</td>\n",
       "      <td>0.0</td>\n",
       "      <td>0.0</td>\n",
       "      <td>8.258629</td>\n",
       "      <td>NaN</td>\n",
       "      <td>0.024</td>\n",
       "    </tr>\n",
       "  </tbody>\n",
       "</table>\n",
       "<p>128471 rows × 236 columns</p>\n",
       "</div>"
      ],
      "text/plain": [
       "             date    userid tenure     weight Q1 Q2  Q3 Q4new Q5new Q6new  \\\n",
       "0      2013-06-01  70000220      6  16.327999  3  3  50    20    10    15   \n",
       "1      2013-06-01  70000224      7      0.228  4  4  25    10    25    75   \n",
       "2      2013-06-01  70000234      6      4.066  4  3   3     9    20    20   \n",
       "3      2013-06-01  70000238      6      3.035  3  3   0    10     5    70   \n",
       "4      2013-06-01  70000239      7      1.947  2  3  10    20    20    50   \n",
       "...           ...       ...    ...        ... .. ..  ..   ...   ...   ...   \n",
       "128512 2022-04-01  75005974      1   0.556409  4  3   3    72    90    51   \n",
       "128513 2022-04-01  75005980      1   0.708391  2  3  34    22    86    54   \n",
       "128514 2022-04-01  75005987      1   0.915896  2  4  81    70    51    47   \n",
       "128515 2022-04-01  75005995      1   0.888988  4  4  95     5     5     5   \n",
       "128516 2022-04-01  75005996      1    0.97863  1  3   1    50    30    40   \n",
       "\n",
       "        ... 50k to 100k Over 100k Under 50k High  Low  fem inflation t  \\\n",
       "0       ...         0.0       0.0       1.0  1.0  0.0  1.0         0.0   \n",
       "1       ...         0.0       1.0       0.0  1.0  0.0  0.0         0.0   \n",
       "2       ...         0.0       1.0       0.0  1.0  0.0  1.0         0.0   \n",
       "3       ...         0.0       0.0       1.0  0.0  1.0  0.0         0.0   \n",
       "4       ...         0.0       0.0       1.0  0.0  1.0  1.0         0.0   \n",
       "...     ...         ...       ...       ...  ...  ...  ...         ...   \n",
       "128512  ...         0.0       1.0       0.0  1.0  0.0  0.0         0.0   \n",
       "128513  ...         1.0       0.0       0.0  1.0  0.0  1.0         0.0   \n",
       "128514  ...         0.0       0.0       1.0  0.0  1.0  1.0         0.0   \n",
       "128515  ...         1.0       0.0       0.0  0.0  1.0  1.0         0.0   \n",
       "128516  ...         0.0       0.0       1.0  0.0  1.0  0.0         0.0   \n",
       "\n",
       "       tx_evol_ann_pct loss expectation indic_perso  \n",
       "0             1.754417              1.0       0.360  \n",
       "1             1.754417              NaN       0.050  \n",
       "2             1.754417              NaN       0.200  \n",
       "3             1.754417              NaN       0.000  \n",
       "4             1.754417              1.0       0.290  \n",
       "...                ...              ...         ...  \n",
       "128512        8.258629              NaN       0.006  \n",
       "128513        8.258629              1.0       0.268  \n",
       "128514        8.258629              NaN       0.484  \n",
       "128515        8.258629              NaN       0.202  \n",
       "128516        8.258629              NaN       0.024  \n",
       "\n",
       "[128471 rows x 236 columns]"
      ]
     },
     "execution_count": 63,
     "metadata": {},
     "output_type": "execute_result"
    }
   ],
   "source": [
    "BF"
   ]
  },
  {
   "cell_type": "code",
   "execution_count": 64,
   "id": "a595a222-c26d-4ea5-a80a-7de6ed992d81",
   "metadata": {
    "tags": []
   },
   "outputs": [],
   "source": [
    "instabilité = ['Q3', 'Q10_3', 'Q13new', 'Q25v2', 'Q30new']"
   ]
  },
  {
   "cell_type": "code",
   "execution_count": 65,
   "id": "1640f440-165e-4ca6-88ec-f829ead74e53",
   "metadata": {
    "tags": []
   },
   "outputs": [],
   "source": [
    "#on fabrique un dataframe sans les valeurs manquantes\n",
    "BF2 = BF.dropna(subset=instabilité)"
   ]
  },
  {
   "cell_type": "code",
   "execution_count": 66,
   "id": "3f969ea2-9c97-4dad-a8db-d002c9d1096a",
   "metadata": {
    "tags": []
   },
   "outputs": [],
   "source": [
    "%%capture\n",
    "#du coup on re binarise\n",
    "BF2.loc[BF['Q25v2']==3, 'loss expectation'] = 1\n",
    "BF2['loss expectation']=BF2.fillna(0)['loss expectation']"
   ]
  },
  {
   "cell_type": "code",
   "execution_count": 67,
   "id": "5bfe666e-eaed-4b67-b96a-834d035115c0",
   "metadata": {
    "tags": []
   },
   "outputs": [],
   "source": [
    "instabilité = ['Q3', 'Q10_3', 'Q13new', 'loss expectation', 'Q30new']"
   ]
  },
  {
   "cell_type": "code",
   "execution_count": 69,
   "id": "51feff40-ac48-4c77-83fb-8e644f3f127f",
   "metadata": {
    "tags": []
   },
   "outputs": [],
   "source": [
    "%%capture\n",
    "#transformation des colonnes en float\n",
    "for element in instabilité :\n",
    "    BF2[element] = BF2[element].astype(float)"
   ]
  },
  {
   "cell_type": "code",
   "execution_count": 71,
   "id": "f4ad5828-6dc1-4efa-b445-44798ef7ca90",
   "metadata": {
    "tags": []
   },
   "outputs": [],
   "source": [
    "BF2 = BF2.rename(columns={'Q3': 'proba chgt résidence',\n",
    "                          'Q10_3': 'chômage',\n",
    "                          'Q13new': 'proba chgt emploi',\n",
    "                          'loss expectation': 'proba perte revenus',\n",
    "                          'Q30new': 'proba ne pas réussir à rembourser un prêt'})"
   ]
  },
  {
   "cell_type": "code",
   "execution_count": 72,
   "id": "3feb56f0-36c0-4057-84b9-ef014a525c09",
   "metadata": {
    "tags": []
   },
   "outputs": [],
   "source": [
    "instabilité = ['proba chgt résidence',\n",
    "               'chômage',\n",
    "               'proba chgt emploi',\n",
    "               'proba perte revenus',\n",
    "               'proba ne pas réussir à rembourser un prêt']"
   ]
  },
  {
   "cell_type": "code",
   "execution_count": 75,
   "id": "5e9cfede-95ed-46f1-9725-15c09548e32a",
   "metadata": {
    "tags": []
   },
   "outputs": [
    {
     "data": {
      "text/html": [
       "<table class=\"simpletable\">\n",
       "<caption>OLS Regression Results</caption>\n",
       "<tr>\n",
       "  <th>Dep. Variable:</th>        <td>Q8v2part2</td>    <th>  R-squared:         </th>  <td>   0.006</td>  \n",
       "</tr>\n",
       "<tr>\n",
       "  <th>Model:</th>                   <td>OLS</td>       <th>  Adj. R-squared:    </th>  <td>   0.006</td>  \n",
       "</tr>\n",
       "<tr>\n",
       "  <th>Method:</th>             <td>Least Squares</td>  <th>  F-statistic:       </th>  <td>   89.94</td>  \n",
       "</tr>\n",
       "<tr>\n",
       "  <th>Date:</th>             <td>Sat, 11 Mar 2023</td> <th>  Prob (F-statistic):</th>  <td>1.11e-94</td>  \n",
       "</tr>\n",
       "<tr>\n",
       "  <th>Time:</th>                 <td>09:40:02</td>     <th>  Log-Likelihood:    </th> <td>-2.2895e+05</td>\n",
       "</tr>\n",
       "<tr>\n",
       "  <th>No. Observations:</th>      <td> 75642</td>      <th>  AIC:               </th>  <td>4.579e+05</td> \n",
       "</tr>\n",
       "<tr>\n",
       "  <th>Df Residuals:</th>          <td> 75636</td>      <th>  BIC:               </th>  <td>4.580e+05</td> \n",
       "</tr>\n",
       "<tr>\n",
       "  <th>Df Model:</th>              <td>     5</td>      <th>                     </th>      <td> </td>     \n",
       "</tr>\n",
       "<tr>\n",
       "  <th>Covariance Type:</th>      <td>nonrobust</td>    <th>                     </th>      <td> </td>     \n",
       "</tr>\n",
       "</table>\n",
       "<table class=\"simpletable\">\n",
       "<tr>\n",
       "                      <td></td>                         <th>coef</th>     <th>std err</th>      <th>t</th>      <th>P>|t|</th>  <th>[0.025</th>    <th>0.975]</th>  \n",
       "</tr>\n",
       "<tr>\n",
       "  <th>const</th>                                     <td>    3.7076</td> <td>    0.026</td> <td>  144.931</td> <td> 0.000</td> <td>    3.657</td> <td>    3.758</td>\n",
       "</tr>\n",
       "<tr>\n",
       "  <th>proba chgt résidence</th>                      <td>   -0.0031</td> <td>    0.001</td> <td>   -5.023</td> <td> 0.000</td> <td>   -0.004</td> <td>   -0.002</td>\n",
       "</tr>\n",
       "<tr>\n",
       "  <th>chômage</th>                                   <td>   -1.9208</td> <td>    0.641</td> <td>   -2.999</td> <td> 0.003</td> <td>   -3.176</td> <td>   -0.665</td>\n",
       "</tr>\n",
       "<tr>\n",
       "  <th>proba chgt emploi</th>                         <td>    0.0030</td> <td>    0.001</td> <td>    3.070</td> <td> 0.002</td> <td>    0.001</td> <td>    0.005</td>\n",
       "</tr>\n",
       "<tr>\n",
       "  <th>proba perte revenus</th>                       <td>    0.3026</td> <td>    0.065</td> <td>    4.676</td> <td> 0.000</td> <td>    0.176</td> <td>    0.429</td>\n",
       "</tr>\n",
       "<tr>\n",
       "  <th>proba ne pas réussir à rembourser un prêt</th> <td>    0.0175</td> <td>    0.001</td> <td>   18.660</td> <td> 0.000</td> <td>    0.016</td> <td>    0.019</td>\n",
       "</tr>\n",
       "</table>\n",
       "<table class=\"simpletable\">\n",
       "<tr>\n",
       "  <th>Omnibus:</th>       <td>8323.181</td> <th>  Durbin-Watson:     </th> <td>   1.936</td> \n",
       "</tr>\n",
       "<tr>\n",
       "  <th>Prob(Omnibus):</th>  <td> 0.000</td>  <th>  Jarque-Bera (JB):  </th> <td>72011.025</td>\n",
       "</tr>\n",
       "<tr>\n",
       "  <th>Skew:</th>           <td> 0.165</td>  <th>  Prob(JB):          </th> <td>    0.00</td> \n",
       "</tr>\n",
       "<tr>\n",
       "  <th>Kurtosis:</th>       <td> 7.768</td>  <th>  Cond. No.          </th> <td>1.40e+03</td> \n",
       "</tr>\n",
       "</table><br/><br/>Notes:<br/>[1] Standard Errors assume that the covariance matrix of the errors is correctly specified.<br/>[2] The condition number is large, 1.4e+03. This might indicate that there are<br/>strong multicollinearity or other numerical problems."
      ],
      "text/plain": [
       "<class 'statsmodels.iolib.summary.Summary'>\n",
       "\"\"\"\n",
       "                            OLS Regression Results                            \n",
       "==============================================================================\n",
       "Dep. Variable:              Q8v2part2   R-squared:                       0.006\n",
       "Model:                            OLS   Adj. R-squared:                  0.006\n",
       "Method:                 Least Squares   F-statistic:                     89.94\n",
       "Date:                Sat, 11 Mar 2023   Prob (F-statistic):           1.11e-94\n",
       "Time:                        09:40:02   Log-Likelihood:            -2.2895e+05\n",
       "No. Observations:               75642   AIC:                         4.579e+05\n",
       "Df Residuals:                   75636   BIC:                         4.580e+05\n",
       "Df Model:                           5                                         \n",
       "Covariance Type:            nonrobust                                         \n",
       "=============================================================================================================\n",
       "                                                coef    std err          t      P>|t|      [0.025      0.975]\n",
       "-------------------------------------------------------------------------------------------------------------\n",
       "const                                         3.7076      0.026    144.931      0.000       3.657       3.758\n",
       "proba chgt résidence                         -0.0031      0.001     -5.023      0.000      -0.004      -0.002\n",
       "chômage                                      -1.9208      0.641     -2.999      0.003      -3.176      -0.665\n",
       "proba chgt emploi                             0.0030      0.001      3.070      0.002       0.001       0.005\n",
       "proba perte revenus                           0.3026      0.065      4.676      0.000       0.176       0.429\n",
       "proba ne pas réussir à rembourser un prêt     0.0175      0.001     18.660      0.000       0.016       0.019\n",
       "==============================================================================\n",
       "Omnibus:                     8323.181   Durbin-Watson:                   1.936\n",
       "Prob(Omnibus):                  0.000   Jarque-Bera (JB):            72011.025\n",
       "Skew:                           0.165   Prob(JB):                         0.00\n",
       "Kurtosis:                       7.768   Cond. No.                     1.40e+03\n",
       "==============================================================================\n",
       "\n",
       "Notes:\n",
       "[1] Standard Errors assume that the covariance matrix of the errors is correctly specified.\n",
       "[2] The condition number is large, 1.4e+03. This might indicate that there are\n",
       "strong multicollinearity or other numerical problems.\n",
       "\"\"\""
      ]
     },
     "execution_count": 75,
     "metadata": {},
     "output_type": "execute_result"
    }
   ],
   "source": [
    "Y = BF2['Q8v2part2'].astype('float')\n",
    "X = BF2[instabilité]\n",
    "X = sm.add_constant(X)\n",
    "model = sm.OLS(Y,X)\n",
    "results = model.fit()\n",
    "su = results.summary()\n",
    "su"
   ]
  },
  {
   "cell_type": "markdown",
   "id": "a6395262-f367-440d-b60a-b51efc5ee230",
   "metadata": {},
   "source": [
    "Les coeff sont tous significatifs à 95%, mais très petits"
   ]
  },
  {
   "cell_type": "markdown",
   "id": "5ab8c05e-1b5e-4c5d-80ec-cad2395cf55b",
   "metadata": {},
   "source": [
    "## Maintenant, essayons de définir un indicateur pour l'instabilité macro :"
   ]
  },
  {
   "cell_type": "markdown",
   "id": "933c58fb-8bf8-4d20-b340-d1f413b5e616",
   "metadata": {},
   "source": [
    "On va noter ici les variables qui pourraient être utiles pour définir un tel indicateur :\n",
    "- Q4new: probabilité d'augmentation du chômage dans les douze prochain mois\n",
    "- Q5new: proba d'une augmentation des taux d'intêret\n",
    "- Q6new: proba d'une augmentation des indices boursiers: 100-Q6new = chance d'une baisse donc\n"
   ]
  },
  {
   "cell_type": "code",
   "execution_count": null,
   "id": "939d428b-47fe-4a71-99dd-86c11b2b7cf8",
   "metadata": {
    "tags": []
   },
   "outputs": [],
   "source": [
    "BF['indic_macro']=(BF.fillna(0)['Q4new']/100+BF.fillna(0)['Q5new']/100+(100-BF.fillna(0)['Q6new'])/100)/3"
   ]
  },
  {
   "cell_type": "markdown",
   "id": "77ff03ac-f1aa-4f7a-9406-2c33e5e67af8",
   "metadata": {},
   "source": [
    "Maintenant, faisons quelques statistiques descriptives :"
   ]
  },
  {
   "cell_type": "code",
   "execution_count": 120,
   "id": "ade8a8f9-fb8a-4ddb-8b83-2b17e708a382",
   "metadata": {
    "tags": []
   },
   "outputs": [
    {
     "data": {
      "text/plain": [
       "0.41333333333333333"
      ]
     },
     "execution_count": 120,
     "metadata": {},
     "output_type": "execute_result"
    }
   ],
   "source": [
    "stat.median(BF['indic_macro'])"
   ]
  },
  {
   "cell_type": "code",
   "execution_count": 121,
   "id": "4cf1dd7a-f33b-43ba-991c-69801e18ca70",
   "metadata": {
    "tags": []
   },
   "outputs": [
    {
     "data": {
      "text/plain": [
       "0.42187555946478195"
      ]
     },
     "execution_count": 121,
     "metadata": {},
     "output_type": "execute_result"
    }
   ],
   "source": [
    "stat.mean(BF['indic_macro'])"
   ]
  },
  {
   "cell_type": "code",
   "execution_count": 122,
   "id": "b1d976bc-957e-44c3-a289-4b8f05f10ede",
   "metadata": {
    "tags": []
   },
   "outputs": [
    {
     "data": {
      "text/plain": [
       "0.41943502490502443"
      ]
     },
     "execution_count": 122,
     "metadata": {},
     "output_type": "execute_result"
    }
   ],
   "source": [
    "weighted_average(BF, 'indic_macro', 'weight')"
   ]
  },
  {
   "cell_type": "code",
   "execution_count": 123,
   "id": "cfba6da1-0938-46dc-80ee-6b71f4f98a39",
   "metadata": {
    "tags": []
   },
   "outputs": [
    {
     "data": {
      "text/plain": [
       "0.12286288554204154"
      ]
     },
     "execution_count": 123,
     "metadata": {},
     "output_type": "execute_result"
    }
   ],
   "source": [
    "stat.pstdev(BF['indic_macro'])"
   ]
  },
  {
   "cell_type": "code",
   "execution_count": 119,
   "id": "0727c812-d175-4972-9df8-8c1ffd62f8f0",
   "metadata": {
    "tags": []
   },
   "outputs": [
    {
     "data": {
      "text/plain": [
       "0         0.383333\n",
       "1         0.200000\n",
       "2         0.363333\n",
       "3         0.150000\n",
       "4         0.300000\n",
       "            ...   \n",
       "128512    0.703333\n",
       "128513    0.513333\n",
       "128514    0.580000\n",
       "128515    0.350000\n",
       "128516    0.466667\n",
       "Name: indic_macro, Length: 128471, dtype: float64"
      ]
     },
     "execution_count": 119,
     "metadata": {},
     "output_type": "execute_result"
    }
   ],
   "source": [
    "BF['indic_macro']"
   ]
  },
  {
   "cell_type": "code",
   "execution_count": 124,
   "id": "afa4b7ca-8717-4d43-8dc2-e2c33aecb44a",
   "metadata": {
    "tags": []
   },
   "outputs": [
    {
     "data": {
      "text/html": [
       "<table class=\"simpletable\">\n",
       "<caption>OLS Regression Results</caption>\n",
       "<tr>\n",
       "  <th>Dep. Variable:</th>        <td>Q8v2part2</td>    <th>  R-squared:         </th>  <td>   0.027</td>  \n",
       "</tr>\n",
       "<tr>\n",
       "  <th>Model:</th>                   <td>OLS</td>       <th>  Adj. R-squared:    </th>  <td>   0.027</td>  \n",
       "</tr>\n",
       "<tr>\n",
       "  <th>Method:</th>             <td>Least Squares</td>  <th>  F-statistic:       </th>  <td>   1167.</td>  \n",
       "</tr>\n",
       "<tr>\n",
       "  <th>Date:</th>             <td>Fri, 10 Mar 2023</td> <th>  Prob (F-statistic):</th>   <td>  0.00</td>   \n",
       "</tr>\n",
       "<tr>\n",
       "  <th>Time:</th>                 <td>16:32:20</td>     <th>  Log-Likelihood:    </th> <td>-3.9205e+05</td>\n",
       "</tr>\n",
       "<tr>\n",
       "  <th>No. Observations:</th>      <td>128471</td>      <th>  AIC:               </th>  <td>7.841e+05</td> \n",
       "</tr>\n",
       "<tr>\n",
       "  <th>Df Residuals:</th>          <td>128467</td>      <th>  BIC:               </th>  <td>7.841e+05</td> \n",
       "</tr>\n",
       "<tr>\n",
       "  <th>Df Model:</th>              <td>     3</td>      <th>                     </th>      <td> </td>     \n",
       "</tr>\n",
       "<tr>\n",
       "  <th>Covariance Type:</th>      <td>nonrobust</td>    <th>                     </th>      <td> </td>     \n",
       "</tr>\n",
       "</table>\n",
       "<table class=\"simpletable\">\n",
       "<tr>\n",
       "         <td></td>            <th>coef</th>     <th>std err</th>      <th>t</th>      <th>P>|t|</th>  <th>[0.025</th>    <th>0.975]</th>  \n",
       "</tr>\n",
       "<tr>\n",
       "  <th>const</th>           <td>    2.0093</td> <td>    0.054</td> <td>   37.180</td> <td> 0.000</td> <td>    1.903</td> <td>    2.115</td>\n",
       "</tr>\n",
       "<tr>\n",
       "  <th>tx_evol_ann_pct</th> <td>    0.4285</td> <td>    0.008</td> <td>   52.514</td> <td> 0.000</td> <td>    0.412</td> <td>    0.444</td>\n",
       "</tr>\n",
       "<tr>\n",
       "  <th>indic_perso</th>     <td>    1.4846</td> <td>    0.095</td> <td>   15.670</td> <td> 0.000</td> <td>    1.299</td> <td>    1.670</td>\n",
       "</tr>\n",
       "<tr>\n",
       "  <th>indic_macro</th>     <td>    2.4449</td> <td>    0.117</td> <td>   20.808</td> <td> 0.000</td> <td>    2.215</td> <td>    2.675</td>\n",
       "</tr>\n",
       "</table>\n",
       "<table class=\"simpletable\">\n",
       "<tr>\n",
       "  <th>Omnibus:</th>       <td>13293.140</td> <th>  Durbin-Watson:     </th>  <td>   1.974</td> \n",
       "</tr>\n",
       "<tr>\n",
       "  <th>Prob(Omnibus):</th>  <td> 0.000</td>   <th>  Jarque-Bera (JB):  </th> <td>110904.274</td>\n",
       "</tr>\n",
       "<tr>\n",
       "  <th>Skew:</th>           <td> 0.107</td>   <th>  Prob(JB):          </th>  <td>    0.00</td> \n",
       "</tr>\n",
       "<tr>\n",
       "  <th>Kurtosis:</th>       <td> 7.547</td>   <th>  Cond. No.          </th>  <td>    25.6</td> \n",
       "</tr>\n",
       "</table><br/><br/>Notes:<br/>[1] Standard Errors assume that the covariance matrix of the errors is correctly specified."
      ],
      "text/plain": [
       "<class 'statsmodels.iolib.summary.Summary'>\n",
       "\"\"\"\n",
       "                            OLS Regression Results                            \n",
       "==============================================================================\n",
       "Dep. Variable:              Q8v2part2   R-squared:                       0.027\n",
       "Model:                            OLS   Adj. R-squared:                  0.027\n",
       "Method:                 Least Squares   F-statistic:                     1167.\n",
       "Date:                Fri, 10 Mar 2023   Prob (F-statistic):               0.00\n",
       "Time:                        16:32:20   Log-Likelihood:            -3.9205e+05\n",
       "No. Observations:              128471   AIC:                         7.841e+05\n",
       "Df Residuals:                  128467   BIC:                         7.841e+05\n",
       "Df Model:                           3                                         \n",
       "Covariance Type:            nonrobust                                         \n",
       "===================================================================================\n",
       "                      coef    std err          t      P>|t|      [0.025      0.975]\n",
       "-----------------------------------------------------------------------------------\n",
       "const               2.0093      0.054     37.180      0.000       1.903       2.115\n",
       "tx_evol_ann_pct     0.4285      0.008     52.514      0.000       0.412       0.444\n",
       "indic_perso         1.4846      0.095     15.670      0.000       1.299       1.670\n",
       "indic_macro         2.4449      0.117     20.808      0.000       2.215       2.675\n",
       "==============================================================================\n",
       "Omnibus:                    13293.140   Durbin-Watson:                   1.974\n",
       "Prob(Omnibus):                  0.000   Jarque-Bera (JB):           110904.274\n",
       "Skew:                           0.107   Prob(JB):                         0.00\n",
       "Kurtosis:                       7.547   Cond. No.                         25.6\n",
       "==============================================================================\n",
       "\n",
       "Notes:\n",
       "[1] Standard Errors assume that the covariance matrix of the errors is correctly specified.\n",
       "\"\"\""
      ]
     },
     "execution_count": 124,
     "metadata": {},
     "output_type": "execute_result"
    }
   ],
   "source": [
    "Y = BF['Q8v2part2'].astype('float')\n",
    "X = BF.fillna(0)[['tx_evol_ann_pct','indic_perso','indic_macro']]\n",
    "X = sm.add_constant(X)\n",
    "model = sm.OLS(Y,X)\n",
    "results = model.fit()\n",
    "su = results.summary()\n",
    "su"
   ]
  },
  {
   "cell_type": "markdown",
   "id": "4d82c9c0-347a-43f0-a6b8-28fc450a48bb",
   "metadata": {},
   "source": [
    "### Idem, alternative sans bloc :"
   ]
  },
  {
   "cell_type": "code",
   "execution_count": 76,
   "id": "ef15fd2e-034f-48e3-9f8a-0a4fdf7d2c85",
   "metadata": {
    "tags": []
   },
   "outputs": [
    {
     "data": {
      "text/plain": [
       "0         20\n",
       "1         10\n",
       "2          9\n",
       "3         10\n",
       "4         20\n",
       "          ..\n",
       "128512    72\n",
       "128513    22\n",
       "128514    70\n",
       "128515     5\n",
       "128516    50\n",
       "Name: Q4new, Length: 128471, dtype: object"
      ]
     },
     "execution_count": 76,
     "metadata": {},
     "output_type": "execute_result"
    }
   ],
   "source": [
    "BF['Q4new']"
   ]
  },
  {
   "cell_type": "code",
   "execution_count": 78,
   "id": "659ff050-61c4-4d66-94ee-50e2850e713d",
   "metadata": {
    "jupyter": {
     "source_hidden": true
    },
    "tags": []
   },
   "outputs": [
    {
     "name": "stdout",
     "output_type": "stream",
     "text": [
      "nb de valeurs manquantes dans Q4new : 255\n"
     ]
    }
   ],
   "source": [
    "print(\"nb de valeurs manquantes dans Q4new : \"+str(BF['Q4new'].isnull().sum()))"
   ]
  },
  {
   "cell_type": "code",
   "execution_count": 79,
   "id": "11c55098-6d13-4df9-bf0f-83a98bc0c5d0",
   "metadata": {
    "tags": []
   },
   "outputs": [
    {
     "data": {
      "text/plain": [
       "0         10\n",
       "1         25\n",
       "2         20\n",
       "3          5\n",
       "4         20\n",
       "          ..\n",
       "128512    90\n",
       "128513    86\n",
       "128514    51\n",
       "128515     5\n",
       "128516    30\n",
       "Name: Q5new, Length: 128471, dtype: object"
      ]
     },
     "execution_count": 79,
     "metadata": {},
     "output_type": "execute_result"
    }
   ],
   "source": [
    "BF['Q5new']"
   ]
  },
  {
   "cell_type": "code",
   "execution_count": 80,
   "id": "f6832bb1-3b9b-4f64-83fe-beb4d97d9d14",
   "metadata": {
    "jupyter": {
     "source_hidden": true
    },
    "tags": []
   },
   "outputs": [
    {
     "name": "stdout",
     "output_type": "stream",
     "text": [
      "nb de valeurs manquantes dans Q5new : 241\n"
     ]
    }
   ],
   "source": [
    "print(\"nb de valeurs manquantes dans Q5new : \"+str(BF['Q5new'].isnull().sum()))"
   ]
  },
  {
   "cell_type": "code",
   "execution_count": 81,
   "id": "544f75aa-7639-49cc-88ee-230246ccf7ed",
   "metadata": {
    "tags": []
   },
   "outputs": [
    {
     "data": {
      "text/plain": [
       "0         15\n",
       "1         75\n",
       "2         20\n",
       "3         70\n",
       "4         50\n",
       "          ..\n",
       "128512    51\n",
       "128513    54\n",
       "128514    47\n",
       "128515     5\n",
       "128516    40\n",
       "Name: Q6new, Length: 128471, dtype: object"
      ]
     },
     "execution_count": 81,
     "metadata": {},
     "output_type": "execute_result"
    }
   ],
   "source": [
    "BF['Q6new']"
   ]
  },
  {
   "cell_type": "code",
   "execution_count": 82,
   "id": "ccf8849d-2c93-478e-b841-a1926acac958",
   "metadata": {
    "jupyter": {
     "source_hidden": true
    },
    "tags": []
   },
   "outputs": [
    {
     "name": "stdout",
     "output_type": "stream",
     "text": [
      "nb de valeurs manquantes dans Q6new : 810\n"
     ]
    }
   ],
   "source": [
    "print(\"nb de valeurs manquantes dans Q6new : \"+str(BF['Q6new'].isnull().sum()))"
   ]
  },
  {
   "cell_type": "markdown",
   "id": "05a3ee3f-70da-429c-8b95-e0260f281d59",
   "metadata": {},
   "source": [
    "Au total on va perdre pas mal de répondants, mais ça reste pas énorme"
   ]
  },
  {
   "cell_type": "markdown",
   "id": "a8743bfe-740a-42bc-95f7-992ac603d16f",
   "metadata": {},
   "source": [
    "Se posera tout de même la question, si l'on envisage une grosse régression, du nombre d'individus qui auront répondu à tout ce qui nous intéresse ; d'ailleurs étudions ça avant de passer à la suite"
   ]
  },
  {
   "cell_type": "code",
   "execution_count": 111,
   "id": "8386b3d6-e7ef-4ea5-b9d6-644306f19660",
   "metadata": {
    "tags": []
   },
   "outputs": [
    {
     "data": {
      "text/plain": [
       "53191"
      ]
     },
     "execution_count": 111,
     "metadata": {},
     "output_type": "execute_result"
    }
   ],
   "source": [
    "len(BF[BF['Q3'].isna() | \n",
    "       BF['Q10_3'].isna()  |\n",
    "       BF['Q13new'].isna() | \n",
    "       BF['Q25v2'].isna() | \n",
    "       BF['Q30new'].isna() | \n",
    "       BF['Q4new'].isna() | \n",
    "       BF['Q5new'].isna() | \n",
    "       BF['Q6new'].isna()])"
   ]
  },
  {
   "cell_type": "markdown",
   "id": "f0af3dc2-f11e-4ccd-a686-3839ce2c5848",
   "metadata": {},
   "source": [
    "On perd la moitié des répondants. Tandis que sans la question de la proba de changer d'emploi :"
   ]
  },
  {
   "cell_type": "code",
   "execution_count": 112,
   "id": "bfeafbd5-a44d-44d5-9900-9e2f9ecd61d8",
   "metadata": {
    "tags": []
   },
   "outputs": [
    {
     "data": {
      "text/plain": [
       "1179"
      ]
     },
     "execution_count": 112,
     "metadata": {},
     "output_type": "execute_result"
    }
   ],
   "source": [
    "len(BF[BF['Q3'].isna() |\n",
    "       BF['Q10_3'].isna() |\n",
    "       BF['Q25v2'].isna() |\n",
    "       BF['Q30new'].isna() |\n",
    "       BF['Q4new'].isna() | \n",
    "       BF['Q5new'].isna() |\n",
    "       BF['Q6new'].isna()])"
   ]
  },
  {
   "cell_type": "markdown",
   "id": "668d0f8b-3ff1-4f66-a17d-afb26487e9c1",
   "metadata": {},
   "source": [
    "Ce qui est beaucoup plus raisonnable. On l'exclura donc sans doute."
   ]
  },
  {
   "cell_type": "markdown",
   "id": "57004842-ddc6-4406-adc8-b21976e74582",
   "metadata": {},
   "source": [
    "revenons à nos moutons"
   ]
  },
  {
   "cell_type": "code",
   "execution_count": 83,
   "id": "2ce016c3-0594-4a59-b70e-7aa371a34ec1",
   "metadata": {
    "tags": []
   },
   "outputs": [],
   "source": [
    "instabilité2 = ['Q4new', 'Q5new', 'Q6new']"
   ]
  },
  {
   "cell_type": "code",
   "execution_count": 84,
   "id": "33a4c3c9-f2e5-4d8c-9218-8e299bb6d253",
   "metadata": {
    "tags": []
   },
   "outputs": [],
   "source": [
    "#on fabrique un dataframe sans les valeurs manquantes\n",
    "BF3 = BF.dropna(subset=instabilité2)"
   ]
  },
  {
   "cell_type": "code",
   "execution_count": 89,
   "id": "d3c5f0aa-60cc-44f5-9857-1acf86a7bb59",
   "metadata": {
    "tags": []
   },
   "outputs": [],
   "source": [
    "%%capture\n",
    "#transformation des colonnes en float\n",
    "for element in instabilité2 :\n",
    "    BF3[element] = BF3[element].astype(float)"
   ]
  },
  {
   "cell_type": "code",
   "execution_count": 91,
   "id": "3b97cd44-7285-4140-8851-e2668fba6da5",
   "metadata": {
    "tags": []
   },
   "outputs": [],
   "source": [
    "%%capture\n",
    "#obtention d'une colonne proba diminution indices boursiers\n",
    "BF3['Q6new_bis'] = 100-BF3['Q6new']"
   ]
  },
  {
   "cell_type": "code",
   "execution_count": 110,
   "id": "8902bbcb-ef62-4fe2-969e-cc6918d072b3",
   "metadata": {
    "tags": []
   },
   "outputs": [],
   "source": [
    "BF3 = BF3.rename(columns={'Q4new': 'proba augmentation chô sous douze mois',\n",
    "                          'Q5new': 'proba augmentation tx intêret',\n",
    "                          'Q6new_bis' : 'proba diminution indices boursiers'})"
   ]
  },
  {
   "cell_type": "code",
   "execution_count": 114,
   "id": "6f2a0dcf-2d82-4005-98cb-19cab57f329b",
   "metadata": {
    "tags": []
   },
   "outputs": [],
   "source": [
    "instabilité2 = ['proba augmentation chô sous douze mois',\n",
    "                'proba augmentation tx intêret',\n",
    "                'proba diminution indices boursiers']"
   ]
  },
  {
   "cell_type": "code",
   "execution_count": 97,
   "id": "e74ce5ca-2e31-40af-92b1-cfd890d05947",
   "metadata": {
    "tags": []
   },
   "outputs": [
    {
     "data": {
      "text/html": [
       "<table class=\"simpletable\">\n",
       "<caption>OLS Regression Results</caption>\n",
       "<tr>\n",
       "  <th>Dep. Variable:</th>        <td>Q8v2part2</td>    <th>  R-squared:         </th>  <td>   0.026</td>  \n",
       "</tr>\n",
       "<tr>\n",
       "  <th>Model:</th>                   <td>OLS</td>       <th>  Adj. R-squared:    </th>  <td>   0.026</td>  \n",
       "</tr>\n",
       "<tr>\n",
       "  <th>Method:</th>             <td>Least Squares</td>  <th>  F-statistic:       </th>  <td>   1142.</td>  \n",
       "</tr>\n",
       "<tr>\n",
       "  <th>Date:</th>             <td>Sat, 11 Mar 2023</td> <th>  Prob (F-statistic):</th>   <td>  0.00</td>   \n",
       "</tr>\n",
       "<tr>\n",
       "  <th>Time:</th>                 <td>10:06:38</td>     <th>  Log-Likelihood:    </th> <td>-3.8932e+05</td>\n",
       "</tr>\n",
       "<tr>\n",
       "  <th>No. Observations:</th>      <td>127580</td>      <th>  AIC:               </th>  <td>7.787e+05</td> \n",
       "</tr>\n",
       "<tr>\n",
       "  <th>Df Residuals:</th>          <td>127576</td>      <th>  BIC:               </th>  <td>7.787e+05</td> \n",
       "</tr>\n",
       "<tr>\n",
       "  <th>Df Model:</th>              <td>     3</td>      <th>                     </th>      <td> </td>     \n",
       "</tr>\n",
       "<tr>\n",
       "  <th>Covariance Type:</th>      <td>nonrobust</td>    <th>                     </th>      <td> </td>     \n",
       "</tr>\n",
       "</table>\n",
       "<table class=\"simpletable\">\n",
       "<tr>\n",
       "                     <td></td>                       <th>coef</th>     <th>std err</th>      <th>t</th>      <th>P>|t|</th>  <th>[0.025</th>    <th>0.975]</th>  \n",
       "</tr>\n",
       "<tr>\n",
       "  <th>const</th>                                  <td>    2.4444</td> <td>    0.057</td> <td>   43.090</td> <td> 0.000</td> <td>    2.333</td> <td>    2.556</td>\n",
       "</tr>\n",
       "<tr>\n",
       "  <th>proba augmentation chô sous douze mois</th> <td>    0.0260</td> <td>    0.001</td> <td>   41.138</td> <td> 0.000</td> <td>    0.025</td> <td>    0.027</td>\n",
       "</tr>\n",
       "<tr>\n",
       "  <th>proba augmentation tx intêret</th>          <td>   -0.0134</td> <td>    0.001</td> <td>  -21.843</td> <td> 0.000</td> <td>   -0.015</td> <td>   -0.012</td>\n",
       "</tr>\n",
       "<tr>\n",
       "  <th>proba diminution indices boursiers</th>     <td>    0.0206</td> <td>    0.001</td> <td>   30.232</td> <td> 0.000</td> <td>    0.019</td> <td>    0.022</td>\n",
       "</tr>\n",
       "</table>\n",
       "<table class=\"simpletable\">\n",
       "<tr>\n",
       "  <th>Omnibus:</th>       <td>12909.321</td> <th>  Durbin-Watson:     </th>  <td>   1.931</td> \n",
       "</tr>\n",
       "<tr>\n",
       "  <th>Prob(Omnibus):</th>  <td> 0.000</td>   <th>  Jarque-Bera (JB):  </th> <td>108578.203</td>\n",
       "</tr>\n",
       "<tr>\n",
       "  <th>Skew:</th>           <td> 0.027</td>   <th>  Prob(JB):          </th>  <td>    0.00</td> \n",
       "</tr>\n",
       "<tr>\n",
       "  <th>Kurtosis:</th>       <td> 7.519</td>   <th>  Cond. No.          </th>  <td>    308.</td> \n",
       "</tr>\n",
       "</table><br/><br/>Notes:<br/>[1] Standard Errors assume that the covariance matrix of the errors is correctly specified."
      ],
      "text/plain": [
       "<class 'statsmodels.iolib.summary.Summary'>\n",
       "\"\"\"\n",
       "                            OLS Regression Results                            \n",
       "==============================================================================\n",
       "Dep. Variable:              Q8v2part2   R-squared:                       0.026\n",
       "Model:                            OLS   Adj. R-squared:                  0.026\n",
       "Method:                 Least Squares   F-statistic:                     1142.\n",
       "Date:                Sat, 11 Mar 2023   Prob (F-statistic):               0.00\n",
       "Time:                        10:06:38   Log-Likelihood:            -3.8932e+05\n",
       "No. Observations:              127580   AIC:                         7.787e+05\n",
       "Df Residuals:                  127576   BIC:                         7.787e+05\n",
       "Df Model:                           3                                         \n",
       "Covariance Type:            nonrobust                                         \n",
       "==========================================================================================================\n",
       "                                             coef    std err          t      P>|t|      [0.025      0.975]\n",
       "----------------------------------------------------------------------------------------------------------\n",
       "const                                      2.4444      0.057     43.090      0.000       2.333       2.556\n",
       "proba augmentation chô sous douze mois     0.0260      0.001     41.138      0.000       0.025       0.027\n",
       "proba augmentation tx intêret             -0.0134      0.001    -21.843      0.000      -0.015      -0.012\n",
       "proba diminution indices boursiers         0.0206      0.001     30.232      0.000       0.019       0.022\n",
       "==============================================================================\n",
       "Omnibus:                    12909.321   Durbin-Watson:                   1.931\n",
       "Prob(Omnibus):                  0.000   Jarque-Bera (JB):           108578.203\n",
       "Skew:                           0.027   Prob(JB):                         0.00\n",
       "Kurtosis:                       7.519   Cond. No.                         308.\n",
       "==============================================================================\n",
       "\n",
       "Notes:\n",
       "[1] Standard Errors assume that the covariance matrix of the errors is correctly specified.\n",
       "\"\"\""
      ]
     },
     "execution_count": 97,
     "metadata": {},
     "output_type": "execute_result"
    }
   ],
   "source": [
    "Y = BF3['Q8v2part2'].astype('float')\n",
    "X = BF3[instabilité2]\n",
    "X = sm.add_constant(X)\n",
    "model = sm.OLS(Y,X)\n",
    "results = model.fit()\n",
    "su = results.summary()\n",
    "su"
   ]
  },
  {
   "cell_type": "markdown",
   "id": "d940584a-e3b7-4a7f-a2d4-71566bbaf702",
   "metadata": {},
   "source": [
    "Tous significatifs à 95%, mais coefficients ridicules"
   ]
  },
  {
   "cell_type": "markdown",
   "id": "6f9c0bad-5f03-4f63-bdb4-acb00b87af06",
   "metadata": {},
   "source": [
    "## Tentative de maxi régression"
   ]
  },
  {
   "cell_type": "markdown",
   "id": "710d945a-e343-408a-9020-4c978b9a8045",
   "metadata": {},
   "source": [
    "On va inclure tout sans bloc ; sans considérer la question qui fait perdre la moitié des répondants"
   ]
  },
  {
   "cell_type": "code",
   "execution_count": 104,
   "id": "62745393-9c02-4450-9ca7-285731e80474",
   "metadata": {
    "tags": []
   },
   "outputs": [],
   "source": [
    "instabilité_micro = ['Q3', 'Q10_3', 'Q25v2', 'Q30new']\n",
    "instabilité_macro = ['Q4new', 'Q5new', 'Q6new']\n",
    "régresseurs = instabilité_micro + instabilité_macro + ['tx_evol_ann_pct', 'fem']"
   ]
  },
  {
   "cell_type": "code",
   "execution_count": 105,
   "id": "42aa89e9-1ef4-4827-b8f1-04acfdeb5e8d",
   "metadata": {
    "tags": []
   },
   "outputs": [],
   "source": [
    "#retrait des valeurs manquantes\n",
    "BF4 = BF.dropna(subset=régresseurs)"
   ]
  },
  {
   "cell_type": "code",
   "execution_count": 107,
   "id": "4d6b1627-08c3-41aa-bc9c-177ee1119cf0",
   "metadata": {
    "tags": []
   },
   "outputs": [],
   "source": [
    "%%capture\n",
    "#du coup on re binarise Q25v2\n",
    "BF4.loc[BF['Q25v2']==3, 'loss expectation'] = 1\n",
    "BF4['loss expectation']=BF4.fillna(0)['loss expectation']"
   ]
  },
  {
   "cell_type": "code",
   "execution_count": 121,
   "id": "6c10f6dd-f1c1-4955-b84f-38ea65c79be8",
   "metadata": {
    "tags": []
   },
   "outputs": [],
   "source": [
    "%%capture\n",
    "#obtention d'une colonne proba diminution indices boursiers\n",
    "BF4['Q6new_bis'] = 100-BF4['Q6new']\n",
    "BF4['Q6new_bis'] = BF4['Q6new_bis'].astype(float)"
   ]
  },
  {
   "cell_type": "code",
   "execution_count": 122,
   "id": "b5954398-9d55-4227-82d6-6124fca68604",
   "metadata": {
    "tags": []
   },
   "outputs": [],
   "source": [
    "%%capture\n",
    "#transformation des colonnes en float\n",
    "for element in régresseurs :\n",
    "    BF4[element] = BF4[element].astype(float)"
   ]
  },
  {
   "cell_type": "code",
   "execution_count": 123,
   "id": "fabdb5a9-b511-4f45-8d54-7ec6962b4e1b",
   "metadata": {
    "tags": []
   },
   "outputs": [],
   "source": [
    "BF4 = BF4.rename(columns={'Q4new': 'proba augmentation chô sous douze mois', \n",
    "                          'Q5new': 'proba augmentation tx intêret',\n",
    "                          'Q6new_bis' : 'proba diminution indices boursiers',\n",
    "                          'Q3': 'proba chgt résidence',\n",
    "                          'Q10_3': 'chômage',\n",
    "                          'loss expectation': 'proba perte revenus',\n",
    "                          'Q30new': 'proba ne pas réussir à rembourser un prêt'})"
   ]
  },
  {
   "cell_type": "code",
   "execution_count": 124,
   "id": "865b3e83-1d39-4976-858e-901b701a8715",
   "metadata": {
    "tags": []
   },
   "outputs": [],
   "source": [
    "régresseurs = ['proba augmentation chô sous douze mois',\n",
    "               'proba augmentation tx intêret',\n",
    "               'proba diminution indices boursiers',\n",
    "               'proba chgt résidence',\n",
    "               'chômage',\n",
    "               'proba perte revenus',\n",
    "               'proba ne pas réussir à rembourser un prêt',\n",
    "               'fem',\n",
    "               'tx_evol_ann_pct']"
   ]
  },
  {
   "cell_type": "code",
   "execution_count": 125,
   "id": "7a7a2654-12d9-4813-8b49-b659af5d3488",
   "metadata": {
    "tags": []
   },
   "outputs": [
    {
     "data": {
      "text/html": [
       "<table class=\"simpletable\">\n",
       "<caption>OLS Regression Results</caption>\n",
       "<tr>\n",
       "  <th>Dep. Variable:</th>        <td>Q8v2part2</td>    <th>  R-squared:         </th>  <td>   0.055</td>  \n",
       "</tr>\n",
       "<tr>\n",
       "  <th>Model:</th>                   <td>OLS</td>       <th>  Adj. R-squared:    </th>  <td>   0.055</td>  \n",
       "</tr>\n",
       "<tr>\n",
       "  <th>Method:</th>             <td>Least Squares</td>  <th>  F-statistic:       </th>  <td>   826.8</td>  \n",
       "</tr>\n",
       "<tr>\n",
       "  <th>Date:</th>             <td>Sat, 11 Mar 2023</td> <th>  Prob (F-statistic):</th>   <td>  0.00</td>   \n",
       "</tr>\n",
       "<tr>\n",
       "  <th>Time:</th>                 <td>10:24:21</td>     <th>  Log-Likelihood:    </th> <td>-3.8647e+05</td>\n",
       "</tr>\n",
       "<tr>\n",
       "  <th>No. Observations:</th>      <td>127292</td>      <th>  AIC:               </th>  <td>7.730e+05</td> \n",
       "</tr>\n",
       "<tr>\n",
       "  <th>Df Residuals:</th>          <td>127282</td>      <th>  BIC:               </th>  <td>7.730e+05</td> \n",
       "</tr>\n",
       "<tr>\n",
       "  <th>Df Model:</th>              <td>     9</td>      <th>                     </th>      <td> </td>     \n",
       "</tr>\n",
       "<tr>\n",
       "  <th>Covariance Type:</th>      <td>nonrobust</td>    <th>                     </th>      <td> </td>     \n",
       "</tr>\n",
       "</table>\n",
       "<table class=\"simpletable\">\n",
       "<tr>\n",
       "                      <td></td>                         <th>coef</th>     <th>std err</th>      <th>t</th>      <th>P>|t|</th>  <th>[0.025</th>    <th>0.975]</th>  \n",
       "</tr>\n",
       "<tr>\n",
       "  <th>const</th>                                     <td>    1.4521</td> <td>    0.059</td> <td>   24.682</td> <td> 0.000</td> <td>    1.337</td> <td>    1.567</td>\n",
       "</tr>\n",
       "<tr>\n",
       "  <th>proba augmentation chô sous douze mois</th>    <td>    0.0249</td> <td>    0.001</td> <td>   39.125</td> <td> 0.000</td> <td>    0.024</td> <td>    0.026</td>\n",
       "</tr>\n",
       "<tr>\n",
       "  <th>proba augmentation tx intêret</th>             <td>   -0.0141</td> <td>    0.001</td> <td>  -23.291</td> <td> 0.000</td> <td>   -0.015</td> <td>   -0.013</td>\n",
       "</tr>\n",
       "<tr>\n",
       "  <th>proba diminution indices boursiers</th>        <td>    0.0095</td> <td>    0.000</td> <td>   28.275</td> <td> 0.000</td> <td>    0.009</td> <td>    0.010</td>\n",
       "</tr>\n",
       "<tr>\n",
       "  <th>proba diminution indices boursiers</th>        <td>    0.0095</td> <td>    0.000</td> <td>   28.275</td> <td> 0.000</td> <td>    0.009</td> <td>    0.010</td>\n",
       "</tr>\n",
       "<tr>\n",
       "  <th>proba chgt résidence</th>                      <td>   -0.0029</td> <td>    0.001</td> <td>   -5.709</td> <td> 0.000</td> <td>   -0.004</td> <td>   -0.002</td>\n",
       "</tr>\n",
       "<tr>\n",
       "  <th>chômage</th>                                   <td>    0.3440</td> <td>    0.079</td> <td>    4.366</td> <td> 0.000</td> <td>    0.190</td> <td>    0.498</td>\n",
       "</tr>\n",
       "<tr>\n",
       "  <th>proba perte revenus</th>                       <td>    0.2960</td> <td>    0.043</td> <td>    6.871</td> <td> 0.000</td> <td>    0.212</td> <td>    0.380</td>\n",
       "</tr>\n",
       "<tr>\n",
       "  <th>proba ne pas réussir à rembourser un prêt</th> <td>    0.0150</td> <td>    0.001</td> <td>   20.564</td> <td> 0.000</td> <td>    0.014</td> <td>    0.016</td>\n",
       "</tr>\n",
       "<tr>\n",
       "  <th>fem</th>                                       <td>    1.1239</td> <td>    0.061</td> <td>   18.372</td> <td> 0.000</td> <td>    1.004</td> <td>    1.244</td>\n",
       "</tr>\n",
       "<tr>\n",
       "  <th>tx_evol_ann_pct</th>                           <td>    0.4489</td> <td>    0.008</td> <td>   55.721</td> <td> 0.000</td> <td>    0.433</td> <td>    0.465</td>\n",
       "</tr>\n",
       "</table>\n",
       "<table class=\"simpletable\">\n",
       "<tr>\n",
       "  <th>Omnibus:</th>       <td>13847.084</td> <th>  Durbin-Watson:     </th>  <td>   1.980</td> \n",
       "</tr>\n",
       "<tr>\n",
       "  <th>Prob(Omnibus):</th>  <td> 0.000</td>   <th>  Jarque-Bera (JB):  </th> <td>127475.132</td>\n",
       "</tr>\n",
       "<tr>\n",
       "  <th>Skew:</th>           <td>-0.078</td>   <th>  Prob(JB):          </th>  <td>    0.00</td> \n",
       "</tr>\n",
       "<tr>\n",
       "  <th>Kurtosis:</th>       <td> 7.900</td>   <th>  Cond. No.          </th>  <td>1.48e+16</td> \n",
       "</tr>\n",
       "</table><br/><br/>Notes:<br/>[1] Standard Errors assume that the covariance matrix of the errors is correctly specified.<br/>[2] The smallest eigenvalue is 5.81e-24. This might indicate that there are<br/>strong multicollinearity problems or that the design matrix is singular."
      ],
      "text/plain": [
       "<class 'statsmodels.iolib.summary.Summary'>\n",
       "\"\"\"\n",
       "                            OLS Regression Results                            \n",
       "==============================================================================\n",
       "Dep. Variable:              Q8v2part2   R-squared:                       0.055\n",
       "Model:                            OLS   Adj. R-squared:                  0.055\n",
       "Method:                 Least Squares   F-statistic:                     826.8\n",
       "Date:                Sat, 11 Mar 2023   Prob (F-statistic):               0.00\n",
       "Time:                        10:24:21   Log-Likelihood:            -3.8647e+05\n",
       "No. Observations:              127292   AIC:                         7.730e+05\n",
       "Df Residuals:                  127282   BIC:                         7.730e+05\n",
       "Df Model:                           9                                         \n",
       "Covariance Type:            nonrobust                                         \n",
       "=============================================================================================================\n",
       "                                                coef    std err          t      P>|t|      [0.025      0.975]\n",
       "-------------------------------------------------------------------------------------------------------------\n",
       "const                                         1.4521      0.059     24.682      0.000       1.337       1.567\n",
       "proba augmentation chô sous douze mois        0.0249      0.001     39.125      0.000       0.024       0.026\n",
       "proba augmentation tx intêret                -0.0141      0.001    -23.291      0.000      -0.015      -0.013\n",
       "proba diminution indices boursiers            0.0095      0.000     28.275      0.000       0.009       0.010\n",
       "proba diminution indices boursiers            0.0095      0.000     28.275      0.000       0.009       0.010\n",
       "proba chgt résidence                         -0.0029      0.001     -5.709      0.000      -0.004      -0.002\n",
       "chômage                                       0.3440      0.079      4.366      0.000       0.190       0.498\n",
       "proba perte revenus                           0.2960      0.043      6.871      0.000       0.212       0.380\n",
       "proba ne pas réussir à rembourser un prêt     0.0150      0.001     20.564      0.000       0.014       0.016\n",
       "fem                                           1.1239      0.061     18.372      0.000       1.004       1.244\n",
       "tx_evol_ann_pct                               0.4489      0.008     55.721      0.000       0.433       0.465\n",
       "==============================================================================\n",
       "Omnibus:                    13847.084   Durbin-Watson:                   1.980\n",
       "Prob(Omnibus):                  0.000   Jarque-Bera (JB):           127475.132\n",
       "Skew:                          -0.078   Prob(JB):                         0.00\n",
       "Kurtosis:                       7.900   Cond. No.                     1.48e+16\n",
       "==============================================================================\n",
       "\n",
       "Notes:\n",
       "[1] Standard Errors assume that the covariance matrix of the errors is correctly specified.\n",
       "[2] The smallest eigenvalue is 5.81e-24. This might indicate that there are\n",
       "strong multicollinearity problems or that the design matrix is singular.\n",
       "\"\"\""
      ]
     },
     "execution_count": 125,
     "metadata": {},
     "output_type": "execute_result"
    }
   ],
   "source": [
    "Y = BF4['Q8v2part2'].astype('float')\n",
    "X = BF4[régresseurs]\n",
    "X = sm.add_constant(X)\n",
    "model = sm.OLS(Y,X)\n",
    "results = model.fit()\n",
    "su = results.summary()\n",
    "su"
   ]
  },
  {
   "cell_type": "markdown",
   "id": "42c88ddd-d6fe-4614-a570-079d881149b3",
   "metadata": {},
   "source": [
    "mouais apres on peut voir avec des train/tests"
   ]
  },
  {
   "cell_type": "markdown",
   "id": "9b30dd7b-1d72-4665-9638-0b17c0a2c865",
   "metadata": {},
   "source": [
    "# La deuxième spécification :"
   ]
  },
  {
   "cell_type": "code",
   "execution_count": 131,
   "id": "5315af28-fd6a-4fd1-a9cc-75d6db7d0244",
   "metadata": {
    "tags": []
   },
   "outputs": [
    {
     "data": {
      "text/plain": [
       "['date',\n",
       " 'userid',\n",
       " 'tenure',\n",
       " 'weight',\n",
       " 'Q1',\n",
       " 'Q2',\n",
       " 'Q3',\n",
       " 'Q4new',\n",
       " 'Q5new',\n",
       " 'Q6new',\n",
       " 'Q8v2',\n",
       " 'Q8v2part2',\n",
       " 'Q9_cent25',\n",
       " 'Q9_cent50',\n",
       " 'Q9_cent75',\n",
       " 'Q9_var',\n",
       " 'Q9_mean',\n",
       " 'Q9_iqr',\n",
       " 'Q9_probdeflation',\n",
       " 'Q9_bin1',\n",
       " 'Q9_bin2',\n",
       " 'Q9_bin3',\n",
       " 'Q9_bin4',\n",
       " 'Q9_bin5',\n",
       " 'Q9_bin6',\n",
       " 'Q9_bin7',\n",
       " 'Q9_bin8',\n",
       " 'Q9_bin9',\n",
       " 'Q9_bin10',\n",
       " 'Q9bv2',\n",
       " 'Q9bv2part2',\n",
       " 'Q9c_cent25',\n",
       " 'Q9c_cent50',\n",
       " 'Q9c_cent75',\n",
       " 'Q9c_var',\n",
       " 'Q9c_mean',\n",
       " 'Q9c_iqr',\n",
       " 'Q9c_probdeflation',\n",
       " 'Q9c_bin1',\n",
       " 'Q9c_bin2',\n",
       " 'Q9c_bin3',\n",
       " 'Q9c_bin4',\n",
       " 'Q9c_bin5',\n",
       " 'Q9c_bin6',\n",
       " 'Q9c_bin7',\n",
       " 'Q9c_bin8',\n",
       " 'Q9c_bin9',\n",
       " 'Q9c_bin10',\n",
       " 'Q10_1',\n",
       " 'Q10_2',\n",
       " 'Q10_3',\n",
       " 'Q10_4',\n",
       " 'Q10_5',\n",
       " 'Q10_6',\n",
       " 'Q10_7',\n",
       " 'Q10_8',\n",
       " 'Q10_9',\n",
       " 'Q10_10',\n",
       " 'Q11',\n",
       " 'Q12new',\n",
       " 'ES1_1',\n",
       " 'ES1_2',\n",
       " 'ES1_3',\n",
       " 'ES1_4',\n",
       " 'ES2',\n",
       " 'ES3new',\n",
       " 'ES4',\n",
       " 'ES5',\n",
       " 'Q13new',\n",
       " 'Q14new',\n",
       " 'Q15',\n",
       " 'Q16',\n",
       " 'Q17new',\n",
       " 'Q18new',\n",
       " 'Q19',\n",
       " 'Q20new',\n",
       " 'Q21new',\n",
       " 'Q22new',\n",
       " 'Q23v2',\n",
       " 'Q23v2part2',\n",
       " 'Q24_cent25',\n",
       " 'Q24_cent50',\n",
       " 'Q24_cent75',\n",
       " 'Q24_var',\n",
       " 'Q24_mean',\n",
       " 'Q24_iqr',\n",
       " 'Q24_probdeflation',\n",
       " 'Q24_bin1',\n",
       " 'Q24_bin2',\n",
       " 'Q24_bin3',\n",
       " 'Q24_bin4',\n",
       " 'Q24_bin5',\n",
       " 'Q24_bin6',\n",
       " 'Q24_bin7',\n",
       " 'Q24_bin8',\n",
       " 'Q24_bin9',\n",
       " 'Q24_bin10',\n",
       " 'Q25v2',\n",
       " 'Q25v2part2',\n",
       " 'Q26v2',\n",
       " 'Q26v2part2',\n",
       " 'Q27v2',\n",
       " 'Q27v2part2',\n",
       " 'Q28',\n",
       " 'Q29',\n",
       " 'Q30new',\n",
       " 'Q31v2',\n",
       " 'Q31v2part2',\n",
       " 'C1_cent25',\n",
       " 'C1_cent50',\n",
       " 'C1_cent75',\n",
       " 'C1_var',\n",
       " 'C1_mean',\n",
       " 'C1_iqr',\n",
       " 'C1_probdeflation',\n",
       " 'C1_bin1',\n",
       " 'C1_bin2',\n",
       " 'C1_bin3',\n",
       " 'C1_bin4',\n",
       " 'C1_bin5',\n",
       " 'C1_bin6',\n",
       " 'C1_bin7',\n",
       " 'C1_bin8',\n",
       " 'C1_bin9',\n",
       " 'C1_bin10',\n",
       " 'C2',\n",
       " 'C2part2',\n",
       " 'C3',\n",
       " 'C3part2',\n",
       " 'C4_1',\n",
       " 'C4_2',\n",
       " 'C4_3',\n",
       " 'C4_4',\n",
       " 'C4_5',\n",
       " 'C4_6',\n",
       " 'QNUM1',\n",
       " 'QNUM2',\n",
       " 'QNUM3',\n",
       " 'QNUM5',\n",
       " 'QNUM6',\n",
       " 'QNUM8',\n",
       " 'QNUM9',\n",
       " 'Q32',\n",
       " 'Q33',\n",
       " 'Q34',\n",
       " 'Q35_1',\n",
       " 'Q35_2',\n",
       " 'Q35_3',\n",
       " 'Q35_4',\n",
       " 'Q35_5',\n",
       " 'Q35_6',\n",
       " 'Q36',\n",
       " 'Q37',\n",
       " 'Q38',\n",
       " 'HH2_1',\n",
       " 'HH2_2',\n",
       " 'HH2_3',\n",
       " 'HH2_4',\n",
       " 'HH2_5',\n",
       " 'HH2_6',\n",
       " 'HH2_7',\n",
       " 'HH2_8',\n",
       " 'HH2_9',\n",
       " 'HH2_10',\n",
       " 'HH2_11',\n",
       " '_STATE',\n",
       " 'Q41',\n",
       " 'Q42',\n",
       " 'Q43',\n",
       " 'Q43a',\n",
       " 'Q44',\n",
       " 'Q45b',\n",
       " 'Q45new_1',\n",
       " 'Q45new_2',\n",
       " 'Q45new_3',\n",
       " 'Q45new_4',\n",
       " 'Q45new_5',\n",
       " 'Q45new_6',\n",
       " 'Q45new_7',\n",
       " 'Q45new_8',\n",
       " 'Q45new_9',\n",
       " 'Q46',\n",
       " 'Q47',\n",
       " 'D1',\n",
       " 'D3',\n",
       " 'D6',\n",
       " 'D2new_1',\n",
       " 'D2new_2',\n",
       " 'D2new_3',\n",
       " 'D2new_4',\n",
       " 'D2new_5',\n",
       " 'D2new_6',\n",
       " 'D2new_7',\n",
       " 'D2new_8',\n",
       " 'D2new_9',\n",
       " 'DSAME',\n",
       " 'DQ38',\n",
       " 'DHH2_1',\n",
       " 'DHH2_2',\n",
       " 'DHH2_3',\n",
       " 'DHH2_4',\n",
       " 'DHH2_5',\n",
       " 'DHH2_6',\n",
       " 'DHH2_7',\n",
       " 'DHH2_8',\n",
       " 'DHH2_9',\n",
       " 'DHH2_10',\n",
       " 'DHH2_11',\n",
       " 'DHH2_11_other',\n",
       " 'D5b',\n",
       " 'Q48',\n",
       " 'QRA1',\n",
       " 'QRA2',\n",
       " 'survey_date',\n",
       " '_AGE_CAT',\n",
       " '_NUM_CAT',\n",
       " '_REGION_CAT',\n",
       " '_COMMUTING_ZONE',\n",
       " '_EDU_CAT',\n",
       " '_HH_INC_CAT',\n",
       " 'College',\n",
       " 'High School',\n",
       " 'Some College',\n",
       " '40 to 60',\n",
       " 'Over 60',\n",
       " 'Under 40',\n",
       " '50k to 100k',\n",
       " 'Over 100k',\n",
       " 'Under 50k',\n",
       " 'High',\n",
       " 'Low',\n",
       " 'fem',\n",
       " 'tx_evol_ann_pct',\n",
       " 'indic_perso',\n",
       " 'loss expectation',\n",
       " 'indic_macro']"
      ]
     },
     "execution_count": 131,
     "metadata": {},
     "output_type": "execute_result"
    }
   ],
   "source": [
    "list(BF.head())"
   ]
  },
  {
   "cell_type": "markdown",
   "id": "c58776d5-c6e5-4bba-ab0f-54565bea427e",
   "metadata": {},
   "source": [
    "On doit définir les intervalles qui vont nous intéresser ici :\n",
    "- pour l'inflation à court terme: Q9 inflation supérieur à 4% (bin 1, bin 2 et bin 3)\n",
    "- déflation : bin6 à bin 10\n",
    "\n",
    "- long terme: Q9c+les mêmes bin\n",
    "\n",
    "N.B : On considère pour la suite que les anticipations non remplies sont de 10 ( équiprobabilit de chaque tranche )"
   ]
  },
  {
   "cell_type": "code",
   "execution_count": 139,
   "id": "fc55da73-dc52-4199-bb2f-8d492bf5a37e",
   "metadata": {
    "tags": []
   },
   "outputs": [
    {
     "name": "stderr",
     "output_type": "stream",
     "text": [
      "/tmp/ipykernel_198/2054418336.py:1: SettingWithCopyWarning: \n",
      "A value is trying to be set on a copy of a slice from a DataFrame.\n",
      "Try using .loc[row_indexer,col_indexer] = value instead\n",
      "\n",
      "See the caveats in the documentation: https://pandas.pydata.org/pandas-docs/stable/user_guide/indexing.html#returning-a-view-versus-a-copy\n",
      "  BF['proba_st_high']=(BF['Q9_bin1'].fillna(10)+BF['Q9_bin2'].fillna(10)+BF['Q9_bin3'].fillna(10))\n"
     ]
    }
   ],
   "source": [
    "BF['proba_st_high']=(BF['Q9_bin1'].fillna(10)+BF['Q9_bin2'].fillna(10)+BF['Q9_bin3'].fillna(10))"
   ]
  },
  {
   "cell_type": "code",
   "execution_count": 153,
   "id": "47d28f32-19a2-434f-b3f1-46cf1e1a7239",
   "metadata": {
    "tags": []
   },
   "outputs": [
    {
     "data": {
      "text/plain": [
       "1135"
      ]
     },
     "execution_count": 153,
     "metadata": {},
     "output_type": "execute_result"
    }
   ],
   "source": []
  },
  {
   "cell_type": "code",
   "execution_count": 140,
   "id": "d452ab9e-d794-47ae-97cc-7157fe1d5214",
   "metadata": {
    "tags": []
   },
   "outputs": [
    {
     "name": "stderr",
     "output_type": "stream",
     "text": [
      "/tmp/ipykernel_198/9693778.py:1: SettingWithCopyWarning: \n",
      "A value is trying to be set on a copy of a slice from a DataFrame.\n",
      "Try using .loc[row_indexer,col_indexer] = value instead\n",
      "\n",
      "See the caveats in the documentation: https://pandas.pydata.org/pandas-docs/stable/user_guide/indexing.html#returning-a-view-versus-a-copy\n",
      "  BF['proba_st_defl']=(BF['Q9_bin6'].fillna(10)+BF['Q9_bin7'].fillna(10)+BF['Q9_bin8'].fillna(10)+BF['Q9_bin9'].fillna(10)+BF['Q9_bin10'].fillna(10))\n"
     ]
    }
   ],
   "source": [
    "BF['proba_st_defl']=(BF['Q9_bin6'].fillna(10)+BF['Q9_bin7'].fillna(10)+BF['Q9_bin8'].fillna(10)+BF['Q9_bin9'].fillna(10)+BF['Q9_bin10'].fillna(10))"
   ]
  },
  {
   "cell_type": "code",
   "execution_count": 141,
   "id": "87d2de54-0df4-4b5a-be7d-9d86d3a65ca9",
   "metadata": {
    "tags": []
   },
   "outputs": [
    {
     "name": "stderr",
     "output_type": "stream",
     "text": [
      "/tmp/ipykernel_198/3420240262.py:1: SettingWithCopyWarning: \n",
      "A value is trying to be set on a copy of a slice from a DataFrame.\n",
      "Try using .loc[row_indexer,col_indexer] = value instead\n",
      "\n",
      "See the caveats in the documentation: https://pandas.pydata.org/pandas-docs/stable/user_guide/indexing.html#returning-a-view-versus-a-copy\n",
      "  BF['proba_lt_high']=(BF['Q9c_bin1'].fillna(10)+BF['Q9c_bin2'].fillna(10)+BF['Q9c_bin3'].fillna(10))\n"
     ]
    }
   ],
   "source": [
    "BF['proba_lt_high']=(BF['Q9c_bin1'].fillna(10)+BF['Q9c_bin2'].fillna(10)+BF['Q9c_bin3'].fillna(10))"
   ]
  },
  {
   "cell_type": "code",
   "execution_count": 142,
   "id": "9e4de48b-0cfd-4cb2-bd0c-46119cf3d814",
   "metadata": {
    "tags": []
   },
   "outputs": [
    {
     "name": "stderr",
     "output_type": "stream",
     "text": [
      "/tmp/ipykernel_198/3127198973.py:1: SettingWithCopyWarning: \n",
      "A value is trying to be set on a copy of a slice from a DataFrame.\n",
      "Try using .loc[row_indexer,col_indexer] = value instead\n",
      "\n",
      "See the caveats in the documentation: https://pandas.pydata.org/pandas-docs/stable/user_guide/indexing.html#returning-a-view-versus-a-copy\n",
      "  BF['proba_lt_defl']=(BF['Q9c_bin6'].fillna(10)+BF['Q9c_bin7'].fillna(10)+BF['Q9c_bin8'].fillna(10)+BF['Q9c_bin9'].fillna(10)+BF['Q9c_bin10'].fillna(10))\n"
     ]
    }
   ],
   "source": [
    "BF['proba_lt_defl']=(BF['Q9c_bin6'].fillna(10)+BF['Q9c_bin7'].fillna(10)+BF['Q9c_bin8'].fillna(10)+BF['Q9c_bin9'].fillna(10)+BF['Q9c_bin10'].fillna(10))"
   ]
  },
  {
   "cell_type": "markdown",
   "id": "d8f35bae-702a-440c-8670-d8e167a5f93f",
   "metadata": {},
   "source": [
    "### A - Short term - high :"
   ]
  },
  {
   "cell_type": "code",
   "execution_count": 137,
   "id": "7c3ed38f-f15c-46ab-ac7a-055776d9b730",
   "metadata": {
    "tags": []
   },
   "outputs": [
    {
     "name": "stderr",
     "output_type": "stream",
     "text": [
      "/tmp/ipykernel_198/2587465590.py:1: SettingWithCopyWarning: \n",
      "A value is trying to be set on a copy of a slice from a DataFrame\n",
      "\n",
      "See the caveats in the documentation: https://pandas.pydata.org/pandas-docs/stable/user_guide/indexing.html#returning-a-view-versus-a-copy\n",
      "  BF.rename(columns={'High': \"High_num\"}, inplace=True)\n"
     ]
    }
   ],
   "source": [
    "BF.rename(columns={'High': \"High_num\"}, inplace=True)"
   ]
  },
  {
   "cell_type": "code",
   "execution_count": 160,
   "id": "e12f1415-e754-490a-af79-bc76e387b2ad",
   "metadata": {
    "tags": []
   },
   "outputs": [
    {
     "data": {
      "text/plain": [
       "1110"
      ]
     },
     "execution_count": 160,
     "metadata": {},
     "output_type": "execute_result"
    }
   ],
   "source": []
  },
  {
   "cell_type": "code",
   "execution_count": 154,
   "id": "d221b312-df2e-4269-8259-a6a50be1e54e",
   "metadata": {
    "tags": []
   },
   "outputs": [
    {
     "data": {
      "text/html": [
       "<table class=\"simpletable\">\n",
       "<caption>OLS Regression Results</caption>\n",
       "<tr>\n",
       "  <th>Dep. Variable:</th>      <td>proba_st_high</td>  <th>  R-squared:         </th>  <td>   0.093</td>  \n",
       "</tr>\n",
       "<tr>\n",
       "  <th>Model:</th>                   <td>OLS</td>       <th>  Adj. R-squared:    </th>  <td>   0.093</td>  \n",
       "</tr>\n",
       "<tr>\n",
       "  <th>Method:</th>             <td>Least Squares</td>  <th>  F-statistic:       </th>  <td>   1320.</td>  \n",
       "</tr>\n",
       "<tr>\n",
       "  <th>Date:</th>             <td>Sun, 12 Mar 2023</td> <th>  Prob (F-statistic):</th>   <td>  0.00</td>   \n",
       "</tr>\n",
       "<tr>\n",
       "  <th>Time:</th>                 <td>09:51:49</td>     <th>  Log-Likelihood:    </th> <td>-6.3084e+05</td>\n",
       "</tr>\n",
       "<tr>\n",
       "  <th>No. Observations:</th>      <td>128471</td>      <th>  AIC:               </th>  <td>1.262e+06</td> \n",
       "</tr>\n",
       "<tr>\n",
       "  <th>Df Residuals:</th>          <td>128460</td>      <th>  BIC:               </th>  <td>1.262e+06</td> \n",
       "</tr>\n",
       "<tr>\n",
       "  <th>Df Model:</th>              <td>    10</td>      <th>                     </th>      <td> </td>     \n",
       "</tr>\n",
       "<tr>\n",
       "  <th>Covariance Type:</th>      <td>nonrobust</td>    <th>                     </th>      <td> </td>     \n",
       "</tr>\n",
       "</table>\n",
       "<table class=\"simpletable\">\n",
       "<tr>\n",
       "         <td></td>            <th>coef</th>     <th>std err</th>      <th>t</th>      <th>P>|t|</th>  <th>[0.025</th>    <th>0.975]</th>  \n",
       "</tr>\n",
       "<tr>\n",
       "  <th>const</th>           <td>   20.6750</td> <td>    0.417</td> <td>   49.537</td> <td> 0.000</td> <td>   19.857</td> <td>   21.493</td>\n",
       "</tr>\n",
       "<tr>\n",
       "  <th>tx_evol_ann_pct</th> <td>    4.3132</td> <td>    0.052</td> <td>   82.284</td> <td> 0.000</td> <td>    4.210</td> <td>    4.416</td>\n",
       "</tr>\n",
       "<tr>\n",
       "  <th>indic_perso</th>     <td>   12.6546</td> <td>    0.622</td> <td>   20.347</td> <td> 0.000</td> <td>   11.436</td> <td>   13.874</td>\n",
       "</tr>\n",
       "<tr>\n",
       "  <th>indic_macro</th>     <td>   25.6988</td> <td>    0.756</td> <td>   33.974</td> <td> 0.000</td> <td>   24.216</td> <td>   27.181</td>\n",
       "</tr>\n",
       "<tr>\n",
       "  <th>fem</th>             <td>    8.2663</td> <td>    0.396</td> <td>   20.863</td> <td> 0.000</td> <td>    7.490</td> <td>    9.043</td>\n",
       "</tr>\n",
       "<tr>\n",
       "  <th>Over 60</th>         <td>    2.0917</td> <td>    0.221</td> <td>    9.444</td> <td> 0.000</td> <td>    1.658</td> <td>    2.526</td>\n",
       "</tr>\n",
       "<tr>\n",
       "  <th>Under 40</th>        <td>   -4.0078</td> <td>    0.230</td> <td>  -17.445</td> <td> 0.000</td> <td>   -4.458</td> <td>   -3.557</td>\n",
       "</tr>\n",
       "<tr>\n",
       "  <th>College</th>         <td>   -5.3486</td> <td>    0.202</td> <td>  -26.417</td> <td> 0.000</td> <td>   -5.745</td> <td>   -4.952</td>\n",
       "</tr>\n",
       "<tr>\n",
       "  <th>Over 100k</th>       <td>   -3.5887</td> <td>    0.231</td> <td>  -15.536</td> <td> 0.000</td> <td>   -4.041</td> <td>   -3.136</td>\n",
       "</tr>\n",
       "<tr>\n",
       "  <th>Under 50k</th>       <td>    3.0681</td> <td>    0.227</td> <td>   13.523</td> <td> 0.000</td> <td>    2.623</td> <td>    3.513</td>\n",
       "</tr>\n",
       "<tr>\n",
       "  <th>High_num</th>        <td>   -5.5680</td> <td>    0.222</td> <td>  -25.050</td> <td> 0.000</td> <td>   -6.004</td> <td>   -5.132</td>\n",
       "</tr>\n",
       "</table>\n",
       "<table class=\"simpletable\">\n",
       "<tr>\n",
       "  <th>Omnibus:</th>       <td>11364.957</td> <th>  Durbin-Watson:     </th> <td>   1.948</td> \n",
       "</tr>\n",
       "<tr>\n",
       "  <th>Prob(Omnibus):</th>  <td> 0.000</td>   <th>  Jarque-Bera (JB):  </th> <td>11603.145</td>\n",
       "</tr>\n",
       "<tr>\n",
       "  <th>Skew:</th>           <td> 0.685</td>   <th>  Prob(JB):          </th> <td>    0.00</td> \n",
       "</tr>\n",
       "<tr>\n",
       "  <th>Kurtosis:</th>       <td> 2.460</td>   <th>  Cond. No.          </th> <td>    27.1</td> \n",
       "</tr>\n",
       "</table><br/><br/>Notes:<br/>[1] Standard Errors assume that the covariance matrix of the errors is correctly specified."
      ],
      "text/plain": [
       "<class 'statsmodels.iolib.summary.Summary'>\n",
       "\"\"\"\n",
       "                            OLS Regression Results                            \n",
       "==============================================================================\n",
       "Dep. Variable:          proba_st_high   R-squared:                       0.093\n",
       "Model:                            OLS   Adj. R-squared:                  0.093\n",
       "Method:                 Least Squares   F-statistic:                     1320.\n",
       "Date:                Sun, 12 Mar 2023   Prob (F-statistic):               0.00\n",
       "Time:                        09:51:49   Log-Likelihood:            -6.3084e+05\n",
       "No. Observations:              128471   AIC:                         1.262e+06\n",
       "Df Residuals:                  128460   BIC:                         1.262e+06\n",
       "Df Model:                          10                                         \n",
       "Covariance Type:            nonrobust                                         \n",
       "===================================================================================\n",
       "                      coef    std err          t      P>|t|      [0.025      0.975]\n",
       "-----------------------------------------------------------------------------------\n",
       "const              20.6750      0.417     49.537      0.000      19.857      21.493\n",
       "tx_evol_ann_pct     4.3132      0.052     82.284      0.000       4.210       4.416\n",
       "indic_perso        12.6546      0.622     20.347      0.000      11.436      13.874\n",
       "indic_macro        25.6988      0.756     33.974      0.000      24.216      27.181\n",
       "fem                 8.2663      0.396     20.863      0.000       7.490       9.043\n",
       "Over 60             2.0917      0.221      9.444      0.000       1.658       2.526\n",
       "Under 40           -4.0078      0.230    -17.445      0.000      -4.458      -3.557\n",
       "College            -5.3486      0.202    -26.417      0.000      -5.745      -4.952\n",
       "Over 100k          -3.5887      0.231    -15.536      0.000      -4.041      -3.136\n",
       "Under 50k           3.0681      0.227     13.523      0.000       2.623       3.513\n",
       "High_num           -5.5680      0.222    -25.050      0.000      -6.004      -5.132\n",
       "==============================================================================\n",
       "Omnibus:                    11364.957   Durbin-Watson:                   1.948\n",
       "Prob(Omnibus):                  0.000   Jarque-Bera (JB):            11603.145\n",
       "Skew:                           0.685   Prob(JB):                         0.00\n",
       "Kurtosis:                       2.460   Cond. No.                         27.1\n",
       "==============================================================================\n",
       "\n",
       "Notes:\n",
       "[1] Standard Errors assume that the covariance matrix of the errors is correctly specified.\n",
       "\"\"\""
      ]
     },
     "execution_count": 154,
     "metadata": {},
     "output_type": "execute_result"
    }
   ],
   "source": [
    "Y = BF['proba_st_high'].astype('float')\n",
    "X = BF.fillna(0)[['tx_evol_ann_pct','indic_perso','indic_macro','fem','Over 60','Under 40','College','Over 100k','Under 50k','High_num']]\n",
    "X = sm.add_constant(X)\n",
    "model = sm.OLS(Y,X)\n",
    "results = model.fit()\n",
    "su = results.summary()\n",
    "su"
   ]
  },
  {
   "cell_type": "markdown",
   "id": "b302d2ac-bcfc-4700-a03b-9b061523a0df",
   "metadata": {},
   "source": [
    "### B - Short term - deflation :"
   ]
  },
  {
   "cell_type": "code",
   "execution_count": 155,
   "id": "eff49523-dc99-47fe-a6bd-1acdbb6aa23b",
   "metadata": {
    "tags": []
   },
   "outputs": [
    {
     "data": {
      "text/html": [
       "<table class=\"simpletable\">\n",
       "<caption>OLS Regression Results</caption>\n",
       "<tr>\n",
       "  <th>Dep. Variable:</th>      <td>proba_st_defl</td>  <th>  R-squared:         </th>  <td>   0.036</td>  \n",
       "</tr>\n",
       "<tr>\n",
       "  <th>Model:</th>                   <td>OLS</td>       <th>  Adj. R-squared:    </th>  <td>   0.036</td>  \n",
       "</tr>\n",
       "<tr>\n",
       "  <th>Method:</th>             <td>Least Squares</td>  <th>  F-statistic:       </th>  <td>   480.2</td>  \n",
       "</tr>\n",
       "<tr>\n",
       "  <th>Date:</th>             <td>Sun, 12 Mar 2023</td> <th>  Prob (F-statistic):</th>   <td>  0.00</td>   \n",
       "</tr>\n",
       "<tr>\n",
       "  <th>Time:</th>                 <td>09:53:31</td>     <th>  Log-Likelihood:    </th> <td>-5.8582e+05</td>\n",
       "</tr>\n",
       "<tr>\n",
       "  <th>No. Observations:</th>      <td>128471</td>      <th>  AIC:               </th>  <td>1.172e+06</td> \n",
       "</tr>\n",
       "<tr>\n",
       "  <th>Df Residuals:</th>          <td>128460</td>      <th>  BIC:               </th>  <td>1.172e+06</td> \n",
       "</tr>\n",
       "<tr>\n",
       "  <th>Df Model:</th>              <td>    10</td>      <th>                     </th>      <td> </td>     \n",
       "</tr>\n",
       "<tr>\n",
       "  <th>Covariance Type:</th>      <td>nonrobust</td>    <th>                     </th>      <td> </td>     \n",
       "</tr>\n",
       "</table>\n",
       "<table class=\"simpletable\">\n",
       "<tr>\n",
       "         <td></td>            <th>coef</th>     <th>std err</th>      <th>t</th>      <th>P>|t|</th>  <th>[0.025</th>    <th>0.975]</th>  \n",
       "</tr>\n",
       "<tr>\n",
       "  <th>const</th>           <td>   20.9418</td> <td>    0.294</td> <td>   71.237</td> <td> 0.000</td> <td>   20.366</td> <td>   21.518</td>\n",
       "</tr>\n",
       "<tr>\n",
       "  <th>tx_evol_ann_pct</th> <td>   -0.7865</td> <td>    0.037</td> <td>  -21.301</td> <td> 0.000</td> <td>   -0.859</td> <td>   -0.714</td>\n",
       "</tr>\n",
       "<tr>\n",
       "  <th>indic_perso</th>     <td>    4.3466</td> <td>    0.438</td> <td>    9.922</td> <td> 0.000</td> <td>    3.488</td> <td>    5.205</td>\n",
       "</tr>\n",
       "<tr>\n",
       "  <th>indic_macro</th>     <td>   -4.3406</td> <td>    0.533</td> <td>   -8.147</td> <td> 0.000</td> <td>   -5.385</td> <td>   -3.296</td>\n",
       "</tr>\n",
       "<tr>\n",
       "  <th>fem</th>             <td>    4.7500</td> <td>    0.279</td> <td>   17.020</td> <td> 0.000</td> <td>    4.203</td> <td>    5.297</td>\n",
       "</tr>\n",
       "<tr>\n",
       "  <th>Over 60</th>         <td>   -1.7483</td> <td>    0.156</td> <td>  -11.207</td> <td> 0.000</td> <td>   -2.054</td> <td>   -1.443</td>\n",
       "</tr>\n",
       "<tr>\n",
       "  <th>Under 40</th>        <td>    2.3371</td> <td>    0.162</td> <td>   14.442</td> <td> 0.000</td> <td>    2.020</td> <td>    2.654</td>\n",
       "</tr>\n",
       "<tr>\n",
       "  <th>College</th>         <td>   -2.4732</td> <td>    0.143</td> <td>  -17.342</td> <td> 0.000</td> <td>   -2.753</td> <td>   -2.194</td>\n",
       "</tr>\n",
       "<tr>\n",
       "  <th>Over 100k</th>       <td>   -0.5408</td> <td>    0.163</td> <td>   -3.324</td> <td> 0.001</td> <td>   -0.860</td> <td>   -0.222</td>\n",
       "</tr>\n",
       "<tr>\n",
       "  <th>Under 50k</th>       <td>    2.3332</td> <td>    0.160</td> <td>   14.600</td> <td> 0.000</td> <td>    2.020</td> <td>    2.646</td>\n",
       "</tr>\n",
       "<tr>\n",
       "  <th>High_num</th>        <td>   -5.7936</td> <td>    0.157</td> <td>  -37.005</td> <td> 0.000</td> <td>   -6.101</td> <td>   -5.487</td>\n",
       "</tr>\n",
       "</table>\n",
       "<table class=\"simpletable\">\n",
       "<tr>\n",
       "  <th>Omnibus:</th>       <td>65508.685</td> <th>  Durbin-Watson:     </th>  <td>   1.988</td> \n",
       "</tr>\n",
       "<tr>\n",
       "  <th>Prob(Omnibus):</th>  <td> 0.000</td>   <th>  Jarque-Bera (JB):  </th> <td>534198.947</td>\n",
       "</tr>\n",
       "<tr>\n",
       "  <th>Skew:</th>           <td> 2.329</td>   <th>  Prob(JB):          </th>  <td>    0.00</td> \n",
       "</tr>\n",
       "<tr>\n",
       "  <th>Kurtosis:</th>       <td>11.837</td>   <th>  Cond. No.          </th>  <td>    27.1</td> \n",
       "</tr>\n",
       "</table><br/><br/>Notes:<br/>[1] Standard Errors assume that the covariance matrix of the errors is correctly specified."
      ],
      "text/plain": [
       "<class 'statsmodels.iolib.summary.Summary'>\n",
       "\"\"\"\n",
       "                            OLS Regression Results                            \n",
       "==============================================================================\n",
       "Dep. Variable:          proba_st_defl   R-squared:                       0.036\n",
       "Model:                            OLS   Adj. R-squared:                  0.036\n",
       "Method:                 Least Squares   F-statistic:                     480.2\n",
       "Date:                Sun, 12 Mar 2023   Prob (F-statistic):               0.00\n",
       "Time:                        09:53:31   Log-Likelihood:            -5.8582e+05\n",
       "No. Observations:              128471   AIC:                         1.172e+06\n",
       "Df Residuals:                  128460   BIC:                         1.172e+06\n",
       "Df Model:                          10                                         \n",
       "Covariance Type:            nonrobust                                         \n",
       "===================================================================================\n",
       "                      coef    std err          t      P>|t|      [0.025      0.975]\n",
       "-----------------------------------------------------------------------------------\n",
       "const              20.9418      0.294     71.237      0.000      20.366      21.518\n",
       "tx_evol_ann_pct    -0.7865      0.037    -21.301      0.000      -0.859      -0.714\n",
       "indic_perso         4.3466      0.438      9.922      0.000       3.488       5.205\n",
       "indic_macro        -4.3406      0.533     -8.147      0.000      -5.385      -3.296\n",
       "fem                 4.7500      0.279     17.020      0.000       4.203       5.297\n",
       "Over 60            -1.7483      0.156    -11.207      0.000      -2.054      -1.443\n",
       "Under 40            2.3371      0.162     14.442      0.000       2.020       2.654\n",
       "College            -2.4732      0.143    -17.342      0.000      -2.753      -2.194\n",
       "Over 100k          -0.5408      0.163     -3.324      0.001      -0.860      -0.222\n",
       "Under 50k           2.3332      0.160     14.600      0.000       2.020       2.646\n",
       "High_num           -5.7936      0.157    -37.005      0.000      -6.101      -5.487\n",
       "==============================================================================\n",
       "Omnibus:                    65508.685   Durbin-Watson:                   1.988\n",
       "Prob(Omnibus):                  0.000   Jarque-Bera (JB):           534198.947\n",
       "Skew:                           2.329   Prob(JB):                         0.00\n",
       "Kurtosis:                      11.837   Cond. No.                         27.1\n",
       "==============================================================================\n",
       "\n",
       "Notes:\n",
       "[1] Standard Errors assume that the covariance matrix of the errors is correctly specified.\n",
       "\"\"\""
      ]
     },
     "execution_count": 155,
     "metadata": {},
     "output_type": "execute_result"
    }
   ],
   "source": [
    "Y = BF['proba_st_defl'].astype('float')\n",
    "X = BF.fillna(0)[['tx_evol_ann_pct','indic_perso','indic_macro','fem','Over 60','Under 40','College','Over 100k','Under 50k','High_num']]\n",
    "X = sm.add_constant(X)\n",
    "model = sm.OLS(Y,X)\n",
    "results = model.fit()\n",
    "su = results.summary()\n",
    "su"
   ]
  },
  {
   "cell_type": "markdown",
   "id": "8dcb396f-c317-4877-a6ea-7399b79192a9",
   "metadata": {},
   "source": [
    "### C-Long terme - high :"
   ]
  },
  {
   "cell_type": "code",
   "execution_count": 158,
   "id": "20baf9dd-9c2b-43ea-865e-f50e862f3cc8",
   "metadata": {
    "tags": []
   },
   "outputs": [
    {
     "data": {
      "text/html": [
       "<table class=\"simpletable\">\n",
       "<caption>OLS Regression Results</caption>\n",
       "<tr>\n",
       "  <th>Dep. Variable:</th>      <td>proba_lt_high</td>  <th>  R-squared:         </th>  <td>   0.052</td>  \n",
       "</tr>\n",
       "<tr>\n",
       "  <th>Model:</th>                   <td>OLS</td>       <th>  Adj. R-squared:    </th>  <td>   0.052</td>  \n",
       "</tr>\n",
       "<tr>\n",
       "  <th>Method:</th>             <td>Least Squares</td>  <th>  F-statistic:       </th>  <td>   698.9</td>  \n",
       "</tr>\n",
       "<tr>\n",
       "  <th>Date:</th>             <td>Sun, 12 Mar 2023</td> <th>  Prob (F-statistic):</th>   <td>  0.00</td>   \n",
       "</tr>\n",
       "<tr>\n",
       "  <th>Time:</th>                 <td>09:55:47</td>     <th>  Log-Likelihood:    </th> <td>-6.3374e+05</td>\n",
       "</tr>\n",
       "<tr>\n",
       "  <th>No. Observations:</th>      <td>128471</td>      <th>  AIC:               </th>  <td>1.268e+06</td> \n",
       "</tr>\n",
       "<tr>\n",
       "  <th>Df Residuals:</th>          <td>128460</td>      <th>  BIC:               </th>  <td>1.268e+06</td> \n",
       "</tr>\n",
       "<tr>\n",
       "  <th>Df Model:</th>              <td>    10</td>      <th>                     </th>      <td> </td>     \n",
       "</tr>\n",
       "<tr>\n",
       "  <th>Covariance Type:</th>      <td>nonrobust</td>    <th>                     </th>      <td> </td>     \n",
       "</tr>\n",
       "</table>\n",
       "<table class=\"simpletable\">\n",
       "<tr>\n",
       "         <td></td>            <th>coef</th>     <th>std err</th>      <th>t</th>      <th>P>|t|</th>  <th>[0.025</th>    <th>0.975]</th>  \n",
       "</tr>\n",
       "<tr>\n",
       "  <th>const</th>           <td>   24.6136</td> <td>    0.427</td> <td>   57.658</td> <td> 0.000</td> <td>   23.777</td> <td>   25.450</td>\n",
       "</tr>\n",
       "<tr>\n",
       "  <th>tx_evol_ann_pct</th> <td>    1.9839</td> <td>    0.054</td> <td>   37.003</td> <td> 0.000</td> <td>    1.879</td> <td>    2.089</td>\n",
       "</tr>\n",
       "<tr>\n",
       "  <th>indic_perso</th>     <td>   10.9970</td> <td>    0.636</td> <td>   17.287</td> <td> 0.000</td> <td>    9.750</td> <td>   12.244</td>\n",
       "</tr>\n",
       "<tr>\n",
       "  <th>indic_macro</th>     <td>   24.8554</td> <td>    0.774</td> <td>   32.126</td> <td> 0.000</td> <td>   23.339</td> <td>   26.372</td>\n",
       "</tr>\n",
       "<tr>\n",
       "  <th>fem</th>             <td>    7.2306</td> <td>    0.405</td> <td>   17.842</td> <td> 0.000</td> <td>    6.436</td> <td>    8.025</td>\n",
       "</tr>\n",
       "<tr>\n",
       "  <th>Over 60</th>         <td>    3.0667</td> <td>    0.227</td> <td>   13.537</td> <td> 0.000</td> <td>    2.623</td> <td>    3.511</td>\n",
       "</tr>\n",
       "<tr>\n",
       "  <th>Under 40</th>        <td>   -3.9076</td> <td>    0.235</td> <td>  -16.629</td> <td> 0.000</td> <td>   -4.368</td> <td>   -3.447</td>\n",
       "</tr>\n",
       "<tr>\n",
       "  <th>College</th>         <td>   -4.6713</td> <td>    0.207</td> <td>  -22.557</td> <td> 0.000</td> <td>   -5.077</td> <td>   -4.265</td>\n",
       "</tr>\n",
       "<tr>\n",
       "  <th>Over 100k</th>       <td>   -3.0472</td> <td>    0.236</td> <td>  -12.898</td> <td> 0.000</td> <td>   -3.510</td> <td>   -2.584</td>\n",
       "</tr>\n",
       "<tr>\n",
       "  <th>Under 50k</th>       <td>    3.2382</td> <td>    0.232</td> <td>   13.954</td> <td> 0.000</td> <td>    2.783</td> <td>    3.693</td>\n",
       "</tr>\n",
       "<tr>\n",
       "  <th>High_num</th>        <td>   -4.8301</td> <td>    0.227</td> <td>  -21.245</td> <td> 0.000</td> <td>   -5.276</td> <td>   -4.384</td>\n",
       "</tr>\n",
       "</table>\n",
       "<table class=\"simpletable\">\n",
       "<tr>\n",
       "  <th>Omnibus:</th>       <td>17542.763</td> <th>  Durbin-Watson:     </th> <td>   1.970</td> \n",
       "</tr>\n",
       "<tr>\n",
       "  <th>Prob(Omnibus):</th>  <td> 0.000</td>   <th>  Jarque-Bera (JB):  </th> <td>12174.561</td>\n",
       "</tr>\n",
       "<tr>\n",
       "  <th>Skew:</th>           <td> 0.645</td>   <th>  Prob(JB):          </th> <td>    0.00</td> \n",
       "</tr>\n",
       "<tr>\n",
       "  <th>Kurtosis:</th>       <td> 2.218</td>   <th>  Cond. No.          </th> <td>    27.1</td> \n",
       "</tr>\n",
       "</table><br/><br/>Notes:<br/>[1] Standard Errors assume that the covariance matrix of the errors is correctly specified."
      ],
      "text/plain": [
       "<class 'statsmodels.iolib.summary.Summary'>\n",
       "\"\"\"\n",
       "                            OLS Regression Results                            \n",
       "==============================================================================\n",
       "Dep. Variable:          proba_lt_high   R-squared:                       0.052\n",
       "Model:                            OLS   Adj. R-squared:                  0.052\n",
       "Method:                 Least Squares   F-statistic:                     698.9\n",
       "Date:                Sun, 12 Mar 2023   Prob (F-statistic):               0.00\n",
       "Time:                        09:55:47   Log-Likelihood:            -6.3374e+05\n",
       "No. Observations:              128471   AIC:                         1.268e+06\n",
       "Df Residuals:                  128460   BIC:                         1.268e+06\n",
       "Df Model:                          10                                         \n",
       "Covariance Type:            nonrobust                                         \n",
       "===================================================================================\n",
       "                      coef    std err          t      P>|t|      [0.025      0.975]\n",
       "-----------------------------------------------------------------------------------\n",
       "const              24.6136      0.427     57.658      0.000      23.777      25.450\n",
       "tx_evol_ann_pct     1.9839      0.054     37.003      0.000       1.879       2.089\n",
       "indic_perso        10.9970      0.636     17.287      0.000       9.750      12.244\n",
       "indic_macro        24.8554      0.774     32.126      0.000      23.339      26.372\n",
       "fem                 7.2306      0.405     17.842      0.000       6.436       8.025\n",
       "Over 60             3.0667      0.227     13.537      0.000       2.623       3.511\n",
       "Under 40           -3.9076      0.235    -16.629      0.000      -4.368      -3.447\n",
       "College            -4.6713      0.207    -22.557      0.000      -5.077      -4.265\n",
       "Over 100k          -3.0472      0.236    -12.898      0.000      -3.510      -2.584\n",
       "Under 50k           3.2382      0.232     13.954      0.000       2.783       3.693\n",
       "High_num           -4.8301      0.227    -21.245      0.000      -5.276      -4.384\n",
       "==============================================================================\n",
       "Omnibus:                    17542.763   Durbin-Watson:                   1.970\n",
       "Prob(Omnibus):                  0.000   Jarque-Bera (JB):            12174.561\n",
       "Skew:                           0.645   Prob(JB):                         0.00\n",
       "Kurtosis:                       2.218   Cond. No.                         27.1\n",
       "==============================================================================\n",
       "\n",
       "Notes:\n",
       "[1] Standard Errors assume that the covariance matrix of the errors is correctly specified.\n",
       "\"\"\""
      ]
     },
     "execution_count": 158,
     "metadata": {},
     "output_type": "execute_result"
    }
   ],
   "source": [
    "Y = BF['proba_lt_high'].astype('float')\n",
    "X = BF.fillna(0)[['tx_evol_ann_pct','indic_perso','indic_macro','fem','Over 60','Under 40','College','Over 100k','Under 50k','High_num']]\n",
    "X = sm.add_constant(X)\n",
    "model = sm.OLS(Y,X)\n",
    "results = model.fit()\n",
    "su = results.summary()\n",
    "su"
   ]
  },
  {
   "cell_type": "markdown",
   "id": "01f06d41-bbdc-4fd8-b372-3526f01fb740",
   "metadata": {},
   "source": [
    "### D - Long term - Deflation :"
   ]
  },
  {
   "cell_type": "code",
   "execution_count": 161,
   "id": "3b338906-1bf6-450a-b8b7-471a42d11ef1",
   "metadata": {
    "tags": []
   },
   "outputs": [
    {
     "data": {
      "text/html": [
       "<table class=\"simpletable\">\n",
       "<caption>OLS Regression Results</caption>\n",
       "<tr>\n",
       "  <th>Dep. Variable:</th>      <td>proba_lt_defl</td>  <th>  R-squared:         </th>  <td>   0.032</td>  \n",
       "</tr>\n",
       "<tr>\n",
       "  <th>Model:</th>                   <td>OLS</td>       <th>  Adj. R-squared:    </th>  <td>   0.032</td>  \n",
       "</tr>\n",
       "<tr>\n",
       "  <th>Method:</th>             <td>Least Squares</td>  <th>  F-statistic:       </th>  <td>   423.0</td>  \n",
       "</tr>\n",
       "<tr>\n",
       "  <th>Date:</th>             <td>Sun, 12 Mar 2023</td> <th>  Prob (F-statistic):</th>   <td>  0.00</td>   \n",
       "</tr>\n",
       "<tr>\n",
       "  <th>Time:</th>                 <td>09:58:00</td>     <th>  Log-Likelihood:    </th> <td>-5.9836e+05</td>\n",
       "</tr>\n",
       "<tr>\n",
       "  <th>No. Observations:</th>      <td>128471</td>      <th>  AIC:               </th>  <td>1.197e+06</td> \n",
       "</tr>\n",
       "<tr>\n",
       "  <th>Df Residuals:</th>          <td>128460</td>      <th>  BIC:               </th>  <td>1.197e+06</td> \n",
       "</tr>\n",
       "<tr>\n",
       "  <th>Df Model:</th>              <td>    10</td>      <th>                     </th>      <td> </td>     \n",
       "</tr>\n",
       "<tr>\n",
       "  <th>Covariance Type:</th>      <td>nonrobust</td>    <th>                     </th>      <td> </td>     \n",
       "</tr>\n",
       "</table>\n",
       "<table class=\"simpletable\">\n",
       "<tr>\n",
       "         <td></td>            <th>coef</th>     <th>std err</th>      <th>t</th>      <th>P>|t|</th>  <th>[0.025</th>    <th>0.975]</th>  \n",
       "</tr>\n",
       "<tr>\n",
       "  <th>const</th>           <td>   20.2868</td> <td>    0.324</td> <td>   62.589</td> <td> 0.000</td> <td>   19.652</td> <td>   20.922</td>\n",
       "</tr>\n",
       "<tr>\n",
       "  <th>tx_evol_ann_pct</th> <td>    0.3964</td> <td>    0.041</td> <td>    9.738</td> <td> 0.000</td> <td>    0.317</td> <td>    0.476</td>\n",
       "</tr>\n",
       "<tr>\n",
       "  <th>indic_perso</th>     <td>    5.3364</td> <td>    0.483</td> <td>   11.048</td> <td> 0.000</td> <td>    4.390</td> <td>    6.283</td>\n",
       "</tr>\n",
       "<tr>\n",
       "  <th>indic_macro</th>     <td>   -2.2485</td> <td>    0.587</td> <td>   -3.828</td> <td> 0.000</td> <td>   -3.400</td> <td>   -1.097</td>\n",
       "</tr>\n",
       "<tr>\n",
       "  <th>fem</th>             <td>    5.2254</td> <td>    0.308</td> <td>   16.981</td> <td> 0.000</td> <td>    4.622</td> <td>    5.829</td>\n",
       "</tr>\n",
       "<tr>\n",
       "  <th>Over 60</th>         <td>   -2.2106</td> <td>    0.172</td> <td>  -12.852</td> <td> 0.000</td> <td>   -2.548</td> <td>   -1.873</td>\n",
       "</tr>\n",
       "<tr>\n",
       "  <th>Under 40</th>        <td>    2.3554</td> <td>    0.178</td> <td>   13.202</td> <td> 0.000</td> <td>    2.006</td> <td>    2.705</td>\n",
       "</tr>\n",
       "<tr>\n",
       "  <th>College</th>         <td>   -2.8216</td> <td>    0.157</td> <td>  -17.945</td> <td> 0.000</td> <td>   -3.130</td> <td>   -2.513</td>\n",
       "</tr>\n",
       "<tr>\n",
       "  <th>Over 100k</th>       <td>   -1.1143</td> <td>    0.179</td> <td>   -6.212</td> <td> 0.000</td> <td>   -1.466</td> <td>   -0.763</td>\n",
       "</tr>\n",
       "<tr>\n",
       "  <th>Under 50k</th>       <td>    2.0439</td> <td>    0.176</td> <td>   11.600</td> <td> 0.000</td> <td>    1.699</td> <td>    2.389</td>\n",
       "</tr>\n",
       "<tr>\n",
       "  <th>High_num</th>        <td>   -6.1761</td> <td>    0.173</td> <td>  -35.778</td> <td> 0.000</td> <td>   -6.514</td> <td>   -5.838</td>\n",
       "</tr>\n",
       "</table>\n",
       "<table class=\"simpletable\">\n",
       "<tr>\n",
       "  <th>Omnibus:</th>       <td>49271.272</td> <th>  Durbin-Watson:     </th>  <td>   1.994</td> \n",
       "</tr>\n",
       "<tr>\n",
       "  <th>Prob(Omnibus):</th>  <td> 0.000</td>   <th>  Jarque-Bera (JB):  </th> <td>180966.104</td>\n",
       "</tr>\n",
       "<tr>\n",
       "  <th>Skew:</th>           <td> 1.950</td>   <th>  Prob(JB):          </th>  <td>    0.00</td> \n",
       "</tr>\n",
       "<tr>\n",
       "  <th>Kurtosis:</th>       <td> 7.312</td>   <th>  Cond. No.          </th>  <td>    27.1</td> \n",
       "</tr>\n",
       "</table><br/><br/>Notes:<br/>[1] Standard Errors assume that the covariance matrix of the errors is correctly specified."
      ],
      "text/plain": [
       "<class 'statsmodels.iolib.summary.Summary'>\n",
       "\"\"\"\n",
       "                            OLS Regression Results                            \n",
       "==============================================================================\n",
       "Dep. Variable:          proba_lt_defl   R-squared:                       0.032\n",
       "Model:                            OLS   Adj. R-squared:                  0.032\n",
       "Method:                 Least Squares   F-statistic:                     423.0\n",
       "Date:                Sun, 12 Mar 2023   Prob (F-statistic):               0.00\n",
       "Time:                        09:58:00   Log-Likelihood:            -5.9836e+05\n",
       "No. Observations:              128471   AIC:                         1.197e+06\n",
       "Df Residuals:                  128460   BIC:                         1.197e+06\n",
       "Df Model:                          10                                         \n",
       "Covariance Type:            nonrobust                                         \n",
       "===================================================================================\n",
       "                      coef    std err          t      P>|t|      [0.025      0.975]\n",
       "-----------------------------------------------------------------------------------\n",
       "const              20.2868      0.324     62.589      0.000      19.652      20.922\n",
       "tx_evol_ann_pct     0.3964      0.041      9.738      0.000       0.317       0.476\n",
       "indic_perso         5.3364      0.483     11.048      0.000       4.390       6.283\n",
       "indic_macro        -2.2485      0.587     -3.828      0.000      -3.400      -1.097\n",
       "fem                 5.2254      0.308     16.981      0.000       4.622       5.829\n",
       "Over 60            -2.2106      0.172    -12.852      0.000      -2.548      -1.873\n",
       "Under 40            2.3554      0.178     13.202      0.000       2.006       2.705\n",
       "College            -2.8216      0.157    -17.945      0.000      -3.130      -2.513\n",
       "Over 100k          -1.1143      0.179     -6.212      0.000      -1.466      -0.763\n",
       "Under 50k           2.0439      0.176     11.600      0.000       1.699       2.389\n",
       "High_num           -6.1761      0.173    -35.778      0.000      -6.514      -5.838\n",
       "==============================================================================\n",
       "Omnibus:                    49271.272   Durbin-Watson:                   1.994\n",
       "Prob(Omnibus):                  0.000   Jarque-Bera (JB):           180966.104\n",
       "Skew:                           1.950   Prob(JB):                         0.00\n",
       "Kurtosis:                       7.312   Cond. No.                         27.1\n",
       "==============================================================================\n",
       "\n",
       "Notes:\n",
       "[1] Standard Errors assume that the covariance matrix of the errors is correctly specified.\n",
       "\"\"\""
      ]
     },
     "execution_count": 161,
     "metadata": {},
     "output_type": "execute_result"
    }
   ],
   "source": [
    "Y = BF['proba_lt_defl'].astype('float')\n",
    "X = BF.fillna(0)[['tx_evol_ann_pct','indic_perso','indic_macro','fem','Over 60','Under 40','College','Over 100k','Under 50k','High_num']]\n",
    "X = sm.add_constant(X)\n",
    "model = sm.OLS(Y,X)\n",
    "results = model.fit()\n",
    "su = results.summary()\n",
    "su"
   ]
  }
 ],
 "metadata": {
  "kernelspec": {
   "display_name": "Python 3 (ipykernel)",
   "language": "python",
   "name": "python3"
  },
  "language_info": {
   "codemirror_mode": {
    "name": "ipython",
    "version": 3
   },
   "file_extension": ".py",
   "mimetype": "text/x-python",
   "name": "python",
   "nbconvert_exporter": "python",
   "pygments_lexer": "ipython3",
   "version": "3.10.8"
  }
 },
 "nbformat": 4,
 "nbformat_minor": 5
}
