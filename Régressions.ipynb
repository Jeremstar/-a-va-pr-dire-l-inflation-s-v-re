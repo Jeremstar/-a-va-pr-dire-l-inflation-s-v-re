{
 "cells": [
  {
   "cell_type": "markdown",
   "id": "c2a9d55b-bb7f-432d-9e65-f6b84bccd5db",
   "metadata": {},
   "source": [
    "# Importation des données :"
   ]
  },
  {
   "cell_type": "code",
   "execution_count": 1,
   "id": "773bc2b7-d978-4d6d-ba33-bd4152b42efa",
   "metadata": {
    "tags": []
   },
   "outputs": [
    {
     "name": "stdout",
     "output_type": "stream",
     "text": [
      "Collecting openpyxl\n",
      "  Downloading openpyxl-3.1.1-py2.py3-none-any.whl (249 kB)\n",
      "\u001b[2K     \u001b[90m━━━━━━━━━━━━━━━━━━━━━━━━━━━━━━━━━━━━━━━\u001b[0m \u001b[32m249.8/249.8 kB\u001b[0m \u001b[31m6.1 MB/s\u001b[0m eta \u001b[36m0:00:00\u001b[0ma \u001b[36m0:00:01\u001b[0m\n",
      "\u001b[?25hCollecting et-xmlfile\n",
      "  Downloading et_xmlfile-1.1.0-py3-none-any.whl (4.7 kB)\n",
      "Installing collected packages: et-xmlfile, openpyxl\n",
      "Successfully installed et-xmlfile-1.1.0 openpyxl-3.1.1\n",
      "Note: you may need to restart the kernel to use updated packages.\n"
     ]
    }
   ],
   "source": [
    "pip install openpyxl"
   ]
  },
  {
   "cell_type": "code",
   "execution_count": 69,
   "id": "0b69676f-7e58-48d9-8ad8-1cd191871141",
   "metadata": {
    "tags": []
   },
   "outputs": [],
   "source": [
    "import matplotlib.pyplot as plt\n",
    "import seaborn as sns\n",
    "from datetime import datetime, timedelta\n",
    "import pandas as pd\n",
    "import requests\n",
    "import numpy as np \n",
    "from scipy import stats"
   ]
  },
  {
   "cell_type": "code",
   "execution_count": 3,
   "id": "a6152505-a5ab-4c27-88c1-3bb205bcd3c4",
   "metadata": {
    "tags": []
   },
   "outputs": [],
   "source": [
    "OECD = pd.read_excel('données/OECD - short term economic indicators.xlsx')"
   ]
  },
  {
   "cell_type": "code",
   "execution_count": 4,
   "id": "517fef01-6f7f-4dc1-b734-f937569d71d7",
   "metadata": {
    "tags": []
   },
   "outputs": [],
   "source": [
    "IMF = pd.read_excel('données/IMF - monetary policy.xlsx')"
   ]
  },
  {
   "cell_type": "code",
   "execution_count": 5,
   "id": "89ca2ad9-15c3-4814-b45d-4cb624271775",
   "metadata": {
    "tags": []
   },
   "outputs": [],
   "source": [
    "agregated_data=pd.ExcelFile('données/FRBNY-SCE-Data.xlsx')\n",
    "agregated_anticipation= df1=pd.read_excel(agregated_data, 'Inflation expectations')"
   ]
  },
  {
   "cell_type": "code",
   "execution_count": 6,
   "id": "fd3990f4-2877-482a-a73a-95e214f86462",
   "metadata": {
    "tags": []
   },
   "outputs": [],
   "source": [
    "agrant = agregated_anticipation[['Unnamed: 1','Unnamed: 2']].drop([0,1,2]).reset_index().rename(columns={'index':'date','Unnamed: 1':'short exp','Unnamed: 2':'mid exp'})"
   ]
  },
  {
   "cell_type": "code",
   "execution_count": 7,
   "id": "752069e8-378d-4ea0-a126-76a6ba4a1a00",
   "metadata": {
    "tags": []
   },
   "outputs": [],
   "source": [
    "Enq13 = pd.read_excel('https://www.newyorkfed.org/medialibrary/interactives/sce/sce/downloads/data/frbny-sce-public-microdata-complete-13-16.xlsx')"
   ]
  },
  {
   "cell_type": "code",
   "execution_count": 8,
   "id": "7a7fb241-a3ff-420e-a175-f354925069db",
   "metadata": {
    "tags": []
   },
   "outputs": [],
   "source": [
    "Enq17 = pd.read_excel('https://www.newyorkfed.org/medialibrary/interactives/sce/sce/downloads/data/frbny-sce-public-microdata-complete-17-19.xlsx')"
   ]
  },
  {
   "cell_type": "code",
   "execution_count": 9,
   "id": "f38e21b2-3b22-4d53-ba33-c83b548ce221",
   "metadata": {
    "tags": []
   },
   "outputs": [],
   "source": [
    "Latest=pd.ExcelFile('https://www.newyorkfed.org/medialibrary/Interactives/sce/sce/downloads/data/frbny-sce-public-microdata-latest.xlsx')\n",
    "Enq20=pd.read_excel(Latest, 'Data')"
   ]
  },
  {
   "cell_type": "code",
   "execution_count": 10,
   "id": "7f1f495f-9914-4883-941c-cc030f6ff06b",
   "metadata": {
    "tags": []
   },
   "outputs": [
    {
     "data": {
      "text/html": [
       "<div>\n",
       "<style scoped>\n",
       "    .dataframe tbody tr th:only-of-type {\n",
       "        vertical-align: middle;\n",
       "    }\n",
       "\n",
       "    .dataframe tbody tr th {\n",
       "        vertical-align: top;\n",
       "    }\n",
       "\n",
       "    .dataframe thead th {\n",
       "        text-align: right;\n",
       "    }\n",
       "</style>\n",
       "<table border=\"1\" class=\"dataframe\">\n",
       "  <thead>\n",
       "    <tr style=\"text-align: right;\">\n",
       "      <th></th>\n",
       "      <th>Source:  Survey of Consumer Expectations, © 2013-23 Federal Reserve Bank of New York (FRBNY).   The SCE data are available without charge at www.newyorkfed.org and may be used subject to license terms posted there.  FRBNY disclaims any responsibility or legal liability for this analysis and interpretation of Survey of Consumer Expectations data.</th>\n",
       "      <th>Unnamed: 1</th>\n",
       "      <th>Unnamed: 2</th>\n",
       "      <th>Unnamed: 3</th>\n",
       "      <th>Unnamed: 4</th>\n",
       "      <th>Unnamed: 5</th>\n",
       "      <th>Unnamed: 6</th>\n",
       "      <th>Unnamed: 7</th>\n",
       "      <th>Unnamed: 8</th>\n",
       "      <th>Unnamed: 9</th>\n",
       "      <th>...</th>\n",
       "      <th>Unnamed: 210</th>\n",
       "      <th>Unnamed: 211</th>\n",
       "      <th>Unnamed: 212</th>\n",
       "      <th>Unnamed: 213</th>\n",
       "      <th>Unnamed: 214</th>\n",
       "      <th>Unnamed: 215</th>\n",
       "      <th>Unnamed: 216</th>\n",
       "      <th>Unnamed: 217</th>\n",
       "      <th>Unnamed: 218</th>\n",
       "      <th>Unnamed: 219</th>\n",
       "    </tr>\n",
       "  </thead>\n",
       "  <tbody>\n",
       "    <tr>\n",
       "      <th>0</th>\n",
       "      <td>date</td>\n",
       "      <td>userid</td>\n",
       "      <td>tenure</td>\n",
       "      <td>weight</td>\n",
       "      <td>Q1</td>\n",
       "      <td>Q2</td>\n",
       "      <td>Q3</td>\n",
       "      <td>Q4new</td>\n",
       "      <td>Q5new</td>\n",
       "      <td>Q6new</td>\n",
       "      <td>...</td>\n",
       "      <td>Q48</td>\n",
       "      <td>QRA1</td>\n",
       "      <td>QRA2</td>\n",
       "      <td>survey_date</td>\n",
       "      <td>_AGE_CAT</td>\n",
       "      <td>_NUM_CAT</td>\n",
       "      <td>_REGION_CAT</td>\n",
       "      <td>_COMMUTING_ZONE</td>\n",
       "      <td>_EDU_CAT</td>\n",
       "      <td>_HH_INC_CAT</td>\n",
       "    </tr>\n",
       "    <tr>\n",
       "      <th>1</th>\n",
       "      <td>202001</td>\n",
       "      <td>70103231</td>\n",
       "      <td>12</td>\n",
       "      <td>0.81825</td>\n",
       "      <td>4</td>\n",
       "      <td>3</td>\n",
       "      <td>20</td>\n",
       "      <td>62</td>\n",
       "      <td>26</td>\n",
       "      <td>44</td>\n",
       "      <td>...</td>\n",
       "      <td>5</td>\n",
       "      <td>NaN</td>\n",
       "      <td>NaN</td>\n",
       "      <td>2020-01-23 00:00:00</td>\n",
       "      <td>40 to 60</td>\n",
       "      <td>High</td>\n",
       "      <td>West</td>\n",
       "      <td>218</td>\n",
       "      <td>College</td>\n",
       "      <td>Over 100k</td>\n",
       "    </tr>\n",
       "    <tr>\n",
       "      <th>2</th>\n",
       "      <td>202001</td>\n",
       "      <td>70103252</td>\n",
       "      <td>11</td>\n",
       "      <td>2.879998</td>\n",
       "      <td>3</td>\n",
       "      <td>2</td>\n",
       "      <td>1</td>\n",
       "      <td>30</td>\n",
       "      <td>1</td>\n",
       "      <td>10</td>\n",
       "      <td>...</td>\n",
       "      <td>2</td>\n",
       "      <td>NaN</td>\n",
       "      <td>NaN</td>\n",
       "      <td>2020-01-02 00:00:00</td>\n",
       "      <td>40 to 60</td>\n",
       "      <td>Low</td>\n",
       "      <td>Northeast</td>\n",
       "      <td>203</td>\n",
       "      <td>High School</td>\n",
       "      <td>Under 50k</td>\n",
       "    </tr>\n",
       "    <tr>\n",
       "      <th>3</th>\n",
       "      <td>202001</td>\n",
       "      <td>70103258</td>\n",
       "      <td>12</td>\n",
       "      <td>0.549674</td>\n",
       "      <td>4</td>\n",
       "      <td>4</td>\n",
       "      <td>0</td>\n",
       "      <td>3</td>\n",
       "      <td>4</td>\n",
       "      <td>18</td>\n",
       "      <td>...</td>\n",
       "      <td>4</td>\n",
       "      <td>NaN</td>\n",
       "      <td>NaN</td>\n",
       "      <td>2020-01-07 00:00:00</td>\n",
       "      <td>Over 60</td>\n",
       "      <td>High</td>\n",
       "      <td>South</td>\n",
       "      <td>102</td>\n",
       "      <td>College</td>\n",
       "      <td>50k to 100k</td>\n",
       "    </tr>\n",
       "    <tr>\n",
       "      <th>4</th>\n",
       "      <td>202001</td>\n",
       "      <td>70103285</td>\n",
       "      <td>12</td>\n",
       "      <td>0.481746</td>\n",
       "      <td>4</td>\n",
       "      <td>4</td>\n",
       "      <td>10</td>\n",
       "      <td>10</td>\n",
       "      <td>10</td>\n",
       "      <td>10</td>\n",
       "      <td>...</td>\n",
       "      <td>1</td>\n",
       "      <td>NaN</td>\n",
       "      <td>NaN</td>\n",
       "      <td>2020-01-27 00:00:00</td>\n",
       "      <td>Under 40</td>\n",
       "      <td>High</td>\n",
       "      <td>Midwest</td>\n",
       "      <td>100</td>\n",
       "      <td>College</td>\n",
       "      <td>50k to 100k</td>\n",
       "    </tr>\n",
       "    <tr>\n",
       "      <th>...</th>\n",
       "      <td>...</td>\n",
       "      <td>...</td>\n",
       "      <td>...</td>\n",
       "      <td>...</td>\n",
       "      <td>...</td>\n",
       "      <td>...</td>\n",
       "      <td>...</td>\n",
       "      <td>...</td>\n",
       "      <td>...</td>\n",
       "      <td>...</td>\n",
       "      <td>...</td>\n",
       "      <td>...</td>\n",
       "      <td>...</td>\n",
       "      <td>...</td>\n",
       "      <td>...</td>\n",
       "      <td>...</td>\n",
       "      <td>...</td>\n",
       "      <td>...</td>\n",
       "      <td>...</td>\n",
       "      <td>...</td>\n",
       "      <td>...</td>\n",
       "    </tr>\n",
       "    <tr>\n",
       "      <th>35136</th>\n",
       "      <td>202204</td>\n",
       "      <td>75005976</td>\n",
       "      <td>1</td>\n",
       "      <td>0.954878</td>\n",
       "      <td>4</td>\n",
       "      <td>5</td>\n",
       "      <td>0</td>\n",
       "      <td>5</td>\n",
       "      <td>25</td>\n",
       "      <td>55</td>\n",
       "      <td>...</td>\n",
       "      <td>5</td>\n",
       "      <td>4</td>\n",
       "      <td>7</td>\n",
       "      <td>2022-04-12 00:00:00</td>\n",
       "      <td>40 to 60</td>\n",
       "      <td>Low</td>\n",
       "      <td>South</td>\n",
       "      <td>54</td>\n",
       "      <td>Some College</td>\n",
       "      <td>50k to 100k</td>\n",
       "    </tr>\n",
       "    <tr>\n",
       "      <th>35137</th>\n",
       "      <td>202204</td>\n",
       "      <td>75005980</td>\n",
       "      <td>1</td>\n",
       "      <td>0.708391</td>\n",
       "      <td>2</td>\n",
       "      <td>3</td>\n",
       "      <td>34</td>\n",
       "      <td>22</td>\n",
       "      <td>86</td>\n",
       "      <td>54</td>\n",
       "      <td>...</td>\n",
       "      <td>4</td>\n",
       "      <td>3</td>\n",
       "      <td>3</td>\n",
       "      <td>2022-04-04 00:00:00</td>\n",
       "      <td>Over 60</td>\n",
       "      <td>High</td>\n",
       "      <td>West</td>\n",
       "      <td>902</td>\n",
       "      <td>College</td>\n",
       "      <td>50k to 100k</td>\n",
       "    </tr>\n",
       "    <tr>\n",
       "      <th>35138</th>\n",
       "      <td>202204</td>\n",
       "      <td>75005987</td>\n",
       "      <td>1</td>\n",
       "      <td>0.915896</td>\n",
       "      <td>2</td>\n",
       "      <td>4</td>\n",
       "      <td>81</td>\n",
       "      <td>70</td>\n",
       "      <td>51</td>\n",
       "      <td>47</td>\n",
       "      <td>...</td>\n",
       "      <td>5</td>\n",
       "      <td>5</td>\n",
       "      <td>4</td>\n",
       "      <td>2022-04-10 00:00:00</td>\n",
       "      <td>Under 40</td>\n",
       "      <td>Low</td>\n",
       "      <td>South</td>\n",
       "      <td>84</td>\n",
       "      <td>Some College</td>\n",
       "      <td>Under 50k</td>\n",
       "    </tr>\n",
       "    <tr>\n",
       "      <th>35139</th>\n",
       "      <td>202204</td>\n",
       "      <td>75005995</td>\n",
       "      <td>1</td>\n",
       "      <td>0.888988</td>\n",
       "      <td>4</td>\n",
       "      <td>4</td>\n",
       "      <td>95</td>\n",
       "      <td>5</td>\n",
       "      <td>5</td>\n",
       "      <td>5</td>\n",
       "      <td>...</td>\n",
       "      <td>3</td>\n",
       "      <td>5</td>\n",
       "      <td>4</td>\n",
       "      <td>2022-04-20 00:00:00</td>\n",
       "      <td>Under 40</td>\n",
       "      <td>Low</td>\n",
       "      <td>South</td>\n",
       "      <td>102</td>\n",
       "      <td>Some College</td>\n",
       "      <td>50k to 100k</td>\n",
       "    </tr>\n",
       "    <tr>\n",
       "      <th>35140</th>\n",
       "      <td>202204</td>\n",
       "      <td>75005996</td>\n",
       "      <td>1</td>\n",
       "      <td>0.97863</td>\n",
       "      <td>1</td>\n",
       "      <td>3</td>\n",
       "      <td>1</td>\n",
       "      <td>50</td>\n",
       "      <td>30</td>\n",
       "      <td>40</td>\n",
       "      <td>...</td>\n",
       "      <td>3</td>\n",
       "      <td>2</td>\n",
       "      <td>2</td>\n",
       "      <td>2022-04-12 00:00:00</td>\n",
       "      <td>Over 60</td>\n",
       "      <td>Low</td>\n",
       "      <td>Midwest</td>\n",
       "      <td>2</td>\n",
       "      <td>Some College</td>\n",
       "      <td>Under 50k</td>\n",
       "    </tr>\n",
       "  </tbody>\n",
       "</table>\n",
       "<p>35141 rows × 220 columns</p>\n",
       "</div>"
      ],
      "text/plain": [
       "      Source:  Survey of Consumer Expectations, © 2013-23 Federal Reserve Bank of New York (FRBNY).   The SCE data are available without charge at www.newyorkfed.org and may be used subject to license terms posted there.  FRBNY disclaims any responsibility or legal liability for this analysis and interpretation of Survey of Consumer Expectations data.  \\\n",
       "0                                                   date                                                                                                                                                                                                                                                                                                            \n",
       "1                                                 202001                                                                                                                                                                                                                                                                                                            \n",
       "2                                                 202001                                                                                                                                                                                                                                                                                                            \n",
       "3                                                 202001                                                                                                                                                                                                                                                                                                            \n",
       "4                                                 202001                                                                                                                                                                                                                                                                                                            \n",
       "...                                                  ...                                                                                                                                                                                                                                                                                                            \n",
       "35136                                             202204                                                                                                                                                                                                                                                                                                            \n",
       "35137                                             202204                                                                                                                                                                                                                                                                                                            \n",
       "35138                                             202204                                                                                                                                                                                                                                                                                                            \n",
       "35139                                             202204                                                                                                                                                                                                                                                                                                            \n",
       "35140                                             202204                                                                                                                                                                                                                                                                                                            \n",
       "\n",
       "      Unnamed: 1 Unnamed: 2 Unnamed: 3 Unnamed: 4 Unnamed: 5 Unnamed: 6  \\\n",
       "0         userid     tenure     weight         Q1         Q2         Q3   \n",
       "1       70103231         12    0.81825          4          3         20   \n",
       "2       70103252         11   2.879998          3          2          1   \n",
       "3       70103258         12   0.549674          4          4          0   \n",
       "4       70103285         12   0.481746          4          4         10   \n",
       "...          ...        ...        ...        ...        ...        ...   \n",
       "35136   75005976          1   0.954878          4          5          0   \n",
       "35137   75005980          1   0.708391          2          3         34   \n",
       "35138   75005987          1   0.915896          2          4         81   \n",
       "35139   75005995          1   0.888988          4          4         95   \n",
       "35140   75005996          1    0.97863          1          3          1   \n",
       "\n",
       "      Unnamed: 7 Unnamed: 8 Unnamed: 9  ... Unnamed: 210 Unnamed: 211  \\\n",
       "0          Q4new      Q5new      Q6new  ...          Q48         QRA1   \n",
       "1             62         26         44  ...            5          NaN   \n",
       "2             30          1         10  ...            2          NaN   \n",
       "3              3          4         18  ...            4          NaN   \n",
       "4             10         10         10  ...            1          NaN   \n",
       "...          ...        ...        ...  ...          ...          ...   \n",
       "35136          5         25         55  ...            5            4   \n",
       "35137         22         86         54  ...            4            3   \n",
       "35138         70         51         47  ...            5            5   \n",
       "35139          5          5          5  ...            3            5   \n",
       "35140         50         30         40  ...            3            2   \n",
       "\n",
       "      Unnamed: 212         Unnamed: 213 Unnamed: 214 Unnamed: 215  \\\n",
       "0             QRA2          survey_date     _AGE_CAT     _NUM_CAT   \n",
       "1              NaN  2020-01-23 00:00:00     40 to 60         High   \n",
       "2              NaN  2020-01-02 00:00:00     40 to 60          Low   \n",
       "3              NaN  2020-01-07 00:00:00      Over 60         High   \n",
       "4              NaN  2020-01-27 00:00:00     Under 40         High   \n",
       "...            ...                  ...          ...          ...   \n",
       "35136            7  2022-04-12 00:00:00     40 to 60          Low   \n",
       "35137            3  2022-04-04 00:00:00      Over 60         High   \n",
       "35138            4  2022-04-10 00:00:00     Under 40          Low   \n",
       "35139            4  2022-04-20 00:00:00     Under 40          Low   \n",
       "35140            2  2022-04-12 00:00:00      Over 60          Low   \n",
       "\n",
       "      Unnamed: 216     Unnamed: 217  Unnamed: 218 Unnamed: 219  \n",
       "0      _REGION_CAT  _COMMUTING_ZONE      _EDU_CAT  _HH_INC_CAT  \n",
       "1             West              218       College    Over 100k  \n",
       "2        Northeast              203   High School    Under 50k  \n",
       "3            South              102       College  50k to 100k  \n",
       "4          Midwest              100       College  50k to 100k  \n",
       "...            ...              ...           ...          ...  \n",
       "35136        South               54  Some College  50k to 100k  \n",
       "35137         West              902       College  50k to 100k  \n",
       "35138        South               84  Some College    Under 50k  \n",
       "35139        South              102  Some College  50k to 100k  \n",
       "35140      Midwest                2  Some College    Under 50k  \n",
       "\n",
       "[35141 rows x 220 columns]"
      ]
     },
     "execution_count": 10,
     "metadata": {},
     "output_type": "execute_result"
    }
   ],
   "source": [
    "Enq20"
   ]
  },
  {
   "cell_type": "code",
   "execution_count": 11,
   "id": "2c056550-7189-4c63-987e-36c47709b469",
   "metadata": {
    "tags": []
   },
   "outputs": [],
   "source": [
    "#Il faut faire 2-3 manips pour rendre les bases utilisables\n",
    "new_columns = Enq13.iloc[0]\n",
    "Enq13.columns = new_columns\n",
    "Enq13 = Enq13.drop(0)\n",
    "\n",
    "new_columns = Enq17.iloc[0]\n",
    "Enq17.columns = new_columns\n",
    "Enq17 = Enq17.drop(0)"
   ]
  },
  {
   "cell_type": "code",
   "execution_count": 12,
   "id": "6156653b-c5a6-485f-96cc-686f58905a63",
   "metadata": {
    "tags": []
   },
   "outputs": [],
   "source": [
    "new_columns = Enq20.iloc[0]\n",
    "Enq20.columns = new_columns\n",
    "Enq20 = Enq20.drop(0)"
   ]
  },
  {
   "cell_type": "code",
   "execution_count": 13,
   "id": "9df9b7cf-63c9-496a-bc19-d7a450e24f03",
   "metadata": {
    "tags": []
   },
   "outputs": [],
   "source": [
    "Enq17['date'] = pd.to_datetime(Enq17['date'].astype(str) + '01', format='%Y%m%d')\n",
    "Enq13['date'] = pd.to_datetime(Enq13['date'].astype(str) + '01', format='%Y%m%d')\n",
    "Enq20['date'] = pd.to_datetime(Enq20['date'].astype(str) + '01', format='%Y%m%d')"
   ]
  },
  {
   "cell_type": "code",
   "execution_count": 14,
   "id": "32d90cb2-b9c6-407b-9c50-30d678389451",
   "metadata": {
    "tags": []
   },
   "outputs": [],
   "source": [
    "Base_finale=pd.concat([Enq13,Enq17,Enq20])"
   ]
  },
  {
   "cell_type": "code",
   "execution_count": 56,
   "id": "55483691-ae7f-4c4a-985b-539fa7b877e2",
   "metadata": {
    "tags": []
   },
   "outputs": [],
   "source": [
    "Base_finale.to_excel('Base_finale.xlsx')"
   ]
  },
  {
   "cell_type": "markdown",
   "id": "f02e5178-a998-4f9f-acae-06fd515f434c",
   "metadata": {},
   "source": [
    "# I-Première spécification :"
   ]
  },
  {
   "cell_type": "code",
   "execution_count": 15,
   "id": "f1bacab0-a46f-4c04-851f-1ff2645f0085",
   "metadata": {
    "tags": []
   },
   "outputs": [],
   "source": [
    "from sklearn.linear_model import LinearRegression"
   ]
  },
  {
   "cell_type": "code",
   "execution_count": 16,
   "id": "7d1d1d2a-5d79-4994-92d1-67592b079086",
   "metadata": {
    "tags": []
   },
   "outputs": [],
   "source": [
    "from statsmodels.regression.linear_model import OLS"
   ]
  },
  {
   "cell_type": "code",
   "execution_count": 17,
   "id": "a47da3db-1539-4846-acec-c2c7d0801cde",
   "metadata": {
    "tags": []
   },
   "outputs": [],
   "source": [
    "AA=Base_finale"
   ]
  },
  {
   "cell_type": "code",
   "execution_count": null,
   "id": "cee97809-ba29-4769-9588-b2c910fd46f8",
   "metadata": {},
   "outputs": [],
   "source": []
  },
  {
   "cell_type": "code",
   "execution_count": 18,
   "id": "bab41002-0853-49fd-a5d2-50b3671715ed",
   "metadata": {
    "tags": []
   },
   "outputs": [
    {
     "data": {
      "text/plain": [
       "['date',\n",
       " 'userid',\n",
       " 'tenure',\n",
       " 'weight',\n",
       " 'Q1',\n",
       " 'Q2',\n",
       " 'Q3',\n",
       " 'Q4new',\n",
       " 'Q5new',\n",
       " 'Q6new',\n",
       " 'Q8v2',\n",
       " 'Q8v2part2',\n",
       " 'Q9_cent25',\n",
       " 'Q9_cent50',\n",
       " 'Q9_cent75',\n",
       " 'Q9_var',\n",
       " 'Q9_mean',\n",
       " 'Q9_iqr',\n",
       " 'Q9_probdeflation',\n",
       " 'Q9_bin1',\n",
       " 'Q9_bin2',\n",
       " 'Q9_bin3',\n",
       " 'Q9_bin4',\n",
       " 'Q9_bin5',\n",
       " 'Q9_bin6',\n",
       " 'Q9_bin7',\n",
       " 'Q9_bin8',\n",
       " 'Q9_bin9',\n",
       " 'Q9_bin10',\n",
       " 'Q9bv2',\n",
       " 'Q9bv2part2',\n",
       " 'Q9c_cent25',\n",
       " 'Q9c_cent50',\n",
       " 'Q9c_cent75',\n",
       " 'Q9c_var',\n",
       " 'Q9c_mean',\n",
       " 'Q9c_iqr',\n",
       " 'Q9c_probdeflation',\n",
       " 'Q9c_bin1',\n",
       " 'Q9c_bin2',\n",
       " 'Q9c_bin3',\n",
       " 'Q9c_bin4',\n",
       " 'Q9c_bin5',\n",
       " 'Q9c_bin6',\n",
       " 'Q9c_bin7',\n",
       " 'Q9c_bin8',\n",
       " 'Q9c_bin9',\n",
       " 'Q9c_bin10',\n",
       " 'Q10_1',\n",
       " 'Q10_2',\n",
       " 'Q10_3',\n",
       " 'Q10_4',\n",
       " 'Q10_5',\n",
       " 'Q10_6',\n",
       " 'Q10_7',\n",
       " 'Q10_8',\n",
       " 'Q10_9',\n",
       " 'Q10_10',\n",
       " 'Q11',\n",
       " 'Q12new',\n",
       " 'ES1_1',\n",
       " 'ES1_2',\n",
       " 'ES1_3',\n",
       " 'ES1_4',\n",
       " 'ES2',\n",
       " 'ES3new',\n",
       " 'ES4',\n",
       " 'ES5',\n",
       " 'Q13new',\n",
       " 'Q14new',\n",
       " 'Q15',\n",
       " 'Q16',\n",
       " 'Q17new',\n",
       " 'Q18new',\n",
       " 'Q19',\n",
       " 'Q20new',\n",
       " 'Q21new',\n",
       " 'Q22new',\n",
       " 'Q23v2',\n",
       " 'Q23v2part2',\n",
       " 'Q24_cent25',\n",
       " 'Q24_cent50',\n",
       " 'Q24_cent75',\n",
       " 'Q24_var',\n",
       " 'Q24_mean',\n",
       " 'Q24_iqr',\n",
       " 'Q24_probdeflation',\n",
       " 'Q24_bin1',\n",
       " 'Q24_bin2',\n",
       " 'Q24_bin3',\n",
       " 'Q24_bin4',\n",
       " 'Q24_bin5',\n",
       " 'Q24_bin6',\n",
       " 'Q24_bin7',\n",
       " 'Q24_bin8',\n",
       " 'Q24_bin9',\n",
       " 'Q24_bin10',\n",
       " 'Q25v2',\n",
       " 'Q25v2part2',\n",
       " 'Q26v2',\n",
       " 'Q26v2part2',\n",
       " 'Q27v2',\n",
       " 'Q27v2part2',\n",
       " 'Q28',\n",
       " 'Q29',\n",
       " 'Q30new',\n",
       " 'Q31v2',\n",
       " 'Q31v2part2',\n",
       " 'C1_cent25',\n",
       " 'C1_cent50',\n",
       " 'C1_cent75',\n",
       " 'C1_var',\n",
       " 'C1_mean',\n",
       " 'C1_iqr',\n",
       " 'C1_probdeflation',\n",
       " 'C1_bin1',\n",
       " 'C1_bin2',\n",
       " 'C1_bin3',\n",
       " 'C1_bin4',\n",
       " 'C1_bin5',\n",
       " 'C1_bin6',\n",
       " 'C1_bin7',\n",
       " 'C1_bin8',\n",
       " 'C1_bin9',\n",
       " 'C1_bin10',\n",
       " 'C2',\n",
       " 'C2part2',\n",
       " 'C3',\n",
       " 'C3part2',\n",
       " 'C4_1',\n",
       " 'C4_2',\n",
       " 'C4_3',\n",
       " 'C4_4',\n",
       " 'C4_5',\n",
       " 'C4_6',\n",
       " 'QNUM1',\n",
       " 'QNUM2',\n",
       " 'QNUM3',\n",
       " 'QNUM5',\n",
       " 'QNUM6',\n",
       " 'QNUM8',\n",
       " 'QNUM9',\n",
       " 'Q32',\n",
       " 'Q33',\n",
       " 'Q34',\n",
       " 'Q35_1',\n",
       " 'Q35_2',\n",
       " 'Q35_3',\n",
       " 'Q35_4',\n",
       " 'Q35_5',\n",
       " 'Q35_6',\n",
       " 'Q36',\n",
       " 'Q37',\n",
       " 'Q38',\n",
       " 'HH2_1',\n",
       " 'HH2_2',\n",
       " 'HH2_3',\n",
       " 'HH2_4',\n",
       " 'HH2_5',\n",
       " 'HH2_6',\n",
       " 'HH2_7',\n",
       " 'HH2_8',\n",
       " 'HH2_9',\n",
       " 'HH2_10',\n",
       " 'HH2_11',\n",
       " '_STATE',\n",
       " 'Q41',\n",
       " 'Q42',\n",
       " 'Q43',\n",
       " 'Q43a',\n",
       " 'Q44',\n",
       " 'Q45b',\n",
       " 'Q45new_1',\n",
       " 'Q45new_2',\n",
       " 'Q45new_3',\n",
       " 'Q45new_4',\n",
       " 'Q45new_5',\n",
       " 'Q45new_6',\n",
       " 'Q45new_7',\n",
       " 'Q45new_8',\n",
       " 'Q45new_9',\n",
       " 'Q46',\n",
       " 'Q47',\n",
       " 'D1',\n",
       " 'D3',\n",
       " 'D6',\n",
       " 'D2new_1',\n",
       " 'D2new_2',\n",
       " 'D2new_3',\n",
       " 'D2new_4',\n",
       " 'D2new_5',\n",
       " 'D2new_6',\n",
       " 'D2new_7',\n",
       " 'D2new_8',\n",
       " 'D2new_9',\n",
       " 'DSAME',\n",
       " 'DQ38',\n",
       " 'DHH2_1',\n",
       " 'DHH2_2',\n",
       " 'DHH2_3',\n",
       " 'DHH2_4',\n",
       " 'DHH2_5',\n",
       " 'DHH2_6',\n",
       " 'DHH2_7',\n",
       " 'DHH2_8',\n",
       " 'DHH2_9',\n",
       " 'DHH2_10',\n",
       " 'DHH2_11',\n",
       " 'DHH2_11_other',\n",
       " 'D5b',\n",
       " 'Q48',\n",
       " 'QRA1',\n",
       " 'QRA2',\n",
       " 'survey_date',\n",
       " '_AGE_CAT',\n",
       " '_NUM_CAT',\n",
       " '_REGION_CAT',\n",
       " '_COMMUTING_ZONE',\n",
       " '_EDU_CAT',\n",
       " '_HH_INC_CAT']"
      ]
     },
     "execution_count": 18,
     "metadata": {},
     "output_type": "execute_result"
    }
   ],
   "source": [
    "list(AA.columns)"
   ]
  },
  {
   "cell_type": "code",
   "execution_count": null,
   "id": "03c6ccd1-0736-4ca6-99a5-18d9d90a2c71",
   "metadata": {},
   "outputs": [],
   "source": [
    "model = OLS(AA['Median one-year ahead expected inflation rate'],X[:, :2])\n",
    "results = model.fit()\n",
    "su = results.summary()\n",
    "su"
   ]
  },
  {
   "cell_type": "code",
   "execution_count": 23,
   "id": "d808081b-9a6f-4dbc-9277-426c346d8219",
   "metadata": {
    "tags": []
   },
   "outputs": [],
   "source": [
    "educ=pd.get_dummies(AA['_EDU_CAT'])"
   ]
  },
  {
   "cell_type": "code",
   "execution_count": 32,
   "id": "8b0f479d-dbcc-4be8-9688-71aa1cf33e9e",
   "metadata": {
    "tags": []
   },
   "outputs": [],
   "source": [
    "age=pd.get_dummies(AA['_AGE_CAT'])"
   ]
  },
  {
   "cell_type": "code",
   "execution_count": 37,
   "id": "755576ed-06ba-4438-a4de-7f2fe87a6ac6",
   "metadata": {
    "tags": []
   },
   "outputs": [],
   "source": [
    "income=pd.get_dummies(AA['_HH_INC_CAT'])"
   ]
  },
  {
   "cell_type": "code",
   "execution_count": 40,
   "id": "0b7a1fd2-07c1-4342-9a86-f002f4f3d66d",
   "metadata": {
    "tags": []
   },
   "outputs": [],
   "source": [
    "numeracy=pd.get_dummies(AA['_NUM_CAT'])"
   ]
  },
  {
   "cell_type": "code",
   "execution_count": 29,
   "id": "cb12e671-fdc1-4181-a15d-d82e5a459802",
   "metadata": {
    "tags": []
   },
   "outputs": [
    {
     "data": {
      "text/plain": [
       "15979"
      ]
     },
     "execution_count": 29,
     "metadata": {},
     "output_type": "execute_result"
    }
   ],
   "source": [
    "np.sum(educ['High School'])"
   ]
  },
  {
   "cell_type": "markdown",
   "id": "94348788-9974-4fe4-96c3-87ca91fbd251",
   "metadata": {},
   "source": [
    "Ci-dessous, on rajoute les dummies qui sont les plus simples à ajouter : educ, age, income, numeracy"
   ]
  },
  {
   "cell_type": "code",
   "execution_count": 34,
   "id": "51a9151c-07fd-4f7f-9b09-dd2974f67c5f",
   "metadata": {
    "tags": []
   },
   "outputs": [],
   "source": [
    "BC = pd.concat([AA, educ], axis=1).reindex(AA.index) #BC est pour Base complète. Ici, on complète la base avec des dummies"
   ]
  },
  {
   "cell_type": "code",
   "execution_count": 35,
   "id": "8fb4aa37-7255-4bf6-af97-97e92ff9d97e",
   "metadata": {
    "tags": []
   },
   "outputs": [],
   "source": [
    "BC = pd.concat([BC, age], axis=1).reindex(BC.index)"
   ]
  },
  {
   "cell_type": "code",
   "execution_count": 38,
   "id": "8073fea0-9be3-41e2-b448-929b38c59479",
   "metadata": {
    "tags": []
   },
   "outputs": [],
   "source": [
    "BC = pd.concat([BC, income], axis=1).reindex(BC.index)"
   ]
  },
  {
   "cell_type": "code",
   "execution_count": 41,
   "id": "98aa1eb4-913d-43a7-817a-66164e068899",
   "metadata": {
    "tags": []
   },
   "outputs": [],
   "source": [
    "BC = pd.concat([BC, numeracy], axis=1).reindex(BC.index)"
   ]
  },
  {
   "cell_type": "markdown",
   "id": "ddf7bf6a-2ea6-4e40-b21a-25081a26df60",
   "metadata": {},
   "source": [
    "On code maintenant le genre :"
   ]
  },
  {
   "cell_type": "code",
   "execution_count": 45,
   "id": "2e1a3a8b-62cd-4339-9da9-188ccfeda8b6",
   "metadata": {
    "tags": []
   },
   "outputs": [
    {
     "name": "stderr",
     "output_type": "stream",
     "text": [
      "/tmp/ipykernel_211/2623516903.py:1: FutureWarning: In a future version, the Index constructor will not infer numeric dtypes when passed object-dtype sequences (matching Series behavior)\n",
      "  gender=pd.get_dummies(AA['Q33'])\n"
     ]
    }
   ],
   "source": [
    "gender=pd.get_dummies(AA['Q33'])"
   ]
  },
  {
   "cell_type": "code",
   "execution_count": 53,
   "id": "66fad095-1922-431a-9325-ad5fb6fb0597",
   "metadata": {
    "tags": []
   },
   "outputs": [],
   "source": [
    "gender.rename(columns={1: \"fem\"}, inplace=True)"
   ]
  },
  {
   "cell_type": "code",
   "execution_count": 56,
   "id": "e870ee78-53a8-4afc-b06a-537d12a58f3d",
   "metadata": {
    "tags": []
   },
   "outputs": [],
   "source": [
    "BC = pd.concat([BC, gender['fem']], axis=1).reindex(BC.index)"
   ]
  },
  {
   "cell_type": "markdown",
   "id": "b23094f3-2e43-48bc-b89b-aba6bdb685ff",
   "metadata": {},
   "source": [
    "C'est fait pour le genre. "
   ]
  },
  {
   "cell_type": "markdown",
   "id": "51b52565-f57d-46a6-b5a2-21e6126d0ea9",
   "metadata": {},
   "source": [
    "Faisons le ménage dans les non-réponses et dans les outliers :"
   ]
  },
  {
   "cell_type": "code",
   "execution_count": 66,
   "id": "35ef51a1-2dc2-4a3a-9182-406d12d3ae18",
   "metadata": {
    "tags": []
   },
   "outputs": [],
   "source": [
    "BC=BC.dropna(subset=['Q8v2part2','Q9bv2part2']) #On supprime les personnes qui n'ont pas répondu aux questions sur les anticipations d'inflation. "
   ]
  },
  {
   "cell_type": "markdown",
   "id": "b29b2847-9586-4e74-8850-0c816ab1c8e1",
   "metadata": {},
   "source": [
    "Supprimons les outl"
   ]
  },
  {
   "cell_type": "code",
   "execution_count": 88,
   "id": "5a8746aa-8a07-4b18-ae76-9a3bc5b584cf",
   "metadata": {
    "tags": []
   },
   "outputs": [],
   "source": [
    "test=BC[BC['Q8v2part2']<=20]\n",
    "test=test[test['Q8v2part2']>=-20]"
   ]
  },
  {
   "cell_type": "code",
   "execution_count": 91,
   "id": "475588a4-bc33-416f-aa95-5ef73acf4e91",
   "metadata": {
    "tags": []
   },
   "outputs": [
    {
     "data": {
      "text/plain": [
       "20"
      ]
     },
     "execution_count": 91,
     "metadata": {},
     "output_type": "execute_result"
    }
   ],
   "source": [
    "max(test['Q8v2part2'])"
   ]
  },
  {
   "cell_type": "code",
   "execution_count": 67,
   "id": "8d79a9f9-cccd-46a5-8e63-81ff91b79c3e",
   "metadata": {
    "tags": []
   },
   "outputs": [
    {
     "data": {
      "text/html": [
       "<table class=\"simpletable\">\n",
       "<caption>OLS Regression Results</caption>\n",
       "<tr>\n",
       "  <th>Dep. Variable:</th>        <td>Q8v2part2</td>    <th>  R-squared (uncentered):</th>       <td>   0.003</td>  \n",
       "</tr>\n",
       "<tr>\n",
       "  <th>Model:</th>                   <td>OLS</td>       <th>  Adj. R-squared (uncentered):</th>  <td>   0.003</td>  \n",
       "</tr>\n",
       "<tr>\n",
       "  <th>Method:</th>             <td>Least Squares</td>  <th>  F-statistic:       </th>           <td>   399.6</td>  \n",
       "</tr>\n",
       "<tr>\n",
       "  <th>Date:</th>             <td>Mon, 06 Mar 2023</td> <th>  Prob (F-statistic):</th>           <td>8.78e-89</td>  \n",
       "</tr>\n",
       "<tr>\n",
       "  <th>Time:</th>                 <td>09:30:56</td>     <th>  Log-Likelihood:    </th>          <td>-7.4034e+05</td>\n",
       "</tr>\n",
       "<tr>\n",
       "  <th>No. Observations:</th>      <td>138457</td>      <th>  AIC:               </th>           <td>1.481e+06</td> \n",
       "</tr>\n",
       "<tr>\n",
       "  <th>Df Residuals:</th>          <td>138456</td>      <th>  BIC:               </th>           <td>1.481e+06</td> \n",
       "</tr>\n",
       "<tr>\n",
       "  <th>Df Model:</th>              <td>     1</td>      <th>                     </th>               <td> </td>     \n",
       "</tr>\n",
       "<tr>\n",
       "  <th>Covariance Type:</th>      <td>nonrobust</td>    <th>                     </th>               <td> </td>     \n",
       "</tr>\n",
       "</table>\n",
       "<table class=\"simpletable\">\n",
       "<tr>\n",
       "   <td></td>      <th>coef</th>     <th>std err</th>      <th>t</th>      <th>P>|t|</th>  <th>[0.025</th>    <th>0.975]</th>  \n",
       "</tr>\n",
       "<tr>\n",
       "  <th>fem</th> <td>   10.5295</td> <td>    0.527</td> <td>   19.991</td> <td> 0.000</td> <td>    9.497</td> <td>   11.562</td>\n",
       "</tr>\n",
       "</table>\n",
       "<table class=\"simpletable\">\n",
       "<tr>\n",
       "  <th>Omnibus:</th>       <td>667733.766</td> <th>  Durbin-Watson:     </th>     <td>   1.391</td>     \n",
       "</tr>\n",
       "<tr>\n",
       "  <th>Prob(Omnibus):</th>   <td> 0.000</td>   <th>  Jarque-Bera (JB):  </th> <td>8970835143631.576</td>\n",
       "</tr>\n",
       "<tr>\n",
       "  <th>Skew:</th>            <td>190.590</td>  <th>  Prob(JB):          </th>     <td>    0.00</td>     \n",
       "</tr>\n",
       "<tr>\n",
       "  <th>Kurtosis:</th>       <td>39434.592</td> <th>  Cond. No.          </th>     <td>    1.00</td>     \n",
       "</tr>\n",
       "</table><br/><br/>Notes:<br/>[1] R² is computed without centering (uncentered) since the model does not contain a constant.<br/>[2] Standard Errors assume that the covariance matrix of the errors is correctly specified."
      ],
      "text/plain": [
       "<class 'statsmodels.iolib.summary.Summary'>\n",
       "\"\"\"\n",
       "                                 OLS Regression Results                                \n",
       "=======================================================================================\n",
       "Dep. Variable:              Q8v2part2   R-squared (uncentered):                   0.003\n",
       "Model:                            OLS   Adj. R-squared (uncentered):              0.003\n",
       "Method:                 Least Squares   F-statistic:                              399.6\n",
       "Date:                Mon, 06 Mar 2023   Prob (F-statistic):                    8.78e-89\n",
       "Time:                        09:30:56   Log-Likelihood:                     -7.4034e+05\n",
       "No. Observations:              138457   AIC:                                  1.481e+06\n",
       "Df Residuals:                  138456   BIC:                                  1.481e+06\n",
       "Df Model:                           1                                                  \n",
       "Covariance Type:            nonrobust                                                  \n",
       "==============================================================================\n",
       "                 coef    std err          t      P>|t|      [0.025      0.975]\n",
       "------------------------------------------------------------------------------\n",
       "fem           10.5295      0.527     19.991      0.000       9.497      11.562\n",
       "==============================================================================\n",
       "Omnibus:                   667733.766   Durbin-Watson:                   1.391\n",
       "Prob(Omnibus):                  0.000   Jarque-Bera (JB):    8970835143631.576\n",
       "Skew:                         190.590   Prob(JB):                         0.00\n",
       "Kurtosis:                   39434.592   Cond. No.                         1.00\n",
       "==============================================================================\n",
       "\n",
       "Notes:\n",
       "[1] R² is computed without centering (uncentered) since the model does not contain a constant.\n",
       "[2] Standard Errors assume that the covariance matrix of the errors is correctly specified.\n",
       "\"\"\""
      ]
     },
     "execution_count": 67,
     "metadata": {},
     "output_type": "execute_result"
    }
   ],
   "source": [
    "model = OLS(BC['Q8v2part2'].astype('float'),BC['fem'].astype('float'))\n",
    "results = model.fit()\n",
    "su = results.summary()\n",
    "su"
   ]
  }
 ],
 "metadata": {
  "kernelspec": {
   "display_name": "Python 3 (ipykernel)",
   "language": "python",
   "name": "python3"
  },
  "language_info": {
   "codemirror_mode": {
    "name": "ipython",
    "version": 3
   },
   "file_extension": ".py",
   "mimetype": "text/x-python",
   "name": "python",
   "nbconvert_exporter": "python",
   "pygments_lexer": "ipython3",
   "version": "3.10.8"
  }
 },
 "nbformat": 4,
 "nbformat_minor": 5
}
