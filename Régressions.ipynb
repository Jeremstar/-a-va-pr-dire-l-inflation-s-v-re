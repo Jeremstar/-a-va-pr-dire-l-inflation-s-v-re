{
 "cells": [
  {
   "cell_type": "markdown",
   "id": "c2a9d55b-bb7f-432d-9e65-f6b84bccd5db",
   "metadata": {},
   "source": [
    "# Importation des données :"
   ]
  },
  {
   "cell_type": "code",
   "execution_count": 1,
   "id": "773bc2b7-d978-4d6d-ba33-bd4152b42efa",
   "metadata": {
    "tags": []
   },
   "outputs": [
    {
     "name": "stdout",
     "output_type": "stream",
     "text": [
      "Collecting openpyxl\n",
      "  Downloading openpyxl-3.1.2-py2.py3-none-any.whl (249 kB)\n",
      "\u001b[2K     \u001b[90m━━━━━━━━━━━━━━━━━━━━━━━━━━━━━━━━━━━━━━━\u001b[0m \u001b[32m250.0/250.0 kB\u001b[0m \u001b[31m5.9 MB/s\u001b[0m eta \u001b[36m0:00:00\u001b[0m00:01\u001b[0m\n",
      "\u001b[?25hCollecting et-xmlfile\n",
      "  Downloading et_xmlfile-1.1.0-py3-none-any.whl (4.7 kB)\n",
      "Installing collected packages: et-xmlfile, openpyxl\n",
      "Successfully installed et-xmlfile-1.1.0 openpyxl-3.1.2\n",
      "Note: you may need to restart the kernel to use updated packages.\n"
     ]
    }
   ],
   "source": [
    "pip install openpyxl"
   ]
  },
  {
   "cell_type": "code",
   "execution_count": 2,
   "id": "0b69676f-7e58-48d9-8ad8-1cd191871141",
   "metadata": {
    "tags": []
   },
   "outputs": [],
   "source": [
    "import matplotlib.pyplot as plt\n",
    "import seaborn as sns\n",
    "from datetime import datetime, timedelta\n",
    "import pandas as pd\n",
    "import requests\n",
    "import numpy as np \n",
    "from scipy import stats"
   ]
  },
  {
   "cell_type": "code",
   "execution_count": 3,
   "id": "a6152505-a5ab-4c27-88c1-3bb205bcd3c4",
   "metadata": {
    "tags": []
   },
   "outputs": [],
   "source": [
    "OECD = pd.read_excel('données/OECD - short term economic indicators.xlsx')"
   ]
  },
  {
   "cell_type": "code",
   "execution_count": 4,
   "id": "517fef01-6f7f-4dc1-b734-f937569d71d7",
   "metadata": {
    "tags": []
   },
   "outputs": [],
   "source": [
    "IMF = pd.read_excel('données/IMF - monetary policy.xlsx')"
   ]
  },
  {
   "cell_type": "code",
   "execution_count": 5,
   "id": "89ca2ad9-15c3-4814-b45d-4cb624271775",
   "metadata": {
    "tags": []
   },
   "outputs": [],
   "source": [
    "agregated_data=pd.ExcelFile('données/FRBNY-SCE-Data.xlsx')\n",
    "agregated_anticipation= df1=pd.read_excel(agregated_data, 'Inflation expectations')"
   ]
  },
  {
   "cell_type": "code",
   "execution_count": 6,
   "id": "fd3990f4-2877-482a-a73a-95e214f86462",
   "metadata": {
    "tags": []
   },
   "outputs": [],
   "source": [
    "agrant = agregated_anticipation[['Unnamed: 1','Unnamed: 2']].drop([0,1,2]).reset_index().rename(columns={'index':'date','Unnamed: 1':'short exp','Unnamed: 2':'mid exp'})"
   ]
  },
  {
   "cell_type": "code",
   "execution_count": 7,
   "id": "752069e8-378d-4ea0-a126-76a6ba4a1a00",
   "metadata": {
    "tags": []
   },
   "outputs": [],
   "source": [
    "Enq13 = pd.read_excel('https://www.newyorkfed.org/medialibrary/interactives/sce/sce/downloads/data/frbny-sce-public-microdata-complete-13-16.xlsx')"
   ]
  },
  {
   "cell_type": "code",
   "execution_count": 8,
   "id": "7a7fb241-a3ff-420e-a175-f354925069db",
   "metadata": {
    "tags": []
   },
   "outputs": [],
   "source": [
    "Enq17 = pd.read_excel('https://www.newyorkfed.org/medialibrary/interactives/sce/sce/downloads/data/frbny-sce-public-microdata-complete-17-19.xlsx')"
   ]
  },
  {
   "cell_type": "code",
   "execution_count": 9,
   "id": "f38e21b2-3b22-4d53-ba33-c83b548ce221",
   "metadata": {
    "tags": []
   },
   "outputs": [],
   "source": [
    "Latest=pd.ExcelFile('https://www.newyorkfed.org/medialibrary/Interactives/sce/sce/downloads/data/frbny-sce-public-microdata-latest.xlsx')\n",
    "Enq20=pd.read_excel(Latest, 'Data')"
   ]
  },
  {
   "cell_type": "code",
   "execution_count": 10,
   "id": "7f1f495f-9914-4883-941c-cc030f6ff06b",
   "metadata": {
    "tags": []
   },
   "outputs": [
    {
     "data": {
      "text/html": [
       "<div>\n",
       "<style scoped>\n",
       "    .dataframe tbody tr th:only-of-type {\n",
       "        vertical-align: middle;\n",
       "    }\n",
       "\n",
       "    .dataframe tbody tr th {\n",
       "        vertical-align: top;\n",
       "    }\n",
       "\n",
       "    .dataframe thead th {\n",
       "        text-align: right;\n",
       "    }\n",
       "</style>\n",
       "<table border=\"1\" class=\"dataframe\">\n",
       "  <thead>\n",
       "    <tr style=\"text-align: right;\">\n",
       "      <th></th>\n",
       "      <th>Source:  Survey of Consumer Expectations, © 2013-22 Federal Reserve Bank of New York (FRBNY).   The SCE data are available without charge at www.newyorkfed.org and may be used subject to license terms posted there.  FRBNY disclaims any responsibility or legal liability for this analysis and interpretation of Survey of Consumer Expectations data.</th>\n",
       "      <th>Unnamed: 1</th>\n",
       "      <th>Unnamed: 2</th>\n",
       "      <th>Unnamed: 3</th>\n",
       "      <th>Unnamed: 4</th>\n",
       "      <th>Unnamed: 5</th>\n",
       "      <th>Unnamed: 6</th>\n",
       "      <th>Unnamed: 7</th>\n",
       "      <th>Unnamed: 8</th>\n",
       "      <th>Unnamed: 9</th>\n",
       "      <th>...</th>\n",
       "      <th>Unnamed: 210</th>\n",
       "      <th>Unnamed: 211</th>\n",
       "      <th>Unnamed: 212</th>\n",
       "      <th>Unnamed: 213</th>\n",
       "      <th>Unnamed: 214</th>\n",
       "      <th>Unnamed: 215</th>\n",
       "      <th>Unnamed: 216</th>\n",
       "      <th>Unnamed: 217</th>\n",
       "      <th>Unnamed: 218</th>\n",
       "      <th>Unnamed: 219</th>\n",
       "    </tr>\n",
       "  </thead>\n",
       "  <tbody>\n",
       "    <tr>\n",
       "      <th>0</th>\n",
       "      <td>date</td>\n",
       "      <td>userid</td>\n",
       "      <td>tenure</td>\n",
       "      <td>weight</td>\n",
       "      <td>Q1</td>\n",
       "      <td>Q2</td>\n",
       "      <td>Q3</td>\n",
       "      <td>Q4new</td>\n",
       "      <td>Q5new</td>\n",
       "      <td>Q6new</td>\n",
       "      <td>...</td>\n",
       "      <td>Q48</td>\n",
       "      <td>QRA1</td>\n",
       "      <td>QRA2</td>\n",
       "      <td>survey_date</td>\n",
       "      <td>_AGE_CAT</td>\n",
       "      <td>_NUM_CAT</td>\n",
       "      <td>_REGION_CAT</td>\n",
       "      <td>_COMMUTING_ZONE</td>\n",
       "      <td>_EDU_CAT</td>\n",
       "      <td>_HH_INC_CAT</td>\n",
       "    </tr>\n",
       "    <tr>\n",
       "      <th>1</th>\n",
       "      <td>202001</td>\n",
       "      <td>70103231</td>\n",
       "      <td>12</td>\n",
       "      <td>0.81825</td>\n",
       "      <td>4</td>\n",
       "      <td>3</td>\n",
       "      <td>20</td>\n",
       "      <td>62</td>\n",
       "      <td>26</td>\n",
       "      <td>44</td>\n",
       "      <td>...</td>\n",
       "      <td>5</td>\n",
       "      <td>NaN</td>\n",
       "      <td>NaN</td>\n",
       "      <td>2020-01-23 00:00:00</td>\n",
       "      <td>40 to 60</td>\n",
       "      <td>High</td>\n",
       "      <td>West</td>\n",
       "      <td>218</td>\n",
       "      <td>College</td>\n",
       "      <td>Over 100k</td>\n",
       "    </tr>\n",
       "    <tr>\n",
       "      <th>2</th>\n",
       "      <td>202001</td>\n",
       "      <td>70103252</td>\n",
       "      <td>11</td>\n",
       "      <td>2.879998</td>\n",
       "      <td>3</td>\n",
       "      <td>2</td>\n",
       "      <td>1</td>\n",
       "      <td>30</td>\n",
       "      <td>1</td>\n",
       "      <td>10</td>\n",
       "      <td>...</td>\n",
       "      <td>2</td>\n",
       "      <td>NaN</td>\n",
       "      <td>NaN</td>\n",
       "      <td>2020-01-02 00:00:00</td>\n",
       "      <td>40 to 60</td>\n",
       "      <td>Low</td>\n",
       "      <td>Northeast</td>\n",
       "      <td>203</td>\n",
       "      <td>High School</td>\n",
       "      <td>Under 50k</td>\n",
       "    </tr>\n",
       "    <tr>\n",
       "      <th>3</th>\n",
       "      <td>202001</td>\n",
       "      <td>70103258</td>\n",
       "      <td>12</td>\n",
       "      <td>0.549674</td>\n",
       "      <td>4</td>\n",
       "      <td>4</td>\n",
       "      <td>0</td>\n",
       "      <td>3</td>\n",
       "      <td>4</td>\n",
       "      <td>18</td>\n",
       "      <td>...</td>\n",
       "      <td>4</td>\n",
       "      <td>NaN</td>\n",
       "      <td>NaN</td>\n",
       "      <td>2020-01-07 00:00:00</td>\n",
       "      <td>Over 60</td>\n",
       "      <td>High</td>\n",
       "      <td>South</td>\n",
       "      <td>102</td>\n",
       "      <td>College</td>\n",
       "      <td>50k to 100k</td>\n",
       "    </tr>\n",
       "    <tr>\n",
       "      <th>4</th>\n",
       "      <td>202001</td>\n",
       "      <td>70103285</td>\n",
       "      <td>12</td>\n",
       "      <td>0.481746</td>\n",
       "      <td>4</td>\n",
       "      <td>4</td>\n",
       "      <td>10</td>\n",
       "      <td>10</td>\n",
       "      <td>10</td>\n",
       "      <td>10</td>\n",
       "      <td>...</td>\n",
       "      <td>1</td>\n",
       "      <td>NaN</td>\n",
       "      <td>NaN</td>\n",
       "      <td>2020-01-27 00:00:00</td>\n",
       "      <td>Under 40</td>\n",
       "      <td>High</td>\n",
       "      <td>Midwest</td>\n",
       "      <td>100</td>\n",
       "      <td>College</td>\n",
       "      <td>50k to 100k</td>\n",
       "    </tr>\n",
       "    <tr>\n",
       "      <th>...</th>\n",
       "      <td>...</td>\n",
       "      <td>...</td>\n",
       "      <td>...</td>\n",
       "      <td>...</td>\n",
       "      <td>...</td>\n",
       "      <td>...</td>\n",
       "      <td>...</td>\n",
       "      <td>...</td>\n",
       "      <td>...</td>\n",
       "      <td>...</td>\n",
       "      <td>...</td>\n",
       "      <td>...</td>\n",
       "      <td>...</td>\n",
       "      <td>...</td>\n",
       "      <td>...</td>\n",
       "      <td>...</td>\n",
       "      <td>...</td>\n",
       "      <td>...</td>\n",
       "      <td>...</td>\n",
       "      <td>...</td>\n",
       "      <td>...</td>\n",
       "    </tr>\n",
       "    <tr>\n",
       "      <th>36351</th>\n",
       "      <td>202205</td>\n",
       "      <td>75006585</td>\n",
       "      <td>1</td>\n",
       "      <td>0.984551</td>\n",
       "      <td>3</td>\n",
       "      <td>3</td>\n",
       "      <td>0</td>\n",
       "      <td>30</td>\n",
       "      <td>50</td>\n",
       "      <td>40</td>\n",
       "      <td>...</td>\n",
       "      <td>4</td>\n",
       "      <td>4</td>\n",
       "      <td>2</td>\n",
       "      <td>2022-05-27 00:00:00</td>\n",
       "      <td>40 to 60</td>\n",
       "      <td>High</td>\n",
       "      <td>West</td>\n",
       "      <td>109</td>\n",
       "      <td>Some College</td>\n",
       "      <td>Over 100k</td>\n",
       "    </tr>\n",
       "    <tr>\n",
       "      <th>36352</th>\n",
       "      <td>202205</td>\n",
       "      <td>75006586</td>\n",
       "      <td>1</td>\n",
       "      <td>3.769394</td>\n",
       "      <td>2</td>\n",
       "      <td>1</td>\n",
       "      <td>20</td>\n",
       "      <td>70</td>\n",
       "      <td>50</td>\n",
       "      <td>40</td>\n",
       "      <td>...</td>\n",
       "      <td>4</td>\n",
       "      <td>1</td>\n",
       "      <td>2</td>\n",
       "      <td>2022-05-31 00:00:00</td>\n",
       "      <td>Over 60</td>\n",
       "      <td>High</td>\n",
       "      <td>South</td>\n",
       "      <td>200</td>\n",
       "      <td>High School</td>\n",
       "      <td>Under 50k</td>\n",
       "    </tr>\n",
       "    <tr>\n",
       "      <th>36353</th>\n",
       "      <td>202205</td>\n",
       "      <td>75006597</td>\n",
       "      <td>1</td>\n",
       "      <td>0.492543</td>\n",
       "      <td>1</td>\n",
       "      <td>3</td>\n",
       "      <td>20</td>\n",
       "      <td>40</td>\n",
       "      <td>9</td>\n",
       "      <td>26</td>\n",
       "      <td>...</td>\n",
       "      <td>2</td>\n",
       "      <td>3</td>\n",
       "      <td>3</td>\n",
       "      <td>2022-05-19 00:00:00</td>\n",
       "      <td>Under 40</td>\n",
       "      <td>High</td>\n",
       "      <td>Northeast</td>\n",
       "      <td>184</td>\n",
       "      <td>College</td>\n",
       "      <td>Under 50k</td>\n",
       "    </tr>\n",
       "    <tr>\n",
       "      <th>36354</th>\n",
       "      <td>202205</td>\n",
       "      <td>75006620</td>\n",
       "      <td>1</td>\n",
       "      <td>0.502195</td>\n",
       "      <td>4</td>\n",
       "      <td>4</td>\n",
       "      <td>0</td>\n",
       "      <td>30</td>\n",
       "      <td>15</td>\n",
       "      <td>30</td>\n",
       "      <td>...</td>\n",
       "      <td>4</td>\n",
       "      <td>4</td>\n",
       "      <td>2</td>\n",
       "      <td>2022-05-24 00:00:00</td>\n",
       "      <td>Under 40</td>\n",
       "      <td>High</td>\n",
       "      <td>West</td>\n",
       "      <td>5</td>\n",
       "      <td>College</td>\n",
       "      <td>Over 100k</td>\n",
       "    </tr>\n",
       "    <tr>\n",
       "      <th>36355</th>\n",
       "      <td>202205</td>\n",
       "      <td>75006621</td>\n",
       "      <td>1</td>\n",
       "      <td>0.502195</td>\n",
       "      <td>5</td>\n",
       "      <td>3</td>\n",
       "      <td>20</td>\n",
       "      <td>80</td>\n",
       "      <td>51</td>\n",
       "      <td>80</td>\n",
       "      <td>...</td>\n",
       "      <td>4</td>\n",
       "      <td>6</td>\n",
       "      <td>3</td>\n",
       "      <td>2022-05-13 00:00:00</td>\n",
       "      <td>Under 40</td>\n",
       "      <td>High</td>\n",
       "      <td>West</td>\n",
       "      <td>5</td>\n",
       "      <td>College</td>\n",
       "      <td>Over 100k</td>\n",
       "    </tr>\n",
       "  </tbody>\n",
       "</table>\n",
       "<p>36356 rows × 220 columns</p>\n",
       "</div>"
      ],
      "text/plain": [
       "      Source:  Survey of Consumer Expectations, © 2013-22 Federal Reserve Bank of New York (FRBNY).   The SCE data are available without charge at www.newyorkfed.org and may be used subject to license terms posted there.  FRBNY disclaims any responsibility or legal liability for this analysis and interpretation of Survey of Consumer Expectations data.  \\\n",
       "0                                                   date                                                                                                                                                                                                                                                                                                            \n",
       "1                                                 202001                                                                                                                                                                                                                                                                                                            \n",
       "2                                                 202001                                                                                                                                                                                                                                                                                                            \n",
       "3                                                 202001                                                                                                                                                                                                                                                                                                            \n",
       "4                                                 202001                                                                                                                                                                                                                                                                                                            \n",
       "...                                                  ...                                                                                                                                                                                                                                                                                                            \n",
       "36351                                             202205                                                                                                                                                                                                                                                                                                            \n",
       "36352                                             202205                                                                                                                                                                                                                                                                                                            \n",
       "36353                                             202205                                                                                                                                                                                                                                                                                                            \n",
       "36354                                             202205                                                                                                                                                                                                                                                                                                            \n",
       "36355                                             202205                                                                                                                                                                                                                                                                                                            \n",
       "\n",
       "      Unnamed: 1 Unnamed: 2 Unnamed: 3 Unnamed: 4 Unnamed: 5 Unnamed: 6  \\\n",
       "0         userid     tenure     weight         Q1         Q2         Q3   \n",
       "1       70103231         12    0.81825          4          3         20   \n",
       "2       70103252         11   2.879998          3          2          1   \n",
       "3       70103258         12   0.549674          4          4          0   \n",
       "4       70103285         12   0.481746          4          4         10   \n",
       "...          ...        ...        ...        ...        ...        ...   \n",
       "36351   75006585          1   0.984551          3          3          0   \n",
       "36352   75006586          1   3.769394          2          1         20   \n",
       "36353   75006597          1   0.492543          1          3         20   \n",
       "36354   75006620          1   0.502195          4          4          0   \n",
       "36355   75006621          1   0.502195          5          3         20   \n",
       "\n",
       "      Unnamed: 7 Unnamed: 8 Unnamed: 9  ... Unnamed: 210 Unnamed: 211  \\\n",
       "0          Q4new      Q5new      Q6new  ...          Q48         QRA1   \n",
       "1             62         26         44  ...            5          NaN   \n",
       "2             30          1         10  ...            2          NaN   \n",
       "3              3          4         18  ...            4          NaN   \n",
       "4             10         10         10  ...            1          NaN   \n",
       "...          ...        ...        ...  ...          ...          ...   \n",
       "36351         30         50         40  ...            4            4   \n",
       "36352         70         50         40  ...            4            1   \n",
       "36353         40          9         26  ...            2            3   \n",
       "36354         30         15         30  ...            4            4   \n",
       "36355         80         51         80  ...            4            6   \n",
       "\n",
       "      Unnamed: 212         Unnamed: 213 Unnamed: 214 Unnamed: 215  \\\n",
       "0             QRA2          survey_date     _AGE_CAT     _NUM_CAT   \n",
       "1              NaN  2020-01-23 00:00:00     40 to 60         High   \n",
       "2              NaN  2020-01-02 00:00:00     40 to 60          Low   \n",
       "3              NaN  2020-01-07 00:00:00      Over 60         High   \n",
       "4              NaN  2020-01-27 00:00:00     Under 40         High   \n",
       "...            ...                  ...          ...          ...   \n",
       "36351            2  2022-05-27 00:00:00     40 to 60         High   \n",
       "36352            2  2022-05-31 00:00:00      Over 60         High   \n",
       "36353            3  2022-05-19 00:00:00     Under 40         High   \n",
       "36354            2  2022-05-24 00:00:00     Under 40         High   \n",
       "36355            3  2022-05-13 00:00:00     Under 40         High   \n",
       "\n",
       "      Unnamed: 216     Unnamed: 217  Unnamed: 218 Unnamed: 219  \n",
       "0      _REGION_CAT  _COMMUTING_ZONE      _EDU_CAT  _HH_INC_CAT  \n",
       "1             West              218       College    Over 100k  \n",
       "2        Northeast              203   High School    Under 50k  \n",
       "3            South              102       College  50k to 100k  \n",
       "4          Midwest              100       College  50k to 100k  \n",
       "...            ...              ...           ...          ...  \n",
       "36351         West              109  Some College    Over 100k  \n",
       "36352        South              200   High School    Under 50k  \n",
       "36353    Northeast              184       College    Under 50k  \n",
       "36354         West                5       College    Over 100k  \n",
       "36355         West                5       College    Over 100k  \n",
       "\n",
       "[36356 rows x 220 columns]"
      ]
     },
     "execution_count": 10,
     "metadata": {},
     "output_type": "execute_result"
    }
   ],
   "source": [
    "Enq20"
   ]
  },
  {
   "cell_type": "code",
   "execution_count": 11,
   "id": "2c056550-7189-4c63-987e-36c47709b469",
   "metadata": {
    "tags": []
   },
   "outputs": [],
   "source": [
    "#Il faut faire 2-3 manips pour rendre les bases utilisables\n",
    "new_columns = Enq13.iloc[0]\n",
    "Enq13.columns = new_columns\n",
    "Enq13 = Enq13.drop(0)\n",
    "\n",
    "new_columns = Enq17.iloc[0]\n",
    "Enq17.columns = new_columns\n",
    "Enq17 = Enq17.drop(0)"
   ]
  },
  {
   "cell_type": "code",
   "execution_count": 12,
   "id": "6156653b-c5a6-485f-96cc-686f58905a63",
   "metadata": {
    "tags": []
   },
   "outputs": [],
   "source": [
    "new_columns = Enq20.iloc[0]\n",
    "Enq20.columns = new_columns\n",
    "Enq20 = Enq20.drop(0)"
   ]
  },
  {
   "cell_type": "code",
   "execution_count": 13,
   "id": "9df9b7cf-63c9-496a-bc19-d7a450e24f03",
   "metadata": {
    "tags": []
   },
   "outputs": [],
   "source": [
    "Enq17['date'] = pd.to_datetime(Enq17['date'].astype(str) + '01', format='%Y%m%d')\n",
    "Enq13['date'] = pd.to_datetime(Enq13['date'].astype(str) + '01', format='%Y%m%d')\n",
    "Enq20['date'] = pd.to_datetime(Enq20['date'].astype(str) + '01', format='%Y%m%d')"
   ]
  },
  {
   "cell_type": "code",
   "execution_count": 14,
   "id": "32d90cb2-b9c6-407b-9c50-30d678389451",
   "metadata": {
    "tags": []
   },
   "outputs": [],
   "source": [
    "Base_finale=pd.concat([Enq13,Enq17,Enq20])"
   ]
  },
  {
   "cell_type": "code",
   "execution_count": 15,
   "id": "743a05b8-e7e7-4119-8c34-7aa3ea0d7a99",
   "metadata": {
    "tags": []
   },
   "outputs": [],
   "source": [
    "#Base_finale.to_excel('Base_finale.xlsx')"
   ]
  },
  {
   "cell_type": "markdown",
   "id": "f02e5178-a998-4f9f-acae-06fd515f434c",
   "metadata": {},
   "source": [
    "# I-Première spécification :"
   ]
  },
  {
   "cell_type": "code",
   "execution_count": 16,
   "id": "f1bacab0-a46f-4c04-851f-1ff2645f0085",
   "metadata": {
    "tags": []
   },
   "outputs": [],
   "source": [
    "from sklearn.linear_model import LinearRegression"
   ]
  },
  {
   "cell_type": "code",
   "execution_count": 17,
   "id": "7d1d1d2a-5d79-4994-92d1-67592b079086",
   "metadata": {
    "tags": []
   },
   "outputs": [],
   "source": [
    "from statsmodels.regression.linear_model import OLS\n",
    "import statsmodels.api as sm"
   ]
  },
  {
   "cell_type": "code",
   "execution_count": 18,
   "id": "a47da3db-1539-4846-acec-c2c7d0801cde",
   "metadata": {
    "tags": []
   },
   "outputs": [],
   "source": [
    "AA=Base_finale"
   ]
  },
  {
   "cell_type": "code",
   "execution_count": 19,
   "id": "79f72e93-d131-49bc-add5-3bb5de9b4191",
   "metadata": {
    "collapsed": true,
    "jupyter": {
     "outputs_hidden": true
    },
    "tags": []
   },
   "outputs": [
    {
     "data": {
      "text/plain": [
       "['date',\n",
       " 'userid',\n",
       " 'tenure',\n",
       " 'weight',\n",
       " 'Q1',\n",
       " 'Q2',\n",
       " 'Q3',\n",
       " 'Q4new',\n",
       " 'Q5new',\n",
       " 'Q6new',\n",
       " 'Q8v2',\n",
       " 'Q8v2part2',\n",
       " 'Q9_cent25',\n",
       " 'Q9_cent50',\n",
       " 'Q9_cent75',\n",
       " 'Q9_var',\n",
       " 'Q9_mean',\n",
       " 'Q9_iqr',\n",
       " 'Q9_probdeflation',\n",
       " 'Q9_bin1',\n",
       " 'Q9_bin2',\n",
       " 'Q9_bin3',\n",
       " 'Q9_bin4',\n",
       " 'Q9_bin5',\n",
       " 'Q9_bin6',\n",
       " 'Q9_bin7',\n",
       " 'Q9_bin8',\n",
       " 'Q9_bin9',\n",
       " 'Q9_bin10',\n",
       " 'Q9bv2',\n",
       " 'Q9bv2part2',\n",
       " 'Q9c_cent25',\n",
       " 'Q9c_cent50',\n",
       " 'Q9c_cent75',\n",
       " 'Q9c_var',\n",
       " 'Q9c_mean',\n",
       " 'Q9c_iqr',\n",
       " 'Q9c_probdeflation',\n",
       " 'Q9c_bin1',\n",
       " 'Q9c_bin2',\n",
       " 'Q9c_bin3',\n",
       " 'Q9c_bin4',\n",
       " 'Q9c_bin5',\n",
       " 'Q9c_bin6',\n",
       " 'Q9c_bin7',\n",
       " 'Q9c_bin8',\n",
       " 'Q9c_bin9',\n",
       " 'Q9c_bin10',\n",
       " 'Q10_1',\n",
       " 'Q10_2',\n",
       " 'Q10_3',\n",
       " 'Q10_4',\n",
       " 'Q10_5',\n",
       " 'Q10_6',\n",
       " 'Q10_7',\n",
       " 'Q10_8',\n",
       " 'Q10_9',\n",
       " 'Q10_10',\n",
       " 'Q11',\n",
       " 'Q12new',\n",
       " 'ES1_1',\n",
       " 'ES1_2',\n",
       " 'ES1_3',\n",
       " 'ES1_4',\n",
       " 'ES2',\n",
       " 'ES3new',\n",
       " 'ES4',\n",
       " 'ES5',\n",
       " 'Q13new',\n",
       " 'Q14new',\n",
       " 'Q15',\n",
       " 'Q16',\n",
       " 'Q17new',\n",
       " 'Q18new',\n",
       " 'Q19',\n",
       " 'Q20new',\n",
       " 'Q21new',\n",
       " 'Q22new',\n",
       " 'Q23v2',\n",
       " 'Q23v2part2',\n",
       " 'Q24_cent25',\n",
       " 'Q24_cent50',\n",
       " 'Q24_cent75',\n",
       " 'Q24_var',\n",
       " 'Q24_mean',\n",
       " 'Q24_iqr',\n",
       " 'Q24_probdeflation',\n",
       " 'Q24_bin1',\n",
       " 'Q24_bin2',\n",
       " 'Q24_bin3',\n",
       " 'Q24_bin4',\n",
       " 'Q24_bin5',\n",
       " 'Q24_bin6',\n",
       " 'Q24_bin7',\n",
       " 'Q24_bin8',\n",
       " 'Q24_bin9',\n",
       " 'Q24_bin10',\n",
       " 'Q25v2',\n",
       " 'Q25v2part2',\n",
       " 'Q26v2',\n",
       " 'Q26v2part2',\n",
       " 'Q27v2',\n",
       " 'Q27v2part2',\n",
       " 'Q28',\n",
       " 'Q29',\n",
       " 'Q30new',\n",
       " 'Q31v2',\n",
       " 'Q31v2part2',\n",
       " 'C1_cent25',\n",
       " 'C1_cent50',\n",
       " 'C1_cent75',\n",
       " 'C1_var',\n",
       " 'C1_mean',\n",
       " 'C1_iqr',\n",
       " 'C1_probdeflation',\n",
       " 'C1_bin1',\n",
       " 'C1_bin2',\n",
       " 'C1_bin3',\n",
       " 'C1_bin4',\n",
       " 'C1_bin5',\n",
       " 'C1_bin6',\n",
       " 'C1_bin7',\n",
       " 'C1_bin8',\n",
       " 'C1_bin9',\n",
       " 'C1_bin10',\n",
       " 'C2',\n",
       " 'C2part2',\n",
       " 'C3',\n",
       " 'C3part2',\n",
       " 'C4_1',\n",
       " 'C4_2',\n",
       " 'C4_3',\n",
       " 'C4_4',\n",
       " 'C4_5',\n",
       " 'C4_6',\n",
       " 'QNUM1',\n",
       " 'QNUM2',\n",
       " 'QNUM3',\n",
       " 'QNUM5',\n",
       " 'QNUM6',\n",
       " 'QNUM8',\n",
       " 'QNUM9',\n",
       " 'Q32',\n",
       " 'Q33',\n",
       " 'Q34',\n",
       " 'Q35_1',\n",
       " 'Q35_2',\n",
       " 'Q35_3',\n",
       " 'Q35_4',\n",
       " 'Q35_5',\n",
       " 'Q35_6',\n",
       " 'Q36',\n",
       " 'Q37',\n",
       " 'Q38',\n",
       " 'HH2_1',\n",
       " 'HH2_2',\n",
       " 'HH2_3',\n",
       " 'HH2_4',\n",
       " 'HH2_5',\n",
       " 'HH2_6',\n",
       " 'HH2_7',\n",
       " 'HH2_8',\n",
       " 'HH2_9',\n",
       " 'HH2_10',\n",
       " 'HH2_11',\n",
       " '_STATE',\n",
       " 'Q41',\n",
       " 'Q42',\n",
       " 'Q43',\n",
       " 'Q43a',\n",
       " 'Q44',\n",
       " 'Q45b',\n",
       " 'Q45new_1',\n",
       " 'Q45new_2',\n",
       " 'Q45new_3',\n",
       " 'Q45new_4',\n",
       " 'Q45new_5',\n",
       " 'Q45new_6',\n",
       " 'Q45new_7',\n",
       " 'Q45new_8',\n",
       " 'Q45new_9',\n",
       " 'Q46',\n",
       " 'Q47',\n",
       " 'D1',\n",
       " 'D3',\n",
       " 'D6',\n",
       " 'D2new_1',\n",
       " 'D2new_2',\n",
       " 'D2new_3',\n",
       " 'D2new_4',\n",
       " 'D2new_5',\n",
       " 'D2new_6',\n",
       " 'D2new_7',\n",
       " 'D2new_8',\n",
       " 'D2new_9',\n",
       " 'DSAME',\n",
       " 'DQ38',\n",
       " 'DHH2_1',\n",
       " 'DHH2_2',\n",
       " 'DHH2_3',\n",
       " 'DHH2_4',\n",
       " 'DHH2_5',\n",
       " 'DHH2_6',\n",
       " 'DHH2_7',\n",
       " 'DHH2_8',\n",
       " 'DHH2_9',\n",
       " 'DHH2_10',\n",
       " 'DHH2_11',\n",
       " 'DHH2_11_other',\n",
       " 'D5b',\n",
       " 'Q48',\n",
       " 'QRA1',\n",
       " 'QRA2',\n",
       " 'survey_date',\n",
       " '_AGE_CAT',\n",
       " '_NUM_CAT',\n",
       " '_REGION_CAT',\n",
       " '_COMMUTING_ZONE',\n",
       " '_EDU_CAT',\n",
       " '_HH_INC_CAT']"
      ]
     },
     "execution_count": 19,
     "metadata": {},
     "output_type": "execute_result"
    }
   ],
   "source": [
    "list(AA.columns)"
   ]
  },
  {
   "cell_type": "code",
   "execution_count": 20,
   "id": "d808081b-9a6f-4dbc-9277-426c346d8219",
   "metadata": {
    "tags": []
   },
   "outputs": [],
   "source": [
    "educ=pd.get_dummies(AA['_EDU_CAT'])"
   ]
  },
  {
   "cell_type": "code",
   "execution_count": 21,
   "id": "8b0f479d-dbcc-4be8-9688-71aa1cf33e9e",
   "metadata": {
    "tags": []
   },
   "outputs": [],
   "source": [
    "age=pd.get_dummies(AA['_AGE_CAT'])"
   ]
  },
  {
   "cell_type": "code",
   "execution_count": 22,
   "id": "755576ed-06ba-4438-a4de-7f2fe87a6ac6",
   "metadata": {
    "tags": []
   },
   "outputs": [],
   "source": [
    "income=pd.get_dummies(AA['_HH_INC_CAT'])"
   ]
  },
  {
   "cell_type": "code",
   "execution_count": 23,
   "id": "0b7a1fd2-07c1-4342-9a86-f002f4f3d66d",
   "metadata": {
    "tags": []
   },
   "outputs": [],
   "source": [
    "numeracy=pd.get_dummies(AA['_NUM_CAT'])"
   ]
  },
  {
   "cell_type": "code",
   "execution_count": 24,
   "id": "cb12e671-fdc1-4181-a15d-d82e5a459802",
   "metadata": {
    "tags": []
   },
   "outputs": [
    {
     "data": {
      "text/plain": [
       "16124"
      ]
     },
     "execution_count": 24,
     "metadata": {},
     "output_type": "execute_result"
    }
   ],
   "source": [
    "np.sum(educ['High School'])"
   ]
  },
  {
   "cell_type": "code",
   "execution_count": 25,
   "id": "51a9151c-07fd-4f7f-9b09-dd2974f67c5f",
   "metadata": {
    "tags": []
   },
   "outputs": [],
   "source": [
    "BC = pd.concat([AA, educ], axis=1).reindex(AA.index) #BC est pour Base complète. Ici, on complète la base avec des dummies"
   ]
  },
  {
   "cell_type": "code",
   "execution_count": 26,
   "id": "8fb4aa37-7255-4bf6-af97-97e92ff9d97e",
   "metadata": {
    "tags": []
   },
   "outputs": [],
   "source": [
    "BC = pd.concat([BC, age], axis=1).reindex(BC.index)"
   ]
  },
  {
   "cell_type": "code",
   "execution_count": 27,
   "id": "8073fea0-9be3-41e2-b448-929b38c59479",
   "metadata": {
    "tags": []
   },
   "outputs": [],
   "source": [
    "BC = pd.concat([BC, income], axis=1).reindex(BC.index)"
   ]
  },
  {
   "cell_type": "code",
   "execution_count": 28,
   "id": "98aa1eb4-913d-43a7-817a-66164e068899",
   "metadata": {
    "tags": []
   },
   "outputs": [],
   "source": [
    "BC = pd.concat([BC, numeracy], axis=1).reindex(BC.index)"
   ]
  },
  {
   "cell_type": "markdown",
   "id": "ddf7bf6a-2ea6-4e40-b21a-25081a26df60",
   "metadata": {},
   "source": [
    "On code maintenant le genre :"
   ]
  },
  {
   "cell_type": "code",
   "execution_count": 29,
   "id": "2e1a3a8b-62cd-4339-9da9-188ccfeda8b6",
   "metadata": {
    "tags": []
   },
   "outputs": [],
   "source": [
    "%%capture\n",
    "gender=pd.get_dummies(AA['Q33'])"
   ]
  },
  {
   "cell_type": "code",
   "execution_count": 30,
   "id": "66fad095-1922-431a-9325-ad5fb6fb0597",
   "metadata": {
    "tags": []
   },
   "outputs": [],
   "source": [
    "gender.rename(columns={1: \"fem\"}, inplace=True)"
   ]
  },
  {
   "cell_type": "code",
   "execution_count": 31,
   "id": "e870ee78-53a8-4afc-b06a-537d12a58f3d",
   "metadata": {
    "tags": []
   },
   "outputs": [],
   "source": [
    "BC = pd.concat([BC, gender['fem']], axis=1).reindex(BC.index)"
   ]
  },
  {
   "cell_type": "markdown",
   "id": "b23094f3-2e43-48bc-b89b-aba6bdb685ff",
   "metadata": {},
   "source": [
    "C'est fait pour le genre. "
   ]
  },
  {
   "cell_type": "markdown",
   "id": "51b52565-f57d-46a6-b5a2-21e6126d0ea9",
   "metadata": {},
   "source": [
    "Faisons le ménage dans les non-réponses et dans les outliers :"
   ]
  },
  {
   "cell_type": "code",
   "execution_count": 32,
   "id": "35ef51a1-2dc2-4a3a-9182-406d12d3ae18",
   "metadata": {
    "tags": []
   },
   "outputs": [],
   "source": [
    "BC=BC.dropna(subset=['Q8v2part2','Q9bv2part2']) #On supprime les personnes qui n'ont pas répondu aux questions sur les anticipations d'inflation. "
   ]
  },
  {
   "cell_type": "markdown",
   "id": "b29b2847-9586-4e74-8850-0c816ab1c8e1",
   "metadata": {},
   "source": [
    "Supprimons les outliers"
   ]
  },
  {
   "cell_type": "code",
   "execution_count": 33,
   "id": "5a8746aa-8a07-4b18-ae76-9a3bc5b584cf",
   "metadata": {
    "tags": []
   },
   "outputs": [],
   "source": [
    "test=BC[BC['Q8v2part2']<=20]\n",
    "test=test[test['Q8v2part2']>=-20]"
   ]
  },
  {
   "cell_type": "code",
   "execution_count": 34,
   "id": "475588a4-bc33-416f-aa95-5ef73acf4e91",
   "metadata": {
    "tags": []
   },
   "outputs": [
    {
     "data": {
      "text/plain": [
       "20"
      ]
     },
     "execution_count": 34,
     "metadata": {},
     "output_type": "execute_result"
    }
   ],
   "source": [
    "max(test['Q8v2part2'])"
   ]
  },
  {
   "cell_type": "code",
   "execution_count": 35,
   "id": "8d79a9f9-cccd-46a5-8e63-81ff91b79c3e",
   "metadata": {
    "tags": []
   },
   "outputs": [
    {
     "data": {
      "text/html": [
       "<table class=\"simpletable\">\n",
       "<caption>OLS Regression Results</caption>\n",
       "<tr>\n",
       "  <th>Dep. Variable:</th>        <td>Q8v2part2</td>    <th>  R-squared (uncentered):</th>       <td>   0.003</td>  \n",
       "</tr>\n",
       "<tr>\n",
       "  <th>Model:</th>                   <td>OLS</td>       <th>  Adj. R-squared (uncentered):</th>  <td>   0.003</td>  \n",
       "</tr>\n",
       "<tr>\n",
       "  <th>Method:</th>             <td>Least Squares</td>  <th>  F-statistic:       </th>           <td>   407.4</td>  \n",
       "</tr>\n",
       "<tr>\n",
       "  <th>Date:</th>             <td>Mon, 13 Mar 2023</td> <th>  Prob (F-statistic):</th>           <td>1.86e-90</td>  \n",
       "</tr>\n",
       "<tr>\n",
       "  <th>Time:</th>                 <td>16:04:33</td>     <th>  Log-Likelihood:    </th>          <td>-7.4629e+05</td>\n",
       "</tr>\n",
       "<tr>\n",
       "  <th>No. Observations:</th>      <td>139667</td>      <th>  AIC:               </th>           <td>1.493e+06</td> \n",
       "</tr>\n",
       "<tr>\n",
       "  <th>Df Residuals:</th>          <td>139666</td>      <th>  BIC:               </th>           <td>1.493e+06</td> \n",
       "</tr>\n",
       "<tr>\n",
       "  <th>Df Model:</th>              <td>     1</td>      <th>                     </th>               <td> </td>     \n",
       "</tr>\n",
       "<tr>\n",
       "  <th>Covariance Type:</th>      <td>nonrobust</td>    <th>                     </th>               <td> </td>     \n",
       "</tr>\n",
       "</table>\n",
       "<table class=\"simpletable\">\n",
       "<tr>\n",
       "   <td></td>      <th>coef</th>     <th>std err</th>      <th>t</th>      <th>P>|t|</th>  <th>[0.025</th>    <th>0.975]</th>  \n",
       "</tr>\n",
       "<tr>\n",
       "  <th>fem</th> <td>   10.5545</td> <td>    0.523</td> <td>   20.183</td> <td> 0.000</td> <td>    9.530</td> <td>   11.579</td>\n",
       "</tr>\n",
       "</table>\n",
       "<table class=\"simpletable\">\n",
       "<tr>\n",
       "  <th>Omnibus:</th>       <td>674137.117</td> <th>  Durbin-Watson:     </th>     <td>   1.390</td>     \n",
       "</tr>\n",
       "<tr>\n",
       "  <th>Prob(Omnibus):</th>   <td> 0.000</td>   <th>  Jarque-Bera (JB):  </th> <td>9172836698756.129</td>\n",
       "</tr>\n",
       "<tr>\n",
       "  <th>Skew:</th>            <td>191.146</td>  <th>  Prob(JB):          </th>     <td>    0.00</td>     \n",
       "</tr>\n",
       "<tr>\n",
       "  <th>Kurtosis:</th>       <td>39702.992</td> <th>  Cond. No.          </th>     <td>    1.00</td>     \n",
       "</tr>\n",
       "</table><br/><br/>Notes:<br/>[1] R² is computed without centering (uncentered) since the model does not contain a constant.<br/>[2] Standard Errors assume that the covariance matrix of the errors is correctly specified."
      ],
      "text/plain": [
       "<class 'statsmodels.iolib.summary.Summary'>\n",
       "\"\"\"\n",
       "                                 OLS Regression Results                                \n",
       "=======================================================================================\n",
       "Dep. Variable:              Q8v2part2   R-squared (uncentered):                   0.003\n",
       "Model:                            OLS   Adj. R-squared (uncentered):              0.003\n",
       "Method:                 Least Squares   F-statistic:                              407.4\n",
       "Date:                Mon, 13 Mar 2023   Prob (F-statistic):                    1.86e-90\n",
       "Time:                        16:04:33   Log-Likelihood:                     -7.4629e+05\n",
       "No. Observations:              139667   AIC:                                  1.493e+06\n",
       "Df Residuals:                  139666   BIC:                                  1.493e+06\n",
       "Df Model:                           1                                                  \n",
       "Covariance Type:            nonrobust                                                  \n",
       "==============================================================================\n",
       "                 coef    std err          t      P>|t|      [0.025      0.975]\n",
       "------------------------------------------------------------------------------\n",
       "fem           10.5545      0.523     20.183      0.000       9.530      11.579\n",
       "==============================================================================\n",
       "Omnibus:                   674137.117   Durbin-Watson:                   1.390\n",
       "Prob(Omnibus):                  0.000   Jarque-Bera (JB):    9172836698756.129\n",
       "Skew:                         191.146   Prob(JB):                         0.00\n",
       "Kurtosis:                   39702.992   Cond. No.                         1.00\n",
       "==============================================================================\n",
       "\n",
       "Notes:\n",
       "[1] R² is computed without centering (uncentered) since the model does not contain a constant.\n",
       "[2] Standard Errors assume that the covariance matrix of the errors is correctly specified.\n",
       "\"\"\""
      ]
     },
     "execution_count": 35,
     "metadata": {},
     "output_type": "execute_result"
    }
   ],
   "source": [
    "model = OLS(BC['Q8v2part2'].astype('float'),BC['fem'].astype('float'))\n",
    "results = model.fit()\n",
    "su = results.summary()\n",
    "su"
   ]
  },
  {
   "cell_type": "markdown",
   "id": "d5910f36-994e-40fe-aefe-9ab0b7e2ebbf",
   "metadata": {},
   "source": [
    "Calcul de l'inflation :"
   ]
  },
  {
   "cell_type": "code",
   "execution_count": 36,
   "id": "237dc92f-5f61-4aaf-a577-9392c3afc168",
   "metadata": {
    "tags": []
   },
   "outputs": [],
   "source": [
    "inflation_US = OECD[(OECD['Country'] == \"United States\") & (OECD['Subject2'] == \"Consumer prices: all items\")]\n",
    "inflation_US2 = pd.DataFrame({\n",
    "    'day': pd.to_datetime(inflation_US['Time'], format='%Y-%m-%d'),\n",
    "    'Inflation': inflation_US['Value'].astype(float)\n",
    "})\n",
    "\n",
    "inflation_US3 = pd.DataFrame({\n",
    "    'date': inflation_US2['day'],\n",
    "    'tx_evol_ann_pct': (inflation_US2['Inflation'] / inflation_US2['Inflation'].shift(12) - 1) * 100\n",
    "})\n"
   ]
  },
  {
   "cell_type": "code",
   "execution_count": 37,
   "id": "14793a68-4393-4469-a20f-ee96da06259c",
   "metadata": {
    "tags": []
   },
   "outputs": [],
   "source": [
    "test['inflation t']=0"
   ]
  },
  {
   "cell_type": "code",
   "execution_count": 38,
   "id": "3bf5ac15-aa46-48ca-82fe-76858e7e30cb",
   "metadata": {
    "tags": []
   },
   "outputs": [],
   "source": [
    "df3 = pd.merge(test,inflation_US3,how='outer',left_on=['date'],right_on=['date'])\n"
   ]
  },
  {
   "cell_type": "code",
   "execution_count": 39,
   "id": "f543142a-b97e-4e62-9200-c046aafb5476",
   "metadata": {
    "tags": []
   },
   "outputs": [],
   "source": [
    "df3=df3[df3['Q1'].notnull()]"
   ]
  },
  {
   "cell_type": "code",
   "execution_count": 40,
   "id": "0d3dacb9-4d2e-493f-bf2b-a6584f13cfaf",
   "metadata": {
    "tags": []
   },
   "outputs": [],
   "source": [
    "BF=df3"
   ]
  },
  {
   "cell_type": "markdown",
   "id": "2165e371-8380-4bd8-a600-fa6cfb5c4393",
   "metadata": {},
   "source": [
    "## Définition d'un indicateur d'instabilité personelle :"
   ]
  },
  {
   "cell_type": "markdown",
   "id": "dd60b985-feda-4e13-a3c1-6657c9a748a7",
   "metadata": {},
   "source": [
    "On va définir les variables qu'il serait pertinent d'inclure : \n",
    "- Q3 : proba changement de résidence dans les douze prochain mois\n",
    "- Q10 : 3 : chomeurs\n",
    "- Q13new: proba de changer d'emploi\n",
    "- Q25v2 : 3 : anticipe baisse de revenus\n",
    "- Q30new : proba de ne pas réussir à payer un prêt\n",
    "\n"
   ]
  },
  {
   "cell_type": "code",
   "execution_count": 41,
   "id": "7fd21c60-6576-402a-a768-7d9ed5ddfb30",
   "metadata": {
    "tags": []
   },
   "outputs": [],
   "source": [
    "BF.loc[BF['Q25v2']==3, 'loss expectation'] = 1 #On binarise le fait d'anticiper une baisse de ses revenus"
   ]
  },
  {
   "cell_type": "code",
   "execution_count": 42,
   "id": "c4e6dd3f-7ee6-4bd3-ac42-74328d00b11b",
   "metadata": {
    "tags": []
   },
   "outputs": [],
   "source": [
    "BF['indic_perso']=(BF.fillna(0)['Q3']/100+BF.fillna(0)['Q10_3']+BF.fillna(0)['Q13new']/100+BF.fillna(0)['loss expectation']+BF.fillna(0)['Q30new']/100)/5"
   ]
  },
  {
   "cell_type": "markdown",
   "id": "7522d7de-6b25-4825-aa32-9a0b9dd22e7e",
   "metadata": {},
   "source": [
    "*j'ai remplacé le 4 de la division par 5 pcq je crois qu'il y a 5 éléments, mais si c'est pas bien supprime ; dans tous les cas ça changera pas grand-chose à la régression puisque c'est proportionnel*"
   ]
  },
  {
   "cell_type": "markdown",
   "id": "18458975-692e-46db-ad1b-71cd0b83d69f",
   "metadata": {},
   "source": [
    "*par contre c'est pas un peu chaud de remplacer tous les nan par des 0?*"
   ]
  },
  {
   "cell_type": "markdown",
   "id": "e5e6e3dc-102a-454d-a327-2c0a7923090f",
   "metadata": {},
   "source": [
    "Faisons quelques statistiques descriptives dessus :"
   ]
  },
  {
   "cell_type": "code",
   "execution_count": 43,
   "id": "b422c18c-57ae-4f10-bd24-7841a1da2f1f",
   "metadata": {
    "tags": []
   },
   "outputs": [],
   "source": [
    "import statistics as stat"
   ]
  },
  {
   "cell_type": "code",
   "execution_count": 44,
   "id": "f61badf7-3953-448b-8d91-90ef50312f5f",
   "metadata": {
    "tags": []
   },
   "outputs": [
    {
     "data": {
      "text/plain": [
       "0.05"
      ]
     },
     "execution_count": 44,
     "metadata": {},
     "output_type": "execute_result"
    }
   ],
   "source": [
    "stat.median(BF['indic_perso'])"
   ]
  },
  {
   "cell_type": "code",
   "execution_count": 45,
   "id": "9f60a20a-c2d9-401e-b165-daccb809a7fa",
   "metadata": {
    "tags": []
   },
   "outputs": [
    {
     "data": {
      "text/plain": [
       "0.10450771219933926"
      ]
     },
     "execution_count": 45,
     "metadata": {},
     "output_type": "execute_result"
    }
   ],
   "source": [
    "stat.mean(BF['indic_perso'])"
   ]
  },
  {
   "cell_type": "code",
   "execution_count": 46,
   "id": "27d2e668-096c-4b4b-ab8a-42c686c922e7",
   "metadata": {
    "tags": []
   },
   "outputs": [],
   "source": [
    "def weighted_average(dataframe, value, weight):\n",
    "    val = dataframe[value]\n",
    "    wt = dataframe[weight]\n",
    "    return (val * wt).sum() / wt.sum()"
   ]
  },
  {
   "cell_type": "code",
   "execution_count": 47,
   "id": "4354ff63-348a-431d-b09c-e4c8ab5d6505",
   "metadata": {
    "tags": []
   },
   "outputs": [
    {
     "data": {
      "text/plain": [
       "0.10622211144606332"
      ]
     },
     "execution_count": 47,
     "metadata": {},
     "output_type": "execute_result"
    }
   ],
   "source": [
    "weighted_average(BF, 'indic_perso', 'weight')"
   ]
  },
  {
   "cell_type": "code",
   "execution_count": 48,
   "id": "f0e82dc7-250f-48a0-9542-0f2f35ffa766",
   "metadata": {
    "tags": []
   },
   "outputs": [
    {
     "data": {
      "text/plain": [
       "0.12193138591413451"
      ]
     },
     "execution_count": 48,
     "metadata": {},
     "output_type": "execute_result"
    }
   ],
   "source": [
    "stat.pstdev(BF['indic_perso'])"
   ]
  },
  {
   "cell_type": "code",
   "execution_count": 49,
   "id": "a4649bec-7cc1-4862-a72b-c3d5186af598",
   "metadata": {
    "tags": []
   },
   "outputs": [
    {
     "data": {
      "text/plain": [
       "129548"
      ]
     },
     "execution_count": 49,
     "metadata": {},
     "output_type": "execute_result"
    }
   ],
   "source": [
    "len(BF['Q8v2part2'])"
   ]
  },
  {
   "cell_type": "code",
   "execution_count": 122,
   "id": "7c08e8d1-bec4-4443-b257-b3782e08bb00",
   "metadata": {
    "tags": []
   },
   "outputs": [],
   "source": [
    "BF.dropna(subset=['weight'], inplace=True)"
   ]
  },
  {
   "cell_type": "code",
   "execution_count": 123,
   "id": "79385f6b-3650-4af1-b536-ae9c5b3a872a",
   "metadata": {
    "tags": []
   },
   "outputs": [],
   "source": [
    "poids = BF['weight'].astype('float')"
   ]
  },
  {
   "cell_type": "code",
   "execution_count": 124,
   "id": "4ec73c2c-2b41-4dcf-b6e6-abc4580f31b3",
   "metadata": {
    "tags": []
   },
   "outputs": [
    {
     "data": {
      "text/html": [
       "<table class=\"simpletable\">\n",
       "<caption>OLS Regression Results</caption>\n",
       "<tr>\n",
       "  <th>Dep. Variable:</th>        <td>Q8v2part2</td>    <th>  R-squared:         </th>  <td>   0.025</td>  \n",
       "</tr>\n",
       "<tr>\n",
       "  <th>Model:</th>                   <td>OLS</td>       <th>  Adj. R-squared:    </th>  <td>   0.025</td>  \n",
       "</tr>\n",
       "<tr>\n",
       "  <th>Method:</th>             <td>Least Squares</td>  <th>  F-statistic:       </th>  <td>   1690.</td>  \n",
       "</tr>\n",
       "<tr>\n",
       "  <th>Date:</th>             <td>Mon, 13 Mar 2023</td> <th>  Prob (F-statistic):</th>   <td>  0.00</td>   \n",
       "</tr>\n",
       "<tr>\n",
       "  <th>Time:</th>                 <td>17:07:40</td>     <th>  Log-Likelihood:    </th> <td>-3.9566e+05</td>\n",
       "</tr>\n",
       "<tr>\n",
       "  <th>No. Observations:</th>      <td>129518</td>      <th>  AIC:               </th>  <td>7.913e+05</td> \n",
       "</tr>\n",
       "<tr>\n",
       "  <th>Df Residuals:</th>          <td>129515</td>      <th>  BIC:               </th>  <td>7.914e+05</td> \n",
       "</tr>\n",
       "<tr>\n",
       "  <th>Df Model:</th>              <td>     2</td>      <th>                     </th>      <td> </td>     \n",
       "</tr>\n",
       "<tr>\n",
       "  <th>Covariance Type:</th>      <td>nonrobust</td>    <th>                     </th>      <td> </td>     \n",
       "</tr>\n",
       "</table>\n",
       "<table class=\"simpletable\">\n",
       "<tr>\n",
       "         <td></td>            <th>coef</th>     <th>std err</th>      <th>t</th>      <th>P>|t|</th>  <th>[0.025</th>    <th>0.975]</th>  \n",
       "</tr>\n",
       "<tr>\n",
       "  <th>const</th>           <td>    2.9957</td> <td>    0.025</td> <td>  118.143</td> <td> 0.000</td> <td>    2.946</td> <td>    3.045</td>\n",
       "</tr>\n",
       "<tr>\n",
       "  <th>tx_evol_ann_pct</th> <td>    0.4309</td> <td>    0.008</td> <td>   55.583</td> <td> 0.000</td> <td>    0.416</td> <td>    0.446</td>\n",
       "</tr>\n",
       "<tr>\n",
       "  <th>indic_perso</th>     <td>    2.2426</td> <td>    0.117</td> <td>   19.153</td> <td> 0.000</td> <td>    2.013</td> <td>    2.472</td>\n",
       "</tr>\n",
       "</table>\n",
       "<table class=\"simpletable\">\n",
       "<tr>\n",
       "  <th>Omnibus:</th>       <td>13297.398</td> <th>  Durbin-Watson:     </th>  <td>   1.977</td> \n",
       "</tr>\n",
       "<tr>\n",
       "  <th>Prob(Omnibus):</th>  <td> 0.000</td>   <th>  Jarque-Bera (JB):  </th> <td>110409.357</td>\n",
       "</tr>\n",
       "<tr>\n",
       "  <th>Skew:</th>           <td> 0.098</td>   <th>  Prob(JB):          </th>  <td>    0.00</td> \n",
       "</tr>\n",
       "<tr>\n",
       "  <th>Kurtosis:</th>       <td> 7.519</td>   <th>  Cond. No.          </th>  <td>    24.2</td> \n",
       "</tr>\n",
       "</table><br/><br/>Notes:<br/>[1] Standard Errors assume that the covariance matrix of the errors is correctly specified."
      ],
      "text/plain": [
       "<class 'statsmodels.iolib.summary.Summary'>\n",
       "\"\"\"\n",
       "                            OLS Regression Results                            \n",
       "==============================================================================\n",
       "Dep. Variable:              Q8v2part2   R-squared:                       0.025\n",
       "Model:                            OLS   Adj. R-squared:                  0.025\n",
       "Method:                 Least Squares   F-statistic:                     1690.\n",
       "Date:                Mon, 13 Mar 2023   Prob (F-statistic):               0.00\n",
       "Time:                        17:07:40   Log-Likelihood:            -3.9566e+05\n",
       "No. Observations:              129518   AIC:                         7.913e+05\n",
       "Df Residuals:                  129515   BIC:                         7.914e+05\n",
       "Df Model:                           2                                         \n",
       "Covariance Type:            nonrobust                                         \n",
       "===================================================================================\n",
       "                      coef    std err          t      P>|t|      [0.025      0.975]\n",
       "-----------------------------------------------------------------------------------\n",
       "const               2.9957      0.025    118.143      0.000       2.946       3.045\n",
       "tx_evol_ann_pct     0.4309      0.008     55.583      0.000       0.416       0.446\n",
       "indic_perso         2.2426      0.117     19.153      0.000       2.013       2.472\n",
       "==============================================================================\n",
       "Omnibus:                    13297.398   Durbin-Watson:                   1.977\n",
       "Prob(Omnibus):                  0.000   Jarque-Bera (JB):           110409.357\n",
       "Skew:                           0.098   Prob(JB):                         0.00\n",
       "Kurtosis:                       7.519   Cond. No.                         24.2\n",
       "==============================================================================\n",
       "\n",
       "Notes:\n",
       "[1] Standard Errors assume that the covariance matrix of the errors is correctly specified.\n",
       "\"\"\""
      ]
     },
     "execution_count": 124,
     "metadata": {},
     "output_type": "execute_result"
    }
   ],
   "source": [
    "Y = BF['Q8v2part2'].astype('float')\n",
    "X = BF.fillna(0)[['tx_evol_ann_pct','indic_perso']]\n",
    "X = sm.add_constant(X)\n",
    "model = sm.OLS(Y,X)\n",
    "results = model.fit()\n",
    "su = results.summary()\n",
    "su"
   ]
  },
  {
   "cell_type": "markdown",
   "id": "6a896cc2-fc57-4d2d-95a1-102cd8fdb2b6",
   "metadata": {},
   "source": [
    "### Alternative : on sépare les différents aspects de l'instabilité personnelle pour ne pas leur donner un poids arbitraire"
   ]
  },
  {
   "cell_type": "code",
   "execution_count": 51,
   "id": "7163aa31-0b6e-4fa2-ae1b-35bbfab3d60a",
   "metadata": {
    "tags": []
   },
   "outputs": [
    {
     "data": {
      "text/plain": [
       "0         50\n",
       "1         25\n",
       "2          3\n",
       "3          0\n",
       "4         10\n",
       "          ..\n",
       "129590     0\n",
       "129591     0\n",
       "129592    20\n",
       "129593     0\n",
       "129594    20\n",
       "Name: Q3, Length: 129548, dtype: object"
      ]
     },
     "execution_count": 51,
     "metadata": {},
     "output_type": "execute_result"
    }
   ],
   "source": [
    "#Allure proba de changement de résidence sous 12 mois\n",
    "BF['Q3']"
   ]
  },
  {
   "cell_type": "code",
   "execution_count": 52,
   "id": "8500cac0-db6e-423d-a11b-a62f12279c35",
   "metadata": {
    "jupyter": {
     "source_hidden": true
    },
    "tags": []
   },
   "outputs": [
    {
     "name": "stdout",
     "output_type": "stream",
     "text": [
      "nb de valeurs manquantes dans Q3 : 440\n"
     ]
    }
   ],
   "source": [
    "print(\"nb de valeurs manquantes dans Q3 : \"+str(BF['Q3'].isnull().sum()))"
   ]
  },
  {
   "cell_type": "code",
   "execution_count": 53,
   "id": "5419a79f-d28d-4b2c-8dcf-d6edcae09527",
   "metadata": {
    "tags": []
   },
   "outputs": [
    {
     "data": {
      "text/plain": [
       "0         0\n",
       "1         0\n",
       "2         0\n",
       "3         0\n",
       "4         0\n",
       "         ..\n",
       "129590    0\n",
       "129591    0\n",
       "129592    0\n",
       "129593    0\n",
       "129594    0\n",
       "Name: Q10_3, Length: 129548, dtype: object"
      ]
     },
     "execution_count": 53,
     "metadata": {},
     "output_type": "execute_result"
    }
   ],
   "source": [
    "#Allure de l'indicatrice du chômage\n",
    "BF['Q10_3']"
   ]
  },
  {
   "cell_type": "code",
   "execution_count": 54,
   "id": "e49e57f9-6527-4f73-a78e-9e428e16cc3e",
   "metadata": {
    "jupyter": {
     "source_hidden": true
    },
    "tags": []
   },
   "outputs": [
    {
     "name": "stdout",
     "output_type": "stream",
     "text": [
      "nb de valeurs manquantes dans Q10_3 : 0\n"
     ]
    }
   ],
   "source": [
    "print(\"nb de valeurs manquantes dans Q10_3 : \"+str(BF['Q10_3'].isnull().sum()))"
   ]
  },
  {
   "cell_type": "markdown",
   "id": "07dd2ffb-d54f-4546-9270-31edfb1714b9",
   "metadata": {},
   "source": [
    "le chômage est tjrs renseigné, c'est cool"
   ]
  },
  {
   "cell_type": "code",
   "execution_count": 55,
   "id": "ee87f673-fea8-482a-b167-6afb56d906f1",
   "metadata": {
    "tags": []
   },
   "outputs": [
    {
     "data": {
      "text/plain": [
       "0         NaN\n",
       "1         NaN\n",
       "2         NaN\n",
       "3         NaN\n",
       "4          30\n",
       "         ... \n",
       "129590      0\n",
       "129591      0\n",
       "129592    NaN\n",
       "129593     75\n",
       "129594     15\n",
       "Name: Q13new, Length: 129548, dtype: object"
      ]
     },
     "execution_count": 55,
     "metadata": {},
     "output_type": "execute_result"
    }
   ],
   "source": [
    "#Allure proba changer d'emploi\n",
    "BF['Q13new']"
   ]
  },
  {
   "cell_type": "code",
   "execution_count": 56,
   "id": "24be9169-16c7-404c-9f68-4bc457577da0",
   "metadata": {
    "jupyter": {
     "source_hidden": true
    },
    "tags": []
   },
   "outputs": [
    {
     "name": "stdout",
     "output_type": "stream",
     "text": [
      "nb de valeurs manquantes dans Q13new : 53054\n"
     ]
    }
   ],
   "source": [
    "print(\"nb de valeurs manquantes dans Q13new : \"+str(BF['Q13new'].isnull().sum()))"
   ]
  },
  {
   "cell_type": "markdown",
   "id": "080d9e7c-1561-4d94-b8b3-702d764d8e5a",
   "metadata": {
    "tags": []
   },
   "source": [
    "*c'est une catastrophe absolue, quasiment la moitié des participants n'y ont pas répondu...\n",
    "il faudra sans doute faire une régression qui ne le prend pas en compte*"
   ]
  },
  {
   "cell_type": "code",
   "execution_count": 57,
   "id": "485ed78e-0888-4adb-a8a8-83ab85f1693c",
   "metadata": {
    "tags": []
   },
   "outputs": [
    {
     "data": {
      "text/plain": [
       "0         3\n",
       "1         1\n",
       "2         1\n",
       "3         1\n",
       "4         3\n",
       "         ..\n",
       "129590    1\n",
       "129591    1\n",
       "129592    3\n",
       "129593    1\n",
       "129594    1\n",
       "Name: Q25v2, Length: 129548, dtype: object"
      ]
     },
     "execution_count": 57,
     "metadata": {},
     "output_type": "execute_result"
    }
   ],
   "source": [
    "#Allure anticipation baisse revenus\n",
    "BF['Q25v2']"
   ]
  },
  {
   "cell_type": "code",
   "execution_count": 58,
   "id": "c2f4f757-2ee1-423e-9c74-c7d4ce9b57ab",
   "metadata": {
    "jupyter": {
     "source_hidden": true
    },
    "tags": []
   },
   "outputs": [
    {
     "name": "stdout",
     "output_type": "stream",
     "text": [
      "nb de valeurs manquantes dans Q25v2 : 60\n"
     ]
    }
   ],
   "source": [
    "print(\"nb de valeurs manquantes dans Q25v2 : \"+str(BF['Q25v2'].isnull().sum()))"
   ]
  },
  {
   "cell_type": "code",
   "execution_count": 59,
   "id": "92eb1e33-74da-4a77-ada8-428a0c36854d",
   "metadata": {
    "tags": []
   },
   "outputs": [
    {
     "data": {
      "text/plain": [
       "0         30\n",
       "1          0\n",
       "2         97\n",
       "3          0\n",
       "4          5\n",
       "          ..\n",
       "129590     0\n",
       "129591     0\n",
       "129592     0\n",
       "129593     0\n",
       "129594     5\n",
       "Name: Q30new, Length: 129548, dtype: object"
      ]
     },
     "execution_count": 59,
     "metadata": {},
     "output_type": "execute_result"
    }
   ],
   "source": [
    "#Allure proba ne pas réussir à rembourser un prêt\n",
    "BF['Q30new']"
   ]
  },
  {
   "cell_type": "code",
   "execution_count": 60,
   "id": "863c7736-1685-4dd0-8447-ad5ec4de4133",
   "metadata": {
    "jupyter": {
     "source_hidden": true
    },
    "tags": []
   },
   "outputs": [
    {
     "name": "stdout",
     "output_type": "stream",
     "text": [
      "nb de valeurs manquantes dans Q30new : 226\n"
     ]
    }
   ],
   "source": [
    "print(\"nb de valeurs manquantes dans Q30new : \"+str(BF['Q30new'].isnull().sum()))"
   ]
  },
  {
   "cell_type": "code",
   "execution_count": 61,
   "id": "a9950aff-d408-496d-a042-83aacb651ce3",
   "metadata": {
    "tags": []
   },
   "outputs": [
    {
     "data": {
      "text/html": [
       "<div>\n",
       "<style scoped>\n",
       "    .dataframe tbody tr th:only-of-type {\n",
       "        vertical-align: middle;\n",
       "    }\n",
       "\n",
       "    .dataframe tbody tr th {\n",
       "        vertical-align: top;\n",
       "    }\n",
       "\n",
       "    .dataframe thead th {\n",
       "        text-align: right;\n",
       "    }\n",
       "</style>\n",
       "<table border=\"1\" class=\"dataframe\">\n",
       "  <thead>\n",
       "    <tr style=\"text-align: right;\">\n",
       "      <th></th>\n",
       "      <th>date</th>\n",
       "      <th>userid</th>\n",
       "      <th>tenure</th>\n",
       "      <th>weight</th>\n",
       "      <th>Q1</th>\n",
       "      <th>Q2</th>\n",
       "      <th>Q3</th>\n",
       "      <th>Q4new</th>\n",
       "      <th>Q5new</th>\n",
       "      <th>Q6new</th>\n",
       "      <th>...</th>\n",
       "      <th>50k to 100k</th>\n",
       "      <th>Over 100k</th>\n",
       "      <th>Under 50k</th>\n",
       "      <th>High</th>\n",
       "      <th>Low</th>\n",
       "      <th>fem</th>\n",
       "      <th>inflation t</th>\n",
       "      <th>tx_evol_ann_pct</th>\n",
       "      <th>loss expectation</th>\n",
       "      <th>indic_perso</th>\n",
       "    </tr>\n",
       "  </thead>\n",
       "  <tbody>\n",
       "    <tr>\n",
       "      <th>0</th>\n",
       "      <td>2013-06-01</td>\n",
       "      <td>70000220</td>\n",
       "      <td>6</td>\n",
       "      <td>16.327999</td>\n",
       "      <td>3</td>\n",
       "      <td>3</td>\n",
       "      <td>50</td>\n",
       "      <td>20</td>\n",
       "      <td>10</td>\n",
       "      <td>15</td>\n",
       "      <td>...</td>\n",
       "      <td>0.0</td>\n",
       "      <td>0.0</td>\n",
       "      <td>1.0</td>\n",
       "      <td>1.0</td>\n",
       "      <td>0.0</td>\n",
       "      <td>1.0</td>\n",
       "      <td>0.0</td>\n",
       "      <td>1.754417</td>\n",
       "      <td>1.0</td>\n",
       "      <td>0.36</td>\n",
       "    </tr>\n",
       "    <tr>\n",
       "      <th>1</th>\n",
       "      <td>2013-06-01</td>\n",
       "      <td>70000224</td>\n",
       "      <td>7</td>\n",
       "      <td>0.228</td>\n",
       "      <td>4</td>\n",
       "      <td>4</td>\n",
       "      <td>25</td>\n",
       "      <td>10</td>\n",
       "      <td>25</td>\n",
       "      <td>75</td>\n",
       "      <td>...</td>\n",
       "      <td>0.0</td>\n",
       "      <td>1.0</td>\n",
       "      <td>0.0</td>\n",
       "      <td>1.0</td>\n",
       "      <td>0.0</td>\n",
       "      <td>0.0</td>\n",
       "      <td>0.0</td>\n",
       "      <td>1.754417</td>\n",
       "      <td>NaN</td>\n",
       "      <td>0.05</td>\n",
       "    </tr>\n",
       "    <tr>\n",
       "      <th>2</th>\n",
       "      <td>2013-06-01</td>\n",
       "      <td>70000234</td>\n",
       "      <td>6</td>\n",
       "      <td>4.066</td>\n",
       "      <td>4</td>\n",
       "      <td>3</td>\n",
       "      <td>3</td>\n",
       "      <td>9</td>\n",
       "      <td>20</td>\n",
       "      <td>20</td>\n",
       "      <td>...</td>\n",
       "      <td>0.0</td>\n",
       "      <td>1.0</td>\n",
       "      <td>0.0</td>\n",
       "      <td>1.0</td>\n",
       "      <td>0.0</td>\n",
       "      <td>1.0</td>\n",
       "      <td>0.0</td>\n",
       "      <td>1.754417</td>\n",
       "      <td>NaN</td>\n",
       "      <td>0.20</td>\n",
       "    </tr>\n",
       "    <tr>\n",
       "      <th>3</th>\n",
       "      <td>2013-06-01</td>\n",
       "      <td>70000238</td>\n",
       "      <td>6</td>\n",
       "      <td>3.035</td>\n",
       "      <td>3</td>\n",
       "      <td>3</td>\n",
       "      <td>0</td>\n",
       "      <td>10</td>\n",
       "      <td>5</td>\n",
       "      <td>70</td>\n",
       "      <td>...</td>\n",
       "      <td>0.0</td>\n",
       "      <td>0.0</td>\n",
       "      <td>1.0</td>\n",
       "      <td>0.0</td>\n",
       "      <td>1.0</td>\n",
       "      <td>0.0</td>\n",
       "      <td>0.0</td>\n",
       "      <td>1.754417</td>\n",
       "      <td>NaN</td>\n",
       "      <td>0.00</td>\n",
       "    </tr>\n",
       "    <tr>\n",
       "      <th>4</th>\n",
       "      <td>2013-06-01</td>\n",
       "      <td>70000239</td>\n",
       "      <td>7</td>\n",
       "      <td>1.947</td>\n",
       "      <td>2</td>\n",
       "      <td>3</td>\n",
       "      <td>10</td>\n",
       "      <td>20</td>\n",
       "      <td>20</td>\n",
       "      <td>50</td>\n",
       "      <td>...</td>\n",
       "      <td>0.0</td>\n",
       "      <td>0.0</td>\n",
       "      <td>1.0</td>\n",
       "      <td>0.0</td>\n",
       "      <td>1.0</td>\n",
       "      <td>1.0</td>\n",
       "      <td>0.0</td>\n",
       "      <td>1.754417</td>\n",
       "      <td>1.0</td>\n",
       "      <td>0.29</td>\n",
       "    </tr>\n",
       "    <tr>\n",
       "      <th>...</th>\n",
       "      <td>...</td>\n",
       "      <td>...</td>\n",
       "      <td>...</td>\n",
       "      <td>...</td>\n",
       "      <td>...</td>\n",
       "      <td>...</td>\n",
       "      <td>...</td>\n",
       "      <td>...</td>\n",
       "      <td>...</td>\n",
       "      <td>...</td>\n",
       "      <td>...</td>\n",
       "      <td>...</td>\n",
       "      <td>...</td>\n",
       "      <td>...</td>\n",
       "      <td>...</td>\n",
       "      <td>...</td>\n",
       "      <td>...</td>\n",
       "      <td>...</td>\n",
       "      <td>...</td>\n",
       "      <td>...</td>\n",
       "      <td>...</td>\n",
       "    </tr>\n",
       "    <tr>\n",
       "      <th>129590</th>\n",
       "      <td>2022-05-01</td>\n",
       "      <td>75006584</td>\n",
       "      <td>1</td>\n",
       "      <td>0.964475</td>\n",
       "      <td>3</td>\n",
       "      <td>2</td>\n",
       "      <td>0</td>\n",
       "      <td>35</td>\n",
       "      <td>15</td>\n",
       "      <td>23</td>\n",
       "      <td>...</td>\n",
       "      <td>1.0</td>\n",
       "      <td>0.0</td>\n",
       "      <td>0.0</td>\n",
       "      <td>1.0</td>\n",
       "      <td>0.0</td>\n",
       "      <td>0.0</td>\n",
       "      <td>0.0</td>\n",
       "      <td>8.581512</td>\n",
       "      <td>NaN</td>\n",
       "      <td>0.00</td>\n",
       "    </tr>\n",
       "    <tr>\n",
       "      <th>129591</th>\n",
       "      <td>2022-05-01</td>\n",
       "      <td>75006585</td>\n",
       "      <td>1</td>\n",
       "      <td>0.984551</td>\n",
       "      <td>3</td>\n",
       "      <td>3</td>\n",
       "      <td>0</td>\n",
       "      <td>30</td>\n",
       "      <td>50</td>\n",
       "      <td>40</td>\n",
       "      <td>...</td>\n",
       "      <td>0.0</td>\n",
       "      <td>1.0</td>\n",
       "      <td>0.0</td>\n",
       "      <td>1.0</td>\n",
       "      <td>0.0</td>\n",
       "      <td>0.0</td>\n",
       "      <td>0.0</td>\n",
       "      <td>8.581512</td>\n",
       "      <td>NaN</td>\n",
       "      <td>0.00</td>\n",
       "    </tr>\n",
       "    <tr>\n",
       "      <th>129592</th>\n",
       "      <td>2022-05-01</td>\n",
       "      <td>75006586</td>\n",
       "      <td>1</td>\n",
       "      <td>3.769394</td>\n",
       "      <td>2</td>\n",
       "      <td>1</td>\n",
       "      <td>20</td>\n",
       "      <td>70</td>\n",
       "      <td>50</td>\n",
       "      <td>40</td>\n",
       "      <td>...</td>\n",
       "      <td>0.0</td>\n",
       "      <td>0.0</td>\n",
       "      <td>1.0</td>\n",
       "      <td>1.0</td>\n",
       "      <td>0.0</td>\n",
       "      <td>1.0</td>\n",
       "      <td>0.0</td>\n",
       "      <td>8.581512</td>\n",
       "      <td>1.0</td>\n",
       "      <td>0.24</td>\n",
       "    </tr>\n",
       "    <tr>\n",
       "      <th>129593</th>\n",
       "      <td>2022-05-01</td>\n",
       "      <td>75006620</td>\n",
       "      <td>1</td>\n",
       "      <td>0.502195</td>\n",
       "      <td>4</td>\n",
       "      <td>4</td>\n",
       "      <td>0</td>\n",
       "      <td>30</td>\n",
       "      <td>15</td>\n",
       "      <td>30</td>\n",
       "      <td>...</td>\n",
       "      <td>0.0</td>\n",
       "      <td>1.0</td>\n",
       "      <td>0.0</td>\n",
       "      <td>1.0</td>\n",
       "      <td>0.0</td>\n",
       "      <td>0.0</td>\n",
       "      <td>0.0</td>\n",
       "      <td>8.581512</td>\n",
       "      <td>NaN</td>\n",
       "      <td>0.15</td>\n",
       "    </tr>\n",
       "    <tr>\n",
       "      <th>129594</th>\n",
       "      <td>2022-05-01</td>\n",
       "      <td>75006621</td>\n",
       "      <td>1</td>\n",
       "      <td>0.502195</td>\n",
       "      <td>5</td>\n",
       "      <td>3</td>\n",
       "      <td>20</td>\n",
       "      <td>80</td>\n",
       "      <td>51</td>\n",
       "      <td>80</td>\n",
       "      <td>...</td>\n",
       "      <td>0.0</td>\n",
       "      <td>1.0</td>\n",
       "      <td>0.0</td>\n",
       "      <td>1.0</td>\n",
       "      <td>0.0</td>\n",
       "      <td>0.0</td>\n",
       "      <td>0.0</td>\n",
       "      <td>8.581512</td>\n",
       "      <td>NaN</td>\n",
       "      <td>0.08</td>\n",
       "    </tr>\n",
       "  </tbody>\n",
       "</table>\n",
       "<p>129548 rows × 236 columns</p>\n",
       "</div>"
      ],
      "text/plain": [
       "             date    userid tenure     weight Q1 Q2  Q3 Q4new Q5new Q6new  \\\n",
       "0      2013-06-01  70000220      6  16.327999  3  3  50    20    10    15   \n",
       "1      2013-06-01  70000224      7      0.228  4  4  25    10    25    75   \n",
       "2      2013-06-01  70000234      6      4.066  4  3   3     9    20    20   \n",
       "3      2013-06-01  70000238      6      3.035  3  3   0    10     5    70   \n",
       "4      2013-06-01  70000239      7      1.947  2  3  10    20    20    50   \n",
       "...           ...       ...    ...        ... .. ..  ..   ...   ...   ...   \n",
       "129590 2022-05-01  75006584      1   0.964475  3  2   0    35    15    23   \n",
       "129591 2022-05-01  75006585      1   0.984551  3  3   0    30    50    40   \n",
       "129592 2022-05-01  75006586      1   3.769394  2  1  20    70    50    40   \n",
       "129593 2022-05-01  75006620      1   0.502195  4  4   0    30    15    30   \n",
       "129594 2022-05-01  75006621      1   0.502195  5  3  20    80    51    80   \n",
       "\n",
       "        ... 50k to 100k Over 100k Under 50k High  Low  fem inflation t  \\\n",
       "0       ...         0.0       0.0       1.0  1.0  0.0  1.0         0.0   \n",
       "1       ...         0.0       1.0       0.0  1.0  0.0  0.0         0.0   \n",
       "2       ...         0.0       1.0       0.0  1.0  0.0  1.0         0.0   \n",
       "3       ...         0.0       0.0       1.0  0.0  1.0  0.0         0.0   \n",
       "4       ...         0.0       0.0       1.0  0.0  1.0  1.0         0.0   \n",
       "...     ...         ...       ...       ...  ...  ...  ...         ...   \n",
       "129590  ...         1.0       0.0       0.0  1.0  0.0  0.0         0.0   \n",
       "129591  ...         0.0       1.0       0.0  1.0  0.0  0.0         0.0   \n",
       "129592  ...         0.0       0.0       1.0  1.0  0.0  1.0         0.0   \n",
       "129593  ...         0.0       1.0       0.0  1.0  0.0  0.0         0.0   \n",
       "129594  ...         0.0       1.0       0.0  1.0  0.0  0.0         0.0   \n",
       "\n",
       "       tx_evol_ann_pct loss expectation indic_perso  \n",
       "0             1.754417              1.0        0.36  \n",
       "1             1.754417              NaN        0.05  \n",
       "2             1.754417              NaN        0.20  \n",
       "3             1.754417              NaN        0.00  \n",
       "4             1.754417              1.0        0.29  \n",
       "...                ...              ...         ...  \n",
       "129590        8.581512              NaN        0.00  \n",
       "129591        8.581512              NaN        0.00  \n",
       "129592        8.581512              1.0        0.24  \n",
       "129593        8.581512              NaN        0.15  \n",
       "129594        8.581512              NaN        0.08  \n",
       "\n",
       "[129548 rows x 236 columns]"
      ]
     },
     "execution_count": 61,
     "metadata": {},
     "output_type": "execute_result"
    }
   ],
   "source": [
    "BF"
   ]
  },
  {
   "cell_type": "code",
   "execution_count": 62,
   "id": "a595a222-c26d-4ea5-a80a-7de6ed992d81",
   "metadata": {
    "tags": []
   },
   "outputs": [],
   "source": [
    "instabilité = ['Q3', 'Q10_3', 'Q13new', 'Q25v2', 'Q30new']"
   ]
  },
  {
   "cell_type": "code",
   "execution_count": 63,
   "id": "1640f440-165e-4ca6-88ec-f829ead74e53",
   "metadata": {
    "tags": []
   },
   "outputs": [],
   "source": [
    "#on fabrique un dataframe sans les valeurs manquantes\n",
    "BF2 = BF.dropna(subset=instabilité)"
   ]
  },
  {
   "cell_type": "code",
   "execution_count": 64,
   "id": "3f969ea2-9c97-4dad-a8db-d002c9d1096a",
   "metadata": {
    "tags": []
   },
   "outputs": [],
   "source": [
    "%%capture\n",
    "#du coup on re binarise\n",
    "BF2.loc[BF['Q25v2']==3, 'loss expectation'] = 1\n",
    "BF2['loss expectation']=BF2.fillna(0)['loss expectation']"
   ]
  },
  {
   "cell_type": "code",
   "execution_count": 65,
   "id": "5bfe666e-eaed-4b67-b96a-834d035115c0",
   "metadata": {
    "tags": []
   },
   "outputs": [],
   "source": [
    "instabilité = ['Q3', 'Q10_3', 'Q13new', 'loss expectation', 'Q30new']"
   ]
  },
  {
   "cell_type": "code",
   "execution_count": 66,
   "id": "51feff40-ac48-4c77-83fb-8e644f3f127f",
   "metadata": {
    "tags": []
   },
   "outputs": [],
   "source": [
    "%%capture\n",
    "#transformation des colonnes en float\n",
    "for element in instabilité :\n",
    "    BF2[element] = BF2[element].astype(float)"
   ]
  },
  {
   "cell_type": "code",
   "execution_count": 67,
   "id": "f4ad5828-6dc1-4efa-b445-44798ef7ca90",
   "metadata": {
    "tags": []
   },
   "outputs": [],
   "source": [
    "BF2 = BF2.rename(columns={'Q3': 'proba chgt résidence',\n",
    "                          'Q10_3': 'chômage',\n",
    "                          'Q13new': 'proba chgt emploi',\n",
    "                          'loss expectation': 'proba perte revenus',\n",
    "                          'Q30new': 'proba ne pas réussir à rembourser un prêt'})"
   ]
  },
  {
   "cell_type": "code",
   "execution_count": 119,
   "id": "c888eef0-bbc2-4bf1-ac08-357b709016a8",
   "metadata": {
    "tags": []
   },
   "outputs": [],
   "source": [
    "BF2.dropna(subset=['weight'], inplace=True)"
   ]
  },
  {
   "cell_type": "code",
   "execution_count": 120,
   "id": "3feb56f0-36c0-4057-84b9-ef014a525c09",
   "metadata": {
    "tags": []
   },
   "outputs": [],
   "source": [
    "instabilité = ['proba chgt résidence',\n",
    "               'chômage',\n",
    "               'proba chgt emploi',\n",
    "               'proba perte revenus',\n",
    "               'proba ne pas réussir à rembourser un prêt']\n",
    "poids = BF2['weight'].astype('float')"
   ]
  },
  {
   "cell_type": "code",
   "execution_count": 121,
   "id": "5e9cfede-95ed-46f1-9725-15c09548e32a",
   "metadata": {
    "tags": []
   },
   "outputs": [
    {
     "data": {
      "text/html": [
       "<table class=\"simpletable\">\n",
       "<caption>WLS Regression Results</caption>\n",
       "<tr>\n",
       "  <th>Dep. Variable:</th>        <td>Q8v2part2</td>    <th>  R-squared:         </th>  <td>   0.004</td>  \n",
       "</tr>\n",
       "<tr>\n",
       "  <th>Model:</th>                   <td>WLS</td>       <th>  Adj. R-squared:    </th>  <td>   0.004</td>  \n",
       "</tr>\n",
       "<tr>\n",
       "  <th>Method:</th>             <td>Least Squares</td>  <th>  F-statistic:       </th>  <td>   64.27</td>  \n",
       "</tr>\n",
       "<tr>\n",
       "  <th>Date:</th>             <td>Mon, 13 Mar 2023</td> <th>  Prob (F-statistic):</th>  <td>3.58e-67</td>  \n",
       "</tr>\n",
       "<tr>\n",
       "  <th>Time:</th>                 <td>17:06:00</td>     <th>  Log-Likelihood:    </th> <td>-2.4572e+05</td>\n",
       "</tr>\n",
       "<tr>\n",
       "  <th>No. Observations:</th>      <td> 76312</td>      <th>  AIC:               </th>  <td>4.915e+05</td> \n",
       "</tr>\n",
       "<tr>\n",
       "  <th>Df Residuals:</th>          <td> 76306</td>      <th>  BIC:               </th>  <td>4.915e+05</td> \n",
       "</tr>\n",
       "<tr>\n",
       "  <th>Df Model:</th>              <td>     5</td>      <th>                     </th>      <td> </td>     \n",
       "</tr>\n",
       "<tr>\n",
       "  <th>Covariance Type:</th>      <td>nonrobust</td>    <th>                     </th>      <td> </td>     \n",
       "</tr>\n",
       "</table>\n",
       "<table class=\"simpletable\">\n",
       "<tr>\n",
       "                      <td></td>                         <th>coef</th>     <th>std err</th>      <th>t</th>      <th>P>|t|</th>  <th>[0.025</th>    <th>0.975]</th>  \n",
       "</tr>\n",
       "<tr>\n",
       "  <th>const</th>                                     <td>    4.0044</td> <td>    0.028</td> <td>  142.278</td> <td> 0.000</td> <td>    3.949</td> <td>    4.060</td>\n",
       "</tr>\n",
       "<tr>\n",
       "  <th>proba chgt résidence</th>                      <td>   -0.0041</td> <td>    0.001</td> <td>   -5.917</td> <td> 0.000</td> <td>   -0.005</td> <td>   -0.003</td>\n",
       "</tr>\n",
       "<tr>\n",
       "  <th>chômage</th>                                   <td>   -1.1027</td> <td>    0.718</td> <td>   -1.537</td> <td> 0.124</td> <td>   -2.509</td> <td>    0.304</td>\n",
       "</tr>\n",
       "<tr>\n",
       "  <th>proba chgt emploi</th>                         <td>    0.0050</td> <td>    0.001</td> <td>    4.630</td> <td> 0.000</td> <td>    0.003</td> <td>    0.007</td>\n",
       "</tr>\n",
       "<tr>\n",
       "  <th>proba perte revenus</th>                       <td>    0.2378</td> <td>    0.071</td> <td>    3.348</td> <td> 0.001</td> <td>    0.099</td> <td>    0.377</td>\n",
       "</tr>\n",
       "<tr>\n",
       "  <th>proba ne pas réussir à rembourser un prêt</th> <td>    0.0146</td> <td>    0.001</td> <td>   14.807</td> <td> 0.000</td> <td>    0.013</td> <td>    0.017</td>\n",
       "</tr>\n",
       "</table>\n",
       "<table class=\"simpletable\">\n",
       "<tr>\n",
       "  <th>Omnibus:</th>       <td>14850.756</td> <th>  Durbin-Watson:     </th>  <td>   1.935</td> \n",
       "</tr>\n",
       "<tr>\n",
       "  <th>Prob(Omnibus):</th>  <td> 0.000</td>   <th>  Jarque-Bera (JB):  </th> <td>431424.549</td>\n",
       "</tr>\n",
       "<tr>\n",
       "  <th>Skew:</th>           <td> 0.192</td>   <th>  Prob(JB):          </th>  <td>    0.00</td> \n",
       "</tr>\n",
       "<tr>\n",
       "  <th>Kurtosis:</th>       <td>14.642</td>   <th>  Cond. No.          </th>  <td>1.43e+03</td> \n",
       "</tr>\n",
       "</table><br/><br/>Notes:<br/>[1] Standard Errors assume that the covariance matrix of the errors is correctly specified.<br/>[2] The condition number is large, 1.43e+03. This might indicate that there are<br/>strong multicollinearity or other numerical problems."
      ],
      "text/plain": [
       "<class 'statsmodels.iolib.summary.Summary'>\n",
       "\"\"\"\n",
       "                            WLS Regression Results                            \n",
       "==============================================================================\n",
       "Dep. Variable:              Q8v2part2   R-squared:                       0.004\n",
       "Model:                            WLS   Adj. R-squared:                  0.004\n",
       "Method:                 Least Squares   F-statistic:                     64.27\n",
       "Date:                Mon, 13 Mar 2023   Prob (F-statistic):           3.58e-67\n",
       "Time:                        17:06:00   Log-Likelihood:            -2.4572e+05\n",
       "No. Observations:               76312   AIC:                         4.915e+05\n",
       "Df Residuals:                   76306   BIC:                         4.915e+05\n",
       "Df Model:                           5                                         \n",
       "Covariance Type:            nonrobust                                         \n",
       "=============================================================================================================\n",
       "                                                coef    std err          t      P>|t|      [0.025      0.975]\n",
       "-------------------------------------------------------------------------------------------------------------\n",
       "const                                         4.0044      0.028    142.278      0.000       3.949       4.060\n",
       "proba chgt résidence                         -0.0041      0.001     -5.917      0.000      -0.005      -0.003\n",
       "chômage                                      -1.1027      0.718     -1.537      0.124      -2.509       0.304\n",
       "proba chgt emploi                             0.0050      0.001      4.630      0.000       0.003       0.007\n",
       "proba perte revenus                           0.2378      0.071      3.348      0.001       0.099       0.377\n",
       "proba ne pas réussir à rembourser un prêt     0.0146      0.001     14.807      0.000       0.013       0.017\n",
       "==============================================================================\n",
       "Omnibus:                    14850.756   Durbin-Watson:                   1.935\n",
       "Prob(Omnibus):                  0.000   Jarque-Bera (JB):           431424.549\n",
       "Skew:                           0.192   Prob(JB):                         0.00\n",
       "Kurtosis:                      14.642   Cond. No.                     1.43e+03\n",
       "==============================================================================\n",
       "\n",
       "Notes:\n",
       "[1] Standard Errors assume that the covariance matrix of the errors is correctly specified.\n",
       "[2] The condition number is large, 1.43e+03. This might indicate that there are\n",
       "strong multicollinearity or other numerical problems.\n",
       "\"\"\""
      ]
     },
     "execution_count": 121,
     "metadata": {},
     "output_type": "execute_result"
    }
   ],
   "source": [
    "Y = BF2['Q8v2part2'].astype('float')\n",
    "X = BF2[instabilité]\n",
    "X = sm.add_constant(X)\n",
    "model = sm.WLS(Y,X, weights=poids)\n",
    "results = model.fit()\n",
    "su = results.summary()\n",
    "su"
   ]
  },
  {
   "cell_type": "markdown",
   "id": "a6395262-f367-440d-b60a-b51efc5ee230",
   "metadata": {},
   "source": [
    "Les coeff sont tous significatifs à 95%, mais très petits"
   ]
  },
  {
   "cell_type": "markdown",
   "id": "5ab8c05e-1b5e-4c5d-80ec-cad2395cf55b",
   "metadata": {},
   "source": [
    "## Maintenant, essayons de définir un indicateur pour l'instabilité macro :"
   ]
  },
  {
   "cell_type": "markdown",
   "id": "933c58fb-8bf8-4d20-b340-d1f413b5e616",
   "metadata": {},
   "source": [
    "On va noter ici les variables qui pourraient être utiles pour définir un tel indicateur :\n",
    "- Q4new: probabilité d'augmentation du chômage dans les douze prochain mois\n",
    "- Q5new: proba d'une augmentation des taux d'intêret\n",
    "- Q6new: proba d'une augmentation des indices boursiers: 100-Q6new = chance d'une baisse donc\n"
   ]
  },
  {
   "cell_type": "code",
   "execution_count": 70,
   "id": "939d428b-47fe-4a71-99dd-86c11b2b7cf8",
   "metadata": {
    "tags": []
   },
   "outputs": [],
   "source": [
    "BF['indic_macro']=(BF.fillna(0)['Q4new']/100+BF.fillna(0)['Q5new']/100+(100-BF.fillna(0)['Q6new'])/100)/3"
   ]
  },
  {
   "cell_type": "markdown",
   "id": "77ff03ac-f1aa-4f7a-9406-2c33e5e67af8",
   "metadata": {},
   "source": [
    "Maintenant, faisons quelques statistiques descriptives :"
   ]
  },
  {
   "cell_type": "code",
   "execution_count": 71,
   "id": "ade8a8f9-fb8a-4ddb-8b83-2b17e708a382",
   "metadata": {
    "tags": []
   },
   "outputs": [
    {
     "data": {
      "text/plain": [
       "0.4133333333333334"
      ]
     },
     "execution_count": 71,
     "metadata": {},
     "output_type": "execute_result"
    }
   ],
   "source": [
    "stat.median(BF['indic_macro'])"
   ]
  },
  {
   "cell_type": "code",
   "execution_count": 72,
   "id": "4cf1dd7a-f33b-43ba-991c-69801e18ca70",
   "metadata": {
    "tags": []
   },
   "outputs": [
    {
     "data": {
      "text/plain": [
       "0.4222305631889338"
      ]
     },
     "execution_count": 72,
     "metadata": {},
     "output_type": "execute_result"
    }
   ],
   "source": [
    "stat.mean(BF['indic_macro'])"
   ]
  },
  {
   "cell_type": "code",
   "execution_count": 73,
   "id": "b1d976bc-957e-44c3-a289-4b8f05f10ede",
   "metadata": {
    "tags": []
   },
   "outputs": [
    {
     "data": {
      "text/plain": [
       "0.41974160136324934"
      ]
     },
     "execution_count": 73,
     "metadata": {},
     "output_type": "execute_result"
    }
   ],
   "source": [
    "weighted_average(BF, 'indic_macro', 'weight')"
   ]
  },
  {
   "cell_type": "code",
   "execution_count": 74,
   "id": "cfba6da1-0938-46dc-80ee-6b71f4f98a39",
   "metadata": {
    "tags": []
   },
   "outputs": [
    {
     "data": {
      "text/plain": [
       "0.12307821901643654"
      ]
     },
     "execution_count": 74,
     "metadata": {},
     "output_type": "execute_result"
    }
   ],
   "source": [
    "stat.pstdev(BF['indic_macro'])"
   ]
  },
  {
   "cell_type": "code",
   "execution_count": 75,
   "id": "0727c812-d175-4972-9df8-8c1ffd62f8f0",
   "metadata": {
    "tags": []
   },
   "outputs": [
    {
     "data": {
      "text/plain": [
       "0         0.383333\n",
       "1         0.200000\n",
       "2         0.363333\n",
       "3         0.150000\n",
       "4         0.300000\n",
       "            ...   \n",
       "129590    0.423333\n",
       "129591    0.466667\n",
       "129592    0.600000\n",
       "129593    0.383333\n",
       "129594    0.503333\n",
       "Name: indic_macro, Length: 129548, dtype: float64"
      ]
     },
     "execution_count": 75,
     "metadata": {},
     "output_type": "execute_result"
    }
   ],
   "source": [
    "BF['indic_macro']"
   ]
  },
  {
   "cell_type": "code",
   "execution_count": 76,
   "id": "afa4b7ca-8717-4d43-8dc2-e2c33aecb44a",
   "metadata": {
    "tags": []
   },
   "outputs": [
    {
     "data": {
      "text/html": [
       "<table class=\"simpletable\">\n",
       "<caption>OLS Regression Results</caption>\n",
       "<tr>\n",
       "  <th>Dep. Variable:</th>        <td>Q8v2part2</td>    <th>  R-squared:         </th>  <td>   0.029</td>  \n",
       "</tr>\n",
       "<tr>\n",
       "  <th>Model:</th>                   <td>OLS</td>       <th>  Adj. R-squared:    </th>  <td>   0.029</td>  \n",
       "</tr>\n",
       "<tr>\n",
       "  <th>Method:</th>             <td>Least Squares</td>  <th>  F-statistic:       </th>  <td>   1277.</td>  \n",
       "</tr>\n",
       "<tr>\n",
       "  <th>Date:</th>             <td>Mon, 13 Mar 2023</td> <th>  Prob (F-statistic):</th>   <td>  0.00</td>   \n",
       "</tr>\n",
       "<tr>\n",
       "  <th>Time:</th>                 <td>16:06:34</td>     <th>  Log-Likelihood:    </th> <td>-3.9555e+05</td>\n",
       "</tr>\n",
       "<tr>\n",
       "  <th>No. Observations:</th>      <td>129548</td>      <th>  AIC:               </th>  <td>7.911e+05</td> \n",
       "</tr>\n",
       "<tr>\n",
       "  <th>Df Residuals:</th>          <td>129544</td>      <th>  BIC:               </th>  <td>7.911e+05</td> \n",
       "</tr>\n",
       "<tr>\n",
       "  <th>Df Model:</th>              <td>     3</td>      <th>                     </th>      <td> </td>     \n",
       "</tr>\n",
       "<tr>\n",
       "  <th>Covariance Type:</th>      <td>nonrobust</td>    <th>                     </th>      <td> </td>     \n",
       "</tr>\n",
       "</table>\n",
       "<table class=\"simpletable\">\n",
       "<tr>\n",
       "         <td></td>            <th>coef</th>     <th>std err</th>      <th>t</th>      <th>P>|t|</th>  <th>[0.025</th>    <th>0.975]</th>  \n",
       "</tr>\n",
       "<tr>\n",
       "  <th>const</th>           <td>    2.0034</td> <td>    0.054</td> <td>   37.377</td> <td> 0.000</td> <td>    1.898</td> <td>    2.108</td>\n",
       "</tr>\n",
       "<tr>\n",
       "  <th>tx_evol_ann_pct</th> <td>    0.4276</td> <td>    0.008</td> <td>   55.224</td> <td> 0.000</td> <td>    0.412</td> <td>    0.443</td>\n",
       "</tr>\n",
       "<tr>\n",
       "  <th>indic_perso</th>     <td>    1.8780</td> <td>    0.118</td> <td>   15.894</td> <td> 0.000</td> <td>    1.646</td> <td>    2.110</td>\n",
       "</tr>\n",
       "<tr>\n",
       "  <th>indic_macro</th>     <td>    2.4568</td> <td>    0.117</td> <td>   21.000</td> <td> 0.000</td> <td>    2.228</td> <td>    2.686</td>\n",
       "</tr>\n",
       "</table>\n",
       "<table class=\"simpletable\">\n",
       "<tr>\n",
       "  <th>Omnibus:</th>       <td>13314.131</td> <th>  Durbin-Watson:     </th>  <td>   1.976</td> \n",
       "</tr>\n",
       "<tr>\n",
       "  <th>Prob(Omnibus):</th>  <td> 0.000</td>   <th>  Jarque-Bera (JB):  </th> <td>110808.158</td>\n",
       "</tr>\n",
       "<tr>\n",
       "  <th>Skew:</th>           <td> 0.097</td>   <th>  Prob(JB):          </th>  <td>    0.00</td> \n",
       "</tr>\n",
       "<tr>\n",
       "  <th>Kurtosis:</th>       <td> 7.527</td>   <th>  Cond. No.          </th>  <td>    26.9</td> \n",
       "</tr>\n",
       "</table><br/><br/>Notes:<br/>[1] Standard Errors assume that the covariance matrix of the errors is correctly specified."
      ],
      "text/plain": [
       "<class 'statsmodels.iolib.summary.Summary'>\n",
       "\"\"\"\n",
       "                            OLS Regression Results                            \n",
       "==============================================================================\n",
       "Dep. Variable:              Q8v2part2   R-squared:                       0.029\n",
       "Model:                            OLS   Adj. R-squared:                  0.029\n",
       "Method:                 Least Squares   F-statistic:                     1277.\n",
       "Date:                Mon, 13 Mar 2023   Prob (F-statistic):               0.00\n",
       "Time:                        16:06:34   Log-Likelihood:            -3.9555e+05\n",
       "No. Observations:              129548   AIC:                         7.911e+05\n",
       "Df Residuals:                  129544   BIC:                         7.911e+05\n",
       "Df Model:                           3                                         \n",
       "Covariance Type:            nonrobust                                         \n",
       "===================================================================================\n",
       "                      coef    std err          t      P>|t|      [0.025      0.975]\n",
       "-----------------------------------------------------------------------------------\n",
       "const               2.0034      0.054     37.377      0.000       1.898       2.108\n",
       "tx_evol_ann_pct     0.4276      0.008     55.224      0.000       0.412       0.443\n",
       "indic_perso         1.8780      0.118     15.894      0.000       1.646       2.110\n",
       "indic_macro         2.4568      0.117     21.000      0.000       2.228       2.686\n",
       "==============================================================================\n",
       "Omnibus:                    13314.131   Durbin-Watson:                   1.976\n",
       "Prob(Omnibus):                  0.000   Jarque-Bera (JB):           110808.158\n",
       "Skew:                           0.097   Prob(JB):                         0.00\n",
       "Kurtosis:                       7.527   Cond. No.                         26.9\n",
       "==============================================================================\n",
       "\n",
       "Notes:\n",
       "[1] Standard Errors assume that the covariance matrix of the errors is correctly specified.\n",
       "\"\"\""
      ]
     },
     "execution_count": 76,
     "metadata": {},
     "output_type": "execute_result"
    }
   ],
   "source": [
    "Y = BF['Q8v2part2'].astype('float')\n",
    "X = BF.fillna(0)[['tx_evol_ann_pct','indic_perso','indic_macro']]\n",
    "X = sm.add_constant(X)\n",
    "model = sm.OLS(Y,X)\n",
    "results = model.fit()\n",
    "su = results.summary()\n",
    "su"
   ]
  },
  {
   "cell_type": "markdown",
   "id": "4d82c9c0-347a-43f0-a6b8-28fc450a48bb",
   "metadata": {},
   "source": [
    "### Idem, alternative sans bloc :"
   ]
  },
  {
   "cell_type": "code",
   "execution_count": 77,
   "id": "ef15fd2e-034f-48e3-9f8a-0a4fdf7d2c85",
   "metadata": {
    "tags": []
   },
   "outputs": [
    {
     "data": {
      "text/plain": [
       "0         20\n",
       "1         10\n",
       "2          9\n",
       "3         10\n",
       "4         20\n",
       "          ..\n",
       "129590    35\n",
       "129591    30\n",
       "129592    70\n",
       "129593    30\n",
       "129594    80\n",
       "Name: Q4new, Length: 129548, dtype: object"
      ]
     },
     "execution_count": 77,
     "metadata": {},
     "output_type": "execute_result"
    }
   ],
   "source": [
    "BF['Q4new']"
   ]
  },
  {
   "cell_type": "code",
   "execution_count": 78,
   "id": "659ff050-61c4-4d66-94ee-50e2850e713d",
   "metadata": {
    "jupyter": {
     "source_hidden": true
    },
    "tags": []
   },
   "outputs": [
    {
     "name": "stdout",
     "output_type": "stream",
     "text": [
      "nb de valeurs manquantes dans Q4new : 255\n"
     ]
    }
   ],
   "source": [
    "print(\"nb de valeurs manquantes dans Q4new : \"+str(BF['Q4new'].isnull().sum()))"
   ]
  },
  {
   "cell_type": "code",
   "execution_count": 79,
   "id": "11c55098-6d13-4df9-bf0f-83a98bc0c5d0",
   "metadata": {
    "tags": []
   },
   "outputs": [
    {
     "data": {
      "text/plain": [
       "0         10\n",
       "1         25\n",
       "2         20\n",
       "3          5\n",
       "4         20\n",
       "          ..\n",
       "129590    15\n",
       "129591    50\n",
       "129592    50\n",
       "129593    15\n",
       "129594    51\n",
       "Name: Q5new, Length: 129548, dtype: object"
      ]
     },
     "execution_count": 79,
     "metadata": {},
     "output_type": "execute_result"
    }
   ],
   "source": [
    "BF['Q5new']"
   ]
  },
  {
   "cell_type": "code",
   "execution_count": 80,
   "id": "f6832bb1-3b9b-4f64-83fe-beb4d97d9d14",
   "metadata": {
    "jupyter": {
     "source_hidden": true
    },
    "tags": []
   },
   "outputs": [
    {
     "name": "stdout",
     "output_type": "stream",
     "text": [
      "nb de valeurs manquantes dans Q5new : 241\n"
     ]
    }
   ],
   "source": [
    "print(\"nb de valeurs manquantes dans Q5new : \"+str(BF['Q5new'].isnull().sum()))"
   ]
  },
  {
   "cell_type": "code",
   "execution_count": 81,
   "id": "544f75aa-7639-49cc-88ee-230246ccf7ed",
   "metadata": {
    "tags": []
   },
   "outputs": [
    {
     "data": {
      "text/plain": [
       "0         15\n",
       "1         75\n",
       "2         20\n",
       "3         70\n",
       "4         50\n",
       "          ..\n",
       "129590    23\n",
       "129591    40\n",
       "129592    40\n",
       "129593    30\n",
       "129594    80\n",
       "Name: Q6new, Length: 129548, dtype: object"
      ]
     },
     "execution_count": 81,
     "metadata": {},
     "output_type": "execute_result"
    }
   ],
   "source": [
    "BF['Q6new']"
   ]
  },
  {
   "cell_type": "code",
   "execution_count": 82,
   "id": "ccf8849d-2c93-478e-b841-a1926acac958",
   "metadata": {
    "jupyter": {
     "source_hidden": true
    },
    "tags": []
   },
   "outputs": [
    {
     "name": "stdout",
     "output_type": "stream",
     "text": [
      "nb de valeurs manquantes dans Q6new : 810\n"
     ]
    }
   ],
   "source": [
    "print(\"nb de valeurs manquantes dans Q6new : \"+str(BF['Q6new'].isnull().sum()))"
   ]
  },
  {
   "cell_type": "markdown",
   "id": "05a3ee3f-70da-429c-8b95-e0260f281d59",
   "metadata": {},
   "source": [
    "Au total on va perdre pas mal de répondants, mais ça reste pas énorme"
   ]
  },
  {
   "cell_type": "markdown",
   "id": "a8743bfe-740a-42bc-95f7-992ac603d16f",
   "metadata": {},
   "source": [
    "Se posera tout de même la question, si l'on envisage une grosse régression, du nombre d'individus qui auront répondu à tout ce qui nous intéresse ; d'ailleurs étudions ça avant de passer à la suite"
   ]
  },
  {
   "cell_type": "code",
   "execution_count": 83,
   "id": "8386b3d6-e7ef-4ea5-b9d6-644306f19660",
   "metadata": {
    "tags": []
   },
   "outputs": [
    {
     "data": {
      "text/plain": [
       "53587"
      ]
     },
     "execution_count": 83,
     "metadata": {},
     "output_type": "execute_result"
    }
   ],
   "source": [
    "len(BF[BF['Q3'].isna() | \n",
    "       BF['Q10_3'].isna()  |\n",
    "       BF['Q13new'].isna() | \n",
    "       BF['Q25v2'].isna() | \n",
    "       BF['Q30new'].isna() | \n",
    "       BF['Q4new'].isna() | \n",
    "       BF['Q5new'].isna() | \n",
    "       BF['Q6new'].isna()])"
   ]
  },
  {
   "cell_type": "markdown",
   "id": "f0af3dc2-f11e-4ccd-a686-3839ce2c5848",
   "metadata": {},
   "source": [
    "On perd la moitié des répondants. Tandis que sans la question de la proba de changer d'emploi :"
   ]
  },
  {
   "cell_type": "code",
   "execution_count": 84,
   "id": "bfeafbd5-a44d-44d5-9900-9e2f9ecd61d8",
   "metadata": {
    "tags": []
   },
   "outputs": [
    {
     "data": {
      "text/plain": [
       "1179"
      ]
     },
     "execution_count": 84,
     "metadata": {},
     "output_type": "execute_result"
    }
   ],
   "source": [
    "len(BF[BF['Q3'].isna() |\n",
    "       BF['Q10_3'].isna() |\n",
    "       BF['Q25v2'].isna() |\n",
    "       BF['Q30new'].isna() |\n",
    "       BF['Q4new'].isna() | \n",
    "       BF['Q5new'].isna() |\n",
    "       BF['Q6new'].isna()])"
   ]
  },
  {
   "cell_type": "markdown",
   "id": "668d0f8b-3ff1-4f66-a17d-afb26487e9c1",
   "metadata": {},
   "source": [
    "Ce qui est beaucoup plus raisonnable. On l'exclura donc sans doute."
   ]
  },
  {
   "cell_type": "markdown",
   "id": "57004842-ddc6-4406-adc8-b21976e74582",
   "metadata": {},
   "source": [
    "revenons à nos moutons"
   ]
  },
  {
   "cell_type": "code",
   "execution_count": 85,
   "id": "2ce016c3-0594-4a59-b70e-7aa371a34ec1",
   "metadata": {
    "tags": []
   },
   "outputs": [],
   "source": [
    "instabilité2 = ['Q4new', 'Q5new', 'Q6new']"
   ]
  },
  {
   "cell_type": "code",
   "execution_count": 86,
   "id": "33a4c3c9-f2e5-4d8c-9218-8e299bb6d253",
   "metadata": {
    "tags": []
   },
   "outputs": [],
   "source": [
    "#on fabrique un dataframe sans les valeurs manquantes\n",
    "BF3 = BF.dropna(subset=instabilité2)"
   ]
  },
  {
   "cell_type": "code",
   "execution_count": 87,
   "id": "d3c5f0aa-60cc-44f5-9857-1acf86a7bb59",
   "metadata": {
    "tags": []
   },
   "outputs": [],
   "source": [
    "%%capture\n",
    "#transformation des colonnes en float\n",
    "for element in instabilité2 :\n",
    "    BF3[element] = BF3[element].astype(float)"
   ]
  },
  {
   "cell_type": "code",
   "execution_count": 88,
   "id": "3b97cd44-7285-4140-8851-e2668fba6da5",
   "metadata": {
    "tags": []
   },
   "outputs": [],
   "source": [
    "%%capture\n",
    "#obtention d'une colonne proba diminution indices boursiers\n",
    "BF3['Q6new_bis'] = 100-BF3['Q6new']"
   ]
  },
  {
   "cell_type": "code",
   "execution_count": 89,
   "id": "8902bbcb-ef62-4fe2-969e-cc6918d072b3",
   "metadata": {
    "tags": []
   },
   "outputs": [],
   "source": [
    "BF3 = BF3.rename(columns={'Q4new': 'proba augmentation chô sous douze mois',\n",
    "                          'Q5new': 'proba augmentation tx intêret',\n",
    "                          'Q6new_bis' : 'proba diminution indices boursiers'})"
   ]
  },
  {
   "cell_type": "code",
   "execution_count": 114,
   "id": "44fa7788-58da-435c-83e9-fbc07b58b4e0",
   "metadata": {
    "tags": []
   },
   "outputs": [],
   "source": [
    "BF3.dropna(subset=['weight'], inplace=True)"
   ]
  },
  {
   "cell_type": "code",
   "execution_count": 115,
   "id": "6f2a0dcf-2d82-4005-98cb-19cab57f329b",
   "metadata": {
    "tags": []
   },
   "outputs": [],
   "source": [
    "instabilité2 = ['proba augmentation chô sous douze mois',\n",
    "                'proba augmentation tx intêret',\n",
    "                'proba diminution indices boursiers']\n",
    "poids = BF3['weight'].astype('float')"
   ]
  },
  {
   "cell_type": "code",
   "execution_count": 116,
   "id": "e74ce5ca-2e31-40af-92b1-cfd890d05947",
   "metadata": {
    "tags": []
   },
   "outputs": [
    {
     "data": {
      "text/html": [
       "<table class=\"simpletable\">\n",
       "<caption>WLS Regression Results</caption>\n",
       "<tr>\n",
       "  <th>Dep. Variable:</th>        <td>Q8v2part2</td>    <th>  R-squared:         </th>  <td>   0.028</td>  \n",
       "</tr>\n",
       "<tr>\n",
       "  <th>Model:</th>                   <td>WLS</td>       <th>  Adj. R-squared:    </th>  <td>   0.028</td>  \n",
       "</tr>\n",
       "<tr>\n",
       "  <th>Method:</th>             <td>Least Squares</td>  <th>  F-statistic:       </th>  <td>   1220.</td>  \n",
       "</tr>\n",
       "<tr>\n",
       "  <th>Date:</th>             <td>Mon, 13 Mar 2023</td> <th>  Prob (F-statistic):</th>   <td>  0.00</td>   \n",
       "</tr>\n",
       "<tr>\n",
       "  <th>Time:</th>                 <td>17:03:54</td>     <th>  Log-Likelihood:    </th> <td>-4.1988e+05</td>\n",
       "</tr>\n",
       "<tr>\n",
       "  <th>No. Observations:</th>      <td>128627</td>      <th>  AIC:               </th>  <td>8.398e+05</td> \n",
       "</tr>\n",
       "<tr>\n",
       "  <th>Df Residuals:</th>          <td>128623</td>      <th>  BIC:               </th>  <td>8.398e+05</td> \n",
       "</tr>\n",
       "<tr>\n",
       "  <th>Df Model:</th>              <td>     3</td>      <th>                     </th>      <td> </td>     \n",
       "</tr>\n",
       "<tr>\n",
       "  <th>Covariance Type:</th>      <td>nonrobust</td>    <th>                     </th>      <td> </td>     \n",
       "</tr>\n",
       "</table>\n",
       "<table class=\"simpletable\">\n",
       "<tr>\n",
       "                     <td></td>                       <th>coef</th>     <th>std err</th>      <th>t</th>      <th>P>|t|</th>  <th>[0.025</th>    <th>0.975]</th>  \n",
       "</tr>\n",
       "<tr>\n",
       "  <th>const</th>                                  <td>    2.4086</td> <td>    0.066</td> <td>   36.682</td> <td> 0.000</td> <td>    2.280</td> <td>    2.537</td>\n",
       "</tr>\n",
       "<tr>\n",
       "  <th>proba augmentation chô sous douze mois</th> <td>    0.0320</td> <td>    0.001</td> <td>   45.158</td> <td> 0.000</td> <td>    0.031</td> <td>    0.033</td>\n",
       "</tr>\n",
       "<tr>\n",
       "  <th>proba augmentation tx intêret</th>          <td>   -0.0151</td> <td>    0.001</td> <td>  -21.249</td> <td> 0.000</td> <td>   -0.017</td> <td>   -0.014</td>\n",
       "</tr>\n",
       "<tr>\n",
       "  <th>proba diminution indices boursiers</th>     <td>    0.0237</td> <td>    0.001</td> <td>   30.953</td> <td> 0.000</td> <td>    0.022</td> <td>    0.025</td>\n",
       "</tr>\n",
       "</table>\n",
       "<table class=\"simpletable\">\n",
       "<tr>\n",
       "  <th>Omnibus:</th>       <td>23647.999</td> <th>  Durbin-Watson:     </th>  <td>   1.941</td> \n",
       "</tr>\n",
       "<tr>\n",
       "  <th>Prob(Omnibus):</th>  <td> 0.000</td>   <th>  Jarque-Bera (JB):  </th> <td>660379.465</td>\n",
       "</tr>\n",
       "<tr>\n",
       "  <th>Skew:</th>           <td> 0.019</td>   <th>  Prob(JB):          </th>  <td>    0.00</td> \n",
       "</tr>\n",
       "<tr>\n",
       "  <th>Kurtosis:</th>       <td>14.100</td>   <th>  Cond. No.          </th>  <td>    321.</td> \n",
       "</tr>\n",
       "</table><br/><br/>Notes:<br/>[1] Standard Errors assume that the covariance matrix of the errors is correctly specified."
      ],
      "text/plain": [
       "<class 'statsmodels.iolib.summary.Summary'>\n",
       "\"\"\"\n",
       "                            WLS Regression Results                            \n",
       "==============================================================================\n",
       "Dep. Variable:              Q8v2part2   R-squared:                       0.028\n",
       "Model:                            WLS   Adj. R-squared:                  0.028\n",
       "Method:                 Least Squares   F-statistic:                     1220.\n",
       "Date:                Mon, 13 Mar 2023   Prob (F-statistic):               0.00\n",
       "Time:                        17:03:54   Log-Likelihood:            -4.1988e+05\n",
       "No. Observations:              128627   AIC:                         8.398e+05\n",
       "Df Residuals:                  128623   BIC:                         8.398e+05\n",
       "Df Model:                           3                                         \n",
       "Covariance Type:            nonrobust                                         \n",
       "==========================================================================================================\n",
       "                                             coef    std err          t      P>|t|      [0.025      0.975]\n",
       "----------------------------------------------------------------------------------------------------------\n",
       "const                                      2.4086      0.066     36.682      0.000       2.280       2.537\n",
       "proba augmentation chô sous douze mois     0.0320      0.001     45.158      0.000       0.031       0.033\n",
       "proba augmentation tx intêret             -0.0151      0.001    -21.249      0.000      -0.017      -0.014\n",
       "proba diminution indices boursiers         0.0237      0.001     30.953      0.000       0.022       0.025\n",
       "==============================================================================\n",
       "Omnibus:                    23647.999   Durbin-Watson:                   1.941\n",
       "Prob(Omnibus):                  0.000   Jarque-Bera (JB):           660379.465\n",
       "Skew:                           0.019   Prob(JB):                         0.00\n",
       "Kurtosis:                      14.100   Cond. No.                         321.\n",
       "==============================================================================\n",
       "\n",
       "Notes:\n",
       "[1] Standard Errors assume that the covariance matrix of the errors is correctly specified.\n",
       "\"\"\""
      ]
     },
     "execution_count": 116,
     "metadata": {},
     "output_type": "execute_result"
    }
   ],
   "source": [
    "Y = BF3['Q8v2part2'].astype('float')\n",
    "X = BF3[instabilité2]\n",
    "X = sm.add_constant(X)\n",
    "model = sm.WLS(Y,X, weights=poids)\n",
    "results = model.fit()\n",
    "su = results.summary()\n",
    "su"
   ]
  },
  {
   "cell_type": "markdown",
   "id": "d940584a-e3b7-4a7f-a2d4-71566bbaf702",
   "metadata": {},
   "source": [
    "Tous significatifs à 95%, mais coefficients ridicules"
   ]
  },
  {
   "cell_type": "markdown",
   "id": "6f9c0bad-5f03-4f63-bdb4-acb00b87af06",
   "metadata": {},
   "source": [
    "## Tentative de maxi régression"
   ]
  },
  {
   "cell_type": "markdown",
   "id": "710d945a-e343-408a-9020-4c978b9a8045",
   "metadata": {},
   "source": [
    "On va inclure tout sans bloc ; sans considérer la question qui fait perdre la moitié des répondants"
   ]
  },
  {
   "cell_type": "code",
   "execution_count": 92,
   "id": "62745393-9c02-4450-9ca7-285731e80474",
   "metadata": {
    "tags": []
   },
   "outputs": [],
   "source": [
    "instabilité_micro = ['Q3', 'Q10_3', 'Q25v2', 'Q30new']\n",
    "instabilité_macro = ['Q4new', 'Q5new', 'Q6new']\n",
    "régresseurs = instabilité_micro + instabilité_macro + ['tx_evol_ann_pct', 'fem']"
   ]
  },
  {
   "cell_type": "code",
   "execution_count": 93,
   "id": "42aa89e9-1ef4-4827-b8f1-04acfdeb5e8d",
   "metadata": {
    "tags": []
   },
   "outputs": [],
   "source": [
    "#retrait des valeurs manquantes\n",
    "BF4 = BF.dropna(subset=régresseurs)"
   ]
  },
  {
   "cell_type": "code",
   "execution_count": 94,
   "id": "4d6b1627-08c3-41aa-bc9c-177ee1119cf0",
   "metadata": {
    "tags": []
   },
   "outputs": [],
   "source": [
    "%%capture\n",
    "#du coup on re binarise Q25v2\n",
    "BF4.loc[BF['Q25v2']==3, 'loss expectation'] = 1\n",
    "BF4['loss expectation']=BF4.fillna(0)['loss expectation']"
   ]
  },
  {
   "cell_type": "code",
   "execution_count": 95,
   "id": "6c10f6dd-f1c1-4955-b84f-38ea65c79be8",
   "metadata": {
    "tags": []
   },
   "outputs": [],
   "source": [
    "%%capture\n",
    "#obtention d'une colonne proba diminution indices boursiers\n",
    "BF4['Q6new_bis'] = 100-BF4['Q6new']\n",
    "BF4['Q6new_bis'] = BF4['Q6new_bis'].astype(float)"
   ]
  },
  {
   "cell_type": "code",
   "execution_count": 96,
   "id": "b5954398-9d55-4227-82d6-6124fca68604",
   "metadata": {
    "tags": []
   },
   "outputs": [],
   "source": [
    "%%capture\n",
    "#transformation des colonnes en float\n",
    "for element in régresseurs :\n",
    "    BF4[element] = BF4[element].astype(float)"
   ]
  },
  {
   "cell_type": "code",
   "execution_count": 97,
   "id": "fabdb5a9-b511-4f45-8d54-7ec6962b4e1b",
   "metadata": {
    "tags": []
   },
   "outputs": [],
   "source": [
    "BF4 = BF4.rename(columns={'Q4new': 'proba augmentation chô sous douze mois', \n",
    "                          'Q5new': 'proba augmentation tx intêret',\n",
    "                          'Q6new_bis' : 'proba diminution indices boursiers',\n",
    "                          'Q3': 'proba chgt résidence',\n",
    "                          'Q10_3': 'chômage',\n",
    "                          'loss expectation': 'proba perte revenus',\n",
    "                          'Q30new': 'proba ne pas réussir à rembourser un prêt'})"
   ]
  },
  {
   "cell_type": "code",
   "execution_count": 112,
   "id": "2e608177-1e22-4085-85ce-22d70d60ab09",
   "metadata": {
    "tags": []
   },
   "outputs": [],
   "source": [
    "BF4.dropna(subset=['weight'], inplace=True)"
   ]
  },
  {
   "cell_type": "code",
   "execution_count": 111,
   "id": "865b3e83-1d39-4976-858e-901b701a8715",
   "metadata": {
    "tags": []
   },
   "outputs": [],
   "source": [
    "régresseurs = ['proba augmentation chô sous douze mois',\n",
    "               'proba augmentation tx intêret',\n",
    "               'proba diminution indices boursiers',\n",
    "               'proba chgt résidence',\n",
    "               'chômage',\n",
    "               'proba perte revenus',\n",
    "               'proba ne pas réussir à rembourser un prêt',\n",
    "               'fem',\n",
    "               'tx_evol_ann_pct']\n",
    "poids = BF4['weight'].astype('float')"
   ]
  },
  {
   "cell_type": "code",
   "execution_count": 113,
   "id": "7a7a2654-12d9-4813-8b49-b659af5d3488",
   "metadata": {
    "tags": []
   },
   "outputs": [
    {
     "data": {
      "text/html": [
       "<table class=\"simpletable\">\n",
       "<caption>WLS Regression Results</caption>\n",
       "<tr>\n",
       "  <th>Dep. Variable:</th>        <td>Q8v2part2</td>    <th>  R-squared:         </th>  <td>   0.053</td>  \n",
       "</tr>\n",
       "<tr>\n",
       "  <th>Model:</th>                   <td>WLS</td>       <th>  Adj. R-squared:    </th>  <td>   0.053</td>  \n",
       "</tr>\n",
       "<tr>\n",
       "  <th>Method:</th>             <td>Least Squares</td>  <th>  F-statistic:       </th>  <td>   805.3</td>  \n",
       "</tr>\n",
       "<tr>\n",
       "  <th>Date:</th>             <td>Mon, 13 Mar 2023</td> <th>  Prob (F-statistic):</th>   <td>  0.00</td>   \n",
       "</tr>\n",
       "<tr>\n",
       "  <th>Time:</th>                 <td>17:00:13</td>     <th>  Log-Likelihood:    </th> <td>-4.1719e+05</td>\n",
       "</tr>\n",
       "<tr>\n",
       "  <th>No. Observations:</th>      <td>128341</td>      <th>  AIC:               </th>  <td>8.344e+05</td> \n",
       "</tr>\n",
       "<tr>\n",
       "  <th>Df Residuals:</th>          <td>128331</td>      <th>  BIC:               </th>  <td>8.345e+05</td> \n",
       "</tr>\n",
       "<tr>\n",
       "  <th>Df Model:</th>              <td>     9</td>      <th>                     </th>      <td> </td>     \n",
       "</tr>\n",
       "<tr>\n",
       "  <th>Covariance Type:</th>      <td>nonrobust</td>    <th>                     </th>      <td> </td>     \n",
       "</tr>\n",
       "</table>\n",
       "<table class=\"simpletable\">\n",
       "<tr>\n",
       "                      <td></td>                         <th>coef</th>     <th>std err</th>      <th>t</th>      <th>P>|t|</th>  <th>[0.025</th>    <th>0.975]</th>  \n",
       "</tr>\n",
       "<tr>\n",
       "  <th>const</th>                                     <td>    1.4260</td> <td>    0.068</td> <td>   21.051</td> <td> 0.000</td> <td>    1.293</td> <td>    1.559</td>\n",
       "</tr>\n",
       "<tr>\n",
       "  <th>proba augmentation chô sous douze mois</th>    <td>    0.0308</td> <td>    0.001</td> <td>   43.082</td> <td> 0.000</td> <td>    0.029</td> <td>    0.032</td>\n",
       "</tr>\n",
       "<tr>\n",
       "  <th>proba augmentation tx intêret</th>             <td>   -0.0164</td> <td>    0.001</td> <td>  -23.280</td> <td> 0.000</td> <td>   -0.018</td> <td>   -0.015</td>\n",
       "</tr>\n",
       "<tr>\n",
       "  <th>proba diminution indices boursiers</th>        <td>    0.0219</td> <td>    0.001</td> <td>   28.804</td> <td> 0.000</td> <td>    0.020</td> <td>    0.023</td>\n",
       "</tr>\n",
       "<tr>\n",
       "  <th>proba chgt résidence</th>                      <td>   -0.0039</td> <td>    0.001</td> <td>   -6.647</td> <td> 0.000</td> <td>   -0.005</td> <td>   -0.003</td>\n",
       "</tr>\n",
       "<tr>\n",
       "  <th>chômage</th>                                   <td>    0.3246</td> <td>    0.085</td> <td>    3.824</td> <td> 0.000</td> <td>    0.158</td> <td>    0.491</td>\n",
       "</tr>\n",
       "<tr>\n",
       "  <th>proba perte revenus</th>                       <td>    0.2297</td> <td>    0.047</td> <td>    4.866</td> <td> 0.000</td> <td>    0.137</td> <td>    0.322</td>\n",
       "</tr>\n",
       "<tr>\n",
       "  <th>proba ne pas réussir à rembourser un prêt</th> <td>    0.0147</td> <td>    0.001</td> <td>   19.010</td> <td> 0.000</td> <td>    0.013</td> <td>    0.016</td>\n",
       "</tr>\n",
       "<tr>\n",
       "  <th>fem</th>                                       <td>    1.1836</td> <td>    0.067</td> <td>   17.679</td> <td> 0.000</td> <td>    1.052</td> <td>    1.315</td>\n",
       "</tr>\n",
       "<tr>\n",
       "  <th>tx_evol_ann_pct</th>                           <td>    0.4551</td> <td>    0.009</td> <td>   52.851</td> <td> 0.000</td> <td>    0.438</td> <td>    0.472</td>\n",
       "</tr>\n",
       "</table>\n",
       "<table class=\"simpletable\">\n",
       "<tr>\n",
       "  <th>Omnibus:</th>       <td>24620.283</td> <th>  Durbin-Watson:     </th>  <td>   1.980</td> \n",
       "</tr>\n",
       "<tr>\n",
       "  <th>Prob(Omnibus):</th>  <td> 0.000</td>   <th>  Jarque-Bera (JB):  </th> <td>753471.561</td>\n",
       "</tr>\n",
       "<tr>\n",
       "  <th>Skew:</th>           <td>-0.092</td>   <th>  Prob(JB):          </th>  <td>    0.00</td> \n",
       "</tr>\n",
       "<tr>\n",
       "  <th>Kurtosis:</th>       <td>14.869</td>   <th>  Cond. No.          </th>  <td>    437.</td> \n",
       "</tr>\n",
       "</table><br/><br/>Notes:<br/>[1] Standard Errors assume that the covariance matrix of the errors is correctly specified."
      ],
      "text/plain": [
       "<class 'statsmodels.iolib.summary.Summary'>\n",
       "\"\"\"\n",
       "                            WLS Regression Results                            \n",
       "==============================================================================\n",
       "Dep. Variable:              Q8v2part2   R-squared:                       0.053\n",
       "Model:                            WLS   Adj. R-squared:                  0.053\n",
       "Method:                 Least Squares   F-statistic:                     805.3\n",
       "Date:                Mon, 13 Mar 2023   Prob (F-statistic):               0.00\n",
       "Time:                        17:00:13   Log-Likelihood:            -4.1719e+05\n",
       "No. Observations:              128341   AIC:                         8.344e+05\n",
       "Df Residuals:                  128331   BIC:                         8.345e+05\n",
       "Df Model:                           9                                         \n",
       "Covariance Type:            nonrobust                                         \n",
       "=============================================================================================================\n",
       "                                                coef    std err          t      P>|t|      [0.025      0.975]\n",
       "-------------------------------------------------------------------------------------------------------------\n",
       "const                                         1.4260      0.068     21.051      0.000       1.293       1.559\n",
       "proba augmentation chô sous douze mois        0.0308      0.001     43.082      0.000       0.029       0.032\n",
       "proba augmentation tx intêret                -0.0164      0.001    -23.280      0.000      -0.018      -0.015\n",
       "proba diminution indices boursiers            0.0219      0.001     28.804      0.000       0.020       0.023\n",
       "proba chgt résidence                         -0.0039      0.001     -6.647      0.000      -0.005      -0.003\n",
       "chômage                                       0.3246      0.085      3.824      0.000       0.158       0.491\n",
       "proba perte revenus                           0.2297      0.047      4.866      0.000       0.137       0.322\n",
       "proba ne pas réussir à rembourser un prêt     0.0147      0.001     19.010      0.000       0.013       0.016\n",
       "fem                                           1.1836      0.067     17.679      0.000       1.052       1.315\n",
       "tx_evol_ann_pct                               0.4551      0.009     52.851      0.000       0.438       0.472\n",
       "==============================================================================\n",
       "Omnibus:                    24620.283   Durbin-Watson:                   1.980\n",
       "Prob(Omnibus):                  0.000   Jarque-Bera (JB):           753471.561\n",
       "Skew:                          -0.092   Prob(JB):                         0.00\n",
       "Kurtosis:                      14.869   Cond. No.                         437.\n",
       "==============================================================================\n",
       "\n",
       "Notes:\n",
       "[1] Standard Errors assume that the covariance matrix of the errors is correctly specified.\n",
       "\"\"\""
      ]
     },
     "execution_count": 113,
     "metadata": {},
     "output_type": "execute_result"
    }
   ],
   "source": [
    "Y = BF4['Q8v2part2'].astype('float')\n",
    "X = BF4[régresseurs]\n",
    "X = sm.add_constant(X)\n",
    "model = sm.WLS(Y,X, weights=poids)\n",
    "results = model.fit()\n",
    "su = results.summary()\n",
    "su"
   ]
  },
  {
   "cell_type": "markdown",
   "id": "42c88ddd-d6fe-4614-a570-079d881149b3",
   "metadata": {},
   "source": [
    "mouais apres on peut voir avec des train/tests"
   ]
  },
  {
   "cell_type": "markdown",
   "id": "9b30dd7b-1d72-4665-9638-0b17c0a2c865",
   "metadata": {},
   "source": [
    "# La deuxième spécification :"
   ]
  },
  {
   "cell_type": "code",
   "execution_count": 100,
   "id": "5315af28-fd6a-4fd1-a9cc-75d6db7d0244",
   "metadata": {
    "collapsed": true,
    "jupyter": {
     "outputs_hidden": true
    },
    "tags": []
   },
   "outputs": [
    {
     "data": {
      "text/plain": [
       "['date',\n",
       " 'userid',\n",
       " 'tenure',\n",
       " 'weight',\n",
       " 'Q1',\n",
       " 'Q2',\n",
       " 'Q3',\n",
       " 'Q4new',\n",
       " 'Q5new',\n",
       " 'Q6new',\n",
       " 'Q8v2',\n",
       " 'Q8v2part2',\n",
       " 'Q9_cent25',\n",
       " 'Q9_cent50',\n",
       " 'Q9_cent75',\n",
       " 'Q9_var',\n",
       " 'Q9_mean',\n",
       " 'Q9_iqr',\n",
       " 'Q9_probdeflation',\n",
       " 'Q9_bin1',\n",
       " 'Q9_bin2',\n",
       " 'Q9_bin3',\n",
       " 'Q9_bin4',\n",
       " 'Q9_bin5',\n",
       " 'Q9_bin6',\n",
       " 'Q9_bin7',\n",
       " 'Q9_bin8',\n",
       " 'Q9_bin9',\n",
       " 'Q9_bin10',\n",
       " 'Q9bv2',\n",
       " 'Q9bv2part2',\n",
       " 'Q9c_cent25',\n",
       " 'Q9c_cent50',\n",
       " 'Q9c_cent75',\n",
       " 'Q9c_var',\n",
       " 'Q9c_mean',\n",
       " 'Q9c_iqr',\n",
       " 'Q9c_probdeflation',\n",
       " 'Q9c_bin1',\n",
       " 'Q9c_bin2',\n",
       " 'Q9c_bin3',\n",
       " 'Q9c_bin4',\n",
       " 'Q9c_bin5',\n",
       " 'Q9c_bin6',\n",
       " 'Q9c_bin7',\n",
       " 'Q9c_bin8',\n",
       " 'Q9c_bin9',\n",
       " 'Q9c_bin10',\n",
       " 'Q10_1',\n",
       " 'Q10_2',\n",
       " 'Q10_3',\n",
       " 'Q10_4',\n",
       " 'Q10_5',\n",
       " 'Q10_6',\n",
       " 'Q10_7',\n",
       " 'Q10_8',\n",
       " 'Q10_9',\n",
       " 'Q10_10',\n",
       " 'Q11',\n",
       " 'Q12new',\n",
       " 'ES1_1',\n",
       " 'ES1_2',\n",
       " 'ES1_3',\n",
       " 'ES1_4',\n",
       " 'ES2',\n",
       " 'ES3new',\n",
       " 'ES4',\n",
       " 'ES5',\n",
       " 'Q13new',\n",
       " 'Q14new',\n",
       " 'Q15',\n",
       " 'Q16',\n",
       " 'Q17new',\n",
       " 'Q18new',\n",
       " 'Q19',\n",
       " 'Q20new',\n",
       " 'Q21new',\n",
       " 'Q22new',\n",
       " 'Q23v2',\n",
       " 'Q23v2part2',\n",
       " 'Q24_cent25',\n",
       " 'Q24_cent50',\n",
       " 'Q24_cent75',\n",
       " 'Q24_var',\n",
       " 'Q24_mean',\n",
       " 'Q24_iqr',\n",
       " 'Q24_probdeflation',\n",
       " 'Q24_bin1',\n",
       " 'Q24_bin2',\n",
       " 'Q24_bin3',\n",
       " 'Q24_bin4',\n",
       " 'Q24_bin5',\n",
       " 'Q24_bin6',\n",
       " 'Q24_bin7',\n",
       " 'Q24_bin8',\n",
       " 'Q24_bin9',\n",
       " 'Q24_bin10',\n",
       " 'Q25v2',\n",
       " 'Q25v2part2',\n",
       " 'Q26v2',\n",
       " 'Q26v2part2',\n",
       " 'Q27v2',\n",
       " 'Q27v2part2',\n",
       " 'Q28',\n",
       " 'Q29',\n",
       " 'Q30new',\n",
       " 'Q31v2',\n",
       " 'Q31v2part2',\n",
       " 'C1_cent25',\n",
       " 'C1_cent50',\n",
       " 'C1_cent75',\n",
       " 'C1_var',\n",
       " 'C1_mean',\n",
       " 'C1_iqr',\n",
       " 'C1_probdeflation',\n",
       " 'C1_bin1',\n",
       " 'C1_bin2',\n",
       " 'C1_bin3',\n",
       " 'C1_bin4',\n",
       " 'C1_bin5',\n",
       " 'C1_bin6',\n",
       " 'C1_bin7',\n",
       " 'C1_bin8',\n",
       " 'C1_bin9',\n",
       " 'C1_bin10',\n",
       " 'C2',\n",
       " 'C2part2',\n",
       " 'C3',\n",
       " 'C3part2',\n",
       " 'C4_1',\n",
       " 'C4_2',\n",
       " 'C4_3',\n",
       " 'C4_4',\n",
       " 'C4_5',\n",
       " 'C4_6',\n",
       " 'QNUM1',\n",
       " 'QNUM2',\n",
       " 'QNUM3',\n",
       " 'QNUM5',\n",
       " 'QNUM6',\n",
       " 'QNUM8',\n",
       " 'QNUM9',\n",
       " 'Q32',\n",
       " 'Q33',\n",
       " 'Q34',\n",
       " 'Q35_1',\n",
       " 'Q35_2',\n",
       " 'Q35_3',\n",
       " 'Q35_4',\n",
       " 'Q35_5',\n",
       " 'Q35_6',\n",
       " 'Q36',\n",
       " 'Q37',\n",
       " 'Q38',\n",
       " 'HH2_1',\n",
       " 'HH2_2',\n",
       " 'HH2_3',\n",
       " 'HH2_4',\n",
       " 'HH2_5',\n",
       " 'HH2_6',\n",
       " 'HH2_7',\n",
       " 'HH2_8',\n",
       " 'HH2_9',\n",
       " 'HH2_10',\n",
       " 'HH2_11',\n",
       " '_STATE',\n",
       " 'Q41',\n",
       " 'Q42',\n",
       " 'Q43',\n",
       " 'Q43a',\n",
       " 'Q44',\n",
       " 'Q45b',\n",
       " 'Q45new_1',\n",
       " 'Q45new_2',\n",
       " 'Q45new_3',\n",
       " 'Q45new_4',\n",
       " 'Q45new_5',\n",
       " 'Q45new_6',\n",
       " 'Q45new_7',\n",
       " 'Q45new_8',\n",
       " 'Q45new_9',\n",
       " 'Q46',\n",
       " 'Q47',\n",
       " 'D1',\n",
       " 'D3',\n",
       " 'D6',\n",
       " 'D2new_1',\n",
       " 'D2new_2',\n",
       " 'D2new_3',\n",
       " 'D2new_4',\n",
       " 'D2new_5',\n",
       " 'D2new_6',\n",
       " 'D2new_7',\n",
       " 'D2new_8',\n",
       " 'D2new_9',\n",
       " 'DSAME',\n",
       " 'DQ38',\n",
       " 'DHH2_1',\n",
       " 'DHH2_2',\n",
       " 'DHH2_3',\n",
       " 'DHH2_4',\n",
       " 'DHH2_5',\n",
       " 'DHH2_6',\n",
       " 'DHH2_7',\n",
       " 'DHH2_8',\n",
       " 'DHH2_9',\n",
       " 'DHH2_10',\n",
       " 'DHH2_11',\n",
       " 'DHH2_11_other',\n",
       " 'D5b',\n",
       " 'Q48',\n",
       " 'QRA1',\n",
       " 'QRA2',\n",
       " 'survey_date',\n",
       " '_AGE_CAT',\n",
       " '_NUM_CAT',\n",
       " '_REGION_CAT',\n",
       " '_COMMUTING_ZONE',\n",
       " '_EDU_CAT',\n",
       " '_HH_INC_CAT',\n",
       " 'College',\n",
       " 'High School',\n",
       " 'Some College',\n",
       " '40 to 60',\n",
       " 'Over 60',\n",
       " 'Under 40',\n",
       " '50k to 100k',\n",
       " 'Over 100k',\n",
       " 'Under 50k',\n",
       " 'High',\n",
       " 'Low',\n",
       " 'fem',\n",
       " 'inflation t',\n",
       " 'tx_evol_ann_pct',\n",
       " 'loss expectation',\n",
       " 'indic_perso',\n",
       " 'indic_macro']"
      ]
     },
     "execution_count": 100,
     "metadata": {},
     "output_type": "execute_result"
    }
   ],
   "source": [
    "list(BF.head())"
   ]
  },
  {
   "cell_type": "markdown",
   "id": "c58776d5-c6e5-4bba-ab0f-54565bea427e",
   "metadata": {},
   "source": [
    "On doit définir les intervalles qui vont nous intéresser ici :\n",
    "- pour l'inflation à court terme: Q9 inflation supérieur à 4% (bin 1, bin 2 et bin 3)\n",
    "- déflation : bin6 à bin 10\n",
    "\n",
    "- long terme: Q9c+les mêmes bin\n",
    "\n",
    "N.B : On considère pour la suite que les anticipations non remplies sont de 10 ( équiprobabilit de chaque tranche )"
   ]
  },
  {
   "cell_type": "code",
   "execution_count": null,
   "id": "fc55da73-dc52-4199-bb2f-8d492bf5a37e",
   "metadata": {
    "tags": []
   },
   "outputs": [],
   "source": [
    "%%capture\n",
    "BF['proba_st_high']=(BF['Q9_bin1'].fillna(10)+BF['Q9_bin2'].fillna(10)+BF['Q9_bin3'].fillna(10))"
   ]
  },
  {
   "cell_type": "code",
   "execution_count": 102,
   "id": "d452ab9e-d794-47ae-97cc-7157fe1d5214",
   "metadata": {
    "tags": []
   },
   "outputs": [],
   "source": [
    "%%capture\n",
    "BF['proba_st_defl']=(BF['Q9_bin6'].fillna(10)+BF['Q9_bin7'].fillna(10)+BF['Q9_bin8'].fillna(10)+BF['Q9_bin9'].fillna(10)+BF['Q9_bin10'].fillna(10))"
   ]
  },
  {
   "cell_type": "code",
   "execution_count": 103,
   "id": "87d2de54-0df4-4b5a-be7d-9d86d3a65ca9",
   "metadata": {
    "tags": []
   },
   "outputs": [],
   "source": [
    "%%capture\n",
    "BF['proba_lt_high']=(BF['Q9c_bin1'].fillna(10)+BF['Q9c_bin2'].fillna(10)+BF['Q9c_bin3'].fillna(10))"
   ]
  },
  {
   "cell_type": "code",
   "execution_count": 104,
   "id": "9e4de48b-0cfd-4cb2-bd0c-46119cf3d814",
   "metadata": {
    "tags": []
   },
   "outputs": [],
   "source": [
    "%%capture\n",
    "BF['proba_lt_defl']=(BF['Q9c_bin6'].fillna(10)+BF['Q9c_bin7'].fillna(10)+BF['Q9c_bin8'].fillna(10)+BF['Q9c_bin9'].fillna(10)+BF['Q9c_bin10'].fillna(10))"
   ]
  },
  {
   "cell_type": "markdown",
   "id": "d8f35bae-702a-440c-8670-d8e167a5f93f",
   "metadata": {},
   "source": [
    "### A - Short term - high :"
   ]
  },
  {
   "cell_type": "code",
   "execution_count": 105,
   "id": "7c3ed38f-f15c-46ab-ac7a-055776d9b730",
   "metadata": {
    "tags": []
   },
   "outputs": [],
   "source": [
    "%%capture\n",
    "BF.rename(columns={'High': \"High_num\"}, inplace=True)"
   ]
  },
  {
   "cell_type": "code",
   "execution_count": 125,
   "id": "d221b312-df2e-4269-8259-a6a50be1e54e",
   "metadata": {
    "tags": []
   },
   "outputs": [
    {
     "data": {
      "text/html": [
       "<table class=\"simpletable\">\n",
       "<caption>WLS Regression Results</caption>\n",
       "<tr>\n",
       "  <th>Dep. Variable:</th>      <td>proba_st_high</td>  <th>  R-squared:         </th>  <td>   0.092</td>  \n",
       "</tr>\n",
       "<tr>\n",
       "  <th>Model:</th>                   <td>WLS</td>       <th>  Adj. R-squared:    </th>  <td>   0.092</td>  \n",
       "</tr>\n",
       "<tr>\n",
       "  <th>Method:</th>             <td>Least Squares</td>  <th>  F-statistic:       </th>  <td>   1317.</td>  \n",
       "</tr>\n",
       "<tr>\n",
       "  <th>Date:</th>             <td>Mon, 13 Mar 2023</td> <th>  Prob (F-statistic):</th>   <td>  0.00</td>   \n",
       "</tr>\n",
       "<tr>\n",
       "  <th>Time:</th>                 <td>17:09:03</td>     <th>  Log-Likelihood:    </th> <td>-6.5176e+05</td>\n",
       "</tr>\n",
       "<tr>\n",
       "  <th>No. Observations:</th>      <td>129518</td>      <th>  AIC:               </th>  <td>1.304e+06</td> \n",
       "</tr>\n",
       "<tr>\n",
       "  <th>Df Residuals:</th>          <td>129507</td>      <th>  BIC:               </th>  <td>1.304e+06</td> \n",
       "</tr>\n",
       "<tr>\n",
       "  <th>Df Model:</th>              <td>    10</td>      <th>                     </th>      <td> </td>     \n",
       "</tr>\n",
       "<tr>\n",
       "  <th>Covariance Type:</th>      <td>nonrobust</td>    <th>                     </th>      <td> </td>     \n",
       "</tr>\n",
       "</table>\n",
       "<table class=\"simpletable\">\n",
       "<tr>\n",
       "         <td></td>            <th>coef</th>     <th>std err</th>      <th>t</th>      <th>P>|t|</th>  <th>[0.025</th>    <th>0.975]</th>  \n",
       "</tr>\n",
       "<tr>\n",
       "  <th>const</th>           <td>   19.7609</td> <td>    0.421</td> <td>   46.952</td> <td> 0.000</td> <td>   18.936</td> <td>   20.586</td>\n",
       "</tr>\n",
       "<tr>\n",
       "  <th>tx_evol_ann_pct</th> <td>    4.1166</td> <td>    0.051</td> <td>   80.648</td> <td> 0.000</td> <td>    4.017</td> <td>    4.217</td>\n",
       "</tr>\n",
       "<tr>\n",
       "  <th>indic_perso</th>     <td>   12.6281</td> <td>    0.780</td> <td>   16.185</td> <td> 0.000</td> <td>   11.099</td> <td>   14.157</td>\n",
       "</tr>\n",
       "<tr>\n",
       "  <th>indic_macro</th>     <td>   28.1805</td> <td>    0.795</td> <td>   35.449</td> <td> 0.000</td> <td>   26.622</td> <td>   29.739</td>\n",
       "</tr>\n",
       "<tr>\n",
       "  <th>fem</th>             <td>    7.2845</td> <td>    0.393</td> <td>   18.527</td> <td> 0.000</td> <td>    6.514</td> <td>    8.055</td>\n",
       "</tr>\n",
       "<tr>\n",
       "  <th>Over 60</th>         <td>    2.7775</td> <td>    0.224</td> <td>   12.423</td> <td> 0.000</td> <td>    2.339</td> <td>    3.216</td>\n",
       "</tr>\n",
       "<tr>\n",
       "  <th>Under 40</th>        <td>   -4.1733</td> <td>    0.238</td> <td>  -17.555</td> <td> 0.000</td> <td>   -4.639</td> <td>   -3.707</td>\n",
       "</tr>\n",
       "<tr>\n",
       "  <th>College</th>         <td>   -6.3165</td> <td>    0.216</td> <td>  -29.206</td> <td> 0.000</td> <td>   -6.740</td> <td>   -5.893</td>\n",
       "</tr>\n",
       "<tr>\n",
       "  <th>Over 100k</th>       <td>   -3.3801</td> <td>    0.252</td> <td>  -13.427</td> <td> 0.000</td> <td>   -3.873</td> <td>   -2.887</td>\n",
       "</tr>\n",
       "<tr>\n",
       "  <th>Under 50k</th>       <td>    3.2926</td> <td>    0.229</td> <td>   14.399</td> <td> 0.000</td> <td>    2.844</td> <td>    3.741</td>\n",
       "</tr>\n",
       "<tr>\n",
       "  <th>High_num</th>        <td>   -4.0171</td> <td>    0.213</td> <td>  -18.850</td> <td> 0.000</td> <td>   -4.435</td> <td>   -3.599</td>\n",
       "</tr>\n",
       "</table>\n",
       "<table class=\"simpletable\">\n",
       "<tr>\n",
       "  <th>Omnibus:</th>       <td>12229.387</td> <th>  Durbin-Watson:     </th> <td>   1.952</td> \n",
       "</tr>\n",
       "<tr>\n",
       "  <th>Prob(Omnibus):</th>  <td> 0.000</td>   <th>  Jarque-Bera (JB):  </th> <td>17898.526</td>\n",
       "</tr>\n",
       "<tr>\n",
       "  <th>Skew:</th>           <td> 0.739</td>   <th>  Prob(JB):          </th> <td>    0.00</td> \n",
       "</tr>\n",
       "<tr>\n",
       "  <th>Kurtosis:</th>       <td> 4.064</td>   <th>  Cond. No.          </th> <td>    29.0</td> \n",
       "</tr>\n",
       "</table><br/><br/>Notes:<br/>[1] Standard Errors assume that the covariance matrix of the errors is correctly specified."
      ],
      "text/plain": [
       "<class 'statsmodels.iolib.summary.Summary'>\n",
       "\"\"\"\n",
       "                            WLS Regression Results                            \n",
       "==============================================================================\n",
       "Dep. Variable:          proba_st_high   R-squared:                       0.092\n",
       "Model:                            WLS   Adj. R-squared:                  0.092\n",
       "Method:                 Least Squares   F-statistic:                     1317.\n",
       "Date:                Mon, 13 Mar 2023   Prob (F-statistic):               0.00\n",
       "Time:                        17:09:03   Log-Likelihood:            -6.5176e+05\n",
       "No. Observations:              129518   AIC:                         1.304e+06\n",
       "Df Residuals:                  129507   BIC:                         1.304e+06\n",
       "Df Model:                          10                                         \n",
       "Covariance Type:            nonrobust                                         \n",
       "===================================================================================\n",
       "                      coef    std err          t      P>|t|      [0.025      0.975]\n",
       "-----------------------------------------------------------------------------------\n",
       "const              19.7609      0.421     46.952      0.000      18.936      20.586\n",
       "tx_evol_ann_pct     4.1166      0.051     80.648      0.000       4.017       4.217\n",
       "indic_perso        12.6281      0.780     16.185      0.000      11.099      14.157\n",
       "indic_macro        28.1805      0.795     35.449      0.000      26.622      29.739\n",
       "fem                 7.2845      0.393     18.527      0.000       6.514       8.055\n",
       "Over 60             2.7775      0.224     12.423      0.000       2.339       3.216\n",
       "Under 40           -4.1733      0.238    -17.555      0.000      -4.639      -3.707\n",
       "College            -6.3165      0.216    -29.206      0.000      -6.740      -5.893\n",
       "Over 100k          -3.3801      0.252    -13.427      0.000      -3.873      -2.887\n",
       "Under 50k           3.2926      0.229     14.399      0.000       2.844       3.741\n",
       "High_num           -4.0171      0.213    -18.850      0.000      -4.435      -3.599\n",
       "==============================================================================\n",
       "Omnibus:                    12229.387   Durbin-Watson:                   1.952\n",
       "Prob(Omnibus):                  0.000   Jarque-Bera (JB):            17898.526\n",
       "Skew:                           0.739   Prob(JB):                         0.00\n",
       "Kurtosis:                       4.064   Cond. No.                         29.0\n",
       "==============================================================================\n",
       "\n",
       "Notes:\n",
       "[1] Standard Errors assume that the covariance matrix of the errors is correctly specified.\n",
       "\"\"\""
      ]
     },
     "execution_count": 125,
     "metadata": {},
     "output_type": "execute_result"
    }
   ],
   "source": [
    "Y = BF['proba_st_high'].astype('float')\n",
    "X = BF.fillna(0)[['tx_evol_ann_pct','indic_perso','indic_macro','fem','Over 60','Under 40','College','Over 100k','Under 50k','High_num']]\n",
    "X = sm.add_constant(X)\n",
    "model = sm.WLS(Y,X, weights=poids)\n",
    "results = model.fit()\n",
    "su = results.summary()\n",
    "su"
   ]
  },
  {
   "cell_type": "markdown",
   "id": "b302d2ac-bcfc-4700-a03b-9b061523a0df",
   "metadata": {},
   "source": [
    "### B - Short term - deflation :"
   ]
  },
  {
   "cell_type": "code",
   "execution_count": 126,
   "id": "eff49523-dc99-47fe-a6bd-1acdbb6aa23b",
   "metadata": {
    "tags": []
   },
   "outputs": [
    {
     "data": {
      "text/html": [
       "<table class=\"simpletable\">\n",
       "<caption>WLS Regression Results</caption>\n",
       "<tr>\n",
       "  <th>Dep. Variable:</th>      <td>proba_st_defl</td>  <th>  R-squared:         </th>  <td>   0.050</td>  \n",
       "</tr>\n",
       "<tr>\n",
       "  <th>Model:</th>                   <td>WLS</td>       <th>  Adj. R-squared:    </th>  <td>   0.050</td>  \n",
       "</tr>\n",
       "<tr>\n",
       "  <th>Method:</th>             <td>Least Squares</td>  <th>  F-statistic:       </th>  <td>   683.5</td>  \n",
       "</tr>\n",
       "<tr>\n",
       "  <th>Date:</th>             <td>Mon, 13 Mar 2023</td> <th>  Prob (F-statistic):</th>   <td>  0.00</td>   \n",
       "</tr>\n",
       "<tr>\n",
       "  <th>Time:</th>                 <td>17:09:54</td>     <th>  Log-Likelihood:    </th> <td>-6.1208e+05</td>\n",
       "</tr>\n",
       "<tr>\n",
       "  <th>No. Observations:</th>      <td>129518</td>      <th>  AIC:               </th>  <td>1.224e+06</td> \n",
       "</tr>\n",
       "<tr>\n",
       "  <th>Df Residuals:</th>          <td>129507</td>      <th>  BIC:               </th>  <td>1.224e+06</td> \n",
       "</tr>\n",
       "<tr>\n",
       "  <th>Df Model:</th>              <td>    10</td>      <th>                     </th>      <td> </td>     \n",
       "</tr>\n",
       "<tr>\n",
       "  <th>Covariance Type:</th>      <td>nonrobust</td>    <th>                     </th>      <td> </td>     \n",
       "</tr>\n",
       "</table>\n",
       "<table class=\"simpletable\">\n",
       "<tr>\n",
       "         <td></td>            <th>coef</th>     <th>std err</th>      <th>t</th>      <th>P>|t|</th>  <th>[0.025</th>    <th>0.975]</th>  \n",
       "</tr>\n",
       "<tr>\n",
       "  <th>const</th>           <td>   22.5329</td> <td>    0.310</td> <td>   72.735</td> <td> 0.000</td> <td>   21.926</td> <td>   23.140</td>\n",
       "</tr>\n",
       "<tr>\n",
       "  <th>tx_evol_ann_pct</th> <td>   -0.7513</td> <td>    0.038</td> <td>  -19.995</td> <td> 0.000</td> <td>   -0.825</td> <td>   -0.678</td>\n",
       "</tr>\n",
       "<tr>\n",
       "  <th>indic_perso</th>     <td>    6.2682</td> <td>    0.574</td> <td>   10.914</td> <td> 0.000</td> <td>    5.143</td> <td>    7.394</td>\n",
       "</tr>\n",
       "<tr>\n",
       "  <th>indic_macro</th>     <td>   -4.9386</td> <td>    0.585</td> <td>   -8.440</td> <td> 0.000</td> <td>   -6.085</td> <td>   -3.792</td>\n",
       "</tr>\n",
       "<tr>\n",
       "  <th>fem</th>             <td>    5.0780</td> <td>    0.289</td> <td>   17.546</td> <td> 0.000</td> <td>    4.511</td> <td>    5.645</td>\n",
       "</tr>\n",
       "<tr>\n",
       "  <th>Over 60</th>         <td>   -1.6484</td> <td>    0.165</td> <td>  -10.017</td> <td> 0.000</td> <td>   -1.971</td> <td>   -1.326</td>\n",
       "</tr>\n",
       "<tr>\n",
       "  <th>Under 40</th>        <td>    2.2887</td> <td>    0.175</td> <td>   13.080</td> <td> 0.000</td> <td>    1.946</td> <td>    2.632</td>\n",
       "</tr>\n",
       "<tr>\n",
       "  <th>College</th>         <td>   -2.7638</td> <td>    0.159</td> <td>  -17.362</td> <td> 0.000</td> <td>   -3.076</td> <td>   -2.452</td>\n",
       "</tr>\n",
       "<tr>\n",
       "  <th>Over 100k</th>       <td>   -0.4144</td> <td>    0.185</td> <td>   -2.236</td> <td> 0.025</td> <td>   -0.778</td> <td>   -0.051</td>\n",
       "</tr>\n",
       "<tr>\n",
       "  <th>Under 50k</th>       <td>    3.3531</td> <td>    0.168</td> <td>   19.921</td> <td> 0.000</td> <td>    3.023</td> <td>    3.683</td>\n",
       "</tr>\n",
       "<tr>\n",
       "  <th>High_num</th>        <td>   -7.3930</td> <td>    0.157</td> <td>  -47.131</td> <td> 0.000</td> <td>   -7.700</td> <td>   -7.086</td>\n",
       "</tr>\n",
       "</table>\n",
       "<table class=\"simpletable\">\n",
       "<tr>\n",
       "  <th>Omnibus:</th>       <td>87198.515</td> <th>  Durbin-Watson:     </th>  <td>   1.989</td>  \n",
       "</tr>\n",
       "<tr>\n",
       "  <th>Prob(Omnibus):</th>  <td> 0.000</td>   <th>  Jarque-Bera (JB):  </th> <td>2443428.481</td>\n",
       "</tr>\n",
       "<tr>\n",
       "  <th>Skew:</th>           <td> 2.849</td>   <th>  Prob(JB):          </th>  <td>    0.00</td>  \n",
       "</tr>\n",
       "<tr>\n",
       "  <th>Kurtosis:</th>       <td>23.501</td>   <th>  Cond. No.          </th>  <td>    29.0</td>  \n",
       "</tr>\n",
       "</table><br/><br/>Notes:<br/>[1] Standard Errors assume that the covariance matrix of the errors is correctly specified."
      ],
      "text/plain": [
       "<class 'statsmodels.iolib.summary.Summary'>\n",
       "\"\"\"\n",
       "                            WLS Regression Results                            \n",
       "==============================================================================\n",
       "Dep. Variable:          proba_st_defl   R-squared:                       0.050\n",
       "Model:                            WLS   Adj. R-squared:                  0.050\n",
       "Method:                 Least Squares   F-statistic:                     683.5\n",
       "Date:                Mon, 13 Mar 2023   Prob (F-statistic):               0.00\n",
       "Time:                        17:09:54   Log-Likelihood:            -6.1208e+05\n",
       "No. Observations:              129518   AIC:                         1.224e+06\n",
       "Df Residuals:                  129507   BIC:                         1.224e+06\n",
       "Df Model:                          10                                         \n",
       "Covariance Type:            nonrobust                                         \n",
       "===================================================================================\n",
       "                      coef    std err          t      P>|t|      [0.025      0.975]\n",
       "-----------------------------------------------------------------------------------\n",
       "const              22.5329      0.310     72.735      0.000      21.926      23.140\n",
       "tx_evol_ann_pct    -0.7513      0.038    -19.995      0.000      -0.825      -0.678\n",
       "indic_perso         6.2682      0.574     10.914      0.000       5.143       7.394\n",
       "indic_macro        -4.9386      0.585     -8.440      0.000      -6.085      -3.792\n",
       "fem                 5.0780      0.289     17.546      0.000       4.511       5.645\n",
       "Over 60            -1.6484      0.165    -10.017      0.000      -1.971      -1.326\n",
       "Under 40            2.2887      0.175     13.080      0.000       1.946       2.632\n",
       "College            -2.7638      0.159    -17.362      0.000      -3.076      -2.452\n",
       "Over 100k          -0.4144      0.185     -2.236      0.025      -0.778      -0.051\n",
       "Under 50k           3.3531      0.168     19.921      0.000       3.023       3.683\n",
       "High_num           -7.3930      0.157    -47.131      0.000      -7.700      -7.086\n",
       "==============================================================================\n",
       "Omnibus:                    87198.515   Durbin-Watson:                   1.989\n",
       "Prob(Omnibus):                  0.000   Jarque-Bera (JB):          2443428.481\n",
       "Skew:                           2.849   Prob(JB):                         0.00\n",
       "Kurtosis:                      23.501   Cond. No.                         29.0\n",
       "==============================================================================\n",
       "\n",
       "Notes:\n",
       "[1] Standard Errors assume that the covariance matrix of the errors is correctly specified.\n",
       "\"\"\""
      ]
     },
     "execution_count": 126,
     "metadata": {},
     "output_type": "execute_result"
    }
   ],
   "source": [
    "Y = BF['proba_st_defl'].astype('float')\n",
    "X = BF.fillna(0)[['tx_evol_ann_pct','indic_perso','indic_macro','fem','Over 60','Under 40','College','Over 100k','Under 50k','High_num']]\n",
    "X = sm.add_constant(X)\n",
    "model = sm.WLS(Y,X, weights = poids)\n",
    "results = model.fit()\n",
    "su = results.summary()\n",
    "su"
   ]
  },
  {
   "cell_type": "markdown",
   "id": "8dcb396f-c317-4877-a6ea-7399b79192a9",
   "metadata": {},
   "source": [
    "### C-Long terme - high :"
   ]
  },
  {
   "cell_type": "code",
   "execution_count": 127,
   "id": "20baf9dd-9c2b-43ea-865e-f50e862f3cc8",
   "metadata": {
    "tags": []
   },
   "outputs": [
    {
     "data": {
      "text/html": [
       "<table class=\"simpletable\">\n",
       "<caption>WLS Regression Results</caption>\n",
       "<tr>\n",
       "  <th>Dep. Variable:</th>      <td>proba_lt_high</td>  <th>  R-squared:         </th>  <td>   0.050</td>  \n",
       "</tr>\n",
       "<tr>\n",
       "  <th>Model:</th>                   <td>WLS</td>       <th>  Adj. R-squared:    </th>  <td>   0.050</td>  \n",
       "</tr>\n",
       "<tr>\n",
       "  <th>Method:</th>             <td>Least Squares</td>  <th>  F-statistic:       </th>  <td>   680.2</td>  \n",
       "</tr>\n",
       "<tr>\n",
       "  <th>Date:</th>             <td>Mon, 13 Mar 2023</td> <th>  Prob (F-statistic):</th>   <td>  0.00</td>   \n",
       "</tr>\n",
       "<tr>\n",
       "  <th>Time:</th>                 <td>17:10:28</td>     <th>  Log-Likelihood:    </th> <td>-6.5430e+05</td>\n",
       "</tr>\n",
       "<tr>\n",
       "  <th>No. Observations:</th>      <td>129518</td>      <th>  AIC:               </th>  <td>1.309e+06</td> \n",
       "</tr>\n",
       "<tr>\n",
       "  <th>Df Residuals:</th>          <td>129507</td>      <th>  BIC:               </th>  <td>1.309e+06</td> \n",
       "</tr>\n",
       "<tr>\n",
       "  <th>Df Model:</th>              <td>    10</td>      <th>                     </th>      <td> </td>     \n",
       "</tr>\n",
       "<tr>\n",
       "  <th>Covariance Type:</th>      <td>nonrobust</td>    <th>                     </th>      <td> </td>     \n",
       "</tr>\n",
       "</table>\n",
       "<table class=\"simpletable\">\n",
       "<tr>\n",
       "         <td></td>            <th>coef</th>     <th>std err</th>      <th>t</th>      <th>P>|t|</th>  <th>[0.025</th>    <th>0.975]</th>  \n",
       "</tr>\n",
       "<tr>\n",
       "  <th>const</th>           <td>   24.7503</td> <td>    0.429</td> <td>   57.666</td> <td> 0.000</td> <td>   23.909</td> <td>   25.592</td>\n",
       "</tr>\n",
       "<tr>\n",
       "  <th>tx_evol_ann_pct</th> <td>    1.7989</td> <td>    0.052</td> <td>   34.558</td> <td> 0.000</td> <td>    1.697</td> <td>    1.901</td>\n",
       "</tr>\n",
       "<tr>\n",
       "  <th>indic_perso</th>     <td>    9.9063</td> <td>    0.796</td> <td>   12.450</td> <td> 0.000</td> <td>    8.347</td> <td>   11.466</td>\n",
       "</tr>\n",
       "<tr>\n",
       "  <th>indic_macro</th>     <td>   25.8421</td> <td>    0.811</td> <td>   31.876</td> <td> 0.000</td> <td>   24.253</td> <td>   27.431</td>\n",
       "</tr>\n",
       "<tr>\n",
       "  <th>fem</th>             <td>    6.7737</td> <td>    0.401</td> <td>   16.893</td> <td> 0.000</td> <td>    5.988</td> <td>    7.560</td>\n",
       "</tr>\n",
       "<tr>\n",
       "  <th>Over 60</th>         <td>    3.0352</td> <td>    0.228</td> <td>   13.312</td> <td> 0.000</td> <td>    2.588</td> <td>    3.482</td>\n",
       "</tr>\n",
       "<tr>\n",
       "  <th>Under 40</th>        <td>   -4.1440</td> <td>    0.242</td> <td>  -17.094</td> <td> 0.000</td> <td>   -4.619</td> <td>   -3.669</td>\n",
       "</tr>\n",
       "<tr>\n",
       "  <th>College</th>         <td>   -5.5035</td> <td>    0.221</td> <td>  -24.953</td> <td> 0.000</td> <td>   -5.936</td> <td>   -5.071</td>\n",
       "</tr>\n",
       "<tr>\n",
       "  <th>Over 100k</th>       <td>   -2.7172</td> <td>    0.257</td> <td>  -10.585</td> <td> 0.000</td> <td>   -3.220</td> <td>   -2.214</td>\n",
       "</tr>\n",
       "<tr>\n",
       "  <th>Under 50k</th>       <td>    3.3883</td> <td>    0.233</td> <td>   14.530</td> <td> 0.000</td> <td>    2.931</td> <td>    3.845</td>\n",
       "</tr>\n",
       "<tr>\n",
       "  <th>High_num</th>        <td>   -3.7418</td> <td>    0.217</td> <td>  -17.218</td> <td> 0.000</td> <td>   -4.168</td> <td>   -3.316</td>\n",
       "</tr>\n",
       "</table>\n",
       "<table class=\"simpletable\">\n",
       "<tr>\n",
       "  <th>Omnibus:</th>       <td>10405.144</td> <th>  Durbin-Watson:     </th> <td>   1.971</td> \n",
       "</tr>\n",
       "<tr>\n",
       "  <th>Prob(Omnibus):</th>  <td> 0.000</td>   <th>  Jarque-Bera (JB):  </th> <td>13653.658</td>\n",
       "</tr>\n",
       "<tr>\n",
       "  <th>Skew:</th>           <td> 0.706</td>   <th>  Prob(JB):          </th> <td>    0.00</td> \n",
       "</tr>\n",
       "<tr>\n",
       "  <th>Kurtosis:</th>       <td> 3.731</td>   <th>  Cond. No.          </th> <td>    29.0</td> \n",
       "</tr>\n",
       "</table><br/><br/>Notes:<br/>[1] Standard Errors assume that the covariance matrix of the errors is correctly specified."
      ],
      "text/plain": [
       "<class 'statsmodels.iolib.summary.Summary'>\n",
       "\"\"\"\n",
       "                            WLS Regression Results                            \n",
       "==============================================================================\n",
       "Dep. Variable:          proba_lt_high   R-squared:                       0.050\n",
       "Model:                            WLS   Adj. R-squared:                  0.050\n",
       "Method:                 Least Squares   F-statistic:                     680.2\n",
       "Date:                Mon, 13 Mar 2023   Prob (F-statistic):               0.00\n",
       "Time:                        17:10:28   Log-Likelihood:            -6.5430e+05\n",
       "No. Observations:              129518   AIC:                         1.309e+06\n",
       "Df Residuals:                  129507   BIC:                         1.309e+06\n",
       "Df Model:                          10                                         \n",
       "Covariance Type:            nonrobust                                         \n",
       "===================================================================================\n",
       "                      coef    std err          t      P>|t|      [0.025      0.975]\n",
       "-----------------------------------------------------------------------------------\n",
       "const              24.7503      0.429     57.666      0.000      23.909      25.592\n",
       "tx_evol_ann_pct     1.7989      0.052     34.558      0.000       1.697       1.901\n",
       "indic_perso         9.9063      0.796     12.450      0.000       8.347      11.466\n",
       "indic_macro        25.8421      0.811     31.876      0.000      24.253      27.431\n",
       "fem                 6.7737      0.401     16.893      0.000       5.988       7.560\n",
       "Over 60             3.0352      0.228     13.312      0.000       2.588       3.482\n",
       "Under 40           -4.1440      0.242    -17.094      0.000      -4.619      -3.669\n",
       "College            -5.5035      0.221    -24.953      0.000      -5.936      -5.071\n",
       "Over 100k          -2.7172      0.257    -10.585      0.000      -3.220      -2.214\n",
       "Under 50k           3.3883      0.233     14.530      0.000       2.931       3.845\n",
       "High_num           -3.7418      0.217    -17.218      0.000      -4.168      -3.316\n",
       "==============================================================================\n",
       "Omnibus:                    10405.144   Durbin-Watson:                   1.971\n",
       "Prob(Omnibus):                  0.000   Jarque-Bera (JB):            13653.658\n",
       "Skew:                           0.706   Prob(JB):                         0.00\n",
       "Kurtosis:                       3.731   Cond. No.                         29.0\n",
       "==============================================================================\n",
       "\n",
       "Notes:\n",
       "[1] Standard Errors assume that the covariance matrix of the errors is correctly specified.\n",
       "\"\"\""
      ]
     },
     "execution_count": 127,
     "metadata": {},
     "output_type": "execute_result"
    }
   ],
   "source": [
    "Y = BF['proba_lt_high'].astype('float')\n",
    "X = BF.fillna(0)[['tx_evol_ann_pct','indic_perso','indic_macro','fem','Over 60','Under 40','College','Over 100k','Under 50k','High_num']]\n",
    "X = sm.add_constant(X)\n",
    "model = sm.WLS(Y,X, weights = poids)\n",
    "results = model.fit()\n",
    "su = results.summary()\n",
    "su"
   ]
  },
  {
   "cell_type": "markdown",
   "id": "01f06d41-bbdc-4fd8-b372-3526f01fb740",
   "metadata": {},
   "source": [
    "### D - Long term - Deflation :"
   ]
  },
  {
   "cell_type": "code",
   "execution_count": null,
   "id": "3b338906-1bf6-450a-b8b7-471a42d11ef1",
   "metadata": {
    "tags": []
   },
   "outputs": [],
   "source": [
    "Y = BF['proba_lt_defl'].astype('float')\n",
    "X = BF.fillna(0)[['tx_evol_ann_pct','indic_perso','indic_macro','fem','Over 60','Under 40','College','Over 100k','Under 50k','High_num']]\n",
    "X = sm.add_constant(X)\n",
    "model = sm.WLS(Y,X, weights = poids)\n",
    "results = model.fit()\n",
    "su = results.summary()\n",
    "su"
   ]
  },
  {
   "cell_type": "code",
   "execution_count": null,
   "id": "817329b5-87b2-43dd-937c-c388ff1b88da",
   "metadata": {},
   "outputs": [],
   "source": []
  }
 ],
 "metadata": {
  "kernelspec": {
   "display_name": "Python 3 (ipykernel)",
   "language": "python",
   "name": "python3"
  },
  "language_info": {
   "codemirror_mode": {
    "name": "ipython",
    "version": 3
   },
   "file_extension": ".py",
   "mimetype": "text/x-python",
   "name": "python",
   "nbconvert_exporter": "python",
   "pygments_lexer": "ipython3",
   "version": "3.10.8"
  }
 },
 "nbformat": 4,
 "nbformat_minor": 5
}
