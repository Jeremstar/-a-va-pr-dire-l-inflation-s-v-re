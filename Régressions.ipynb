{
 "cells": [
  {
   "cell_type": "markdown",
   "id": "c2a9d55b-bb7f-432d-9e65-f6b84bccd5db",
   "metadata": {},
   "source": [
    "# Importation des données :"
   ]
  },
  {
   "cell_type": "code",
   "execution_count": 1,
   "id": "773bc2b7-d978-4d6d-ba33-bd4152b42efa",
   "metadata": {
    "tags": []
   },
   "outputs": [
    {
     "name": "stdout",
     "output_type": "stream",
     "text": [
      "Collecting openpyxl\n",
      "  Downloading openpyxl-3.1.2-py2.py3-none-any.whl (249 kB)\n",
      "\u001b[2K     \u001b[90m━━━━━━━━━━━━━━━━━━━━━━━━━━━━━━━━━━━━━━━\u001b[0m \u001b[32m250.0/250.0 kB\u001b[0m \u001b[31m5.5 MB/s\u001b[0m eta \u001b[36m0:00:00\u001b[0m00:01\u001b[0m\n",
      "\u001b[?25hCollecting et-xmlfile (from openpyxl)\n",
      "  Downloading et_xmlfile-1.1.0-py3-none-any.whl (4.7 kB)\n",
      "Installing collected packages: et-xmlfile, openpyxl\n",
      "Successfully installed et-xmlfile-1.1.0 openpyxl-3.1.2\n",
      "Note: you may need to restart the kernel to use updated packages.\n"
     ]
    }
   ],
   "source": [
    "pip install openpyxl"
   ]
  },
  {
   "cell_type": "code",
   "execution_count": 2,
   "id": "0b69676f-7e58-48d9-8ad8-1cd191871141",
   "metadata": {
    "tags": []
   },
   "outputs": [],
   "source": [
    "import matplotlib.pyplot as plt\n",
    "import seaborn as sns\n",
    "from datetime import datetime, timedelta\n",
    "import pandas as pd\n",
    "import requests\n",
    "import numpy as np \n",
    "from scipy import stats"
   ]
  },
  {
   "cell_type": "code",
   "execution_count": 3,
   "id": "a6152505-a5ab-4c27-88c1-3bb205bcd3c4",
   "metadata": {
    "tags": []
   },
   "outputs": [],
   "source": [
    "OECD = pd.read_excel('données/OECD - short term economic indicators.xlsx')"
   ]
  },
  {
   "cell_type": "code",
   "execution_count": 4,
   "id": "517fef01-6f7f-4dc1-b734-f937569d71d7",
   "metadata": {
    "tags": []
   },
   "outputs": [],
   "source": [
    "IMF = pd.read_excel('données/IMF - monetary policy.xlsx')"
   ]
  },
  {
   "cell_type": "code",
   "execution_count": 5,
   "id": "89ca2ad9-15c3-4814-b45d-4cb624271775",
   "metadata": {
    "tags": []
   },
   "outputs": [],
   "source": [
    "agregated_data=pd.ExcelFile('données/FRBNY-SCE-Data.xlsx')\n",
    "agregated_anticipation= df1=pd.read_excel(agregated_data, 'Inflation expectations')"
   ]
  },
  {
   "cell_type": "code",
   "execution_count": 6,
   "id": "fd3990f4-2877-482a-a73a-95e214f86462",
   "metadata": {
    "tags": []
   },
   "outputs": [],
   "source": [
    "agrant = agregated_anticipation[['Unnamed: 1','Unnamed: 2']].drop([0,1,2]).reset_index().rename(columns={'index':'date','Unnamed: 1':'short exp','Unnamed: 2':'mid exp'})"
   ]
  },
  {
   "cell_type": "code",
   "execution_count": 7,
   "id": "752069e8-378d-4ea0-a126-76a6ba4a1a00",
   "metadata": {
    "tags": []
   },
   "outputs": [],
   "source": [
    "Enq13 = pd.read_excel('https://www.newyorkfed.org/medialibrary/interactives/sce/sce/downloads/data/frbny-sce-public-microdata-complete-13-16.xlsx')"
   ]
  },
  {
   "cell_type": "code",
   "execution_count": 8,
   "id": "7a7fb241-a3ff-420e-a175-f354925069db",
   "metadata": {
    "tags": []
   },
   "outputs": [],
   "source": [
    "Enq17 = pd.read_excel('https://www.newyorkfed.org/medialibrary/interactives/sce/sce/downloads/data/frbny-sce-public-microdata-complete-17-19.xlsx')"
   ]
  },
  {
   "cell_type": "code",
   "execution_count": 9,
   "id": "f38e21b2-3b22-4d53-ba33-c83b548ce221",
   "metadata": {
    "tags": []
   },
   "outputs": [],
   "source": [
    "Latest=pd.ExcelFile('https://www.newyorkfed.org/medialibrary/Interactives/sce/sce/downloads/data/frbny-sce-public-microdata-latest.xlsx')\n",
    "Enq20=pd.read_excel(Latest, 'Data')"
   ]
  },
  {
   "cell_type": "code",
   "execution_count": 10,
   "id": "7f1f495f-9914-4883-941c-cc030f6ff06b",
   "metadata": {
    "tags": []
   },
   "outputs": [
    {
     "data": {
      "text/html": [
       "<div>\n",
       "<style scoped>\n",
       "    .dataframe tbody tr th:only-of-type {\n",
       "        vertical-align: middle;\n",
       "    }\n",
       "\n",
       "    .dataframe tbody tr th {\n",
       "        vertical-align: top;\n",
       "    }\n",
       "\n",
       "    .dataframe thead th {\n",
       "        text-align: right;\n",
       "    }\n",
       "</style>\n",
       "<table border=\"1\" class=\"dataframe\">\n",
       "  <thead>\n",
       "    <tr style=\"text-align: right;\">\n",
       "      <th></th>\n",
       "      <th>Source:  Survey of Consumer Expectations, © 2013-22 Federal Reserve Bank of New York (FRBNY).   The SCE data are available without charge at www.newyorkfed.org and may be used subject to license terms posted there.  FRBNY disclaims any responsibility or legal liability for this analysis and interpretation of Survey of Consumer Expectations data.</th>\n",
       "      <th>Unnamed: 1</th>\n",
       "      <th>Unnamed: 2</th>\n",
       "      <th>Unnamed: 3</th>\n",
       "      <th>Unnamed: 4</th>\n",
       "      <th>Unnamed: 5</th>\n",
       "      <th>Unnamed: 6</th>\n",
       "      <th>Unnamed: 7</th>\n",
       "      <th>Unnamed: 8</th>\n",
       "      <th>Unnamed: 9</th>\n",
       "      <th>...</th>\n",
       "      <th>Unnamed: 210</th>\n",
       "      <th>Unnamed: 211</th>\n",
       "      <th>Unnamed: 212</th>\n",
       "      <th>Unnamed: 213</th>\n",
       "      <th>Unnamed: 214</th>\n",
       "      <th>Unnamed: 215</th>\n",
       "      <th>Unnamed: 216</th>\n",
       "      <th>Unnamed: 217</th>\n",
       "      <th>Unnamed: 218</th>\n",
       "      <th>Unnamed: 219</th>\n",
       "    </tr>\n",
       "  </thead>\n",
       "  <tbody>\n",
       "    <tr>\n",
       "      <th>0</th>\n",
       "      <td>date</td>\n",
       "      <td>userid</td>\n",
       "      <td>tenure</td>\n",
       "      <td>weight</td>\n",
       "      <td>Q1</td>\n",
       "      <td>Q2</td>\n",
       "      <td>Q3</td>\n",
       "      <td>Q4new</td>\n",
       "      <td>Q5new</td>\n",
       "      <td>Q6new</td>\n",
       "      <td>...</td>\n",
       "      <td>Q48</td>\n",
       "      <td>QRA1</td>\n",
       "      <td>QRA2</td>\n",
       "      <td>survey_date</td>\n",
       "      <td>_AGE_CAT</td>\n",
       "      <td>_NUM_CAT</td>\n",
       "      <td>_REGION_CAT</td>\n",
       "      <td>_COMMUTING_ZONE</td>\n",
       "      <td>_EDU_CAT</td>\n",
       "      <td>_HH_INC_CAT</td>\n",
       "    </tr>\n",
       "    <tr>\n",
       "      <th>1</th>\n",
       "      <td>202001</td>\n",
       "      <td>70103231</td>\n",
       "      <td>12</td>\n",
       "      <td>0.81825</td>\n",
       "      <td>4</td>\n",
       "      <td>3</td>\n",
       "      <td>20</td>\n",
       "      <td>62</td>\n",
       "      <td>26</td>\n",
       "      <td>44</td>\n",
       "      <td>...</td>\n",
       "      <td>5</td>\n",
       "      <td>NaN</td>\n",
       "      <td>NaN</td>\n",
       "      <td>2020-01-23 00:00:00</td>\n",
       "      <td>40 to 60</td>\n",
       "      <td>High</td>\n",
       "      <td>West</td>\n",
       "      <td>218</td>\n",
       "      <td>College</td>\n",
       "      <td>Over 100k</td>\n",
       "    </tr>\n",
       "    <tr>\n",
       "      <th>2</th>\n",
       "      <td>202001</td>\n",
       "      <td>70103252</td>\n",
       "      <td>11</td>\n",
       "      <td>2.879998</td>\n",
       "      <td>3</td>\n",
       "      <td>2</td>\n",
       "      <td>1</td>\n",
       "      <td>30</td>\n",
       "      <td>1</td>\n",
       "      <td>10</td>\n",
       "      <td>...</td>\n",
       "      <td>2</td>\n",
       "      <td>NaN</td>\n",
       "      <td>NaN</td>\n",
       "      <td>2020-01-02 00:00:00</td>\n",
       "      <td>40 to 60</td>\n",
       "      <td>Low</td>\n",
       "      <td>Northeast</td>\n",
       "      <td>203</td>\n",
       "      <td>High School</td>\n",
       "      <td>Under 50k</td>\n",
       "    </tr>\n",
       "    <tr>\n",
       "      <th>3</th>\n",
       "      <td>202001</td>\n",
       "      <td>70103258</td>\n",
       "      <td>12</td>\n",
       "      <td>0.549674</td>\n",
       "      <td>4</td>\n",
       "      <td>4</td>\n",
       "      <td>0</td>\n",
       "      <td>3</td>\n",
       "      <td>4</td>\n",
       "      <td>18</td>\n",
       "      <td>...</td>\n",
       "      <td>4</td>\n",
       "      <td>NaN</td>\n",
       "      <td>NaN</td>\n",
       "      <td>2020-01-07 00:00:00</td>\n",
       "      <td>Over 60</td>\n",
       "      <td>High</td>\n",
       "      <td>South</td>\n",
       "      <td>102</td>\n",
       "      <td>College</td>\n",
       "      <td>50k to 100k</td>\n",
       "    </tr>\n",
       "    <tr>\n",
       "      <th>4</th>\n",
       "      <td>202001</td>\n",
       "      <td>70103285</td>\n",
       "      <td>12</td>\n",
       "      <td>0.481746</td>\n",
       "      <td>4</td>\n",
       "      <td>4</td>\n",
       "      <td>10</td>\n",
       "      <td>10</td>\n",
       "      <td>10</td>\n",
       "      <td>10</td>\n",
       "      <td>...</td>\n",
       "      <td>1</td>\n",
       "      <td>NaN</td>\n",
       "      <td>NaN</td>\n",
       "      <td>2020-01-27 00:00:00</td>\n",
       "      <td>Under 40</td>\n",
       "      <td>High</td>\n",
       "      <td>Midwest</td>\n",
       "      <td>100</td>\n",
       "      <td>College</td>\n",
       "      <td>50k to 100k</td>\n",
       "    </tr>\n",
       "    <tr>\n",
       "      <th>...</th>\n",
       "      <td>...</td>\n",
       "      <td>...</td>\n",
       "      <td>...</td>\n",
       "      <td>...</td>\n",
       "      <td>...</td>\n",
       "      <td>...</td>\n",
       "      <td>...</td>\n",
       "      <td>...</td>\n",
       "      <td>...</td>\n",
       "      <td>...</td>\n",
       "      <td>...</td>\n",
       "      <td>...</td>\n",
       "      <td>...</td>\n",
       "      <td>...</td>\n",
       "      <td>...</td>\n",
       "      <td>...</td>\n",
       "      <td>...</td>\n",
       "      <td>...</td>\n",
       "      <td>...</td>\n",
       "      <td>...</td>\n",
       "      <td>...</td>\n",
       "    </tr>\n",
       "    <tr>\n",
       "      <th>37568</th>\n",
       "      <td>202206</td>\n",
       "      <td>75007151</td>\n",
       "      <td>1</td>\n",
       "      <td>1.235504</td>\n",
       "      <td>2</td>\n",
       "      <td>4</td>\n",
       "      <td>25</td>\n",
       "      <td>30</td>\n",
       "      <td>0</td>\n",
       "      <td>85</td>\n",
       "      <td>...</td>\n",
       "      <td>3</td>\n",
       "      <td>3</td>\n",
       "      <td>3</td>\n",
       "      <td>NaN</td>\n",
       "      <td>Under 40</td>\n",
       "      <td>High</td>\n",
       "      <td>South</td>\n",
       "      <td>35</td>\n",
       "      <td>NaN</td>\n",
       "      <td>Under 50k</td>\n",
       "    </tr>\n",
       "    <tr>\n",
       "      <th>37569</th>\n",
       "      <td>202206</td>\n",
       "      <td>75007154</td>\n",
       "      <td>1</td>\n",
       "      <td>0.725876</td>\n",
       "      <td>4</td>\n",
       "      <td>3</td>\n",
       "      <td>100</td>\n",
       "      <td>80</td>\n",
       "      <td>70</td>\n",
       "      <td>90</td>\n",
       "      <td>...</td>\n",
       "      <td>4</td>\n",
       "      <td>3</td>\n",
       "      <td>5</td>\n",
       "      <td>NaN</td>\n",
       "      <td>Under 40</td>\n",
       "      <td>High</td>\n",
       "      <td>West</td>\n",
       "      <td>297</td>\n",
       "      <td>College</td>\n",
       "      <td>Over 100k</td>\n",
       "    </tr>\n",
       "    <tr>\n",
       "      <th>37570</th>\n",
       "      <td>202206</td>\n",
       "      <td>75007155</td>\n",
       "      <td>1</td>\n",
       "      <td>1.521025</td>\n",
       "      <td>2</td>\n",
       "      <td>1</td>\n",
       "      <td>1</td>\n",
       "      <td>50</td>\n",
       "      <td>99</td>\n",
       "      <td>50</td>\n",
       "      <td>...</td>\n",
       "      <td>2</td>\n",
       "      <td>1</td>\n",
       "      <td>1</td>\n",
       "      <td>NaN</td>\n",
       "      <td>Over 60</td>\n",
       "      <td>Low</td>\n",
       "      <td>South</td>\n",
       "      <td>160</td>\n",
       "      <td>Some College</td>\n",
       "      <td>Under 50k</td>\n",
       "    </tr>\n",
       "    <tr>\n",
       "      <th>37571</th>\n",
       "      <td>202206</td>\n",
       "      <td>75007158</td>\n",
       "      <td>1</td>\n",
       "      <td>0.524731</td>\n",
       "      <td>3</td>\n",
       "      <td>3</td>\n",
       "      <td>0</td>\n",
       "      <td>50</td>\n",
       "      <td>0</td>\n",
       "      <td>0</td>\n",
       "      <td>...</td>\n",
       "      <td>3</td>\n",
       "      <td>3</td>\n",
       "      <td>2</td>\n",
       "      <td>NaN</td>\n",
       "      <td>40 to 60</td>\n",
       "      <td>High</td>\n",
       "      <td>West</td>\n",
       "      <td>171</td>\n",
       "      <td>College</td>\n",
       "      <td>50k to 100k</td>\n",
       "    </tr>\n",
       "    <tr>\n",
       "      <th>37572</th>\n",
       "      <td>202206</td>\n",
       "      <td>75007168</td>\n",
       "      <td>1</td>\n",
       "      <td>0.462377</td>\n",
       "      <td>1</td>\n",
       "      <td>1</td>\n",
       "      <td>30</td>\n",
       "      <td>81</td>\n",
       "      <td>80</td>\n",
       "      <td>59</td>\n",
       "      <td>...</td>\n",
       "      <td>2</td>\n",
       "      <td>4</td>\n",
       "      <td>4</td>\n",
       "      <td>NaN</td>\n",
       "      <td>40 to 60</td>\n",
       "      <td>Low</td>\n",
       "      <td>Midwest</td>\n",
       "      <td>622</td>\n",
       "      <td>College</td>\n",
       "      <td>Over 100k</td>\n",
       "    </tr>\n",
       "  </tbody>\n",
       "</table>\n",
       "<p>37573 rows × 220 columns</p>\n",
       "</div>"
      ],
      "text/plain": [
       "      Source:  Survey of Consumer Expectations, © 2013-22 Federal Reserve Bank of New York (FRBNY).   The SCE data are available without charge at www.newyorkfed.org and may be used subject to license terms posted there.  FRBNY disclaims any responsibility or legal liability for this analysis and interpretation of Survey of Consumer Expectations data.   \n",
       "0                                                   date                                                                                                                                                                                                                                                                                                           \\\n",
       "1                                                 202001                                                                                                                                                                                                                                                                                                            \n",
       "2                                                 202001                                                                                                                                                                                                                                                                                                            \n",
       "3                                                 202001                                                                                                                                                                                                                                                                                                            \n",
       "4                                                 202001                                                                                                                                                                                                                                                                                                            \n",
       "...                                                  ...                                                                                                                                                                                                                                                                                                            \n",
       "37568                                             202206                                                                                                                                                                                                                                                                                                            \n",
       "37569                                             202206                                                                                                                                                                                                                                                                                                            \n",
       "37570                                             202206                                                                                                                                                                                                                                                                                                            \n",
       "37571                                             202206                                                                                                                                                                                                                                                                                                            \n",
       "37572                                             202206                                                                                                                                                                                                                                                                                                            \n",
       "\n",
       "      Unnamed: 1 Unnamed: 2 Unnamed: 3 Unnamed: 4 Unnamed: 5 Unnamed: 6   \n",
       "0         userid     tenure     weight         Q1         Q2         Q3  \\\n",
       "1       70103231         12    0.81825          4          3         20   \n",
       "2       70103252         11   2.879998          3          2          1   \n",
       "3       70103258         12   0.549674          4          4          0   \n",
       "4       70103285         12   0.481746          4          4         10   \n",
       "...          ...        ...        ...        ...        ...        ...   \n",
       "37568   75007151          1   1.235504          2          4         25   \n",
       "37569   75007154          1   0.725876          4          3        100   \n",
       "37570   75007155          1   1.521025          2          1          1   \n",
       "37571   75007158          1   0.524731          3          3          0   \n",
       "37572   75007168          1   0.462377          1          1         30   \n",
       "\n",
       "      Unnamed: 7 Unnamed: 8 Unnamed: 9  ... Unnamed: 210 Unnamed: 211   \n",
       "0          Q4new      Q5new      Q6new  ...          Q48         QRA1  \\\n",
       "1             62         26         44  ...            5          NaN   \n",
       "2             30          1         10  ...            2          NaN   \n",
       "3              3          4         18  ...            4          NaN   \n",
       "4             10         10         10  ...            1          NaN   \n",
       "...          ...        ...        ...  ...          ...          ...   \n",
       "37568         30          0         85  ...            3            3   \n",
       "37569         80         70         90  ...            4            3   \n",
       "37570         50         99         50  ...            2            1   \n",
       "37571         50          0          0  ...            3            3   \n",
       "37572         81         80         59  ...            2            4   \n",
       "\n",
       "      Unnamed: 212         Unnamed: 213 Unnamed: 214 Unnamed: 215   \n",
       "0             QRA2          survey_date     _AGE_CAT     _NUM_CAT  \\\n",
       "1              NaN  2020-01-23 00:00:00     40 to 60         High   \n",
       "2              NaN  2020-01-02 00:00:00     40 to 60          Low   \n",
       "3              NaN  2020-01-07 00:00:00      Over 60         High   \n",
       "4              NaN  2020-01-27 00:00:00     Under 40         High   \n",
       "...            ...                  ...          ...          ...   \n",
       "37568            3                  NaN     Under 40         High   \n",
       "37569            5                  NaN     Under 40         High   \n",
       "37570            1                  NaN      Over 60          Low   \n",
       "37571            2                  NaN     40 to 60         High   \n",
       "37572            4                  NaN     40 to 60          Low   \n",
       "\n",
       "      Unnamed: 216     Unnamed: 217  Unnamed: 218 Unnamed: 219  \n",
       "0      _REGION_CAT  _COMMUTING_ZONE      _EDU_CAT  _HH_INC_CAT  \n",
       "1             West              218       College    Over 100k  \n",
       "2        Northeast              203   High School    Under 50k  \n",
       "3            South              102       College  50k to 100k  \n",
       "4          Midwest              100       College  50k to 100k  \n",
       "...            ...              ...           ...          ...  \n",
       "37568        South               35           NaN    Under 50k  \n",
       "37569         West              297       College    Over 100k  \n",
       "37570        South              160  Some College    Under 50k  \n",
       "37571         West              171       College  50k to 100k  \n",
       "37572      Midwest              622       College    Over 100k  \n",
       "\n",
       "[37573 rows x 220 columns]"
      ]
     },
     "execution_count": 10,
     "metadata": {},
     "output_type": "execute_result"
    }
   ],
   "source": [
    "Enq20"
   ]
  },
  {
   "cell_type": "code",
   "execution_count": 11,
   "id": "2c056550-7189-4c63-987e-36c47709b469",
   "metadata": {
    "tags": []
   },
   "outputs": [],
   "source": [
    "#Il faut faire 2-3 manips pour rendre les bases utilisables\n",
    "new_columns = Enq13.iloc[0]\n",
    "Enq13.columns = new_columns\n",
    "Enq13 = Enq13.drop(0)\n",
    "\n",
    "new_columns = Enq17.iloc[0]\n",
    "Enq17.columns = new_columns\n",
    "Enq17 = Enq17.drop(0)"
   ]
  },
  {
   "cell_type": "code",
   "execution_count": 12,
   "id": "6156653b-c5a6-485f-96cc-686f58905a63",
   "metadata": {
    "tags": []
   },
   "outputs": [],
   "source": [
    "new_columns = Enq20.iloc[0]\n",
    "Enq20.columns = new_columns\n",
    "Enq20 = Enq20.drop(0)"
   ]
  },
  {
   "cell_type": "code",
   "execution_count": 13,
   "id": "9df9b7cf-63c9-496a-bc19-d7a450e24f03",
   "metadata": {
    "tags": []
   },
   "outputs": [],
   "source": [
    "Enq17['date'] = pd.to_datetime(Enq17['date'].astype(str) + '01', format='%Y%m%d')\n",
    "Enq13['date'] = pd.to_datetime(Enq13['date'].astype(str) + '01', format='%Y%m%d')\n",
    "Enq20['date'] = pd.to_datetime(Enq20['date'].astype(str) + '01', format='%Y%m%d')"
   ]
  },
  {
   "cell_type": "code",
   "execution_count": 14,
   "id": "32d90cb2-b9c6-407b-9c50-30d678389451",
   "metadata": {
    "tags": []
   },
   "outputs": [],
   "source": [
    "Base_finale=pd.concat([Enq13,Enq17,Enq20])"
   ]
  },
  {
   "cell_type": "code",
   "execution_count": 15,
   "id": "743a05b8-e7e7-4119-8c34-7aa3ea0d7a99",
   "metadata": {
    "tags": []
   },
   "outputs": [],
   "source": [
    "#Base_finale.to_excel('Base_finale.xlsx')"
   ]
  },
  {
   "cell_type": "markdown",
   "id": "f02e5178-a998-4f9f-acae-06fd515f434c",
   "metadata": {},
   "source": [
    "# I-Première spécification :"
   ]
  },
  {
   "cell_type": "code",
   "execution_count": 16,
   "id": "f1bacab0-a46f-4c04-851f-1ff2645f0085",
   "metadata": {
    "tags": []
   },
   "outputs": [],
   "source": [
    "from sklearn.linear_model import LinearRegression"
   ]
  },
  {
   "cell_type": "code",
   "execution_count": 17,
   "id": "7d1d1d2a-5d79-4994-92d1-67592b079086",
   "metadata": {
    "tags": []
   },
   "outputs": [],
   "source": [
    "from statsmodels.regression.linear_model import OLS\n",
    "import statsmodels.api as sm"
   ]
  },
  {
   "cell_type": "code",
   "execution_count": 18,
   "id": "a47da3db-1539-4846-acec-c2c7d0801cde",
   "metadata": {
    "tags": []
   },
   "outputs": [],
   "source": [
    "AA=Base_finale"
   ]
  },
  {
   "cell_type": "code",
   "execution_count": 19,
   "id": "79f72e93-d131-49bc-add5-3bb5de9b4191",
   "metadata": {
    "tags": []
   },
   "outputs": [
    {
     "data": {
      "text/plain": [
       "['date',\n",
       " 'userid',\n",
       " 'tenure',\n",
       " 'weight',\n",
       " 'Q1',\n",
       " 'Q2',\n",
       " 'Q3',\n",
       " 'Q4new',\n",
       " 'Q5new',\n",
       " 'Q6new',\n",
       " 'Q8v2',\n",
       " 'Q8v2part2',\n",
       " 'Q9_cent25',\n",
       " 'Q9_cent50',\n",
       " 'Q9_cent75',\n",
       " 'Q9_var',\n",
       " 'Q9_mean',\n",
       " 'Q9_iqr',\n",
       " 'Q9_probdeflation',\n",
       " 'Q9_bin1',\n",
       " 'Q9_bin2',\n",
       " 'Q9_bin3',\n",
       " 'Q9_bin4',\n",
       " 'Q9_bin5',\n",
       " 'Q9_bin6',\n",
       " 'Q9_bin7',\n",
       " 'Q9_bin8',\n",
       " 'Q9_bin9',\n",
       " 'Q9_bin10',\n",
       " 'Q9bv2',\n",
       " 'Q9bv2part2',\n",
       " 'Q9c_cent25',\n",
       " 'Q9c_cent50',\n",
       " 'Q9c_cent75',\n",
       " 'Q9c_var',\n",
       " 'Q9c_mean',\n",
       " 'Q9c_iqr',\n",
       " 'Q9c_probdeflation',\n",
       " 'Q9c_bin1',\n",
       " 'Q9c_bin2',\n",
       " 'Q9c_bin3',\n",
       " 'Q9c_bin4',\n",
       " 'Q9c_bin5',\n",
       " 'Q9c_bin6',\n",
       " 'Q9c_bin7',\n",
       " 'Q9c_bin8',\n",
       " 'Q9c_bin9',\n",
       " 'Q9c_bin10',\n",
       " 'Q10_1',\n",
       " 'Q10_2',\n",
       " 'Q10_3',\n",
       " 'Q10_4',\n",
       " 'Q10_5',\n",
       " 'Q10_6',\n",
       " 'Q10_7',\n",
       " 'Q10_8',\n",
       " 'Q10_9',\n",
       " 'Q10_10',\n",
       " 'Q11',\n",
       " 'Q12new',\n",
       " 'ES1_1',\n",
       " 'ES1_2',\n",
       " 'ES1_3',\n",
       " 'ES1_4',\n",
       " 'ES2',\n",
       " 'ES3new',\n",
       " 'ES4',\n",
       " 'ES5',\n",
       " 'Q13new',\n",
       " 'Q14new',\n",
       " 'Q15',\n",
       " 'Q16',\n",
       " 'Q17new',\n",
       " 'Q18new',\n",
       " 'Q19',\n",
       " 'Q20new',\n",
       " 'Q21new',\n",
       " 'Q22new',\n",
       " 'Q23v2',\n",
       " 'Q23v2part2',\n",
       " 'Q24_cent25',\n",
       " 'Q24_cent50',\n",
       " 'Q24_cent75',\n",
       " 'Q24_var',\n",
       " 'Q24_mean',\n",
       " 'Q24_iqr',\n",
       " 'Q24_probdeflation',\n",
       " 'Q24_bin1',\n",
       " 'Q24_bin2',\n",
       " 'Q24_bin3',\n",
       " 'Q24_bin4',\n",
       " 'Q24_bin5',\n",
       " 'Q24_bin6',\n",
       " 'Q24_bin7',\n",
       " 'Q24_bin8',\n",
       " 'Q24_bin9',\n",
       " 'Q24_bin10',\n",
       " 'Q25v2',\n",
       " 'Q25v2part2',\n",
       " 'Q26v2',\n",
       " 'Q26v2part2',\n",
       " 'Q27v2',\n",
       " 'Q27v2part2',\n",
       " 'Q28',\n",
       " 'Q29',\n",
       " 'Q30new',\n",
       " 'Q31v2',\n",
       " 'Q31v2part2',\n",
       " 'C1_cent25',\n",
       " 'C1_cent50',\n",
       " 'C1_cent75',\n",
       " 'C1_var',\n",
       " 'C1_mean',\n",
       " 'C1_iqr',\n",
       " 'C1_probdeflation',\n",
       " 'C1_bin1',\n",
       " 'C1_bin2',\n",
       " 'C1_bin3',\n",
       " 'C1_bin4',\n",
       " 'C1_bin5',\n",
       " 'C1_bin6',\n",
       " 'C1_bin7',\n",
       " 'C1_bin8',\n",
       " 'C1_bin9',\n",
       " 'C1_bin10',\n",
       " 'C2',\n",
       " 'C2part2',\n",
       " 'C3',\n",
       " 'C3part2',\n",
       " 'C4_1',\n",
       " 'C4_2',\n",
       " 'C4_3',\n",
       " 'C4_4',\n",
       " 'C4_5',\n",
       " 'C4_6',\n",
       " 'QNUM1',\n",
       " 'QNUM2',\n",
       " 'QNUM3',\n",
       " 'QNUM5',\n",
       " 'QNUM6',\n",
       " 'QNUM8',\n",
       " 'QNUM9',\n",
       " 'Q32',\n",
       " 'Q33',\n",
       " 'Q34',\n",
       " 'Q35_1',\n",
       " 'Q35_2',\n",
       " 'Q35_3',\n",
       " 'Q35_4',\n",
       " 'Q35_5',\n",
       " 'Q35_6',\n",
       " 'Q36',\n",
       " 'Q37',\n",
       " 'Q38',\n",
       " 'HH2_1',\n",
       " 'HH2_2',\n",
       " 'HH2_3',\n",
       " 'HH2_4',\n",
       " 'HH2_5',\n",
       " 'HH2_6',\n",
       " 'HH2_7',\n",
       " 'HH2_8',\n",
       " 'HH2_9',\n",
       " 'HH2_10',\n",
       " 'HH2_11',\n",
       " '_STATE',\n",
       " 'Q41',\n",
       " 'Q42',\n",
       " 'Q43',\n",
       " 'Q43a',\n",
       " 'Q44',\n",
       " 'Q45b',\n",
       " 'Q45new_1',\n",
       " 'Q45new_2',\n",
       " 'Q45new_3',\n",
       " 'Q45new_4',\n",
       " 'Q45new_5',\n",
       " 'Q45new_6',\n",
       " 'Q45new_7',\n",
       " 'Q45new_8',\n",
       " 'Q45new_9',\n",
       " 'Q46',\n",
       " 'Q47',\n",
       " 'D1',\n",
       " 'D3',\n",
       " 'D6',\n",
       " 'D2new_1',\n",
       " 'D2new_2',\n",
       " 'D2new_3',\n",
       " 'D2new_4',\n",
       " 'D2new_5',\n",
       " 'D2new_6',\n",
       " 'D2new_7',\n",
       " 'D2new_8',\n",
       " 'D2new_9',\n",
       " 'DSAME',\n",
       " 'DQ38',\n",
       " 'DHH2_1',\n",
       " 'DHH2_2',\n",
       " 'DHH2_3',\n",
       " 'DHH2_4',\n",
       " 'DHH2_5',\n",
       " 'DHH2_6',\n",
       " 'DHH2_7',\n",
       " 'DHH2_8',\n",
       " 'DHH2_9',\n",
       " 'DHH2_10',\n",
       " 'DHH2_11',\n",
       " 'DHH2_11_other',\n",
       " 'D5b',\n",
       " 'Q48',\n",
       " 'QRA1',\n",
       " 'QRA2',\n",
       " 'survey_date',\n",
       " '_AGE_CAT',\n",
       " '_NUM_CAT',\n",
       " '_REGION_CAT',\n",
       " '_COMMUTING_ZONE',\n",
       " '_EDU_CAT',\n",
       " '_HH_INC_CAT']"
      ]
     },
     "execution_count": 19,
     "metadata": {},
     "output_type": "execute_result"
    }
   ],
   "source": [
    "list(AA.columns)"
   ]
  },
  {
   "cell_type": "code",
   "execution_count": 20,
   "id": "d808081b-9a6f-4dbc-9277-426c346d8219",
   "metadata": {
    "tags": []
   },
   "outputs": [],
   "source": [
    "educ=pd.get_dummies(AA['_EDU_CAT'])"
   ]
  },
  {
   "cell_type": "code",
   "execution_count": 21,
   "id": "8b0f479d-dbcc-4be8-9688-71aa1cf33e9e",
   "metadata": {
    "tags": []
   },
   "outputs": [],
   "source": [
    "age=pd.get_dummies(AA['_AGE_CAT'])"
   ]
  },
  {
   "cell_type": "code",
   "execution_count": 22,
   "id": "755576ed-06ba-4438-a4de-7f2fe87a6ac6",
   "metadata": {
    "tags": []
   },
   "outputs": [],
   "source": [
    "income=pd.get_dummies(AA['_HH_INC_CAT'])"
   ]
  },
  {
   "cell_type": "code",
   "execution_count": 23,
   "id": "0b7a1fd2-07c1-4342-9a86-f002f4f3d66d",
   "metadata": {
    "tags": []
   },
   "outputs": [],
   "source": [
    "numeracy=pd.get_dummies(AA['_NUM_CAT'])"
   ]
  },
  {
   "cell_type": "code",
   "execution_count": 24,
   "id": "cb12e671-fdc1-4181-a15d-d82e5a459802",
   "metadata": {
    "tags": []
   },
   "outputs": [
    {
     "data": {
      "text/plain": [
       "16265"
      ]
     },
     "execution_count": 24,
     "metadata": {},
     "output_type": "execute_result"
    }
   ],
   "source": [
    "np.sum(educ['High School'])"
   ]
  },
  {
   "cell_type": "code",
   "execution_count": 25,
   "id": "51a9151c-07fd-4f7f-9b09-dd2974f67c5f",
   "metadata": {
    "tags": []
   },
   "outputs": [],
   "source": [
    "BC = pd.concat([AA, educ], axis=1).reindex(AA.index) #BC est pour Base complète. Ici, on complète la base avec des dummies"
   ]
  },
  {
   "cell_type": "code",
   "execution_count": 26,
   "id": "8fb4aa37-7255-4bf6-af97-97e92ff9d97e",
   "metadata": {
    "tags": []
   },
   "outputs": [],
   "source": [
    "BC = pd.concat([BC, age], axis=1).reindex(BC.index)"
   ]
  },
  {
   "cell_type": "code",
   "execution_count": 27,
   "id": "8073fea0-9be3-41e2-b448-929b38c59479",
   "metadata": {
    "tags": []
   },
   "outputs": [],
   "source": [
    "BC = pd.concat([BC, income], axis=1).reindex(BC.index)"
   ]
  },
  {
   "cell_type": "code",
   "execution_count": 28,
   "id": "98aa1eb4-913d-43a7-817a-66164e068899",
   "metadata": {
    "tags": []
   },
   "outputs": [],
   "source": [
    "BC = pd.concat([BC, numeracy], axis=1).reindex(BC.index)"
   ]
  },
  {
   "cell_type": "markdown",
   "id": "ddf7bf6a-2ea6-4e40-b21a-25081a26df60",
   "metadata": {},
   "source": [
    "On code maintenant le genre :"
   ]
  },
  {
   "cell_type": "code",
   "execution_count": 29,
   "id": "2e1a3a8b-62cd-4339-9da9-188ccfeda8b6",
   "metadata": {
    "tags": []
   },
   "outputs": [],
   "source": [
    "%%capture\n",
    "gender=pd.get_dummies(AA['Q33'])"
   ]
  },
  {
   "cell_type": "code",
   "execution_count": 30,
   "id": "66fad095-1922-431a-9325-ad5fb6fb0597",
   "metadata": {
    "tags": []
   },
   "outputs": [],
   "source": [
    "gender.rename(columns={1: \"fem\"}, inplace=True)"
   ]
  },
  {
   "cell_type": "code",
   "execution_count": 31,
   "id": "e870ee78-53a8-4afc-b06a-537d12a58f3d",
   "metadata": {
    "tags": []
   },
   "outputs": [],
   "source": [
    "BC = pd.concat([BC, gender['fem']], axis=1).reindex(BC.index)"
   ]
  },
  {
   "cell_type": "markdown",
   "id": "b23094f3-2e43-48bc-b89b-aba6bdb685ff",
   "metadata": {},
   "source": [
    "C'est fait pour le genre. "
   ]
  },
  {
   "cell_type": "markdown",
   "id": "51b52565-f57d-46a6-b5a2-21e6126d0ea9",
   "metadata": {},
   "source": [
    "Faisons le ménage dans les non-réponses et dans les outliers :"
   ]
  },
  {
   "cell_type": "code",
   "execution_count": 32,
   "id": "35ef51a1-2dc2-4a3a-9182-406d12d3ae18",
   "metadata": {
    "tags": []
   },
   "outputs": [],
   "source": [
    "BC=BC.dropna(subset=['Q8v2part2','Q9bv2part2']) #On supprime les personnes qui n'ont pas répondu aux questions sur les anticipations d'inflation. "
   ]
  },
  {
   "cell_type": "markdown",
   "id": "b29b2847-9586-4e74-8850-0c816ab1c8e1",
   "metadata": {},
   "source": [
    "Supprimons les outliers"
   ]
  },
  {
   "cell_type": "code",
   "execution_count": 33,
   "id": "5a8746aa-8a07-4b18-ae76-9a3bc5b584cf",
   "metadata": {
    "tags": []
   },
   "outputs": [],
   "source": [
    "test=BC[BC['Q8v2part2']<=20]\n",
    "test=test[test['Q8v2part2']>=-20]"
   ]
  },
  {
   "cell_type": "code",
   "execution_count": 34,
   "id": "475588a4-bc33-416f-aa95-5ef73acf4e91",
   "metadata": {
    "tags": []
   },
   "outputs": [
    {
     "data": {
      "text/plain": [
       "20"
      ]
     },
     "execution_count": 34,
     "metadata": {},
     "output_type": "execute_result"
    }
   ],
   "source": [
    "max(test['Q8v2part2'])"
   ]
  },
  {
   "cell_type": "code",
   "execution_count": 35,
   "id": "8d79a9f9-cccd-46a5-8e63-81ff91b79c3e",
   "metadata": {
    "tags": []
   },
   "outputs": [
    {
     "data": {
      "text/html": [
       "<table class=\"simpletable\">\n",
       "<caption>OLS Regression Results</caption>\n",
       "<tr>\n",
       "  <th>Dep. Variable:</th>        <td>Q8v2part2</td>    <th>  R-squared (uncentered):</th>       <td>   0.003</td>  \n",
       "</tr>\n",
       "<tr>\n",
       "  <th>Model:</th>                   <td>OLS</td>       <th>  Adj. R-squared (uncentered):</th>  <td>   0.003</td>  \n",
       "</tr>\n",
       "<tr>\n",
       "  <th>Method:</th>             <td>Least Squares</td>  <th>  F-statistic:       </th>           <td>   418.8</td>  \n",
       "</tr>\n",
       "<tr>\n",
       "  <th>Date:</th>             <td>Sat, 22 Apr 2023</td> <th>  Prob (F-statistic):</th>           <td>5.95e-93</td>  \n",
       "</tr>\n",
       "<tr>\n",
       "  <th>Time:</th>                 <td>13:53:56</td>     <th>  Log-Likelihood:    </th>          <td>-7.5224e+05</td>\n",
       "</tr>\n",
       "<tr>\n",
       "  <th>No. Observations:</th>      <td>140880</td>      <th>  AIC:               </th>           <td>1.504e+06</td> \n",
       "</tr>\n",
       "<tr>\n",
       "  <th>Df Residuals:</th>          <td>140879</td>      <th>  BIC:               </th>           <td>1.504e+06</td> \n",
       "</tr>\n",
       "<tr>\n",
       "  <th>Df Model:</th>              <td>     1</td>      <th>                     </th>               <td> </td>     \n",
       "</tr>\n",
       "<tr>\n",
       "  <th>Covariance Type:</th>      <td>nonrobust</td>    <th>                     </th>               <td> </td>     \n",
       "</tr>\n",
       "</table>\n",
       "<table class=\"simpletable\">\n",
       "<tr>\n",
       "   <td></td>      <th>coef</th>     <th>std err</th>      <th>t</th>      <th>P>|t|</th>  <th>[0.025</th>    <th>0.975]</th>  \n",
       "</tr>\n",
       "<tr>\n",
       "  <th>fem</th> <td>   10.6235</td> <td>    0.519</td> <td>   20.466</td> <td> 0.000</td> <td>    9.606</td> <td>   11.641</td>\n",
       "</tr>\n",
       "</table>\n",
       "<table class=\"simpletable\">\n",
       "<tr>\n",
       "  <th>Omnibus:</th>       <td>680557.409</td> <th>  Durbin-Watson:     </th>     <td>   1.389</td>     \n",
       "</tr>\n",
       "<tr>\n",
       "  <th>Prob(Omnibus):</th>   <td> 0.000</td>   <th>  Jarque-Bera (JB):  </th> <td>9377588790626.291</td>\n",
       "</tr>\n",
       "<tr>\n",
       "  <th>Skew:</th>            <td>191.697</td>  <th>  Prob(JB):          </th>     <td>    0.00</td>     \n",
       "</tr>\n",
       "<tr>\n",
       "  <th>Kurtosis:</th>       <td>39970.461</td> <th>  Cond. No.          </th>     <td>    1.00</td>     \n",
       "</tr>\n",
       "</table><br/><br/>Notes:<br/>[1] R² is computed without centering (uncentered) since the model does not contain a constant.<br/>[2] Standard Errors assume that the covariance matrix of the errors is correctly specified."
      ],
      "text/plain": [
       "<class 'statsmodels.iolib.summary.Summary'>\n",
       "\"\"\"\n",
       "                                 OLS Regression Results                                \n",
       "=======================================================================================\n",
       "Dep. Variable:              Q8v2part2   R-squared (uncentered):                   0.003\n",
       "Model:                            OLS   Adj. R-squared (uncentered):              0.003\n",
       "Method:                 Least Squares   F-statistic:                              418.8\n",
       "Date:                Sat, 22 Apr 2023   Prob (F-statistic):                    5.95e-93\n",
       "Time:                        13:53:56   Log-Likelihood:                     -7.5224e+05\n",
       "No. Observations:              140880   AIC:                                  1.504e+06\n",
       "Df Residuals:                  140879   BIC:                                  1.504e+06\n",
       "Df Model:                           1                                                  \n",
       "Covariance Type:            nonrobust                                                  \n",
       "==============================================================================\n",
       "                 coef    std err          t      P>|t|      [0.025      0.975]\n",
       "------------------------------------------------------------------------------\n",
       "fem           10.6235      0.519     20.466      0.000       9.606      11.641\n",
       "==============================================================================\n",
       "Omnibus:                   680557.409   Durbin-Watson:                   1.389\n",
       "Prob(Omnibus):                  0.000   Jarque-Bera (JB):    9377588790626.291\n",
       "Skew:                         191.697   Prob(JB):                         0.00\n",
       "Kurtosis:                   39970.461   Cond. No.                         1.00\n",
       "==============================================================================\n",
       "\n",
       "Notes:\n",
       "[1] R² is computed without centering (uncentered) since the model does not contain a constant.\n",
       "[2] Standard Errors assume that the covariance matrix of the errors is correctly specified.\n",
       "\"\"\""
      ]
     },
     "execution_count": 35,
     "metadata": {},
     "output_type": "execute_result"
    }
   ],
   "source": [
    "model = OLS(BC['Q8v2part2'].astype('float'),BC['fem'].astype('float'))\n",
    "results = model.fit()\n",
    "su = results.summary()\n",
    "su"
   ]
  },
  {
   "cell_type": "markdown",
   "id": "d5910f36-994e-40fe-aefe-9ab0b7e2ebbf",
   "metadata": {},
   "source": [
    "Calcul de l'inflation :"
   ]
  },
  {
   "cell_type": "code",
   "execution_count": 36,
   "id": "237dc92f-5f61-4aaf-a577-9392c3afc168",
   "metadata": {
    "tags": []
   },
   "outputs": [],
   "source": [
    "inflation_US = OECD[(OECD['Country'] == \"United States\") & (OECD['Subject2'] == \"Consumer prices: all items\")]\n",
    "inflation_US2 = pd.DataFrame({\n",
    "    'day': pd.to_datetime(inflation_US['Time'], format='%Y-%m-%d'),\n",
    "    'Inflation': inflation_US['Value'].astype(float)\n",
    "})\n",
    "\n",
    "inflation_US3 = pd.DataFrame({\n",
    "    'date': inflation_US2['day'],\n",
    "    'tx_evol_ann_pct': (inflation_US2['Inflation'] / inflation_US2['Inflation'].shift(12) - 1) * 100\n",
    "})\n"
   ]
  },
  {
   "cell_type": "code",
   "execution_count": 37,
   "id": "14793a68-4393-4469-a20f-ee96da06259c",
   "metadata": {
    "tags": []
   },
   "outputs": [],
   "source": [
    "test['inflation t']=0"
   ]
  },
  {
   "cell_type": "code",
   "execution_count": 38,
   "id": "3bf5ac15-aa46-48ca-82fe-76858e7e30cb",
   "metadata": {
    "tags": []
   },
   "outputs": [],
   "source": [
    "df3 = pd.merge(test,inflation_US3,how='outer',left_on=['date'],right_on=['date'])\n"
   ]
  },
  {
   "cell_type": "code",
   "execution_count": 39,
   "id": "f543142a-b97e-4e62-9200-c046aafb5476",
   "metadata": {
    "tags": []
   },
   "outputs": [],
   "source": [
    "df3=df3[df3['Q1'].notnull()]"
   ]
  },
  {
   "cell_type": "code",
   "execution_count": 40,
   "id": "0d3dacb9-4d2e-493f-bf2b-a6584f13cfaf",
   "metadata": {
    "tags": []
   },
   "outputs": [],
   "source": [
    "BF=df3"
   ]
  },
  {
   "cell_type": "markdown",
   "id": "709315cb-df52-4f92-a79f-661faf74a95f",
   "metadata": {},
   "source": [
    "## **ON LAISSE DE CÔTÉ LES INDICATEURS D'INSTABILITÉ, LEUR CONSTRUCTION EST TROP ARBITRAIRE ET PAS INTERPRÉTABLE**"
   ]
  },
  {
   "cell_type": "markdown",
   "id": "2165e371-8380-4bd8-a600-fa6cfb5c4393",
   "metadata": {},
   "source": [
    "## Définition d'un indicateur d'instabilité personelle :"
   ]
  },
  {
   "cell_type": "markdown",
   "id": "dd60b985-feda-4e13-a3c1-6657c9a748a7",
   "metadata": {},
   "source": [
    "On va définir les variables qu'il serait pertinent d'inclure : \n",
    "- Q3 : proba changement de résidence dans les douze prochain mois\n",
    "- Q10 : 3 : chomeurs\n",
    "- Q13new: proba de changer d'emploi\n",
    "- Q25v2 : 3 : anticipe baisse de revenus\n",
    "- Q30new : proba de ne pas réussir à payer un prêt\n",
    "\n"
   ]
  },
  {
   "cell_type": "code",
   "execution_count": 41,
   "id": "7fd21c60-6576-402a-a768-7d9ed5ddfb30",
   "metadata": {
    "tags": []
   },
   "outputs": [],
   "source": [
    "#BF.loc[BF['Q25v2']==3, 'loss expectation'] = 1 #On binarise le fait d'anticiper une baisse de ses revenus"
   ]
  },
  {
   "cell_type": "code",
   "execution_count": 42,
   "id": "c4e6dd3f-7ee6-4bd3-ac42-74328d00b11b",
   "metadata": {
    "tags": []
   },
   "outputs": [],
   "source": [
    "#BF['indic_perso']=(BF.fillna(0)['Q3']/100+BF.fillna(0)['Q10_3']+BF.fillna(0)['Q13new']/100+BF.fillna(0)['loss expectation']+BF.fillna(0)['Q30new']/100)/5"
   ]
  },
  {
   "cell_type": "markdown",
   "id": "7522d7de-6b25-4825-aa32-9a0b9dd22e7e",
   "metadata": {},
   "source": [
    "*j'ai remplacé le 4 de la division par 5 pcq je crois qu'il y a 5 éléments, mais si c'est pas bien supprime ; dans tous les cas ça changera pas grand-chose à la régression puisque c'est proportionnel*"
   ]
  },
  {
   "cell_type": "markdown",
   "id": "18458975-692e-46db-ad1b-71cd0b83d69f",
   "metadata": {},
   "source": [
    "*par contre c'est pas un peu chaud de remplacer tous les nan par des 0?*"
   ]
  },
  {
   "cell_type": "markdown",
   "id": "e5e6e3dc-102a-454d-a327-2c0a7923090f",
   "metadata": {},
   "source": [
    "Faisons quelques statistiques descriptives dessus :"
   ]
  },
  {
   "cell_type": "code",
   "execution_count": 43,
   "id": "b422c18c-57ae-4f10-bd24-7841a1da2f1f",
   "metadata": {
    "tags": []
   },
   "outputs": [],
   "source": [
    "#import statistics as stat"
   ]
  },
  {
   "cell_type": "code",
   "execution_count": 44,
   "id": "f61badf7-3953-448b-8d91-90ef50312f5f",
   "metadata": {
    "tags": []
   },
   "outputs": [],
   "source": [
    "#stat.median(BF['indic_perso'])"
   ]
  },
  {
   "cell_type": "code",
   "execution_count": 45,
   "id": "9f60a20a-c2d9-401e-b165-daccb809a7fa",
   "metadata": {
    "tags": []
   },
   "outputs": [],
   "source": [
    "#stat.mean(BF['indic_perso'])"
   ]
  },
  {
   "cell_type": "code",
   "execution_count": 46,
   "id": "27d2e668-096c-4b4b-ab8a-42c686c922e7",
   "metadata": {
    "tags": []
   },
   "outputs": [],
   "source": [
    "#def weighted_average(dataframe, value, weight):\n",
    "    #val = dataframe[value]\n",
    "    #wt = dataframe[weight]\n",
    "    #return (val * wt).sum() / wt.sum()"
   ]
  },
  {
   "cell_type": "code",
   "execution_count": 47,
   "id": "4354ff63-348a-431d-b09c-e4c8ab5d6505",
   "metadata": {
    "tags": []
   },
   "outputs": [],
   "source": [
    "#weighted_average(BF, 'indic_perso', 'weight')"
   ]
  },
  {
   "cell_type": "code",
   "execution_count": 48,
   "id": "f0e82dc7-250f-48a0-9542-0f2f35ffa766",
   "metadata": {
    "tags": []
   },
   "outputs": [],
   "source": [
    "#stat.pstdev(BF['indic_perso'])"
   ]
  },
  {
   "cell_type": "code",
   "execution_count": 49,
   "id": "a4649bec-7cc1-4862-a72b-c3d5186af598",
   "metadata": {
    "tags": []
   },
   "outputs": [],
   "source": [
    "#len(BF['Q8v2part2'])"
   ]
  },
  {
   "cell_type": "code",
   "execution_count": 50,
   "id": "7c08e8d1-bec4-4443-b257-b3782e08bb00",
   "metadata": {
    "tags": []
   },
   "outputs": [],
   "source": [
    "#BF.dropna(subset=['weight'], inplace=True)"
   ]
  },
  {
   "cell_type": "code",
   "execution_count": 51,
   "id": "79385f6b-3650-4af1-b536-ae9c5b3a872a",
   "metadata": {
    "tags": []
   },
   "outputs": [],
   "source": [
    "poids = BF['weight'].astype('float')"
   ]
  },
  {
   "cell_type": "code",
   "execution_count": 52,
   "id": "4ec73c2c-2b41-4dcf-b6e6-abc4580f31b3",
   "metadata": {
    "tags": []
   },
   "outputs": [],
   "source": [
    "#Y = BF['Q8v2part2'].astype('float')\n",
    "#X = BF.fillna(0)[['tx_evol_ann_pct','indic_perso']]\n",
    "#X = sm.add_constant(X)\n",
    "#model = sm.OLS(Y,X)\n",
    "#results = model.fit()\n",
    "#su = results.summary()\n",
    "#su"
   ]
  },
  {
   "cell_type": "markdown",
   "id": "6a896cc2-fc57-4d2d-95a1-102cd8fdb2b6",
   "metadata": {},
   "source": [
    "### Alternative : on sépare les différents aspects de l'instabilité personnelle pour ne pas leur donner un poids arbitraire"
   ]
  },
  {
   "cell_type": "code",
   "execution_count": 53,
   "id": "7163aa31-0b6e-4fa2-ae1b-35bbfab3d60a",
   "metadata": {
    "tags": []
   },
   "outputs": [
    {
     "data": {
      "text/plain": [
       "0          50\n",
       "1          25\n",
       "2           3\n",
       "3           0\n",
       "4          10\n",
       "         ... \n",
       "130639      0\n",
       "130640     11\n",
       "130641     25\n",
       "130642    100\n",
       "130643      0\n",
       "Name: Q3, Length: 130597, dtype: object"
      ]
     },
     "execution_count": 53,
     "metadata": {},
     "output_type": "execute_result"
    }
   ],
   "source": [
    "#Allure proba de changement de résidence sous 12 mois\n",
    "BF['Q3']"
   ]
  },
  {
   "cell_type": "code",
   "execution_count": 54,
   "id": "bb8ed549-c844-4c1f-a771-3027374f978f",
   "metadata": {
    "tags": []
   },
   "outputs": [
    {
     "name": "stderr",
     "output_type": "stream",
     "text": [
      "/opt/mamba/lib/python3.10/site-packages/numpy/lib/histograms.py:837: RuntimeWarning: invalid value encountered in greater_equal\n",
      "  keep = (tmp_a >= first_edge)\n",
      "/opt/mamba/lib/python3.10/site-packages/numpy/lib/histograms.py:838: RuntimeWarning: invalid value encountered in less_equal\n",
      "  keep &= (tmp_a <= last_edge)\n"
     ]
    },
    {
     "data": {
      "image/png": "[encoded data removed]",
      "text/plain": [
       "<Figure size 640x480 with 1 Axes>"
      ]
     },
     "metadata": {},
     "output_type": "display_data"
    }
   ],
   "source": [
    "plt.hist(BF['Q3'], bins=50, edgecolor='black', weights = BF['weight'].astype(float))\n",
    "plt.xlabel('proba estimée de changement de résidence sous 12 mois')\n",
    "plt.ylabel('Nombre d\\'observations')\n",
    "plt.title('Histogramme de répartition de Q3')\n",
    "plt.xlim(right=110)\n",
    "plt.show()"
   ]
  },
  {
   "cell_type": "code",
   "execution_count": 130,
   "id": "3d8e1d0b-cb1c-405e-be3b-c4c44cf86d1c",
   "metadata": {
    "tags": []
   },
   "outputs": [
    {
     "data": {
      "image/png": "[encoded data removed]",
      "text/plain": [
       "<Figure size 640x480 with 1 Axes>"
      ]
     },
     "metadata": {},
     "output_type": "display_data"
    }
   ],
   "source": [
    "df = pd.DataFrame({'Q3': BF['Q3'], 'Q8v2part2': BF['Q8v2part2'], 'weight': BF['weight']})\n",
    "df = df[df['Q3'] <= 110]\n",
    "groups = df.groupby('Q3')\n",
    "mean_q8v2part2 = groups.apply(lambda x: (x['Q8v2part2'] * x['weight']).sum() / x['weight'].sum())\n",
    "\n",
    "plt.plot(mean_q8v2part2.index, mean_q8v2part2.values, 'o', markersize=4, color = 'orange')\n",
    "\n",
    "plt.xlabel('Probabilité de changer de résidence')\n",
    "plt.ylabel('Anticipations à 12 mois')\n",
    "plt.title('Graphe du anticipations à 12 mois moyen en fonction de la probabilité de changer de résidence')\n",
    "plt.show()"
   ]
  },
  {
   "cell_type": "markdown",
   "id": "bba6fcfb-3cef-4dfa-815f-114a8be4d763",
   "metadata": {},
   "source": [
    "Alors on voit pas de relation linéaire du tout, mais on pense voir une dispersion plus grande aux alentours de 50 (donc les indécis)"
   ]
  },
  {
   "cell_type": "code",
   "execution_count": 131,
   "id": "5d8d3a31-c483-4df1-8a45-f0ab93a1197a",
   "metadata": {
    "tags": []
   },
   "outputs": [
    {
     "data": {
      "image/png": "[encoded data removed]",
      "text/plain": [
       "<Figure size 640x480 with 1 Axes>"
      ]
     },
     "metadata": {},
     "output_type": "display_data"
    }
   ],
   "source": [
    "df = pd.DataFrame({'Q3': BF['Q3'], 'Q8v2part2': BF['Q8v2part2'], 'weight': BF['weight']})\n",
    "df = df[df['Q3'] <= 110]\n",
    "groups = df.groupby('Q3')\n",
    "\n",
    "std_q8v2part2 = groups.apply(lambda x: np.sqrt(((x['Q8v2part2'] - x['Q8v2part2'].mean())**2 * x['weight']).sum() / x['weight'].sum()))\n",
    "\n",
    "plt.plot(std_q8v2part2.index, std_q8v2part2.values, 'o', markersize=4, color='violet')\n",
    "plt.xlabel('Probabilité de changer de résidence')\n",
    "plt.ylabel('Écart-type des anticipations')\n",
    "plt.title('Graphe des écarts-types des anticipations en fonction de la probabilité de changer de résidence')\n",
    "plt.show()"
   ]
  },
  {
   "cell_type": "markdown",
   "id": "0b0aee2e-b70b-4f48-8aec-30c1daa228dc",
   "metadata": {},
   "source": [
    "C'est pas super net mais effectivement il semble ça joue un peu... il faudra faire attention sur les régressions : c'est l'écart à 50 qui compte (en tant que mesure d'indécision)"
   ]
  },
  {
   "cell_type": "code",
   "execution_count": 56,
   "id": "8500cac0-db6e-423d-a11b-a62f12279c35",
   "metadata": {
    "tags": []
   },
   "outputs": [
    {
     "name": "stdout",
     "output_type": "stream",
     "text": [
      "nb de valeurs manquantes dans Q3 : 440\n"
     ]
    }
   ],
   "source": [
    "print(\"nb de valeurs manquantes dans Q3 : \"+str(BF['Q3'].isnull().sum()))"
   ]
  },
  {
   "cell_type": "code",
   "execution_count": 57,
   "id": "5419a79f-d28d-4b2c-8dcf-d6edcae09527",
   "metadata": {
    "tags": []
   },
   "outputs": [
    {
     "data": {
      "text/plain": [
       "0         0\n",
       "1         0\n",
       "2         0\n",
       "3         0\n",
       "4         0\n",
       "         ..\n",
       "130639    0\n",
       "130640    0\n",
       "130641    0\n",
       "130642    0\n",
       "130643    0\n",
       "Name: Q10_3, Length: 130597, dtype: object"
      ]
     },
     "execution_count": 57,
     "metadata": {},
     "output_type": "execute_result"
    }
   ],
   "source": [
    "#Allure de l'indicatrice du chômage\n",
    "BF['Q10_3']"
   ]
  },
  {
   "cell_type": "code",
   "execution_count": 58,
   "id": "fa158b36-af6f-4620-94c4-1801f55eb4f9",
   "metadata": {
    "tags": []
   },
   "outputs": [
    {
     "name": "stdout",
     "output_type": "stream",
     "text": [
      "Nombre d'actifs:  126162\n",
      "Nombre de chômeurs:  4435\n"
     ]
    }
   ],
   "source": [
    "counts = BF['Q10_3'].value_counts()\n",
    "print(\"Nombre d'actifs: \", counts[0])\n",
    "print(\"Nombre de chômeurs: \", counts[1])"
   ]
  },
  {
   "cell_type": "code",
   "execution_count": 134,
   "id": "2047b97b-c14a-4c7f-a592-0118f78eaa76",
   "metadata": {
    "tags": []
   },
   "outputs": [
    {
     "name": "stdout",
     "output_type": "stream",
     "text": [
      "AVEC POIDS\n",
      "Actifs:  121256.31592203677\n",
      "Chômeurs:  4659.482956960797\n"
     ]
    }
   ],
   "source": [
    "BF_clean = BF.dropna(subset=['weight'])\n",
    "print(\"AVEC POIDS\")\n",
    "print(\"Actifs: \", sum(BF_clean.loc[BF_clean['Q10_3'] == 0, 'weight']))\n",
    "print(\"Chômeurs: \", sum(BF_clean.loc[BF_clean['Q10_3'] == 1, 'weight']))"
   ]
  },
  {
   "cell_type": "code",
   "execution_count": 133,
   "id": "68ae852b-e3be-4adb-831c-318e53eee19f",
   "metadata": {
    "tags": []
   },
   "outputs": [
    {
     "name": "stdout",
     "output_type": "stream",
     "text": [
      "La valeur moyenne des anticipations chez les individus qui ne sont pas au chômage est :  4.496042411150647\n",
      "La valeur moyenne des anticipations chez les individus qui sont au chômage est :  5.207286630988982\n"
     ]
    }
   ],
   "source": [
    "df = pd.DataFrame({'Q8v2part2': BF['Q8v2part2'], 'Q10_3': BF['Q10_3'], 'weight': BF['weight']})\n",
    "df = df[df['Q10_3'] == 0]\n",
    "mean_q8v2part2 = (df['Q8v2part2'] * df['weight']).sum() / df['weight'].sum()\n",
    "\n",
    "print(\"La valeur moyenne des anticipations chez les individus qui ne sont pas au chômage est : \", mean_q8v2part2)\n",
    "\n",
    "df = pd.DataFrame({'Q8v2part2': BF['Q8v2part2'], 'Q10_3': BF['Q10_3'], 'weight': BF['weight']})\n",
    "df = df[df['Q10_3'] == 1]\n",
    "mean_q8v2part2 = (df['Q8v2part2'] * df['weight']).sum() / df['weight'].sum()\n",
    "\n",
    "print(\"La valeur moyenne des anticipations chez les individus qui sont au chômage est : \", mean_q8v2part2)"
   ]
  },
  {
   "cell_type": "markdown",
   "id": "adb7e5f7-3a90-4498-9de1-87bd7ef200bd",
   "metadata": {},
   "source": [
    "La différence est très importante"
   ]
  },
  {
   "cell_type": "code",
   "execution_count": 60,
   "id": "e49e57f9-6527-4f73-a78e-9e428e16cc3e",
   "metadata": {
    "tags": []
   },
   "outputs": [
    {
     "name": "stdout",
     "output_type": "stream",
     "text": [
      "nb de valeurs manquantes dans Q10_3 : 0\n"
     ]
    }
   ],
   "source": [
    "print(\"nb de valeurs manquantes dans Q10_3 : \"+str(BF['Q10_3'].isnull().sum()))"
   ]
  },
  {
   "cell_type": "markdown",
   "id": "07dd2ffb-d54f-4546-9270-31edfb1714b9",
   "metadata": {},
   "source": [
    "le chômage est tjrs renseigné, c'est cool"
   ]
  },
  {
   "cell_type": "code",
   "execution_count": 61,
   "id": "ee87f673-fea8-482a-b167-6afb56d906f1",
   "metadata": {
    "tags": []
   },
   "outputs": [
    {
     "data": {
      "text/plain": [
       "0         NaN\n",
       "1         NaN\n",
       "2         NaN\n",
       "3         NaN\n",
       "4          30\n",
       "         ... \n",
       "130639      6\n",
       "130640     20\n",
       "130641      0\n",
       "130642      5\n",
       "130643      0\n",
       "Name: Q13new, Length: 130597, dtype: object"
      ]
     },
     "execution_count": 61,
     "metadata": {},
     "output_type": "execute_result"
    }
   ],
   "source": [
    "#Allure proba changer d'emploi\n",
    "BF['Q13new']"
   ]
  },
  {
   "cell_type": "code",
   "execution_count": 62,
   "id": "24be9169-16c7-404c-9f68-4bc457577da0",
   "metadata": {
    "tags": []
   },
   "outputs": [
    {
     "name": "stdout",
     "output_type": "stream",
     "text": [
      "nb de valeurs manquantes dans Q13new : 53431\n"
     ]
    }
   ],
   "source": [
    "print(\"nb de valeurs manquantes dans Q13new : \"+str(BF['Q13new'].isnull().sum()))"
   ]
  },
  {
   "cell_type": "markdown",
   "id": "080d9e7c-1561-4d94-b8b3-702d764d8e5a",
   "metadata": {
    "tags": []
   },
   "source": [
    "*c'est une catastrophe absolue, quasiment la moitié des participants n'y ont pas répondu...\n",
    "il faudra sans doute faire une régression qui ne le prend pas en compte ;\n",
    "je ne fais pas de stat descriptive dessus*"
   ]
  },
  {
   "cell_type": "code",
   "execution_count": 63,
   "id": "485ed78e-0888-4adb-a8a8-83ab85f1693c",
   "metadata": {
    "tags": []
   },
   "outputs": [
    {
     "data": {
      "text/plain": [
       "0         3\n",
       "1         1\n",
       "2         1\n",
       "3         1\n",
       "4         3\n",
       "         ..\n",
       "130639    1\n",
       "130640    1\n",
       "130641    1\n",
       "130642    1\n",
       "130643    1\n",
       "Name: Q25v2, Length: 130597, dtype: object"
      ]
     },
     "execution_count": 63,
     "metadata": {},
     "output_type": "execute_result"
    }
   ],
   "source": [
    "#Allure anticipation baisse revenus\n",
    "BF['Q25v2']"
   ]
  },
  {
   "cell_type": "code",
   "execution_count": 64,
   "id": "e8afc79b-1b11-4578-bd5a-13d6b3cf859a",
   "metadata": {
    "tags": []
   },
   "outputs": [
    {
     "name": "stdout",
     "output_type": "stream",
     "text": [
      "Anticipation d'augmentation des revenus du ménage:  114036\n",
      "Anticipation de diminution des revenus du ménage:  16501\n"
     ]
    }
   ],
   "source": [
    "counts = BF['Q25v2'].value_counts()\n",
    "print(\"Anticipation d'augmentation des revenus du ménage: \", counts[1])\n",
    "print(\"Anticipation de diminution des revenus du ménage: \", counts[3])"
   ]
  },
  {
   "cell_type": "code",
   "execution_count": 65,
   "id": "7118a609-deea-456e-86bb-36265c6c8b23",
   "metadata": {
    "tags": []
   },
   "outputs": [
    {
     "name": "stdout",
     "output_type": "stream",
     "text": [
      "AVEC POIDS\n",
      "Anticipation d'augmentation des revenus du ménage:  109126.75136373937\n",
      "Anticipation de diminution des revenus du ménage:  16718.225292161107\n"
     ]
    }
   ],
   "source": [
    "BF_clean = BF.dropna(subset=['weight'])\n",
    "print(\"AVEC POIDS\")\n",
    "print(\"Anticipation d'augmentation des revenus du ménage: \", sum(BF_clean.loc[BF_clean['Q25v2'] == 1, 'weight']))\n",
    "print(\"Anticipation de diminution des revenus du ménage: \", sum(BF_clean.loc[BF_clean['Q25v2'] == 3, 'weight']))"
   ]
  },
  {
   "cell_type": "code",
   "execution_count": 136,
   "id": "7c0f9f40-10b8-4fda-8586-5c34a56d20ce",
   "metadata": {
    "tags": []
   },
   "outputs": [
    {
     "name": "stdout",
     "output_type": "stream",
     "text": [
      "Moyenne des anticipations chez les individus qui pensent que leurs revenus vont augmenter :  4.441771370334867\n",
      "Moyenne des anticipations chez les individus qui pensent que leurs revenus vont diminuer :  5.045072494283152\n"
     ]
    }
   ],
   "source": [
    "df = pd.DataFrame({'Q8v2part2': BF['Q8v2part2'], 'Q25v2': BF['Q25v2'], 'weight': BF['weight']})\n",
    "df = df[df['Q25v2'] == 1]\n",
    "mean_q8v2part2 = (df['Q8v2part2'] * df['weight']).sum() / df['weight'].sum()\n",
    "\n",
    "print(\"Moyenne des anticipations chez les individus qui pensent que leurs revenus vont augmenter : \", mean_q8v2part2)\n",
    "\n",
    "df = pd.DataFrame({'Q8v2part2': BF['Q8v2part2'], 'Q25v2': BF['Q25v2'], 'weight': BF['weight']})\n",
    "df = df[df['Q25v2'] == 3]\n",
    "mean_q8v2part2 = (df['Q8v2part2'] * df['weight']).sum() / df['weight'].sum()\n",
    "\n",
    "print(\"Moyenne des anticipations chez les individus qui pensent que leurs revenus vont diminuer : \", mean_q8v2part2)"
   ]
  },
  {
   "cell_type": "markdown",
   "id": "a8a20e07-a1e0-4021-98cf-b145d57b192f",
   "metadata": {},
   "source": [
    "Ça marche bien"
   ]
  },
  {
   "cell_type": "code",
   "execution_count": 66,
   "id": "c2f4f757-2ee1-423e-9c74-c7d4ce9b57ab",
   "metadata": {
    "tags": []
   },
   "outputs": [
    {
     "name": "stdout",
     "output_type": "stream",
     "text": [
      "nb de valeurs manquantes dans Q25v2 : 60\n"
     ]
    }
   ],
   "source": [
    "print(\"nb de valeurs manquantes dans Q25v2 : \"+str(BF['Q25v2'].isnull().sum()))"
   ]
  },
  {
   "cell_type": "code",
   "execution_count": 67,
   "id": "92eb1e33-74da-4a77-ada8-428a0c36854d",
   "metadata": {
    "tags": []
   },
   "outputs": [
    {
     "data": {
      "text/plain": [
       "0         30\n",
       "1          0\n",
       "2         97\n",
       "3          0\n",
       "4          5\n",
       "          ..\n",
       "130639     2\n",
       "130640    10\n",
       "130641    60\n",
       "130642    10\n",
       "130643     0\n",
       "Name: Q30new, Length: 130597, dtype: object"
      ]
     },
     "execution_count": 67,
     "metadata": {},
     "output_type": "execute_result"
    }
   ],
   "source": [
    "#Allure proba ne pas réussir à rembourser un prêt\n",
    "BF['Q30new']"
   ]
  },
  {
   "cell_type": "code",
   "execution_count": 68,
   "id": "7c6f788a-1520-4975-b063-1b57240ba4cd",
   "metadata": {
    "tags": []
   },
   "outputs": [
    {
     "name": "stderr",
     "output_type": "stream",
     "text": [
      "/opt/mamba/lib/python3.10/site-packages/numpy/lib/histograms.py:837: RuntimeWarning: invalid value encountered in greater_equal\n",
      "  keep = (tmp_a >= first_edge)\n",
      "/opt/mamba/lib/python3.10/site-packages/numpy/lib/histograms.py:838: RuntimeWarning: invalid value encountered in less_equal\n",
      "  keep &= (tmp_a <= last_edge)\n"
     ]
    },
    {
     "data": {
      "image/png": "[encoded data removed]",
      "text/plain": [
       "<Figure size 640x480 with 1 Axes>"
      ]
     },
     "metadata": {},
     "output_type": "display_data"
    }
   ],
   "source": [
    "plt.hist(BF['Q30new'], bins=50, edgecolor='black', weights = BF['weight'].astype(float))\n",
    "plt.xlabel('proba estimée ne pas réussir à rembourser un prêt')\n",
    "plt.ylabel('Nombre d\\'observations')\n",
    "plt.title('Histogramme de répartition de Q30new')\n",
    "plt.xlim(right=110)\n",
    "plt.show()"
   ]
  },
  {
   "cell_type": "code",
   "execution_count": 137,
   "id": "05b68366-d055-480a-bd5b-7f53b4037df4",
   "metadata": {
    "tags": []
   },
   "outputs": [
    {
     "data": {
      "image/png": "[encoded data removed]",
      "text/plain": [
       "<Figure size 640x480 with 1 Axes>"
      ]
     },
     "metadata": {},
     "output_type": "display_data"
    }
   ],
   "source": [
    "df = pd.DataFrame({'Q30new': BF['Q30new'], 'Q8v2part2': BF['Q8v2part2'], 'weight': BF['weight']})\n",
    "df = df[df['Q30new'] <= 110]\n",
    "groups = df.groupby('Q30new')\n",
    "mean_q8v2part2 = groups.apply(lambda x: (x['Q8v2part2'] * x['weight']).sum() / x['weight'].sum())\n",
    "\n",
    "plt.plot(mean_q8v2part2.index, mean_q8v2part2.values, 'o', markersize=4, color = 'orange')\n",
    "\n",
    "plt.xlabel('Probabilité de ne pas réussir à rembourser un prêt')\n",
    "plt.ylabel('Anticipations à 12 mois')\n",
    "plt.title('Graphe du anticipations à 12 mois moyen en fonction de la probabilité de ne pas réussir à rembourser un prêt')\n",
    "plt.show()"
   ]
  },
  {
   "cell_type": "markdown",
   "id": "4abe8eed-cbfc-4a7d-8609-7ad3a0cee7c0",
   "metadata": {},
   "source": [
    "La relation est très nette. les écarts types semblent aussi bouger "
   ]
  },
  {
   "cell_type": "code",
   "execution_count": 138,
   "id": "4e5cb13e-92d6-44d0-ae82-ba441ca1bf93",
   "metadata": {
    "tags": []
   },
   "outputs": [
    {
     "data": {
      "image/png": "[encoded data removed]",
      "text/plain": [
       "<Figure size 640x480 with 1 Axes>"
      ]
     },
     "metadata": {},
     "output_type": "display_data"
    }
   ],
   "source": [
    "df = pd.DataFrame({'Q30new': BF['Q30new'], 'Q8v2part2': BF['Q8v2part2'], 'weight': BF['weight']})\n",
    "df = df[df['Q30new'] <= 110]\n",
    "groups = df.groupby('Q30new')\n",
    "\n",
    "std_q8v2part2 = groups.apply(lambda x: np.sqrt(((x['Q8v2part2'] - x['Q8v2part2'].mean())**2 * x['weight']).sum() / x['weight'].sum()))\n",
    "\n",
    "plt.plot(std_q8v2part2.index, std_q8v2part2.values, 'o', markersize=4, color='violet')\n",
    "plt.xlabel('Probabilité de ne pas réussir à rembourser un prêt')\n",
    "plt.ylabel('Écart-type des anticipations')\n",
    "plt.title('Graphe des écarts-types des anticipations en fonction de la probabilité de ne pas réussir à rembourser un prêt')\n",
    "plt.show()"
   ]
  },
  {
   "cell_type": "markdown",
   "id": "b8b63816-9683-46c9-aeb4-1ddd24dcddf0",
   "metadata": {},
   "source": [
    "mouais"
   ]
  },
  {
   "cell_type": "code",
   "execution_count": 69,
   "id": "863c7736-1685-4dd0-8447-ad5ec4de4133",
   "metadata": {
    "tags": []
   },
   "outputs": [
    {
     "name": "stdout",
     "output_type": "stream",
     "text": [
      "nb de valeurs manquantes dans Q30new : 226\n"
     ]
    }
   ],
   "source": [
    "print(\"nb de valeurs manquantes dans Q30new : \"+str(BF['Q30new'].isnull().sum()))"
   ]
  },
  {
   "cell_type": "code",
   "execution_count": 70,
   "id": "a9950aff-d408-496d-a042-83aacb651ce3",
   "metadata": {
    "tags": []
   },
   "outputs": [
    {
     "data": {
      "text/html": [
       "<div>\n",
       "<style scoped>\n",
       "    .dataframe tbody tr th:only-of-type {\n",
       "        vertical-align: middle;\n",
       "    }\n",
       "\n",
       "    .dataframe tbody tr th {\n",
       "        vertical-align: top;\n",
       "    }\n",
       "\n",
       "    .dataframe thead th {\n",
       "        text-align: right;\n",
       "    }\n",
       "</style>\n",
       "<table border=\"1\" class=\"dataframe\">\n",
       "  <thead>\n",
       "    <tr style=\"text-align: right;\">\n",
       "      <th></th>\n",
       "      <th>date</th>\n",
       "      <th>userid</th>\n",
       "      <th>tenure</th>\n",
       "      <th>weight</th>\n",
       "      <th>Q1</th>\n",
       "      <th>Q2</th>\n",
       "      <th>Q3</th>\n",
       "      <th>Q4new</th>\n",
       "      <th>Q5new</th>\n",
       "      <th>Q6new</th>\n",
       "      <th>...</th>\n",
       "      <th>Over 60</th>\n",
       "      <th>Under 40</th>\n",
       "      <th>50k to 100k</th>\n",
       "      <th>Over 100k</th>\n",
       "      <th>Under 50k</th>\n",
       "      <th>High</th>\n",
       "      <th>Low</th>\n",
       "      <th>fem</th>\n",
       "      <th>inflation t</th>\n",
       "      <th>tx_evol_ann_pct</th>\n",
       "    </tr>\n",
       "  </thead>\n",
       "  <tbody>\n",
       "    <tr>\n",
       "      <th>0</th>\n",
       "      <td>2013-06-01</td>\n",
       "      <td>70000220</td>\n",
       "      <td>6</td>\n",
       "      <td>16.327999</td>\n",
       "      <td>3</td>\n",
       "      <td>3</td>\n",
       "      <td>50</td>\n",
       "      <td>20</td>\n",
       "      <td>10</td>\n",
       "      <td>15</td>\n",
       "      <td>...</td>\n",
       "      <td>False</td>\n",
       "      <td>True</td>\n",
       "      <td>False</td>\n",
       "      <td>False</td>\n",
       "      <td>True</td>\n",
       "      <td>True</td>\n",
       "      <td>False</td>\n",
       "      <td>True</td>\n",
       "      <td>0.0</td>\n",
       "      <td>1.754417</td>\n",
       "    </tr>\n",
       "    <tr>\n",
       "      <th>1</th>\n",
       "      <td>2013-06-01</td>\n",
       "      <td>70000224</td>\n",
       "      <td>7</td>\n",
       "      <td>0.228</td>\n",
       "      <td>4</td>\n",
       "      <td>4</td>\n",
       "      <td>25</td>\n",
       "      <td>10</td>\n",
       "      <td>25</td>\n",
       "      <td>75</td>\n",
       "      <td>...</td>\n",
       "      <td>True</td>\n",
       "      <td>False</td>\n",
       "      <td>False</td>\n",
       "      <td>True</td>\n",
       "      <td>False</td>\n",
       "      <td>True</td>\n",
       "      <td>False</td>\n",
       "      <td>False</td>\n",
       "      <td>0.0</td>\n",
       "      <td>1.754417</td>\n",
       "    </tr>\n",
       "    <tr>\n",
       "      <th>2</th>\n",
       "      <td>2013-06-01</td>\n",
       "      <td>70000234</td>\n",
       "      <td>6</td>\n",
       "      <td>4.066</td>\n",
       "      <td>4</td>\n",
       "      <td>3</td>\n",
       "      <td>3</td>\n",
       "      <td>9</td>\n",
       "      <td>20</td>\n",
       "      <td>20</td>\n",
       "      <td>...</td>\n",
       "      <td>False</td>\n",
       "      <td>False</td>\n",
       "      <td>False</td>\n",
       "      <td>True</td>\n",
       "      <td>False</td>\n",
       "      <td>True</td>\n",
       "      <td>False</td>\n",
       "      <td>True</td>\n",
       "      <td>0.0</td>\n",
       "      <td>1.754417</td>\n",
       "    </tr>\n",
       "    <tr>\n",
       "      <th>3</th>\n",
       "      <td>2013-06-01</td>\n",
       "      <td>70000238</td>\n",
       "      <td>6</td>\n",
       "      <td>3.035</td>\n",
       "      <td>3</td>\n",
       "      <td>3</td>\n",
       "      <td>0</td>\n",
       "      <td>10</td>\n",
       "      <td>5</td>\n",
       "      <td>70</td>\n",
       "      <td>...</td>\n",
       "      <td>True</td>\n",
       "      <td>False</td>\n",
       "      <td>False</td>\n",
       "      <td>False</td>\n",
       "      <td>True</td>\n",
       "      <td>False</td>\n",
       "      <td>True</td>\n",
       "      <td>False</td>\n",
       "      <td>0.0</td>\n",
       "      <td>1.754417</td>\n",
       "    </tr>\n",
       "    <tr>\n",
       "      <th>4</th>\n",
       "      <td>2013-06-01</td>\n",
       "      <td>70000239</td>\n",
       "      <td>7</td>\n",
       "      <td>1.947</td>\n",
       "      <td>2</td>\n",
       "      <td>3</td>\n",
       "      <td>10</td>\n",
       "      <td>20</td>\n",
       "      <td>20</td>\n",
       "      <td>50</td>\n",
       "      <td>...</td>\n",
       "      <td>True</td>\n",
       "      <td>False</td>\n",
       "      <td>False</td>\n",
       "      <td>False</td>\n",
       "      <td>True</td>\n",
       "      <td>False</td>\n",
       "      <td>True</td>\n",
       "      <td>True</td>\n",
       "      <td>0.0</td>\n",
       "      <td>1.754417</td>\n",
       "    </tr>\n",
       "    <tr>\n",
       "      <th>...</th>\n",
       "      <td>...</td>\n",
       "      <td>...</td>\n",
       "      <td>...</td>\n",
       "      <td>...</td>\n",
       "      <td>...</td>\n",
       "      <td>...</td>\n",
       "      <td>...</td>\n",
       "      <td>...</td>\n",
       "      <td>...</td>\n",
       "      <td>...</td>\n",
       "      <td>...</td>\n",
       "      <td>...</td>\n",
       "      <td>...</td>\n",
       "      <td>...</td>\n",
       "      <td>...</td>\n",
       "      <td>...</td>\n",
       "      <td>...</td>\n",
       "      <td>...</td>\n",
       "      <td>...</td>\n",
       "      <td>...</td>\n",
       "      <td>...</td>\n",
       "    </tr>\n",
       "    <tr>\n",
       "      <th>130639</th>\n",
       "      <td>2022-06-01</td>\n",
       "      <td>75007148</td>\n",
       "      <td>1</td>\n",
       "      <td>0.714652</td>\n",
       "      <td>3</td>\n",
       "      <td>2</td>\n",
       "      <td>0</td>\n",
       "      <td>22</td>\n",
       "      <td>100</td>\n",
       "      <td>10</td>\n",
       "      <td>...</td>\n",
       "      <td>False</td>\n",
       "      <td>True</td>\n",
       "      <td>True</td>\n",
       "      <td>False</td>\n",
       "      <td>False</td>\n",
       "      <td>False</td>\n",
       "      <td>True</td>\n",
       "      <td>True</td>\n",
       "      <td>0.0</td>\n",
       "      <td>9.059758</td>\n",
       "    </tr>\n",
       "    <tr>\n",
       "      <th>130640</th>\n",
       "      <td>2022-06-01</td>\n",
       "      <td>75007149</td>\n",
       "      <td>1</td>\n",
       "      <td>1.373903</td>\n",
       "      <td>1</td>\n",
       "      <td>1</td>\n",
       "      <td>11</td>\n",
       "      <td>0</td>\n",
       "      <td>0</td>\n",
       "      <td>30</td>\n",
       "      <td>...</td>\n",
       "      <td>False</td>\n",
       "      <td>False</td>\n",
       "      <td>False</td>\n",
       "      <td>False</td>\n",
       "      <td>True</td>\n",
       "      <td>True</td>\n",
       "      <td>False</td>\n",
       "      <td>False</td>\n",
       "      <td>0.0</td>\n",
       "      <td>9.059758</td>\n",
       "    </tr>\n",
       "    <tr>\n",
       "      <th>130641</th>\n",
       "      <td>2022-06-01</td>\n",
       "      <td>75007151</td>\n",
       "      <td>1</td>\n",
       "      <td>1.235504</td>\n",
       "      <td>2</td>\n",
       "      <td>4</td>\n",
       "      <td>25</td>\n",
       "      <td>30</td>\n",
       "      <td>0</td>\n",
       "      <td>85</td>\n",
       "      <td>...</td>\n",
       "      <td>False</td>\n",
       "      <td>True</td>\n",
       "      <td>False</td>\n",
       "      <td>False</td>\n",
       "      <td>True</td>\n",
       "      <td>True</td>\n",
       "      <td>False</td>\n",
       "      <td>False</td>\n",
       "      <td>0.0</td>\n",
       "      <td>9.059758</td>\n",
       "    </tr>\n",
       "    <tr>\n",
       "      <th>130642</th>\n",
       "      <td>2022-06-01</td>\n",
       "      <td>75007154</td>\n",
       "      <td>1</td>\n",
       "      <td>0.725876</td>\n",
       "      <td>4</td>\n",
       "      <td>3</td>\n",
       "      <td>100</td>\n",
       "      <td>80</td>\n",
       "      <td>70</td>\n",
       "      <td>90</td>\n",
       "      <td>...</td>\n",
       "      <td>False</td>\n",
       "      <td>True</td>\n",
       "      <td>False</td>\n",
       "      <td>True</td>\n",
       "      <td>False</td>\n",
       "      <td>True</td>\n",
       "      <td>False</td>\n",
       "      <td>False</td>\n",
       "      <td>0.0</td>\n",
       "      <td>9.059758</td>\n",
       "    </tr>\n",
       "    <tr>\n",
       "      <th>130643</th>\n",
       "      <td>2022-06-01</td>\n",
       "      <td>75007158</td>\n",
       "      <td>1</td>\n",
       "      <td>0.524731</td>\n",
       "      <td>3</td>\n",
       "      <td>3</td>\n",
       "      <td>0</td>\n",
       "      <td>50</td>\n",
       "      <td>0</td>\n",
       "      <td>0</td>\n",
       "      <td>...</td>\n",
       "      <td>False</td>\n",
       "      <td>False</td>\n",
       "      <td>True</td>\n",
       "      <td>False</td>\n",
       "      <td>False</td>\n",
       "      <td>True</td>\n",
       "      <td>False</td>\n",
       "      <td>False</td>\n",
       "      <td>0.0</td>\n",
       "      <td>9.059758</td>\n",
       "    </tr>\n",
       "  </tbody>\n",
       "</table>\n",
       "<p>130597 rows × 234 columns</p>\n",
       "</div>"
      ],
      "text/plain": [
       "             date    userid tenure     weight Q1 Q2   Q3 Q4new Q5new Q6new   \n",
       "0      2013-06-01  70000220      6  16.327999  3  3   50    20    10    15  \\\n",
       "1      2013-06-01  70000224      7      0.228  4  4   25    10    25    75   \n",
       "2      2013-06-01  70000234      6      4.066  4  3    3     9    20    20   \n",
       "3      2013-06-01  70000238      6      3.035  3  3    0    10     5    70   \n",
       "4      2013-06-01  70000239      7      1.947  2  3   10    20    20    50   \n",
       "...           ...       ...    ...        ... .. ..  ...   ...   ...   ...   \n",
       "130639 2022-06-01  75007148      1   0.714652  3  2    0    22   100    10   \n",
       "130640 2022-06-01  75007149      1   1.373903  1  1   11     0     0    30   \n",
       "130641 2022-06-01  75007151      1   1.235504  2  4   25    30     0    85   \n",
       "130642 2022-06-01  75007154      1   0.725876  4  3  100    80    70    90   \n",
       "130643 2022-06-01  75007158      1   0.524731  3  3    0    50     0     0   \n",
       "\n",
       "        ... Over 60 Under 40 50k to 100k Over 100k Under 50k   High    Low   \n",
       "0       ...   False     True       False     False      True   True  False  \\\n",
       "1       ...    True    False       False      True     False   True  False   \n",
       "2       ...   False    False       False      True     False   True  False   \n",
       "3       ...    True    False       False     False      True  False   True   \n",
       "4       ...    True    False       False     False      True  False   True   \n",
       "...     ...     ...      ...         ...       ...       ...    ...    ...   \n",
       "130639  ...   False     True        True     False     False  False   True   \n",
       "130640  ...   False    False       False     False      True   True  False   \n",
       "130641  ...   False     True       False     False      True   True  False   \n",
       "130642  ...   False     True       False      True     False   True  False   \n",
       "130643  ...   False    False        True     False     False   True  False   \n",
       "\n",
       "          fem inflation t tx_evol_ann_pct  \n",
       "0        True         0.0        1.754417  \n",
       "1       False         0.0        1.754417  \n",
       "2        True         0.0        1.754417  \n",
       "3       False         0.0        1.754417  \n",
       "4        True         0.0        1.754417  \n",
       "...       ...         ...             ...  \n",
       "130639   True         0.0        9.059758  \n",
       "130640  False         0.0        9.059758  \n",
       "130641  False         0.0        9.059758  \n",
       "130642  False         0.0        9.059758  \n",
       "130643  False         0.0        9.059758  \n",
       "\n",
       "[130597 rows x 234 columns]"
      ]
     },
     "execution_count": 70,
     "metadata": {},
     "output_type": "execute_result"
    }
   ],
   "source": [
    "BF"
   ]
  },
  {
   "cell_type": "code",
   "execution_count": 71,
   "id": "a595a222-c26d-4ea5-a80a-7de6ed992d81",
   "metadata": {
    "tags": []
   },
   "outputs": [],
   "source": [
    "instabilité = ['Q3', 'Q10_3', 'Q13new', 'Q25v2', 'Q30new']"
   ]
  },
  {
   "cell_type": "code",
   "execution_count": 72,
   "id": "1640f440-165e-4ca6-88ec-f829ead74e53",
   "metadata": {
    "tags": []
   },
   "outputs": [],
   "source": [
    "#on fabrique un dataframe sans les valeurs manquantes\n",
    "BF2 = BF.dropna(subset=instabilité)"
   ]
  },
  {
   "cell_type": "code",
   "execution_count": 73,
   "id": "3f969ea2-9c97-4dad-a8db-d002c9d1096a",
   "metadata": {
    "tags": []
   },
   "outputs": [],
   "source": [
    "%%capture\n",
    "#du coup on re binarise\n",
    "BF2.loc[BF['Q25v2']==3, 'loss expectation'] = 1\n",
    "BF2['loss expectation']=BF2.fillna(0)['loss expectation']"
   ]
  },
  {
   "cell_type": "code",
   "execution_count": 74,
   "id": "5bfe666e-eaed-4b67-b96a-834d035115c0",
   "metadata": {
    "tags": []
   },
   "outputs": [],
   "source": [
    "instabilité = ['Q3', 'Q10_3', 'Q13new', 'loss expectation', 'Q30new']"
   ]
  },
  {
   "cell_type": "code",
   "execution_count": 75,
   "id": "51feff40-ac48-4c77-83fb-8e644f3f127f",
   "metadata": {
    "tags": []
   },
   "outputs": [],
   "source": [
    "%%capture\n",
    "#transformation des colonnes en float\n",
    "for element in instabilité :\n",
    "    BF2[element] = BF2[element].astype(float)"
   ]
  },
  {
   "cell_type": "code",
   "execution_count": 76,
   "id": "f4ad5828-6dc1-4efa-b445-44798ef7ca90",
   "metadata": {
    "tags": []
   },
   "outputs": [],
   "source": [
    "BF2 = BF2.rename(columns={'Q3': 'proba chgt résidence',\n",
    "                          'Q10_3': 'chômage',\n",
    "                          'Q13new': 'proba chgt emploi',\n",
    "                          'loss expectation': 'proba perte revenus',\n",
    "                          'Q30new': 'proba ne pas réussir à rembourser un prêt'})"
   ]
  },
  {
   "cell_type": "code",
   "execution_count": 77,
   "id": "c888eef0-bbc2-4bf1-ac08-357b709016a8",
   "metadata": {
    "tags": []
   },
   "outputs": [],
   "source": [
    "BF2.dropna(subset=['weight'], inplace=True)"
   ]
  },
  {
   "cell_type": "code",
   "execution_count": 78,
   "id": "3feb56f0-36c0-4057-84b9-ef014a525c09",
   "metadata": {
    "tags": []
   },
   "outputs": [],
   "source": [
    "instabilité = ['proba chgt résidence',\n",
    "               'chômage',\n",
    "               'proba chgt emploi',\n",
    "               'proba perte revenus',\n",
    "               'proba ne pas réussir à rembourser un prêt']\n",
    "poids = BF2['weight'].astype('float')"
   ]
  },
  {
   "cell_type": "code",
   "execution_count": 79,
   "id": "5e9cfede-95ed-46f1-9725-15c09548e32a",
   "metadata": {
    "tags": []
   },
   "outputs": [
    {
     "data": {
      "text/html": [
       "<table class=\"simpletable\">\n",
       "<caption>WLS Regression Results</caption>\n",
       "<tr>\n",
       "  <th>Dep. Variable:</th>        <td>Q8v2part2</td>    <th>  R-squared:         </th>  <td>   0.004</td>  \n",
       "</tr>\n",
       "<tr>\n",
       "  <th>Model:</th>                   <td>WLS</td>       <th>  Adj. R-squared:    </th>  <td>   0.004</td>  \n",
       "</tr>\n",
       "<tr>\n",
       "  <th>Method:</th>             <td>Least Squares</td>  <th>  F-statistic:       </th>  <td>   66.01</td>  \n",
       "</tr>\n",
       "<tr>\n",
       "  <th>Date:</th>             <td>Sat, 22 Apr 2023</td> <th>  Prob (F-statistic):</th>  <td>4.88e-69</td>  \n",
       "</tr>\n",
       "<tr>\n",
       "  <th>Time:</th>                 <td>13:54:04</td>     <th>  Log-Likelihood:    </th> <td>-2.4803e+05</td>\n",
       "</tr>\n",
       "<tr>\n",
       "  <th>No. Observations:</th>      <td> 76984</td>      <th>  AIC:               </th>  <td>4.961e+05</td> \n",
       "</tr>\n",
       "<tr>\n",
       "  <th>Df Residuals:</th>          <td> 76978</td>      <th>  BIC:               </th>  <td>4.961e+05</td> \n",
       "</tr>\n",
       "<tr>\n",
       "  <th>Df Model:</th>              <td>     5</td>      <th>                     </th>      <td> </td>     \n",
       "</tr>\n",
       "<tr>\n",
       "  <th>Covariance Type:</th>      <td>nonrobust</td>    <th>                     </th>      <td> </td>     \n",
       "</tr>\n",
       "</table>\n",
       "<table class=\"simpletable\">\n",
       "<tr>\n",
       "                      <td></td>                         <th>coef</th>     <th>std err</th>      <th>t</th>      <th>P>|t|</th>  <th>[0.025</th>    <th>0.975]</th>  \n",
       "</tr>\n",
       "<tr>\n",
       "  <th>const</th>                                     <td>    4.0289</td> <td>    0.028</td> <td>  143.529</td> <td> 0.000</td> <td>    3.974</td> <td>    4.084</td>\n",
       "</tr>\n",
       "<tr>\n",
       "  <th>proba chgt résidence</th>                      <td>   -0.0043</td> <td>    0.001</td> <td>   -6.187</td> <td> 0.000</td> <td>   -0.006</td> <td>   -0.003</td>\n",
       "</tr>\n",
       "<tr>\n",
       "  <th>chômage</th>                                   <td>   -1.3218</td> <td>    0.715</td> <td>   -1.849</td> <td> 0.064</td> <td>   -2.723</td> <td>    0.079</td>\n",
       "</tr>\n",
       "<tr>\n",
       "  <th>proba chgt emploi</th>                         <td>    0.0050</td> <td>    0.001</td> <td>    4.679</td> <td> 0.000</td> <td>    0.003</td> <td>    0.007</td>\n",
       "</tr>\n",
       "<tr>\n",
       "  <th>proba perte revenus</th>                       <td>    0.2372</td> <td>    0.071</td> <td>    3.346</td> <td> 0.001</td> <td>    0.098</td> <td>    0.376</td>\n",
       "</tr>\n",
       "<tr>\n",
       "  <th>proba ne pas réussir à rembourser un prêt</th> <td>    0.0148</td> <td>    0.001</td> <td>   14.982</td> <td> 0.000</td> <td>    0.013</td> <td>    0.017</td>\n",
       "</tr>\n",
       "</table>\n",
       "<table class=\"simpletable\">\n",
       "<tr>\n",
       "  <th>Omnibus:</th>       <td>14900.471</td> <th>  Durbin-Watson:     </th>  <td>   1.931</td> \n",
       "</tr>\n",
       "<tr>\n",
       "  <th>Prob(Omnibus):</th>  <td> 0.000</td>   <th>  Jarque-Bera (JB):  </th> <td>427740.306</td>\n",
       "</tr>\n",
       "<tr>\n",
       "  <th>Skew:</th>           <td> 0.189</td>   <th>  Prob(JB):          </th>  <td>    0.00</td> \n",
       "</tr>\n",
       "<tr>\n",
       "  <th>Kurtosis:</th>       <td>14.542</td>   <th>  Cond. No.          </th>  <td>1.43e+03</td> \n",
       "</tr>\n",
       "</table><br/><br/>Notes:<br/>[1] Standard Errors assume that the covariance matrix of the errors is correctly specified.<br/>[2] The condition number is large, 1.43e+03. This might indicate that there are<br/>strong multicollinearity or other numerical problems."
      ],
      "text/plain": [
       "<class 'statsmodels.iolib.summary.Summary'>\n",
       "\"\"\"\n",
       "                            WLS Regression Results                            \n",
       "==============================================================================\n",
       "Dep. Variable:              Q8v2part2   R-squared:                       0.004\n",
       "Model:                            WLS   Adj. R-squared:                  0.004\n",
       "Method:                 Least Squares   F-statistic:                     66.01\n",
       "Date:                Sat, 22 Apr 2023   Prob (F-statistic):           4.88e-69\n",
       "Time:                        13:54:04   Log-Likelihood:            -2.4803e+05\n",
       "No. Observations:               76984   AIC:                         4.961e+05\n",
       "Df Residuals:                   76978   BIC:                         4.961e+05\n",
       "Df Model:                           5                                         \n",
       "Covariance Type:            nonrobust                                         \n",
       "=============================================================================================================\n",
       "                                                coef    std err          t      P>|t|      [0.025      0.975]\n",
       "-------------------------------------------------------------------------------------------------------------\n",
       "const                                         4.0289      0.028    143.529      0.000       3.974       4.084\n",
       "proba chgt résidence                         -0.0043      0.001     -6.187      0.000      -0.006      -0.003\n",
       "chômage                                      -1.3218      0.715     -1.849      0.064      -2.723       0.079\n",
       "proba chgt emploi                             0.0050      0.001      4.679      0.000       0.003       0.007\n",
       "proba perte revenus                           0.2372      0.071      3.346      0.001       0.098       0.376\n",
       "proba ne pas réussir à rembourser un prêt     0.0148      0.001     14.982      0.000       0.013       0.017\n",
       "==============================================================================\n",
       "Omnibus:                    14900.471   Durbin-Watson:                   1.931\n",
       "Prob(Omnibus):                  0.000   Jarque-Bera (JB):           427740.306\n",
       "Skew:                           0.189   Prob(JB):                         0.00\n",
       "Kurtosis:                      14.542   Cond. No.                     1.43e+03\n",
       "==============================================================================\n",
       "\n",
       "Notes:\n",
       "[1] Standard Errors assume that the covariance matrix of the errors is correctly specified.\n",
       "[2] The condition number is large, 1.43e+03. This might indicate that there are\n",
       "strong multicollinearity or other numerical problems.\n",
       "\"\"\""
      ]
     },
     "execution_count": 79,
     "metadata": {},
     "output_type": "execute_result"
    }
   ],
   "source": [
    "Y = BF2['Q8v2part2'].astype('float')\n",
    "X = BF2[instabilité]\n",
    "X = sm.add_constant(X)\n",
    "model = sm.WLS(Y,X, weights=poids)\n",
    "results = model.fit()\n",
    "su = results.summary()\n",
    "su"
   ]
  },
  {
   "cell_type": "markdown",
   "id": "a6395262-f367-440d-b60a-b51efc5ee230",
   "metadata": {},
   "source": [
    "Les coeff sont tous significatifs à 95%, mais très petits"
   ]
  },
  {
   "cell_type": "markdown",
   "id": "3b10d5e2-a43f-43ea-a395-889c09b60ea7",
   "metadata": {
    "tags": []
   },
   "source": [
    "## **IDEM ON LAISSE CET INDICATEUR DE CÔTÉ**"
   ]
  },
  {
   "cell_type": "markdown",
   "id": "5ab8c05e-1b5e-4c5d-80ec-cad2395cf55b",
   "metadata": {},
   "source": [
    "## Maintenant, essayons de définir un indicateur pour l'instabilité macro :"
   ]
  },
  {
   "cell_type": "markdown",
   "id": "933c58fb-8bf8-4d20-b340-d1f413b5e616",
   "metadata": {},
   "source": [
    "On va noter ici les variables qui pourraient être utiles pour définir un tel indicateur :\n",
    "- Q4new: probabilité d'augmentation du chômage dans les douze prochain mois\n",
    "- Q5new: proba d'une augmentation des taux d'intêret\n",
    "- Q6new: proba d'une augmentation des indices boursiers: 100-Q6new = chance d'une baisse donc\n"
   ]
  },
  {
   "cell_type": "code",
   "execution_count": 80,
   "id": "939d428b-47fe-4a71-99dd-86c11b2b7cf8",
   "metadata": {
    "tags": []
   },
   "outputs": [],
   "source": [
    "#BF['indic_macro']=(BF.fillna(0)['Q4new']/100+BF.fillna(0)['Q5new']/100+(100-BF.fillna(0)['Q6new'])/100)/3"
   ]
  },
  {
   "cell_type": "markdown",
   "id": "77ff03ac-f1aa-4f7a-9406-2c33e5e67af8",
   "metadata": {},
   "source": [
    "Maintenant, faisons quelques statistiques descriptives :"
   ]
  },
  {
   "cell_type": "code",
   "execution_count": 81,
   "id": "ade8a8f9-fb8a-4ddb-8b83-2b17e708a382",
   "metadata": {
    "tags": []
   },
   "outputs": [],
   "source": [
    "#stat.median(BF['indic_macro'])"
   ]
  },
  {
   "cell_type": "code",
   "execution_count": 82,
   "id": "4cf1dd7a-f33b-43ba-991c-69801e18ca70",
   "metadata": {
    "tags": []
   },
   "outputs": [],
   "source": [
    "#stat.mean(BF['indic_macro'])"
   ]
  },
  {
   "cell_type": "code",
   "execution_count": 83,
   "id": "b1d976bc-957e-44c3-a289-4b8f05f10ede",
   "metadata": {
    "tags": []
   },
   "outputs": [],
   "source": [
    "#weighted_average(BF, 'indic_macro', 'weight')"
   ]
  },
  {
   "cell_type": "code",
   "execution_count": 84,
   "id": "cfba6da1-0938-46dc-80ee-6b71f4f98a39",
   "metadata": {
    "tags": []
   },
   "outputs": [],
   "source": [
    "#stat.pstdev(BF['indic_macro'])"
   ]
  },
  {
   "cell_type": "code",
   "execution_count": 85,
   "id": "0727c812-d175-4972-9df8-8c1ffd62f8f0",
   "metadata": {
    "tags": []
   },
   "outputs": [],
   "source": [
    "#BF['indic_macro']"
   ]
  },
  {
   "cell_type": "code",
   "execution_count": 86,
   "id": "afa4b7ca-8717-4d43-8dc2-e2c33aecb44a",
   "metadata": {
    "tags": []
   },
   "outputs": [],
   "source": [
    "#Y = BF['Q8v2part2'].astype('float')\n",
    "#X = BF.fillna(0)[['tx_evol_ann_pct','indic_perso','indic_macro']]\n",
    "#X = sm.add_constant(X)\n",
    "#model = sm.OLS(Y,X)\n",
    "#results = model.fit()\n",
    "#su = results.summary()\n",
    "#su"
   ]
  },
  {
   "cell_type": "markdown",
   "id": "4d82c9c0-347a-43f0-a6b8-28fc450a48bb",
   "metadata": {},
   "source": [
    "### Idem, alternative sans bloc :"
   ]
  },
  {
   "cell_type": "code",
   "execution_count": 87,
   "id": "ef15fd2e-034f-48e3-9f8a-0a4fdf7d2c85",
   "metadata": {
    "tags": []
   },
   "outputs": [
    {
     "data": {
      "text/plain": [
       "0         20\n",
       "1         10\n",
       "2          9\n",
       "3         10\n",
       "4         20\n",
       "          ..\n",
       "130639    22\n",
       "130640     0\n",
       "130641    30\n",
       "130642    80\n",
       "130643    50\n",
       "Name: Q4new, Length: 130597, dtype: object"
      ]
     },
     "execution_count": 87,
     "metadata": {},
     "output_type": "execute_result"
    }
   ],
   "source": [
    "BF['Q4new']"
   ]
  },
  {
   "cell_type": "code",
   "execution_count": 88,
   "id": "c2c5a4f5-f659-4ec3-bf6b-3ea503149ba3",
   "metadata": {
    "tags": []
   },
   "outputs": [
    {
     "name": "stderr",
     "output_type": "stream",
     "text": [
      "/opt/mamba/lib/python3.10/site-packages/numpy/lib/histograms.py:837: RuntimeWarning: invalid value encountered in greater_equal\n",
      "  keep = (tmp_a >= first_edge)\n",
      "/opt/mamba/lib/python3.10/site-packages/numpy/lib/histograms.py:838: RuntimeWarning: invalid value encountered in less_equal\n",
      "  keep &= (tmp_a <= last_edge)\n"
     ]
    },
    {
     "data": {
      "image/png": "[encoded data removed]",
      "text/plain": [
       "<Figure size 640x480 with 1 Axes>"
      ]
     },
     "metadata": {},
     "output_type": "display_data"
    }
   ],
   "source": [
    "plt.hist(BF['Q4new'], bins=50, edgecolor='black', weights = BF['weight'].astype(float))\n",
    "plt.xlabel('proba estimée que le chômage aux US augmente, sous 12 mois')\n",
    "plt.ylabel('Nombre d\\'observations')\n",
    "plt.title('Histogramme de répartition de Q4new')\n",
    "plt.xlim(right=110)\n",
    "plt.show()"
   ]
  },
  {
   "cell_type": "code",
   "execution_count": 140,
   "id": "9880a948-d90a-4c93-8c17-31b456571c3d",
   "metadata": {
    "tags": []
   },
   "outputs": [
    {
     "data": {
      "image/png": "[encoded data removed]",
      "text/plain": [
       "<Figure size 640x480 with 1 Axes>"
      ]
     },
     "metadata": {},
     "output_type": "display_data"
    }
   ],
   "source": [
    "df = pd.DataFrame({'Q4new': BF['Q4new'], 'Q8v2part2': BF['Q8v2part2'], 'weight': BF['weight']})\n",
    "df = df[df['Q4new'] <= 110]\n",
    "groups = df.groupby('Q4new')\n",
    "mean_q8v2part2 = groups.apply(lambda x: (x['Q8v2part2'] * x['weight']).sum() / x['weight'].sum())\n",
    "\n",
    "plt.plot(mean_q8v2part2.index, mean_q8v2part2.values, 'o', markersize=4, color = 'orange')\n",
    "\n",
    "plt.xlabel('Probabilité estimée que le chômage augmente')\n",
    "plt.ylabel('Anticipations à 12 mois')\n",
    "plt.title('Graphe du anticipations à 12 mois moyen en fonction de la probabilité estimée que le chômage augmente')\n",
    "plt.show()"
   ]
  },
  {
   "cell_type": "markdown",
   "id": "d79e628f-cf5b-4b3e-a093-2528c61a3b9e",
   "metadata": {},
   "source": [
    "relation nette ; il semble y avoir un plateau entre 40 et 60 ; on peut zapper les écarts types je pense"
   ]
  },
  {
   "cell_type": "code",
   "execution_count": 89,
   "id": "659ff050-61c4-4d66-94ee-50e2850e713d",
   "metadata": {
    "tags": []
   },
   "outputs": [
    {
     "name": "stdout",
     "output_type": "stream",
     "text": [
      "nb de valeurs manquantes dans Q4new : 255\n"
     ]
    }
   ],
   "source": [
    "print(\"nb de valeurs manquantes dans Q4new : \"+str(BF['Q4new'].isnull().sum()))"
   ]
  },
  {
   "cell_type": "code",
   "execution_count": 90,
   "id": "11c55098-6d13-4df9-bf0f-83a98bc0c5d0",
   "metadata": {
    "tags": []
   },
   "outputs": [
    {
     "data": {
      "text/plain": [
       "0          10\n",
       "1          25\n",
       "2          20\n",
       "3           5\n",
       "4          20\n",
       "         ... \n",
       "130639    100\n",
       "130640      0\n",
       "130641      0\n",
       "130642     70\n",
       "130643      0\n",
       "Name: Q5new, Length: 130597, dtype: object"
      ]
     },
     "execution_count": 90,
     "metadata": {},
     "output_type": "execute_result"
    }
   ],
   "source": [
    "BF['Q5new']"
   ]
  },
  {
   "cell_type": "code",
   "execution_count": 91,
   "id": "3761c615-e8f4-48ae-8104-a85255cd272d",
   "metadata": {
    "tags": []
   },
   "outputs": [
    {
     "name": "stderr",
     "output_type": "stream",
     "text": [
      "/opt/mamba/lib/python3.10/site-packages/numpy/lib/histograms.py:837: RuntimeWarning: invalid value encountered in greater_equal\n",
      "  keep = (tmp_a >= first_edge)\n",
      "/opt/mamba/lib/python3.10/site-packages/numpy/lib/histograms.py:838: RuntimeWarning: invalid value encountered in less_equal\n",
      "  keep &= (tmp_a <= last_edge)\n"
     ]
    },
    {
     "data": {
      "image/png": "[encoded data removed]",
      "text/plain": [
       "<Figure size 640x480 with 1 Axes>"
      ]
     },
     "metadata": {},
     "output_type": "display_data"
    }
   ],
   "source": [
    "plt.hist(BF['Q5new'], bins=50, edgecolor='black', weights = BF['weight'].astype(float))\n",
    "plt.xlabel('proba estimée que les taux intérêt augmentent, sous 12 mois')\n",
    "plt.ylabel('Nombre d\\'observations')\n",
    "plt.title('Histogramme de répartition de Q5new')\n",
    "plt.xlim(right=110)\n",
    "plt.show()"
   ]
  },
  {
   "cell_type": "code",
   "execution_count": 142,
   "id": "24e1b231-ed20-4676-baf9-b88204db8426",
   "metadata": {
    "tags": []
   },
   "outputs": [
    {
     "data": {
      "image/png": "[encoded data removed]",
      "text/plain": [
       "<Figure size 640x480 with 1 Axes>"
      ]
     },
     "metadata": {},
     "output_type": "display_data"
    }
   ],
   "source": [
    "df = pd.DataFrame({'Q5new': BF['Q5new'], 'Q8v2part2': BF['Q8v2part2'], 'weight': BF['weight']})\n",
    "df = df[df['Q5new'] <= 110]\n",
    "groups = df.groupby('Q5new')\n",
    "mean_q8v2part2 = groups.apply(lambda x: (x['Q8v2part2'] * x['weight']).sum() / x['weight'].sum())\n",
    "\n",
    "plt.plot(mean_q8v2part2.index, mean_q8v2part2.values, 'o', markersize=4, color = 'orange')\n",
    "\n",
    "plt.xlabel('Probabilité estimée que les taux intérêt augmentent')\n",
    "plt.ylabel('Anticipations à 12 mois')\n",
    "plt.title('Graphe du anticipations à 12 mois moyen en fonction de la probabilité estimée que les taux augmentent')\n",
    "plt.show()"
   ]
  },
  {
   "cell_type": "markdown",
   "id": "fd878278-29fb-4c58-b8a4-41f47a00b5d5",
   "metadata": {},
   "source": [
    "petit U en 60 -> il faudra intégrer cette allure à la régression"
   ]
  },
  {
   "cell_type": "code",
   "execution_count": 92,
   "id": "f6832bb1-3b9b-4f64-83fe-beb4d97d9d14",
   "metadata": {
    "tags": []
   },
   "outputs": [
    {
     "name": "stdout",
     "output_type": "stream",
     "text": [
      "nb de valeurs manquantes dans Q5new : 241\n"
     ]
    }
   ],
   "source": [
    "print(\"nb de valeurs manquantes dans Q5new : \"+str(BF['Q5new'].isnull().sum()))"
   ]
  },
  {
   "cell_type": "code",
   "execution_count": 93,
   "id": "544f75aa-7639-49cc-88ee-230246ccf7ed",
   "metadata": {
    "tags": []
   },
   "outputs": [
    {
     "data": {
      "text/plain": [
       "0         15\n",
       "1         75\n",
       "2         20\n",
       "3         70\n",
       "4         50\n",
       "          ..\n",
       "130639    10\n",
       "130640    30\n",
       "130641    85\n",
       "130642    90\n",
       "130643     0\n",
       "Name: Q6new, Length: 130597, dtype: object"
      ]
     },
     "execution_count": 93,
     "metadata": {},
     "output_type": "execute_result"
    }
   ],
   "source": [
    "BF['Q6new']"
   ]
  },
  {
   "cell_type": "code",
   "execution_count": 94,
   "id": "e3e406db-a592-4b26-9c8d-816b91e3dc35",
   "metadata": {
    "tags": []
   },
   "outputs": [
    {
     "name": "stderr",
     "output_type": "stream",
     "text": [
      "/opt/mamba/lib/python3.10/site-packages/numpy/lib/histograms.py:837: RuntimeWarning: invalid value encountered in greater_equal\n",
      "  keep = (tmp_a >= first_edge)\n",
      "/opt/mamba/lib/python3.10/site-packages/numpy/lib/histograms.py:838: RuntimeWarning: invalid value encountered in less_equal\n",
      "  keep &= (tmp_a <= last_edge)\n"
     ]
    },
    {
     "data": {
      "image/png": "[encoded data removed]",
      "text/plain": [
       "<Figure size 640x480 with 1 Axes>"
      ]
     },
     "metadata": {},
     "output_type": "display_data"
    }
   ],
   "source": [
    "plt.hist(BF['Q6new'], bins=50, edgecolor='black', weights = BF['weight'].astype(float))\n",
    "plt.xlabel('proba estimée que les indices boursiers augmentent, sous 12 mois')\n",
    "plt.ylabel('Nombre d\\'observations')\n",
    "plt.title('Histogramme de répartition de Q6new')\n",
    "plt.xlim(right=110)\n",
    "plt.show()"
   ]
  },
  {
   "cell_type": "code",
   "execution_count": null,
   "id": "c9fff017-b069-4033-b70b-0e1039fcc2c9",
   "metadata": {},
   "outputs": [],
   "source": [
    "df = pd.DataFrame({'Q5new': BF['Q5new'], 'Q8v2part2': BF['Q8v2part2'], 'weight': BF['weight']})\n",
    "df = df[df['Q5new'] <= 110]\n",
    "groups = df.groupby('Q5new')\n",
    "mean_q8v2part2 = groups.apply(lambda x: (x['Q8v2part2'] * x['weight']).sum() / x['weight'].sum())\n",
    "\n",
    "plt.plot(mean_q8v2part2.index, mean_q8v2part2.values, 'o', markersize=4, color = 'orange')\n",
    "\n",
    "plt.xlabel('Probabilité estimée que les taux intérêt augmentent')\n",
    "plt.ylabel('Anticipations à 12 mois')\n",
    "plt.title('Graphe du anticipations à 12 mois moyen en fonction de la probabilité estimée que les taux augmentent')\n",
    "plt.show()"
   ]
  },
  {
   "cell_type": "code",
   "execution_count": 95,
   "id": "ccf8849d-2c93-478e-b841-a1926acac958",
   "metadata": {
    "tags": []
   },
   "outputs": [
    {
     "name": "stdout",
     "output_type": "stream",
     "text": [
      "nb de valeurs manquantes dans Q6new : 810\n"
     ]
    }
   ],
   "source": [
    "print(\"nb de valeurs manquantes dans Q6new : \"+str(BF['Q6new'].isnull().sum()))"
   ]
  },
  {
   "cell_type": "markdown",
   "id": "05a3ee3f-70da-429c-8b95-e0260f281d59",
   "metadata": {},
   "source": [
    "Au total on va perdre pas mal de répondants, mais ça reste pas énorme"
   ]
  },
  {
   "cell_type": "markdown",
   "id": "a8743bfe-740a-42bc-95f7-992ac603d16f",
   "metadata": {},
   "source": [
    "Se posera tout de même la question, si l'on envisage une grosse régression, du nombre d'individus qui auront répondu à tout ce qui nous intéresse ; d'ailleurs étudions ça avant de passer à la suite"
   ]
  },
  {
   "cell_type": "code",
   "execution_count": 96,
   "id": "8386b3d6-e7ef-4ea5-b9d6-644306f19660",
   "metadata": {
    "tags": []
   },
   "outputs": [
    {
     "data": {
      "text/plain": [
       "53964"
      ]
     },
     "execution_count": 96,
     "metadata": {},
     "output_type": "execute_result"
    }
   ],
   "source": [
    "len(BF[BF['Q3'].isna() | \n",
    "       BF['Q10_3'].isna()  |\n",
    "       BF['Q13new'].isna() | \n",
    "       BF['Q25v2'].isna() | \n",
    "       BF['Q30new'].isna() | \n",
    "       BF['Q4new'].isna() | \n",
    "       BF['Q5new'].isna() | \n",
    "       BF['Q6new'].isna()])"
   ]
  },
  {
   "cell_type": "markdown",
   "id": "f0af3dc2-f11e-4ccd-a686-3839ce2c5848",
   "metadata": {},
   "source": [
    "On perd la moitié des répondants. Tandis que sans la question de la proba de changer d'emploi :"
   ]
  },
  {
   "cell_type": "code",
   "execution_count": 97,
   "id": "bfeafbd5-a44d-44d5-9900-9e2f9ecd61d8",
   "metadata": {
    "tags": []
   },
   "outputs": [
    {
     "data": {
      "text/plain": [
       "1179"
      ]
     },
     "execution_count": 97,
     "metadata": {},
     "output_type": "execute_result"
    }
   ],
   "source": [
    "len(BF[BF['Q3'].isna() |\n",
    "       BF['Q10_3'].isna() |\n",
    "       BF['Q25v2'].isna() |\n",
    "       BF['Q30new'].isna() |\n",
    "       BF['Q4new'].isna() | \n",
    "       BF['Q5new'].isna() |\n",
    "       BF['Q6new'].isna()])"
   ]
  },
  {
   "cell_type": "markdown",
   "id": "668d0f8b-3ff1-4f66-a17d-afb26487e9c1",
   "metadata": {},
   "source": [
    "Ce qui est beaucoup plus raisonnable. On l'exclura donc sans doute."
   ]
  },
  {
   "cell_type": "markdown",
   "id": "57004842-ddc6-4406-adc8-b21976e74582",
   "metadata": {},
   "source": [
    "revenons à nos moutons"
   ]
  },
  {
   "cell_type": "code",
   "execution_count": 98,
   "id": "2ce016c3-0594-4a59-b70e-7aa371a34ec1",
   "metadata": {
    "tags": []
   },
   "outputs": [],
   "source": [
    "instabilité2 = ['Q4new', 'Q5new', 'Q6new']"
   ]
  },
  {
   "cell_type": "code",
   "execution_count": 99,
   "id": "33a4c3c9-f2e5-4d8c-9218-8e299bb6d253",
   "metadata": {
    "tags": []
   },
   "outputs": [],
   "source": [
    "#on fabrique un dataframe sans les valeurs manquantes\n",
    "BF3 = BF.dropna(subset=instabilité2)"
   ]
  },
  {
   "cell_type": "code",
   "execution_count": 100,
   "id": "d3c5f0aa-60cc-44f5-9857-1acf86a7bb59",
   "metadata": {
    "tags": []
   },
   "outputs": [],
   "source": [
    "%%capture\n",
    "#transformation des colonnes en float\n",
    "for element in instabilité2 :\n",
    "    BF3[element] = BF3[element].astype(float)"
   ]
  },
  {
   "cell_type": "code",
   "execution_count": 101,
   "id": "3b97cd44-7285-4140-8851-e2668fba6da5",
   "metadata": {
    "tags": []
   },
   "outputs": [],
   "source": [
    "%%capture\n",
    "#obtention d'une colonne proba diminution indices boursiers\n",
    "BF3['Q6new_bis'] = 100-BF3['Q6new']"
   ]
  },
  {
   "cell_type": "code",
   "execution_count": 102,
   "id": "8902bbcb-ef62-4fe2-969e-cc6918d072b3",
   "metadata": {
    "tags": []
   },
   "outputs": [],
   "source": [
    "BF3 = BF3.rename(columns={'Q4new': 'proba augmentation chô sous douze mois',\n",
    "                          'Q5new': 'proba augmentation tx intêret',\n",
    "                          'Q6new_bis' : 'proba diminution indices boursiers'})"
   ]
  },
  {
   "cell_type": "code",
   "execution_count": 103,
   "id": "44fa7788-58da-435c-83e9-fbc07b58b4e0",
   "metadata": {
    "tags": []
   },
   "outputs": [],
   "source": [
    "BF3.dropna(subset=['weight'], inplace=True)"
   ]
  },
  {
   "cell_type": "code",
   "execution_count": 104,
   "id": "6f2a0dcf-2d82-4005-98cb-19cab57f329b",
   "metadata": {
    "tags": []
   },
   "outputs": [],
   "source": [
    "instabilité2 = ['proba augmentation chô sous douze mois',\n",
    "                'proba augmentation tx intêret',\n",
    "                'proba diminution indices boursiers']\n",
    "poids = BF3['weight'].astype('float')"
   ]
  },
  {
   "cell_type": "code",
   "execution_count": 105,
   "id": "e74ce5ca-2e31-40af-92b1-cfd890d05947",
   "metadata": {
    "tags": []
   },
   "outputs": [
    {
     "data": {
      "text/html": [
       "<table class=\"simpletable\">\n",
       "<caption>WLS Regression Results</caption>\n",
       "<tr>\n",
       "  <th>Dep. Variable:</th>        <td>Q8v2part2</td>    <th>  R-squared:         </th>  <td>   0.028</td>  \n",
       "</tr>\n",
       "<tr>\n",
       "  <th>Model:</th>                   <td>WLS</td>       <th>  Adj. R-squared:    </th>  <td>   0.028</td>  \n",
       "</tr>\n",
       "<tr>\n",
       "  <th>Method:</th>             <td>Least Squares</td>  <th>  F-statistic:       </th>  <td>   1247.</td>  \n",
       "</tr>\n",
       "<tr>\n",
       "  <th>Date:</th>             <td>Sat, 22 Apr 2023</td> <th>  Prob (F-statistic):</th>   <td>  0.00</td>   \n",
       "</tr>\n",
       "<tr>\n",
       "  <th>Time:</th>                 <td>13:54:08</td>     <th>  Log-Likelihood:    </th> <td>-4.2351e+05</td>\n",
       "</tr>\n",
       "<tr>\n",
       "  <th>No. Observations:</th>      <td>129676</td>      <th>  AIC:               </th>  <td>8.470e+05</td> \n",
       "</tr>\n",
       "<tr>\n",
       "  <th>Df Residuals:</th>          <td>129672</td>      <th>  BIC:               </th>  <td>8.471e+05</td> \n",
       "</tr>\n",
       "<tr>\n",
       "  <th>Df Model:</th>              <td>     3</td>      <th>                     </th>      <td> </td>     \n",
       "</tr>\n",
       "<tr>\n",
       "  <th>Covariance Type:</th>      <td>nonrobust</td>    <th>                     </th>      <td> </td>     \n",
       "</tr>\n",
       "</table>\n",
       "<table class=\"simpletable\">\n",
       "<tr>\n",
       "                     <td></td>                       <th>coef</th>     <th>std err</th>      <th>t</th>      <th>P>|t|</th>  <th>[0.025</th>    <th>0.975]</th>  \n",
       "</tr>\n",
       "<tr>\n",
       "  <th>const</th>                                  <td>    2.3753</td> <td>    0.065</td> <td>   36.286</td> <td> 0.000</td> <td>    2.247</td> <td>    2.504</td>\n",
       "</tr>\n",
       "<tr>\n",
       "  <th>proba augmentation chô sous douze mois</th> <td>    0.0323</td> <td>    0.001</td> <td>   45.677</td> <td> 0.000</td> <td>    0.031</td> <td>    0.034</td>\n",
       "</tr>\n",
       "<tr>\n",
       "  <th>proba augmentation tx intêret</th>          <td>   -0.0148</td> <td>    0.001</td> <td>  -20.854</td> <td> 0.000</td> <td>   -0.016</td> <td>   -0.013</td>\n",
       "</tr>\n",
       "<tr>\n",
       "  <th>proba diminution indices boursiers</th>     <td>    0.0243</td> <td>    0.001</td> <td>   31.825</td> <td> 0.000</td> <td>    0.023</td> <td>    0.026</td>\n",
       "</tr>\n",
       "</table>\n",
       "<table class=\"simpletable\">\n",
       "<tr>\n",
       "  <th>Omnibus:</th>       <td>23742.252</td> <th>  Durbin-Watson:     </th>  <td>   1.939</td> \n",
       "</tr>\n",
       "<tr>\n",
       "  <th>Prob(Omnibus):</th>  <td> 0.000</td>   <th>  Jarque-Bera (JB):  </th> <td>655670.849</td>\n",
       "</tr>\n",
       "<tr>\n",
       "  <th>Skew:</th>           <td> 0.018</td>   <th>  Prob(JB):          </th>  <td>    0.00</td> \n",
       "</tr>\n",
       "<tr>\n",
       "  <th>Kurtosis:</th>       <td>14.016</td>   <th>  Cond. No.          </th>  <td>    321.</td> \n",
       "</tr>\n",
       "</table><br/><br/>Notes:<br/>[1] Standard Errors assume that the covariance matrix of the errors is correctly specified."
      ],
      "text/plain": [
       "<class 'statsmodels.iolib.summary.Summary'>\n",
       "\"\"\"\n",
       "                            WLS Regression Results                            \n",
       "==============================================================================\n",
       "Dep. Variable:              Q8v2part2   R-squared:                       0.028\n",
       "Model:                            WLS   Adj. R-squared:                  0.028\n",
       "Method:                 Least Squares   F-statistic:                     1247.\n",
       "Date:                Sat, 22 Apr 2023   Prob (F-statistic):               0.00\n",
       "Time:                        13:54:08   Log-Likelihood:            -4.2351e+05\n",
       "No. Observations:              129676   AIC:                         8.470e+05\n",
       "Df Residuals:                  129672   BIC:                         8.471e+05\n",
       "Df Model:                           3                                         \n",
       "Covariance Type:            nonrobust                                         \n",
       "==========================================================================================================\n",
       "                                             coef    std err          t      P>|t|      [0.025      0.975]\n",
       "----------------------------------------------------------------------------------------------------------\n",
       "const                                      2.3753      0.065     36.286      0.000       2.247       2.504\n",
       "proba augmentation chô sous douze mois     0.0323      0.001     45.677      0.000       0.031       0.034\n",
       "proba augmentation tx intêret             -0.0148      0.001    -20.854      0.000      -0.016      -0.013\n",
       "proba diminution indices boursiers         0.0243      0.001     31.825      0.000       0.023       0.026\n",
       "==============================================================================\n",
       "Omnibus:                    23742.252   Durbin-Watson:                   1.939\n",
       "Prob(Omnibus):                  0.000   Jarque-Bera (JB):           655670.849\n",
       "Skew:                           0.018   Prob(JB):                         0.00\n",
       "Kurtosis:                      14.016   Cond. No.                         321.\n",
       "==============================================================================\n",
       "\n",
       "Notes:\n",
       "[1] Standard Errors assume that the covariance matrix of the errors is correctly specified.\n",
       "\"\"\""
      ]
     },
     "execution_count": 105,
     "metadata": {},
     "output_type": "execute_result"
    }
   ],
   "source": [
    "Y = BF3['Q8v2part2'].astype('float')\n",
    "X = BF3[instabilité2]\n",
    "X = sm.add_constant(X)\n",
    "model = sm.WLS(Y,X, weights=poids)\n",
    "results = model.fit()\n",
    "su = results.summary()\n",
    "su"
   ]
  },
  {
   "cell_type": "markdown",
   "id": "d940584a-e3b7-4a7f-a2d4-71566bbaf702",
   "metadata": {},
   "source": [
    "Tous significatifs à 95%, mais coefficients ridicules"
   ]
  },
  {
   "cell_type": "markdown",
   "id": "6f9c0bad-5f03-4f63-bdb4-acb00b87af06",
   "metadata": {},
   "source": [
    "## Tentative de maxi régression"
   ]
  },
  {
   "cell_type": "markdown",
   "id": "710d945a-e343-408a-9020-4c978b9a8045",
   "metadata": {},
   "source": [
    "On va inclure tout sans bloc ; sans considérer la question qui fait perdre la moitié des répondants"
   ]
  },
  {
   "cell_type": "code",
   "execution_count": null,
   "id": "be24ac1d-f763-4086-88d1-7df85a060886",
   "metadata": {},
   "outputs": [],
   "source": []
  },
  {
   "cell_type": "code",
   "execution_count": 106,
   "id": "62745393-9c02-4450-9ca7-285731e80474",
   "metadata": {
    "tags": []
   },
   "outputs": [],
   "source": [
    "instabilité_micro = ['Q3', 'Q10_3', 'Q25v2', 'Q30new']\n",
    "instabilité_macro = ['Q4new', 'Q5new', 'Q6new']\n",
    "régresseurs = instabilité_micro + instabilité_macro + ['tx_evol_ann_pct', 'fem']"
   ]
  },
  {
   "cell_type": "code",
   "execution_count": 107,
   "id": "42aa89e9-1ef4-4827-b8f1-04acfdeb5e8d",
   "metadata": {
    "tags": []
   },
   "outputs": [],
   "source": [
    "#retrait des valeurs manquantes\n",
    "BF4 = BF.dropna(subset=régresseurs)"
   ]
  },
  {
   "cell_type": "code",
   "execution_count": 108,
   "id": "d5dd2534-0fcf-4213-9205-fa78d3dc6530",
   "metadata": {
    "tags": []
   },
   "outputs": [
    {
     "data": {
      "text/html": [
       "<div>\n",
       "<style scoped>\n",
       "    .dataframe tbody tr th:only-of-type {\n",
       "        vertical-align: middle;\n",
       "    }\n",
       "\n",
       "    .dataframe tbody tr th {\n",
       "        vertical-align: top;\n",
       "    }\n",
       "\n",
       "    .dataframe thead th {\n",
       "        text-align: right;\n",
       "    }\n",
       "</style>\n",
       "<table border=\"1\" class=\"dataframe\">\n",
       "  <thead>\n",
       "    <tr style=\"text-align: right;\">\n",
       "      <th></th>\n",
       "      <th>date</th>\n",
       "      <th>userid</th>\n",
       "      <th>tenure</th>\n",
       "      <th>weight</th>\n",
       "      <th>Q1</th>\n",
       "      <th>Q2</th>\n",
       "      <th>Q3</th>\n",
       "      <th>Q4new</th>\n",
       "      <th>Q5new</th>\n",
       "      <th>Q6new</th>\n",
       "      <th>...</th>\n",
       "      <th>Over 60</th>\n",
       "      <th>Under 40</th>\n",
       "      <th>50k to 100k</th>\n",
       "      <th>Over 100k</th>\n",
       "      <th>Under 50k</th>\n",
       "      <th>High</th>\n",
       "      <th>Low</th>\n",
       "      <th>fem</th>\n",
       "      <th>inflation t</th>\n",
       "      <th>tx_evol_ann_pct</th>\n",
       "    </tr>\n",
       "  </thead>\n",
       "  <tbody>\n",
       "    <tr>\n",
       "      <th>0</th>\n",
       "      <td>2013-06-01</td>\n",
       "      <td>70000220</td>\n",
       "      <td>6</td>\n",
       "      <td>16.327999</td>\n",
       "      <td>3</td>\n",
       "      <td>3</td>\n",
       "      <td>50</td>\n",
       "      <td>20</td>\n",
       "      <td>10</td>\n",
       "      <td>15</td>\n",
       "      <td>...</td>\n",
       "      <td>False</td>\n",
       "      <td>True</td>\n",
       "      <td>False</td>\n",
       "      <td>False</td>\n",
       "      <td>True</td>\n",
       "      <td>True</td>\n",
       "      <td>False</td>\n",
       "      <td>True</td>\n",
       "      <td>0.0</td>\n",
       "      <td>1.754417</td>\n",
       "    </tr>\n",
       "    <tr>\n",
       "      <th>1</th>\n",
       "      <td>2013-06-01</td>\n",
       "      <td>70000224</td>\n",
       "      <td>7</td>\n",
       "      <td>0.228</td>\n",
       "      <td>4</td>\n",
       "      <td>4</td>\n",
       "      <td>25</td>\n",
       "      <td>10</td>\n",
       "      <td>25</td>\n",
       "      <td>75</td>\n",
       "      <td>...</td>\n",
       "      <td>True</td>\n",
       "      <td>False</td>\n",
       "      <td>False</td>\n",
       "      <td>True</td>\n",
       "      <td>False</td>\n",
       "      <td>True</td>\n",
       "      <td>False</td>\n",
       "      <td>False</td>\n",
       "      <td>0.0</td>\n",
       "      <td>1.754417</td>\n",
       "    </tr>\n",
       "    <tr>\n",
       "      <th>2</th>\n",
       "      <td>2013-06-01</td>\n",
       "      <td>70000234</td>\n",
       "      <td>6</td>\n",
       "      <td>4.066</td>\n",
       "      <td>4</td>\n",
       "      <td>3</td>\n",
       "      <td>3</td>\n",
       "      <td>9</td>\n",
       "      <td>20</td>\n",
       "      <td>20</td>\n",
       "      <td>...</td>\n",
       "      <td>False</td>\n",
       "      <td>False</td>\n",
       "      <td>False</td>\n",
       "      <td>True</td>\n",
       "      <td>False</td>\n",
       "      <td>True</td>\n",
       "      <td>False</td>\n",
       "      <td>True</td>\n",
       "      <td>0.0</td>\n",
       "      <td>1.754417</td>\n",
       "    </tr>\n",
       "    <tr>\n",
       "      <th>3</th>\n",
       "      <td>2013-06-01</td>\n",
       "      <td>70000238</td>\n",
       "      <td>6</td>\n",
       "      <td>3.035</td>\n",
       "      <td>3</td>\n",
       "      <td>3</td>\n",
       "      <td>0</td>\n",
       "      <td>10</td>\n",
       "      <td>5</td>\n",
       "      <td>70</td>\n",
       "      <td>...</td>\n",
       "      <td>True</td>\n",
       "      <td>False</td>\n",
       "      <td>False</td>\n",
       "      <td>False</td>\n",
       "      <td>True</td>\n",
       "      <td>False</td>\n",
       "      <td>True</td>\n",
       "      <td>False</td>\n",
       "      <td>0.0</td>\n",
       "      <td>1.754417</td>\n",
       "    </tr>\n",
       "    <tr>\n",
       "      <th>4</th>\n",
       "      <td>2013-06-01</td>\n",
       "      <td>70000239</td>\n",
       "      <td>7</td>\n",
       "      <td>1.947</td>\n",
       "      <td>2</td>\n",
       "      <td>3</td>\n",
       "      <td>10</td>\n",
       "      <td>20</td>\n",
       "      <td>20</td>\n",
       "      <td>50</td>\n",
       "      <td>...</td>\n",
       "      <td>True</td>\n",
       "      <td>False</td>\n",
       "      <td>False</td>\n",
       "      <td>False</td>\n",
       "      <td>True</td>\n",
       "      <td>False</td>\n",
       "      <td>True</td>\n",
       "      <td>True</td>\n",
       "      <td>0.0</td>\n",
       "      <td>1.754417</td>\n",
       "    </tr>\n",
       "    <tr>\n",
       "      <th>...</th>\n",
       "      <td>...</td>\n",
       "      <td>...</td>\n",
       "      <td>...</td>\n",
       "      <td>...</td>\n",
       "      <td>...</td>\n",
       "      <td>...</td>\n",
       "      <td>...</td>\n",
       "      <td>...</td>\n",
       "      <td>...</td>\n",
       "      <td>...</td>\n",
       "      <td>...</td>\n",
       "      <td>...</td>\n",
       "      <td>...</td>\n",
       "      <td>...</td>\n",
       "      <td>...</td>\n",
       "      <td>...</td>\n",
       "      <td>...</td>\n",
       "      <td>...</td>\n",
       "      <td>...</td>\n",
       "      <td>...</td>\n",
       "      <td>...</td>\n",
       "    </tr>\n",
       "    <tr>\n",
       "      <th>130639</th>\n",
       "      <td>2022-06-01</td>\n",
       "      <td>75007148</td>\n",
       "      <td>1</td>\n",
       "      <td>0.714652</td>\n",
       "      <td>3</td>\n",
       "      <td>2</td>\n",
       "      <td>0</td>\n",
       "      <td>22</td>\n",
       "      <td>100</td>\n",
       "      <td>10</td>\n",
       "      <td>...</td>\n",
       "      <td>False</td>\n",
       "      <td>True</td>\n",
       "      <td>True</td>\n",
       "      <td>False</td>\n",
       "      <td>False</td>\n",
       "      <td>False</td>\n",
       "      <td>True</td>\n",
       "      <td>True</td>\n",
       "      <td>0.0</td>\n",
       "      <td>9.059758</td>\n",
       "    </tr>\n",
       "    <tr>\n",
       "      <th>130640</th>\n",
       "      <td>2022-06-01</td>\n",
       "      <td>75007149</td>\n",
       "      <td>1</td>\n",
       "      <td>1.373903</td>\n",
       "      <td>1</td>\n",
       "      <td>1</td>\n",
       "      <td>11</td>\n",
       "      <td>0</td>\n",
       "      <td>0</td>\n",
       "      <td>30</td>\n",
       "      <td>...</td>\n",
       "      <td>False</td>\n",
       "      <td>False</td>\n",
       "      <td>False</td>\n",
       "      <td>False</td>\n",
       "      <td>True</td>\n",
       "      <td>True</td>\n",
       "      <td>False</td>\n",
       "      <td>False</td>\n",
       "      <td>0.0</td>\n",
       "      <td>9.059758</td>\n",
       "    </tr>\n",
       "    <tr>\n",
       "      <th>130641</th>\n",
       "      <td>2022-06-01</td>\n",
       "      <td>75007151</td>\n",
       "      <td>1</td>\n",
       "      <td>1.235504</td>\n",
       "      <td>2</td>\n",
       "      <td>4</td>\n",
       "      <td>25</td>\n",
       "      <td>30</td>\n",
       "      <td>0</td>\n",
       "      <td>85</td>\n",
       "      <td>...</td>\n",
       "      <td>False</td>\n",
       "      <td>True</td>\n",
       "      <td>False</td>\n",
       "      <td>False</td>\n",
       "      <td>True</td>\n",
       "      <td>True</td>\n",
       "      <td>False</td>\n",
       "      <td>False</td>\n",
       "      <td>0.0</td>\n",
       "      <td>9.059758</td>\n",
       "    </tr>\n",
       "    <tr>\n",
       "      <th>130642</th>\n",
       "      <td>2022-06-01</td>\n",
       "      <td>75007154</td>\n",
       "      <td>1</td>\n",
       "      <td>0.725876</td>\n",
       "      <td>4</td>\n",
       "      <td>3</td>\n",
       "      <td>100</td>\n",
       "      <td>80</td>\n",
       "      <td>70</td>\n",
       "      <td>90</td>\n",
       "      <td>...</td>\n",
       "      <td>False</td>\n",
       "      <td>True</td>\n",
       "      <td>False</td>\n",
       "      <td>True</td>\n",
       "      <td>False</td>\n",
       "      <td>True</td>\n",
       "      <td>False</td>\n",
       "      <td>False</td>\n",
       "      <td>0.0</td>\n",
       "      <td>9.059758</td>\n",
       "    </tr>\n",
       "    <tr>\n",
       "      <th>130643</th>\n",
       "      <td>2022-06-01</td>\n",
       "      <td>75007158</td>\n",
       "      <td>1</td>\n",
       "      <td>0.524731</td>\n",
       "      <td>3</td>\n",
       "      <td>3</td>\n",
       "      <td>0</td>\n",
       "      <td>50</td>\n",
       "      <td>0</td>\n",
       "      <td>0</td>\n",
       "      <td>...</td>\n",
       "      <td>False</td>\n",
       "      <td>False</td>\n",
       "      <td>True</td>\n",
       "      <td>False</td>\n",
       "      <td>False</td>\n",
       "      <td>True</td>\n",
       "      <td>False</td>\n",
       "      <td>False</td>\n",
       "      <td>0.0</td>\n",
       "      <td>9.059758</td>\n",
       "    </tr>\n",
       "  </tbody>\n",
       "</table>\n",
       "<p>129418 rows × 234 columns</p>\n",
       "</div>"
      ],
      "text/plain": [
       "             date    userid tenure     weight Q1 Q2   Q3 Q4new Q5new Q6new   \n",
       "0      2013-06-01  70000220      6  16.327999  3  3   50    20    10    15  \\\n",
       "1      2013-06-01  70000224      7      0.228  4  4   25    10    25    75   \n",
       "2      2013-06-01  70000234      6      4.066  4  3    3     9    20    20   \n",
       "3      2013-06-01  70000238      6      3.035  3  3    0    10     5    70   \n",
       "4      2013-06-01  70000239      7      1.947  2  3   10    20    20    50   \n",
       "...           ...       ...    ...        ... .. ..  ...   ...   ...   ...   \n",
       "130639 2022-06-01  75007148      1   0.714652  3  2    0    22   100    10   \n",
       "130640 2022-06-01  75007149      1   1.373903  1  1   11     0     0    30   \n",
       "130641 2022-06-01  75007151      1   1.235504  2  4   25    30     0    85   \n",
       "130642 2022-06-01  75007154      1   0.725876  4  3  100    80    70    90   \n",
       "130643 2022-06-01  75007158      1   0.524731  3  3    0    50     0     0   \n",
       "\n",
       "        ... Over 60 Under 40 50k to 100k Over 100k Under 50k   High    Low   \n",
       "0       ...   False     True       False     False      True   True  False  \\\n",
       "1       ...    True    False       False      True     False   True  False   \n",
       "2       ...   False    False       False      True     False   True  False   \n",
       "3       ...    True    False       False     False      True  False   True   \n",
       "4       ...    True    False       False     False      True  False   True   \n",
       "...     ...     ...      ...         ...       ...       ...    ...    ...   \n",
       "130639  ...   False     True        True     False     False  False   True   \n",
       "130640  ...   False    False       False     False      True   True  False   \n",
       "130641  ...   False     True       False     False      True   True  False   \n",
       "130642  ...   False     True       False      True     False   True  False   \n",
       "130643  ...   False    False        True     False     False   True  False   \n",
       "\n",
       "          fem inflation t tx_evol_ann_pct  \n",
       "0        True         0.0        1.754417  \n",
       "1       False         0.0        1.754417  \n",
       "2        True         0.0        1.754417  \n",
       "3       False         0.0        1.754417  \n",
       "4        True         0.0        1.754417  \n",
       "...       ...         ...             ...  \n",
       "130639   True         0.0        9.059758  \n",
       "130640  False         0.0        9.059758  \n",
       "130641  False         0.0        9.059758  \n",
       "130642  False         0.0        9.059758  \n",
       "130643  False         0.0        9.059758  \n",
       "\n",
       "[129418 rows x 234 columns]"
      ]
     },
     "execution_count": 108,
     "metadata": {},
     "output_type": "execute_result"
    }
   ],
   "source": [
    "BF4"
   ]
  },
  {
   "cell_type": "code",
   "execution_count": 109,
   "id": "fb709ee4-c059-4fe2-a59c-c571aa910dc8",
   "metadata": {
    "tags": []
   },
   "outputs": [
    {
     "name": "stdout",
     "output_type": "stream",
     "text": [
      "0.9943222416005286\n",
      "0.9909722275396832\n",
      "0.9914277178118082\n",
      "0.9926900921217142\n",
      "0.9929109573276458\n",
      "0.9928043204762343\n",
      "0.9971568801189642\n",
      "0.9909722275396832\n",
      "0.9909722275396832\n"
     ]
    }
   ],
   "source": [
    "for i in régresseurs :\n",
    "    print(BF4[i].count()/BF[i].count())"
   ]
  },
  {
   "cell_type": "code",
   "execution_count": 110,
   "id": "4d6b1627-08c3-41aa-bc9c-177ee1119cf0",
   "metadata": {
    "tags": []
   },
   "outputs": [],
   "source": [
    "%%capture\n",
    "#du coup on re binarise Q25v2\n",
    "BF4.loc[BF['Q25v2']==3, 'loss expectation'] = 1\n",
    "BF4['loss expectation']=BF4.fillna(0)['loss expectation']"
   ]
  },
  {
   "cell_type": "code",
   "execution_count": 111,
   "id": "6c10f6dd-f1c1-4955-b84f-38ea65c79be8",
   "metadata": {
    "tags": []
   },
   "outputs": [],
   "source": [
    "%%capture\n",
    "#obtention d'une colonne proba diminution indices boursiers\n",
    "BF4['Q6new_bis'] = 100-BF4['Q6new']\n",
    "BF4['Q6new_bis'] = BF4['Q6new_bis'].astype(float)"
   ]
  },
  {
   "cell_type": "code",
   "execution_count": 112,
   "id": "b5954398-9d55-4227-82d6-6124fca68604",
   "metadata": {
    "tags": []
   },
   "outputs": [],
   "source": [
    "%%capture\n",
    "#transformation des colonnes en float\n",
    "for element in régresseurs :\n",
    "    BF4[element] = BF4[element].astype(float)"
   ]
  },
  {
   "cell_type": "code",
   "execution_count": 113,
   "id": "fabdb5a9-b511-4f45-8d54-7ec6962b4e1b",
   "metadata": {
    "tags": []
   },
   "outputs": [],
   "source": [
    "BF4 = BF4.rename(columns={'Q4new': 'proba augmentation chô sous douze mois', \n",
    "                          'Q5new': 'proba augmentation tx intêret',\n",
    "                          'Q6new_bis' : 'proba diminution indices boursiers',\n",
    "                          'Q3': 'proba chgt résidence',\n",
    "                          'Q10_3': 'chômage',\n",
    "                          'loss expectation': 'proba perte revenus',\n",
    "                          'Q30new': 'proba ne pas réussir à rembourser un prêt'})"
   ]
  },
  {
   "cell_type": "code",
   "execution_count": 114,
   "id": "2e608177-1e22-4085-85ce-22d70d60ab09",
   "metadata": {
    "tags": []
   },
   "outputs": [],
   "source": [
    "BF4.dropna(subset=['weight'], inplace=True)"
   ]
  },
  {
   "cell_type": "markdown",
   "id": "b902e434-491f-48d2-8c65-cd6443f82f59",
   "metadata": {},
   "source": [
    "Voici le nombre d'individus que l'on perd lorsque l'on sélectionne ces questions"
   ]
  },
  {
   "cell_type": "code",
   "execution_count": 115,
   "id": "aa4c8c44-41cd-4bf0-84c0-a6c04e91984b",
   "metadata": {
    "tags": []
   },
   "outputs": [
    {
     "data": {
      "text/plain": [
       "1207"
      ]
     },
     "execution_count": 115,
     "metadata": {},
     "output_type": "execute_result"
    }
   ],
   "source": [
    "len(BF['Q3'])-len(BF4['chômage'])"
   ]
  },
  {
   "cell_type": "code",
   "execution_count": 116,
   "id": "865b3e83-1d39-4976-858e-901b701a8715",
   "metadata": {
    "tags": []
   },
   "outputs": [],
   "source": [
    "régresseurs = ['proba augmentation chô sous douze mois',\n",
    "               'proba augmentation tx intêret',\n",
    "               'proba diminution indices boursiers',\n",
    "               'proba chgt résidence',\n",
    "               'chômage',\n",
    "               'proba perte revenus',\n",
    "               'proba ne pas réussir à rembourser un prêt',\n",
    "               'fem',\n",
    "               'tx_evol_ann_pct']\n",
    "poids = BF4['weight'].astype('float')"
   ]
  },
  {
   "cell_type": "code",
   "execution_count": 117,
   "id": "7a7a2654-12d9-4813-8b49-b659af5d3488",
   "metadata": {
    "tags": []
   },
   "outputs": [
    {
     "data": {
      "text/html": [
       "<table class=\"simpletable\">\n",
       "<caption>WLS Regression Results</caption>\n",
       "<tr>\n",
       "  <th>Dep. Variable:</th>        <td>Q8v2part2</td>    <th>  R-squared:         </th>  <td>   0.055</td>  \n",
       "</tr>\n",
       "<tr>\n",
       "  <th>Model:</th>                   <td>WLS</td>       <th>  Adj. R-squared:    </th>  <td>   0.055</td>  \n",
       "</tr>\n",
       "<tr>\n",
       "  <th>Method:</th>             <td>Least Squares</td>  <th>  F-statistic:       </th>  <td>   844.1</td>  \n",
       "</tr>\n",
       "<tr>\n",
       "  <th>Date:</th>             <td>Sat, 22 Apr 2023</td> <th>  Prob (F-statistic):</th>   <td>  0.00</td>   \n",
       "</tr>\n",
       "<tr>\n",
       "  <th>Time:</th>                 <td>13:54:16</td>     <th>  Log-Likelihood:    </th> <td>-4.2069e+05</td>\n",
       "</tr>\n",
       "<tr>\n",
       "  <th>No. Observations:</th>      <td>129390</td>      <th>  AIC:               </th>  <td>8.414e+05</td> \n",
       "</tr>\n",
       "<tr>\n",
       "  <th>Df Residuals:</th>          <td>129380</td>      <th>  BIC:               </th>  <td>8.415e+05</td> \n",
       "</tr>\n",
       "<tr>\n",
       "  <th>Df Model:</th>              <td>     9</td>      <th>                     </th>      <td> </td>     \n",
       "</tr>\n",
       "<tr>\n",
       "  <th>Covariance Type:</th>      <td>nonrobust</td>    <th>                     </th>      <td> </td>     \n",
       "</tr>\n",
       "</table>\n",
       "<table class=\"simpletable\">\n",
       "<tr>\n",
       "                      <td></td>                         <th>coef</th>     <th>std err</th>      <th>t</th>      <th>P>|t|</th>  <th>[0.025</th>    <th>0.975]</th>  \n",
       "</tr>\n",
       "<tr>\n",
       "  <th>const</th>                                     <td>    1.4223</td> <td>    0.067</td> <td>   21.167</td> <td> 0.000</td> <td>    1.291</td> <td>    1.554</td>\n",
       "</tr>\n",
       "<tr>\n",
       "  <th>proba augmentation chô sous douze mois</th>    <td>    0.0308</td> <td>    0.001</td> <td>   43.320</td> <td> 0.000</td> <td>    0.029</td> <td>    0.032</td>\n",
       "</tr>\n",
       "<tr>\n",
       "  <th>proba augmentation tx intêret</th>             <td>   -0.0164</td> <td>    0.001</td> <td>  -23.348</td> <td> 0.000</td> <td>   -0.018</td> <td>   -0.015</td>\n",
       "</tr>\n",
       "<tr>\n",
       "  <th>proba diminution indices boursiers</th>        <td>    0.0220</td> <td>    0.001</td> <td>   29.055</td> <td> 0.000</td> <td>    0.021</td> <td>    0.023</td>\n",
       "</tr>\n",
       "<tr>\n",
       "  <th>proba chgt résidence</th>                      <td>   -0.0039</td> <td>    0.001</td> <td>   -6.791</td> <td> 0.000</td> <td>   -0.005</td> <td>   -0.003</td>\n",
       "</tr>\n",
       "<tr>\n",
       "  <th>chômage</th>                                   <td>    0.3034</td> <td>    0.085</td> <td>    3.585</td> <td> 0.000</td> <td>    0.138</td> <td>    0.469</td>\n",
       "</tr>\n",
       "<tr>\n",
       "  <th>proba perte revenus</th>                       <td>    0.2391</td> <td>    0.047</td> <td>    5.087</td> <td> 0.000</td> <td>    0.147</td> <td>    0.331</td>\n",
       "</tr>\n",
       "<tr>\n",
       "  <th>proba ne pas réussir à rembourser un prêt</th> <td>    0.0149</td> <td>    0.001</td> <td>   19.257</td> <td> 0.000</td> <td>    0.013</td> <td>    0.016</td>\n",
       "</tr>\n",
       "<tr>\n",
       "  <th>fem</th>                                       <td>    1.1891</td> <td>    0.067</td> <td>   17.798</td> <td> 0.000</td> <td>    1.058</td> <td>    1.320</td>\n",
       "</tr>\n",
       "<tr>\n",
       "  <th>tx_evol_ann_pct</th>                           <td>    0.4511</td> <td>    0.008</td> <td>   55.188</td> <td> 0.000</td> <td>    0.435</td> <td>    0.467</td>\n",
       "</tr>\n",
       "</table>\n",
       "<table class=\"simpletable\">\n",
       "<tr>\n",
       "  <th>Omnibus:</th>       <td>24765.774</td> <th>  Durbin-Watson:     </th>  <td>   1.980</td> \n",
       "</tr>\n",
       "<tr>\n",
       "  <th>Prob(Omnibus):</th>  <td> 0.000</td>   <th>  Jarque-Bera (JB):  </th> <td>751679.650</td>\n",
       "</tr>\n",
       "<tr>\n",
       "  <th>Skew:</th>           <td>-0.095</td>   <th>  Prob(JB):          </th>  <td>    0.00</td> \n",
       "</tr>\n",
       "<tr>\n",
       "  <th>Kurtosis:</th>       <td>14.806</td>   <th>  Cond. No.          </th>  <td>    437.</td> \n",
       "</tr>\n",
       "</table><br/><br/>Notes:<br/>[1] Standard Errors assume that the covariance matrix of the errors is correctly specified."
      ],
      "text/plain": [
       "<class 'statsmodels.iolib.summary.Summary'>\n",
       "\"\"\"\n",
       "                            WLS Regression Results                            \n",
       "==============================================================================\n",
       "Dep. Variable:              Q8v2part2   R-squared:                       0.055\n",
       "Model:                            WLS   Adj. R-squared:                  0.055\n",
       "Method:                 Least Squares   F-statistic:                     844.1\n",
       "Date:                Sat, 22 Apr 2023   Prob (F-statistic):               0.00\n",
       "Time:                        13:54:16   Log-Likelihood:            -4.2069e+05\n",
       "No. Observations:              129390   AIC:                         8.414e+05\n",
       "Df Residuals:                  129380   BIC:                         8.415e+05\n",
       "Df Model:                           9                                         \n",
       "Covariance Type:            nonrobust                                         \n",
       "=============================================================================================================\n",
       "                                                coef    std err          t      P>|t|      [0.025      0.975]\n",
       "-------------------------------------------------------------------------------------------------------------\n",
       "const                                         1.4223      0.067     21.167      0.000       1.291       1.554\n",
       "proba augmentation chô sous douze mois        0.0308      0.001     43.320      0.000       0.029       0.032\n",
       "proba augmentation tx intêret                -0.0164      0.001    -23.348      0.000      -0.018      -0.015\n",
       "proba diminution indices boursiers            0.0220      0.001     29.055      0.000       0.021       0.023\n",
       "proba chgt résidence                         -0.0039      0.001     -6.791      0.000      -0.005      -0.003\n",
       "chômage                                       0.3034      0.085      3.585      0.000       0.138       0.469\n",
       "proba perte revenus                           0.2391      0.047      5.087      0.000       0.147       0.331\n",
       "proba ne pas réussir à rembourser un prêt     0.0149      0.001     19.257      0.000       0.013       0.016\n",
       "fem                                           1.1891      0.067     17.798      0.000       1.058       1.320\n",
       "tx_evol_ann_pct                               0.4511      0.008     55.188      0.000       0.435       0.467\n",
       "==============================================================================\n",
       "Omnibus:                    24765.774   Durbin-Watson:                   1.980\n",
       "Prob(Omnibus):                  0.000   Jarque-Bera (JB):           751679.650\n",
       "Skew:                          -0.095   Prob(JB):                         0.00\n",
       "Kurtosis:                      14.806   Cond. No.                         437.\n",
       "==============================================================================\n",
       "\n",
       "Notes:\n",
       "[1] Standard Errors assume that the covariance matrix of the errors is correctly specified.\n",
       "\"\"\""
      ]
     },
     "execution_count": 117,
     "metadata": {},
     "output_type": "execute_result"
    }
   ],
   "source": [
    "Y = BF4['Q8v2part2'].astype('float')\n",
    "X = BF4[régresseurs]\n",
    "X = sm.add_constant(X)\n",
    "model = sm.WLS(Y,X, weights=poids)\n",
    "results = model.fit()\n",
    "su = results.summary()\n",
    "su"
   ]
  },
  {
   "cell_type": "markdown",
   "id": "42c88ddd-d6fe-4614-a570-079d881149b3",
   "metadata": {},
   "source": [
    "mouais apres on peut voir avec des train/tests"
   ]
  },
  {
   "cell_type": "markdown",
   "id": "9b30dd7b-1d72-4665-9638-0b17c0a2c865",
   "metadata": {},
   "source": [
    "# La deuxième spécification :"
   ]
  },
  {
   "cell_type": "code",
   "execution_count": 118,
   "id": "5315af28-fd6a-4fd1-a9cc-75d6db7d0244",
   "metadata": {
    "tags": []
   },
   "outputs": [
    {
     "data": {
      "text/plain": [
       "['date',\n",
       " 'userid',\n",
       " 'tenure',\n",
       " 'weight',\n",
       " 'Q1',\n",
       " 'Q2',\n",
       " 'Q3',\n",
       " 'Q4new',\n",
       " 'Q5new',\n",
       " 'Q6new',\n",
       " 'Q8v2',\n",
       " 'Q8v2part2',\n",
       " 'Q9_cent25',\n",
       " 'Q9_cent50',\n",
       " 'Q9_cent75',\n",
       " 'Q9_var',\n",
       " 'Q9_mean',\n",
       " 'Q9_iqr',\n",
       " 'Q9_probdeflation',\n",
       " 'Q9_bin1',\n",
       " 'Q9_bin2',\n",
       " 'Q9_bin3',\n",
       " 'Q9_bin4',\n",
       " 'Q9_bin5',\n",
       " 'Q9_bin6',\n",
       " 'Q9_bin7',\n",
       " 'Q9_bin8',\n",
       " 'Q9_bin9',\n",
       " 'Q9_bin10',\n",
       " 'Q9bv2',\n",
       " 'Q9bv2part2',\n",
       " 'Q9c_cent25',\n",
       " 'Q9c_cent50',\n",
       " 'Q9c_cent75',\n",
       " 'Q9c_var',\n",
       " 'Q9c_mean',\n",
       " 'Q9c_iqr',\n",
       " 'Q9c_probdeflation',\n",
       " 'Q9c_bin1',\n",
       " 'Q9c_bin2',\n",
       " 'Q9c_bin3',\n",
       " 'Q9c_bin4',\n",
       " 'Q9c_bin5',\n",
       " 'Q9c_bin6',\n",
       " 'Q9c_bin7',\n",
       " 'Q9c_bin8',\n",
       " 'Q9c_bin9',\n",
       " 'Q9c_bin10',\n",
       " 'Q10_1',\n",
       " 'Q10_2',\n",
       " 'Q10_3',\n",
       " 'Q10_4',\n",
       " 'Q10_5',\n",
       " 'Q10_6',\n",
       " 'Q10_7',\n",
       " 'Q10_8',\n",
       " 'Q10_9',\n",
       " 'Q10_10',\n",
       " 'Q11',\n",
       " 'Q12new',\n",
       " 'ES1_1',\n",
       " 'ES1_2',\n",
       " 'ES1_3',\n",
       " 'ES1_4',\n",
       " 'ES2',\n",
       " 'ES3new',\n",
       " 'ES4',\n",
       " 'ES5',\n",
       " 'Q13new',\n",
       " 'Q14new',\n",
       " 'Q15',\n",
       " 'Q16',\n",
       " 'Q17new',\n",
       " 'Q18new',\n",
       " 'Q19',\n",
       " 'Q20new',\n",
       " 'Q21new',\n",
       " 'Q22new',\n",
       " 'Q23v2',\n",
       " 'Q23v2part2',\n",
       " 'Q24_cent25',\n",
       " 'Q24_cent50',\n",
       " 'Q24_cent75',\n",
       " 'Q24_var',\n",
       " 'Q24_mean',\n",
       " 'Q24_iqr',\n",
       " 'Q24_probdeflation',\n",
       " 'Q24_bin1',\n",
       " 'Q24_bin2',\n",
       " 'Q24_bin3',\n",
       " 'Q24_bin4',\n",
       " 'Q24_bin5',\n",
       " 'Q24_bin6',\n",
       " 'Q24_bin7',\n",
       " 'Q24_bin8',\n",
       " 'Q24_bin9',\n",
       " 'Q24_bin10',\n",
       " 'Q25v2',\n",
       " 'Q25v2part2',\n",
       " 'Q26v2',\n",
       " 'Q26v2part2',\n",
       " 'Q27v2',\n",
       " 'Q27v2part2',\n",
       " 'Q28',\n",
       " 'Q29',\n",
       " 'Q30new',\n",
       " 'Q31v2',\n",
       " 'Q31v2part2',\n",
       " 'C1_cent25',\n",
       " 'C1_cent50',\n",
       " 'C1_cent75',\n",
       " 'C1_var',\n",
       " 'C1_mean',\n",
       " 'C1_iqr',\n",
       " 'C1_probdeflation',\n",
       " 'C1_bin1',\n",
       " 'C1_bin2',\n",
       " 'C1_bin3',\n",
       " 'C1_bin4',\n",
       " 'C1_bin5',\n",
       " 'C1_bin6',\n",
       " 'C1_bin7',\n",
       " 'C1_bin8',\n",
       " 'C1_bin9',\n",
       " 'C1_bin10',\n",
       " 'C2',\n",
       " 'C2part2',\n",
       " 'C3',\n",
       " 'C3part2',\n",
       " 'C4_1',\n",
       " 'C4_2',\n",
       " 'C4_3',\n",
       " 'C4_4',\n",
       " 'C4_5',\n",
       " 'C4_6',\n",
       " 'QNUM1',\n",
       " 'QNUM2',\n",
       " 'QNUM3',\n",
       " 'QNUM5',\n",
       " 'QNUM6',\n",
       " 'QNUM8',\n",
       " 'QNUM9',\n",
       " 'Q32',\n",
       " 'Q33',\n",
       " 'Q34',\n",
       " 'Q35_1',\n",
       " 'Q35_2',\n",
       " 'Q35_3',\n",
       " 'Q35_4',\n",
       " 'Q35_5',\n",
       " 'Q35_6',\n",
       " 'Q36',\n",
       " 'Q37',\n",
       " 'Q38',\n",
       " 'HH2_1',\n",
       " 'HH2_2',\n",
       " 'HH2_3',\n",
       " 'HH2_4',\n",
       " 'HH2_5',\n",
       " 'HH2_6',\n",
       " 'HH2_7',\n",
       " 'HH2_8',\n",
       " 'HH2_9',\n",
       " 'HH2_10',\n",
       " 'HH2_11',\n",
       " '_STATE',\n",
       " 'Q41',\n",
       " 'Q42',\n",
       " 'Q43',\n",
       " 'Q43a',\n",
       " 'Q44',\n",
       " 'Q45b',\n",
       " 'Q45new_1',\n",
       " 'Q45new_2',\n",
       " 'Q45new_3',\n",
       " 'Q45new_4',\n",
       " 'Q45new_5',\n",
       " 'Q45new_6',\n",
       " 'Q45new_7',\n",
       " 'Q45new_8',\n",
       " 'Q45new_9',\n",
       " 'Q46',\n",
       " 'Q47',\n",
       " 'D1',\n",
       " 'D3',\n",
       " 'D6',\n",
       " 'D2new_1',\n",
       " 'D2new_2',\n",
       " 'D2new_3',\n",
       " 'D2new_4',\n",
       " 'D2new_5',\n",
       " 'D2new_6',\n",
       " 'D2new_7',\n",
       " 'D2new_8',\n",
       " 'D2new_9',\n",
       " 'DSAME',\n",
       " 'DQ38',\n",
       " 'DHH2_1',\n",
       " 'DHH2_2',\n",
       " 'DHH2_3',\n",
       " 'DHH2_4',\n",
       " 'DHH2_5',\n",
       " 'DHH2_6',\n",
       " 'DHH2_7',\n",
       " 'DHH2_8',\n",
       " 'DHH2_9',\n",
       " 'DHH2_10',\n",
       " 'DHH2_11',\n",
       " 'DHH2_11_other',\n",
       " 'D5b',\n",
       " 'Q48',\n",
       " 'QRA1',\n",
       " 'QRA2',\n",
       " 'survey_date',\n",
       " '_AGE_CAT',\n",
       " '_NUM_CAT',\n",
       " '_REGION_CAT',\n",
       " '_COMMUTING_ZONE',\n",
       " '_EDU_CAT',\n",
       " '_HH_INC_CAT',\n",
       " 'College',\n",
       " 'High School',\n",
       " 'Some College',\n",
       " '40 to 60',\n",
       " 'Over 60',\n",
       " 'Under 40',\n",
       " '50k to 100k',\n",
       " 'Over 100k',\n",
       " 'Under 50k',\n",
       " 'High',\n",
       " 'Low',\n",
       " 'fem',\n",
       " 'inflation t',\n",
       " 'tx_evol_ann_pct']"
      ]
     },
     "execution_count": 118,
     "metadata": {},
     "output_type": "execute_result"
    }
   ],
   "source": [
    "list(BF.head())"
   ]
  },
  {
   "cell_type": "markdown",
   "id": "c58776d5-c6e5-4bba-ab0f-54565bea427e",
   "metadata": {},
   "source": [
    "On doit définir les intervalles qui vont nous intéresser ici :\n",
    "- pour l'inflation à court terme: Q9 inflation supérieur à 4% (bin 1, bin 2 et bin 3)\n",
    "- déflation : bin6 à bin 10\n",
    "\n",
    "- long terme: Q9c+les mêmes bin\n",
    "\n",
    "N.B : On considère pour la suite que les anticipations non remplies sont de 10 ( équiprobabilit de chaque tranche )"
   ]
  },
  {
   "cell_type": "code",
   "execution_count": 119,
   "id": "fc55da73-dc52-4199-bb2f-8d492bf5a37e",
   "metadata": {
    "tags": []
   },
   "outputs": [],
   "source": [
    "%%capture\n",
    "BF['proba_st_high']=(BF['Q9_bin1'].fillna(10)+BF['Q9_bin2'].fillna(10)+BF['Q9_bin3'].fillna(10))"
   ]
  },
  {
   "cell_type": "code",
   "execution_count": 120,
   "id": "d452ab9e-d794-47ae-97cc-7157fe1d5214",
   "metadata": {
    "tags": []
   },
   "outputs": [],
   "source": [
    "%%capture\n",
    "BF['proba_st_defl']=(BF['Q9_bin6'].fillna(10)+BF['Q9_bin7'].fillna(10)+BF['Q9_bin8'].fillna(10)+BF['Q9_bin9'].fillna(10)+BF['Q9_bin10'].fillna(10))"
   ]
  },
  {
   "cell_type": "code",
   "execution_count": 121,
   "id": "87d2de54-0df4-4b5a-be7d-9d86d3a65ca9",
   "metadata": {
    "tags": []
   },
   "outputs": [],
   "source": [
    "%%capture\n",
    "BF['proba_lt_high']=(BF['Q9c_bin1'].fillna(10)+BF['Q9c_bin2'].fillna(10)+BF['Q9c_bin3'].fillna(10))"
   ]
  },
  {
   "cell_type": "code",
   "execution_count": 122,
   "id": "9e4de48b-0cfd-4cb2-bd0c-46119cf3d814",
   "metadata": {
    "tags": []
   },
   "outputs": [],
   "source": [
    "%%capture\n",
    "BF['proba_lt_defl']=(BF['Q9c_bin6'].fillna(10)+BF['Q9c_bin7'].fillna(10)+BF['Q9c_bin8'].fillna(10)+BF['Q9c_bin9'].fillna(10)+BF['Q9c_bin10'].fillna(10))"
   ]
  },
  {
   "cell_type": "markdown",
   "id": "d8f35bae-702a-440c-8670-d8e167a5f93f",
   "metadata": {},
   "source": [
    "### A - Short term - high :"
   ]
  },
  {
   "cell_type": "code",
   "execution_count": 123,
   "id": "7c3ed38f-f15c-46ab-ac7a-055776d9b730",
   "metadata": {
    "tags": []
   },
   "outputs": [],
   "source": [
    "%%capture\n",
    "BF.rename(columns={'High': \"High_num\"}, inplace=True)"
   ]
  },
  {
   "cell_type": "code",
   "execution_count": 124,
   "id": "d221b312-df2e-4269-8259-a6a50be1e54e",
   "metadata": {
    "tags": []
   },
   "outputs": [
    {
     "ename": "KeyError",
     "evalue": "\"['indic_perso', 'indic_macro'] not in index\"",
     "output_type": "error",
     "traceback": [
      "\u001b[0;31m---------------------------------------------------------------------------\u001b[0m",
      "\u001b[0;31mKeyError\u001b[0m                                  Traceback (most recent call last)",
      "Cell \u001b[0;32mIn[124], line 2\u001b[0m\n\u001b[1;32m      1\u001b[0m Y \u001b[38;5;241m=\u001b[39m BF[\u001b[38;5;124m'\u001b[39m\u001b[38;5;124mproba_st_high\u001b[39m\u001b[38;5;124m'\u001b[39m]\u001b[38;5;241m.\u001b[39mastype(\u001b[38;5;124m'\u001b[39m\u001b[38;5;124mfloat\u001b[39m\u001b[38;5;124m'\u001b[39m)\n\u001b[0;32m----> 2\u001b[0m X \u001b[38;5;241m=\u001b[39m \u001b[43mBF\u001b[49m\u001b[38;5;241;43m.\u001b[39;49m\u001b[43mfillna\u001b[49m\u001b[43m(\u001b[49m\u001b[38;5;241;43m0\u001b[39;49m\u001b[43m)\u001b[49m\u001b[43m[\u001b[49m\u001b[43m[\u001b[49m\u001b[38;5;124;43m'\u001b[39;49m\u001b[38;5;124;43mtx_evol_ann_pct\u001b[39;49m\u001b[38;5;124;43m'\u001b[39;49m\u001b[43m,\u001b[49m\u001b[38;5;124;43m'\u001b[39;49m\u001b[38;5;124;43mindic_perso\u001b[39;49m\u001b[38;5;124;43m'\u001b[39;49m\u001b[43m,\u001b[49m\u001b[38;5;124;43m'\u001b[39;49m\u001b[38;5;124;43mindic_macro\u001b[39;49m\u001b[38;5;124;43m'\u001b[39;49m\u001b[43m,\u001b[49m\u001b[38;5;124;43m'\u001b[39;49m\u001b[38;5;124;43mfem\u001b[39;49m\u001b[38;5;124;43m'\u001b[39;49m\u001b[43m,\u001b[49m\u001b[38;5;124;43m'\u001b[39;49m\u001b[38;5;124;43mOver 60\u001b[39;49m\u001b[38;5;124;43m'\u001b[39;49m\u001b[43m,\u001b[49m\u001b[38;5;124;43m'\u001b[39;49m\u001b[38;5;124;43mUnder 40\u001b[39;49m\u001b[38;5;124;43m'\u001b[39;49m\u001b[43m,\u001b[49m\u001b[38;5;124;43m'\u001b[39;49m\u001b[38;5;124;43mCollege\u001b[39;49m\u001b[38;5;124;43m'\u001b[39;49m\u001b[43m,\u001b[49m\u001b[38;5;124;43m'\u001b[39;49m\u001b[38;5;124;43mOver 100k\u001b[39;49m\u001b[38;5;124;43m'\u001b[39;49m\u001b[43m,\u001b[49m\u001b[38;5;124;43m'\u001b[39;49m\u001b[38;5;124;43mUnder 50k\u001b[39;49m\u001b[38;5;124;43m'\u001b[39;49m\u001b[43m,\u001b[49m\u001b[38;5;124;43m'\u001b[39;49m\u001b[38;5;124;43mHigh_num\u001b[39;49m\u001b[38;5;124;43m'\u001b[39;49m\u001b[43m]\u001b[49m\u001b[43m]\u001b[49m\n\u001b[1;32m      3\u001b[0m X \u001b[38;5;241m=\u001b[39m sm\u001b[38;5;241m.\u001b[39madd_constant(X)\n\u001b[1;32m      4\u001b[0m model \u001b[38;5;241m=\u001b[39m sm\u001b[38;5;241m.\u001b[39mWLS(Y,X, weights\u001b[38;5;241m=\u001b[39mpoids)\n",
      "File \u001b[0;32m/opt/mamba/lib/python3.10/site-packages/pandas/core/frame.py:3766\u001b[0m, in \u001b[0;36mDataFrame.__getitem__\u001b[0;34m(self, key)\u001b[0m\n\u001b[1;32m   3764\u001b[0m     \u001b[38;5;28;01mif\u001b[39;00m is_iterator(key):\n\u001b[1;32m   3765\u001b[0m         key \u001b[38;5;241m=\u001b[39m \u001b[38;5;28mlist\u001b[39m(key)\n\u001b[0;32m-> 3766\u001b[0m     indexer \u001b[38;5;241m=\u001b[39m \u001b[38;5;28;43mself\u001b[39;49m\u001b[38;5;241;43m.\u001b[39;49m\u001b[43mcolumns\u001b[49m\u001b[38;5;241;43m.\u001b[39;49m\u001b[43m_get_indexer_strict\u001b[49m\u001b[43m(\u001b[49m\u001b[43mkey\u001b[49m\u001b[43m,\u001b[49m\u001b[43m \u001b[49m\u001b[38;5;124;43m\"\u001b[39;49m\u001b[38;5;124;43mcolumns\u001b[39;49m\u001b[38;5;124;43m\"\u001b[39;49m\u001b[43m)\u001b[49m[\u001b[38;5;241m1\u001b[39m]\n\u001b[1;32m   3768\u001b[0m \u001b[38;5;66;03m# take() does not accept boolean indexers\u001b[39;00m\n\u001b[1;32m   3769\u001b[0m \u001b[38;5;28;01mif\u001b[39;00m \u001b[38;5;28mgetattr\u001b[39m(indexer, \u001b[38;5;124m\"\u001b[39m\u001b[38;5;124mdtype\u001b[39m\u001b[38;5;124m\"\u001b[39m, \u001b[38;5;28;01mNone\u001b[39;00m) \u001b[38;5;241m==\u001b[39m \u001b[38;5;28mbool\u001b[39m:\n",
      "File \u001b[0;32m/opt/mamba/lib/python3.10/site-packages/pandas/core/indexes/base.py:5876\u001b[0m, in \u001b[0;36mIndex._get_indexer_strict\u001b[0;34m(self, key, axis_name)\u001b[0m\n\u001b[1;32m   5873\u001b[0m \u001b[38;5;28;01melse\u001b[39;00m:\n\u001b[1;32m   5874\u001b[0m     keyarr, indexer, new_indexer \u001b[38;5;241m=\u001b[39m \u001b[38;5;28mself\u001b[39m\u001b[38;5;241m.\u001b[39m_reindex_non_unique(keyarr)\n\u001b[0;32m-> 5876\u001b[0m \u001b[38;5;28;43mself\u001b[39;49m\u001b[38;5;241;43m.\u001b[39;49m\u001b[43m_raise_if_missing\u001b[49m\u001b[43m(\u001b[49m\u001b[43mkeyarr\u001b[49m\u001b[43m,\u001b[49m\u001b[43m \u001b[49m\u001b[43mindexer\u001b[49m\u001b[43m,\u001b[49m\u001b[43m \u001b[49m\u001b[43maxis_name\u001b[49m\u001b[43m)\u001b[49m\n\u001b[1;32m   5878\u001b[0m keyarr \u001b[38;5;241m=\u001b[39m \u001b[38;5;28mself\u001b[39m\u001b[38;5;241m.\u001b[39mtake(indexer)\n\u001b[1;32m   5879\u001b[0m \u001b[38;5;28;01mif\u001b[39;00m \u001b[38;5;28misinstance\u001b[39m(key, Index):\n\u001b[1;32m   5880\u001b[0m     \u001b[38;5;66;03m# GH 42790 - Preserve name from an Index\u001b[39;00m\n",
      "File \u001b[0;32m/opt/mamba/lib/python3.10/site-packages/pandas/core/indexes/base.py:5938\u001b[0m, in \u001b[0;36mIndex._raise_if_missing\u001b[0;34m(self, key, indexer, axis_name)\u001b[0m\n\u001b[1;32m   5935\u001b[0m     \u001b[38;5;28;01mraise\u001b[39;00m \u001b[38;5;167;01mKeyError\u001b[39;00m(\u001b[38;5;124mf\u001b[39m\u001b[38;5;124m\"\u001b[39m\u001b[38;5;124mNone of [\u001b[39m\u001b[38;5;132;01m{\u001b[39;00mkey\u001b[38;5;132;01m}\u001b[39;00m\u001b[38;5;124m] are in the [\u001b[39m\u001b[38;5;132;01m{\u001b[39;00maxis_name\u001b[38;5;132;01m}\u001b[39;00m\u001b[38;5;124m]\u001b[39m\u001b[38;5;124m\"\u001b[39m)\n\u001b[1;32m   5937\u001b[0m not_found \u001b[38;5;241m=\u001b[39m \u001b[38;5;28mlist\u001b[39m(ensure_index(key)[missing_mask\u001b[38;5;241m.\u001b[39mnonzero()[\u001b[38;5;241m0\u001b[39m]]\u001b[38;5;241m.\u001b[39munique())\n\u001b[0;32m-> 5938\u001b[0m \u001b[38;5;28;01mraise\u001b[39;00m \u001b[38;5;167;01mKeyError\u001b[39;00m(\u001b[38;5;124mf\u001b[39m\u001b[38;5;124m\"\u001b[39m\u001b[38;5;132;01m{\u001b[39;00mnot_found\u001b[38;5;132;01m}\u001b[39;00m\u001b[38;5;124m not in index\u001b[39m\u001b[38;5;124m\"\u001b[39m)\n",
      "\u001b[0;31mKeyError\u001b[0m: \"['indic_perso', 'indic_macro'] not in index\""
     ]
    }
   ],
   "source": [
    "Y = BF['proba_st_high'].astype('float')\n",
    "X = BF.fillna(0)[['tx_evol_ann_pct','indic_perso','indic_macro','fem','Over 60','Under 40','College','Over 100k','Under 50k','High_num']]\n",
    "X = sm.add_constant(X)\n",
    "model = sm.WLS(Y,X, weights=poids)\n",
    "results = model.fit()\n",
    "su = results.summary()\n",
    "su"
   ]
  },
  {
   "cell_type": "markdown",
   "id": "b302d2ac-bcfc-4700-a03b-9b061523a0df",
   "metadata": {},
   "source": [
    "### B - Short term - deflation :"
   ]
  },
  {
   "cell_type": "code",
   "execution_count": null,
   "id": "eff49523-dc99-47fe-a6bd-1acdbb6aa23b",
   "metadata": {
    "tags": []
   },
   "outputs": [],
   "source": [
    "Y = BF['proba_st_defl'].astype('float')\n",
    "X = BF.fillna(0)[['tx_evol_ann_pct','indic_perso','indic_macro','fem','Over 60','Under 40','College','Over 100k','Under 50k','High_num']]\n",
    "X = sm.add_constant(X)\n",
    "model = sm.WLS(Y,X, weights = poids)\n",
    "results = model.fit()\n",
    "su = results.summary()\n",
    "su"
   ]
  },
  {
   "cell_type": "markdown",
   "id": "8dcb396f-c317-4877-a6ea-7399b79192a9",
   "metadata": {},
   "source": [
    "### C-Long terme - high :"
   ]
  },
  {
   "cell_type": "code",
   "execution_count": null,
   "id": "20baf9dd-9c2b-43ea-865e-f50e862f3cc8",
   "metadata": {
    "tags": []
   },
   "outputs": [],
   "source": [
    "Y = BF['proba_lt_high'].astype('float')\n",
    "X = BF.fillna(0)[['tx_evol_ann_pct','indic_perso','indic_macro','fem','Over 60','Under 40','College','Over 100k','Under 50k','High_num']]\n",
    "X = sm.add_constant(X)\n",
    "model = sm.WLS(Y,X, weights = poids)\n",
    "results = model.fit()\n",
    "su = results.summary()\n",
    "su"
   ]
  },
  {
   "cell_type": "markdown",
   "id": "01f06d41-bbdc-4fd8-b372-3526f01fb740",
   "metadata": {},
   "source": [
    "### D - Long term - Deflation :"
   ]
  },
  {
   "cell_type": "code",
   "execution_count": null,
   "id": "3b338906-1bf6-450a-b8b7-471a42d11ef1",
   "metadata": {
    "tags": []
   },
   "outputs": [],
   "source": [
    "Y = BF['proba_lt_defl'].astype('float')\n",
    "X = BF.fillna(0)[['tx_evol_ann_pct','indic_perso','indic_macro','fem','Over 60','Under 40','College','Over 100k','Under 50k','High_num']]\n",
    "X = sm.add_constant(X)\n",
    "model = sm.WLS(Y,X, weights = poids)\n",
    "results = model.fit()\n",
    "su = results.summary()\n",
    "su"
   ]
  },
  {
   "cell_type": "code",
   "execution_count": null,
   "id": "817329b5-87b2-43dd-937c-c388ff1b88da",
   "metadata": {},
   "outputs": [],
   "source": []
  },
  {
   "cell_type": "code",
   "execution_count": null,
   "id": "700d37d2-1537-4027-adde-d2f1e1bf1139",
   "metadata": {},
   "outputs": [],
   "source": []
  },
  {
   "cell_type": "code",
   "execution_count": null,
   "id": "3fb5e4d1-ac69-46c9-84ea-87fdb7f13211",
   "metadata": {},
   "outputs": [],
   "source": []
  },
  {
   "cell_type": "code",
   "execution_count": null,
   "id": "354fe2ba-d2dd-47aa-81d5-effcbc2b4ec8",
   "metadata": {},
   "outputs": [],
   "source": []
  },
  {
   "cell_type": "code",
   "execution_count": null,
   "id": "fe33f9cd-0b62-4c9a-a090-ae9fb6f5a646",
   "metadata": {},
   "outputs": [],
   "source": []
  }
 ],
 "metadata": {
  "kernelspec": {
   "display_name": "Python 3 (ipykernel)",
   "language": "python",
   "name": "python3"
  },
  "language_info": {
   "codemirror_mode": {
    "name": "ipython",
    "version": 3
   },
   "file_extension": ".py",
   "mimetype": "text/x-python",
   "name": "python",
   "nbconvert_exporter": "python",
   "pygments_lexer": "ipython3",
   "version": "3.10.9"
  }
 },
 "nbformat": 4,
 "nbformat_minor": 5
}
